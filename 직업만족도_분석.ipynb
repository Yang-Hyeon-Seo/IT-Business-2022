{
  "cells": [
    {
      "cell_type": "markdown",
      "metadata": {
        "id": "view-in-github",
        "colab_type": "text"
      },
      "source": [
        "<a href=\"https://colab.research.google.com/github/Yang-Hyeon-Seo/IT-Business-2022/blob/main/%EC%A7%81%EC%97%85%EB%A7%8C%EC%A1%B1%EB%8F%84_%EB%B6%84%EC%84%9D.ipynb\" target=\"_parent\"><img src=\"https://colab.research.google.com/assets/colab-badge.svg\" alt=\"Open In Colab\"/></a>"
      ]
    },
    {
      "cell_type": "code",
      "execution_count": 1,
      "metadata": {
        "colab": {
          "base_uri": "https://localhost:8080/"
        },
        "id": "9-WK37cXtbtb",
        "outputId": "4c0cc72f-f172-4b24-d95f-f320b3ea1d73"
      },
      "outputs": [
        {
          "output_type": "stream",
          "name": "stdout",
          "text": [
            "Mounted at /content/drive\n"
          ]
        }
      ],
      "source": [
        "from google.colab import drive\n",
        "drive.mount('/content/drive')"
      ]
    },
    {
      "cell_type": "code",
      "execution_count": 2,
      "metadata": {
        "colab": {
          "base_uri": "https://localhost:8080/"
        },
        "id": "SE5tmLLcjXXc",
        "outputId": "8773f746-6e10-4057-a41c-a44aa2050bf3"
      },
      "outputs": [
        {
          "output_type": "stream",
          "name": "stdout",
          "text": [
            "Looking in indexes: https://pypi.org/simple, https://us-python.pkg.dev/colab-wheels/public/simple/\n",
            "Collecting mglearn\n",
            "  Downloading mglearn-0.1.9.tar.gz (540 kB)\n",
            "\u001b[K     |████████████████████████████████| 540 kB 5.0 MB/s \n",
            "\u001b[?25hRequirement already satisfied: numpy in /usr/local/lib/python3.8/dist-packages (from mglearn) (1.21.6)\n",
            "Requirement already satisfied: matplotlib in /usr/local/lib/python3.8/dist-packages (from mglearn) (3.2.2)\n",
            "Requirement already satisfied: scikit-learn in /usr/local/lib/python3.8/dist-packages (from mglearn) (1.0.2)\n",
            "Requirement already satisfied: pandas in /usr/local/lib/python3.8/dist-packages (from mglearn) (1.3.5)\n",
            "Requirement already satisfied: pillow in /usr/local/lib/python3.8/dist-packages (from mglearn) (7.1.2)\n",
            "Requirement already satisfied: cycler in /usr/local/lib/python3.8/dist-packages (from mglearn) (0.11.0)\n",
            "Requirement already satisfied: imageio in /usr/local/lib/python3.8/dist-packages (from mglearn) (2.9.0)\n",
            "Requirement already satisfied: joblib in /usr/local/lib/python3.8/dist-packages (from mglearn) (1.2.0)\n",
            "Requirement already satisfied: pyparsing!=2.0.4,!=2.1.2,!=2.1.6,>=2.0.1 in /usr/local/lib/python3.8/dist-packages (from matplotlib->mglearn) (3.0.9)\n",
            "Requirement already satisfied: kiwisolver>=1.0.1 in /usr/local/lib/python3.8/dist-packages (from matplotlib->mglearn) (1.4.4)\n",
            "Requirement already satisfied: python-dateutil>=2.1 in /usr/local/lib/python3.8/dist-packages (from matplotlib->mglearn) (2.8.2)\n",
            "Requirement already satisfied: six>=1.5 in /usr/local/lib/python3.8/dist-packages (from python-dateutil>=2.1->matplotlib->mglearn) (1.15.0)\n",
            "Requirement already satisfied: pytz>=2017.3 in /usr/local/lib/python3.8/dist-packages (from pandas->mglearn) (2022.6)\n",
            "Requirement already satisfied: threadpoolctl>=2.0.0 in /usr/local/lib/python3.8/dist-packages (from scikit-learn->mglearn) (3.1.0)\n",
            "Requirement already satisfied: scipy>=1.1.0 in /usr/local/lib/python3.8/dist-packages (from scikit-learn->mglearn) (1.7.3)\n",
            "Building wheels for collected packages: mglearn\n",
            "  Building wheel for mglearn (setup.py) ... \u001b[?25l\u001b[?25hdone\n",
            "  Created wheel for mglearn: filename=mglearn-0.1.9-py2.py3-none-any.whl size=582637 sha256=e2e0510d060f1d5338288d93aeabdbc14f47134394ffc0bae7df78c3e0a37589\n",
            "  Stored in directory: /root/.cache/pip/wheels/87/75/37/404e66d0c4bad150f101c9a0914b11a8eccc2681559936e7f7\n",
            "Successfully built mglearn\n",
            "Installing collected packages: mglearn\n",
            "Successfully installed mglearn-0.1.9\n",
            "Looking in indexes: https://pypi.org/simple, https://us-python.pkg.dev/colab-wheels/public/simple/\n",
            "Collecting joblib==1.1.0\n",
            "  Downloading joblib-1.1.0-py2.py3-none-any.whl (306 kB)\n",
            "\u001b[K     |████████████████████████████████| 306 kB 5.7 MB/s \n",
            "\u001b[?25hInstalling collected packages: joblib\n",
            "  Attempting uninstall: joblib\n",
            "    Found existing installation: joblib 1.2.0\n",
            "    Uninstalling joblib-1.2.0:\n",
            "      Successfully uninstalled joblib-1.2.0\n",
            "Successfully installed joblib-1.1.0\n"
          ]
        }
      ],
      "source": [
        "!pip install mglearn \n",
        "!pip install --upgrade joblib==1.1.0\n",
        "import mglearn as mg"
      ]
    },
    {
      "cell_type": "code",
      "execution_count": 5,
      "metadata": {
        "colab": {
          "base_uri": "https://localhost:8080/"
        },
        "id": "pQ_kmbi_COXT",
        "outputId": "9970ef7c-4e70-4fba-a351-7066d7298626"
      },
      "outputs": [
        {
          "output_type": "stream",
          "name": "stderr",
          "text": [
            "/usr/local/lib/python3.8/dist-packages/IPython/core/interactiveshell.py:3326: DtypeWarning: Columns (43,335,484,553,618,666,688,689,691,692,809,810,820,821,826,846,855,856,946,948,956,967,976,978,979,1282,1310,1321) have mixed types.Specify dtype option on import or set low_memory=False.\n",
            "  exec(code_obj, self.user_global_ns, self.user_ns)\n"
          ]
        },
        {
          "output_type": "stream",
          "name": "stdout",
          "text": [
            "   g191pid  g191branch  g191found  g191course  g191daynight  g191majorcat  \\\n",
            "0        5           1          3           3             1             1   \n",
            "1       16           1          3           3             2             1   \n",
            "2       22           1          3           3             1             1   \n",
            "3       32           1          3           3             1             1   \n",
            "4       37           1          3           3             1             1   \n",
            "\n",
            "  g191dpmt g191dpmt_n     g191major g191major_n  ...  g191r021  g191r022  \\\n",
            "0  C010101        일본어  C01010100027    비즈니스일본어과  ...         2       NaN   \n",
            "1  C010101        일본어  C01010100027    비즈니스일본어과  ...         2       NaN   \n",
            "2  C010101        일본어  C01010100005       관광일어과  ...         2       NaN   \n",
            "3  C010101        일본어  C01010100002      관광일본어과  ...         2       NaN   \n",
            "4  C010101        일본어  C01010100005       관광일어과  ...         2       NaN   \n",
            "\n",
            "   g191r023  g191r024  g191r025  g191r026  g191r028  g191r029  g191r027  \\\n",
            "0        50      10.0         0       360         1      30.0       NaN   \n",
            "1        25       0.0         0         0         2       NaN       NaN   \n",
            "2        60       0.0         0       300         2       NaN       NaN   \n",
            "3        20       0.0         0       100         2       NaN       NaN   \n",
            "4        50      70.0         0         0         2       NaN       1.0   \n",
            "\n",
            "      g191wt  \n",
            "0  23.982390  \n",
            "1  21.814052  \n",
            "2  20.055070  \n",
            "3  26.585854  \n",
            "4  17.178183  \n",
            "\n",
            "[5 rows x 1332 columns]\n",
            "             g191pid    g191branch     g191found    g191course  g191daynight  \\\n",
            "count   18271.000000  18271.000000  18271.000000  18271.000000  18271.000000   \n",
            "mean    55903.657435      1.088720      2.595479      3.035794      1.046193   \n",
            "std     33406.092013      0.388194      0.889062      0.360972      0.209910   \n",
            "min         5.000000      1.000000      1.000000      1.000000      1.000000   \n",
            "25%     26790.000000      1.000000      3.000000      3.000000      1.000000   \n",
            "50%     55106.000000      1.000000      3.000000      3.000000      1.000000   \n",
            "75%     83327.500000      1.000000      3.000000      3.000000      1.000000   \n",
            "max    117674.000000      3.000000      6.000000      8.000000      2.000000   \n",
            "\n",
            "       g191majorcat    g191school  g191province      g191area       g191sex  \\\n",
            "count  18271.000000  18271.000000  18271.000000  18271.000000  18271.000000   \n",
            "mean       3.739040      1.799245      2.845712      6.890154      1.518910   \n",
            "std        1.840726      0.439038      1.344902      4.879245      0.499656   \n",
            "min        1.000000      1.000000      1.000000      1.000000      1.000000   \n",
            "25%        2.000000      2.000000      2.000000      2.000000      1.000000   \n",
            "50%        4.000000      2.000000      3.000000      8.000000      2.000000   \n",
            "75%        5.000000      2.000000      4.000000     11.000000      2.000000   \n",
            "max        7.000000      3.000000      5.000000     17.000000      2.000000   \n",
            "\n",
            "       ...      g191r021     g191r022      g191r023      g191r024  \\\n",
            "count  ...  18271.000000   217.000000  18271.000000  18271.000000   \n",
            "mean   ...      1.988123   725.691244     82.464944     20.398708   \n",
            "std    ...      0.108334   564.191836    142.090147     66.812600   \n",
            "min    ...      1.000000     5.000000      0.000000      0.000000   \n",
            "25%    ...      2.000000   300.000000     40.000000      0.000000   \n",
            "50%    ...      2.000000   600.000000     60.000000      0.000000   \n",
            "75%    ...      2.000000  1060.000000    100.000000     30.000000   \n",
            "max    ...      2.000000  3000.000000   5000.000000   3000.000000   \n",
            "\n",
            "           g191r025      g191r026      g191r028     g191r029      g191r027  \\\n",
            "count  18271.000000  18271.000000  18271.000000  3334.000000  11858.000000   \n",
            "mean      78.167643     68.453287      1.757922    29.985903      1.110390   \n",
            "std      285.998899    233.378705      0.550180    37.981032      0.574287   \n",
            "min        0.000000     -1.000000     -1.000000     0.000000     -3.000000   \n",
            "25%        0.000000      0.000000      2.000000    10.000000      1.000000   \n",
            "50%        0.000000      0.000000      2.000000    20.000000      1.000000   \n",
            "75%        0.000000     60.000000      2.000000    40.000000      1.000000   \n",
            "max     9000.000000   9999.000000      2.000000  1000.000000      7.000000   \n",
            "\n",
            "             g191wt  \n",
            "count  18271.000000  \n",
            "mean      26.649444  \n",
            "std       16.567939  \n",
            "min        5.315977  \n",
            "25%       14.857086  \n",
            "50%       21.901191  \n",
            "75%       32.508111  \n",
            "max      145.191513  \n",
            "\n",
            "[8 rows x 1293 columns]\n"
          ]
        }
      ],
      "source": [
        "#import Modules\n",
        "import numpy as np\n",
        "import pandas as pd\n",
        "import seaborn as sns\n",
        "import matplotlib.pyplot as plt\n",
        "import matplotlib.mlab as mlab\n",
        "import warnings \n",
        "\n",
        "from sklearn import preprocessing\n",
        "from sklearn.metrics import confusion_matrix\n",
        "from sklearn import svm\n",
        "\n",
        "\n",
        "\n",
        "plt.rc('font', family=\"NanumBarunGothic\")\n",
        "\n",
        "df = pd.read_csv('/content/drive/MyDrive/Colab Notebooks/ITB-Assign/GP_2020.csv', encoding='utf-8')\n",
        "\n",
        "#데이터 실펴보기\n",
        "\n",
        "print(df.head())\n",
        "print(df.describe())"
      ]
    },
    {
      "cell_type": "code",
      "execution_count": 6,
      "metadata": {
        "colab": {
          "base_uri": "https://localhost:8080/"
        },
        "id": "yWRyN7pA-a-5",
        "outputId": "5757a863-8921-4ab6-aed6-dc553a38d083"
      },
      "outputs": [
        {
          "output_type": "stream",
          "name": "stdout",
          "text": [
            "<class 'pandas.core.frame.DataFrame'>\n",
            "RangeIndex: 18271 entries, 0 to 18270\n",
            "Columns: 1332 entries, g191pid to g191wt\n",
            "dtypes: float64(1140), int64(153), object(39)\n",
            "memory usage: 185.7+ MB\n"
          ]
        }
      ],
      "source": [
        "#데이터타입, null 정보 등 확인\n",
        "df.info()"
      ]
    },
    {
      "cell_type": "code",
      "execution_count": 7,
      "metadata": {
        "id": "-VWS5lkI-z51"
      },
      "outputs": [],
      "source": [
        "df = df[['g191pid','g191sex', 'g191a018', 'g191a117', 'g191a118', 'g191a119', 'g191a122', 'g191a126', 'g191a127', 'g191a128', 'g191a129',\n",
        "           'g191a130', 'g191a131', 'g191a132', 'g191a133', 'g191a134', 'g191a135', 'g191a136', 'g191a137', 'g191a138', 'g191a139', 'g191a297', 'g191a140']]"
      ]
    },
    {
      "cell_type": "code",
      "execution_count": 8,
      "metadata": {
        "id": "46mrHjB9ahV8",
        "colab": {
          "base_uri": "https://localhost:8080/"
        },
        "outputId": "3db64ceb-b26b-428d-dcf8-97fccd9c2d11"
      },
      "outputs": [
        {
          "output_type": "stream",
          "name": "stderr",
          "text": [
            "/usr/local/lib/python3.8/dist-packages/pandas/core/frame.py:5039: SettingWithCopyWarning: \n",
            "A value is trying to be set on a copy of a slice from a DataFrame\n",
            "\n",
            "See the caveats in the documentation: https://pandas.pydata.org/pandas-docs/stable/user_guide/indexing.html#returning-a-view-versus-a-copy\n",
            "  return super().rename(\n"
          ]
        }
      ],
      "source": [
        "df.rename(columns = {'g191pid':'ID', 'g191sex':'Gender', 'g191a018':'CommuteTime', 'g191a117':'StandardHours', 'g191a118':'OvertimeHours', 'g191a119':'HolidayWork', 'g191a122':'MonthlyIncome',\n",
        "                      'g191a126':'SalaryLevel', 'g191a127':'Stability', 'g191a128':'Description', 'g191a129':'Environment','g191a130':'Time', 'g191a131':'SelfDevelopment',\n",
        "                      'g191a132':'Relationship', 'g191a133':'Benefits', 'g191a134':'Promotion', 'g191a135':'JobReputation', 'g191a136':'Autonomy', 'g191a137':'CompanyReputation',\n",
        "                      'g191a138':'Interest', 'g191a139':'Training', 'g191a297':'TurnoverPreparation', 'g191a140':'Satisfaction'}, inplace=True)\n"
      ]
    },
    {
      "cell_type": "code",
      "execution_count": 9,
      "metadata": {
        "colab": {
          "base_uri": "https://localhost:8080/"
        },
        "id": "K32kUssQajzS",
        "outputId": "203343d6-5d95-46b0-ef83-91e62b195d8f"
      },
      "outputs": [
        {
          "output_type": "stream",
          "name": "stdout",
          "text": [
            "                  ID        Gender   CommuteTime  StandardHours  \\\n",
            "count   18271.000000  18271.000000  11858.000000   11858.000000   \n",
            "mean    55903.657435      1.518910      0.223646      39.030106   \n",
            "std     33406.092013      0.499656      0.492235       9.318040   \n",
            "min         5.000000      1.000000     -1.000000      -1.000000   \n",
            "25%     26790.000000      1.000000      0.000000      40.000000   \n",
            "50%     55106.000000      2.000000      0.000000      40.000000   \n",
            "75%     83327.500000      2.000000      0.000000      40.000000   \n",
            "max    117674.000000      2.000000      8.000000     100.000000   \n",
            "\n",
            "       OvertimeHours   HolidayWork  MonthlyIncome   SalaryLevel     Stability  \\\n",
            "count   11858.000000  11858.000000   11858.000000  11858.000000  11858.000000   \n",
            "mean        2.815146      1.013577     224.500253      3.142351      3.648339   \n",
            "std         5.009048      2.227108     109.700698      1.070813      1.068758   \n",
            "min        -1.000000     -1.000000      -1.000000      1.000000      1.000000   \n",
            "25%         0.000000      0.000000     180.000000      2.000000      3.000000   \n",
            "50%         0.000000      0.000000     214.000000      3.000000      4.000000   \n",
            "75%         4.000000      1.000000     260.000000      4.000000      4.000000   \n",
            "max        60.000000     15.000000    5000.000000      5.000000      5.000000   \n",
            "\n",
            "        Description  ...  Relationship      Benefits     Promotion  \\\n",
            "count  11858.000000  ...  11858.000000  11858.000000  11858.000000   \n",
            "mean       3.619750  ...      3.624220      3.390622      3.155928   \n",
            "std        0.982878  ...      1.014341      1.084467      1.051298   \n",
            "min        1.000000  ...      1.000000      1.000000      1.000000   \n",
            "25%        3.000000  ...      3.000000      3.000000      3.000000   \n",
            "50%        4.000000  ...      4.000000      3.000000      3.000000   \n",
            "75%        4.000000  ...      4.000000      4.000000      4.000000   \n",
            "max        5.000000  ...      5.000000      5.000000      5.000000   \n",
            "\n",
            "       JobReputation      Autonomy  CompanyReputation      Interest  \\\n",
            "count   11858.000000  11858.000000       11858.000000  11858.000000   \n",
            "mean        3.523528      3.525721           3.529938      3.553803   \n",
            "std         0.981568      1.017708           0.978640      1.044517   \n",
            "min         1.000000      1.000000           1.000000      1.000000   \n",
            "25%         3.000000      3.000000           3.000000      3.000000   \n",
            "50%         4.000000      4.000000           4.000000      4.000000   \n",
            "75%         4.000000      4.000000           4.000000      4.000000   \n",
            "max         5.000000      5.000000           5.000000      5.000000   \n",
            "\n",
            "           Training  TurnoverPreparation  Satisfaction  \n",
            "count  11858.000000         11858.000000  11858.000000  \n",
            "mean       3.402344             1.702395      3.506915  \n",
            "std        1.026404             0.457224      0.911905  \n",
            "min        1.000000             1.000000      1.000000  \n",
            "25%        3.000000             1.000000      3.000000  \n",
            "50%        3.000000             2.000000      4.000000  \n",
            "75%        4.000000             2.000000      4.000000  \n",
            "max        5.000000             2.000000      5.000000  \n",
            "\n",
            "[8 rows x 23 columns]\n"
          ]
        }
      ],
      "source": [
        "print(df.describe())"
      ]
    },
    {
      "cell_type": "code",
      "execution_count": 10,
      "metadata": {
        "colab": {
          "base_uri": "https://localhost:8080/"
        },
        "id": "aDXtTUqQ-mJs",
        "outputId": "c99db6c0-ff42-4cdb-8f5d-6b8f5bd05f8b"
      },
      "outputs": [
        {
          "output_type": "execute_result",
          "data": {
            "text/plain": [
              "ID                        0\n",
              "Gender                    0\n",
              "CommuteTime            6413\n",
              "StandardHours          6413\n",
              "OvertimeHours          6413\n",
              "HolidayWork            6413\n",
              "MonthlyIncome          6413\n",
              "SalaryLevel            6413\n",
              "Stability              6413\n",
              "Description            6413\n",
              "Environment            6413\n",
              "Time                   6413\n",
              "SelfDevelopment        6413\n",
              "Relationship           6413\n",
              "Benefits               6413\n",
              "Promotion              6413\n",
              "JobReputation          6413\n",
              "Autonomy               6413\n",
              "CompanyReputation      6413\n",
              "Interest               6413\n",
              "Training               6413\n",
              "TurnoverPreparation    6413\n",
              "Satisfaction           6413\n",
              "dtype: int64"
            ]
          },
          "metadata": {},
          "execution_count": 10
        }
      ],
      "source": [
        "# 결측치 확인 \n",
        "df.isna().sum()\n"
      ]
    },
    {
      "cell_type": "code",
      "execution_count": 11,
      "metadata": {
        "colab": {
          "base_uri": "https://localhost:8080/",
          "height": 394
        },
        "id": "UUaVuoqyFvzo",
        "outputId": "103ea35c-1120-4b44-b770-7a68ef91ed9e"
      },
      "outputs": [
        {
          "output_type": "display_data",
          "data": {
            "text/plain": [
              "                  ID        Gender   CommuteTime  StandardHours  \\\n",
              "count   11858.000000  11858.000000  11858.000000   11858.000000   \n",
              "mean    55461.858998      1.508180      0.223646      39.030106   \n",
              "std     33373.755918      0.499954      0.492235       9.318040   \n",
              "min        37.000000      1.000000     -1.000000      -1.000000   \n",
              "25%     26402.250000      1.000000      0.000000      40.000000   \n",
              "50%     54145.000000      2.000000      0.000000      40.000000   \n",
              "75%     82939.500000      2.000000      0.000000      40.000000   \n",
              "max    117668.000000      2.000000      8.000000     100.000000   \n",
              "\n",
              "       OvertimeHours   HolidayWork  MonthlyIncome   SalaryLevel     Stability  \\\n",
              "count   11858.000000  11858.000000   11858.000000  11858.000000  11858.000000   \n",
              "mean        2.815146      1.013577     224.500253      3.142351      3.648339   \n",
              "std         5.009048      2.227108     109.700698      1.070813      1.068758   \n",
              "min        -1.000000     -1.000000      -1.000000      1.000000      1.000000   \n",
              "25%         0.000000      0.000000     180.000000      2.000000      3.000000   \n",
              "50%         0.000000      0.000000     214.000000      3.000000      4.000000   \n",
              "75%         4.000000      1.000000     260.000000      4.000000      4.000000   \n",
              "max        60.000000     15.000000    5000.000000      5.000000      5.000000   \n",
              "\n",
              "        Description  ...  Relationship      Benefits     Promotion  \\\n",
              "count  11858.000000  ...  11858.000000  11858.000000  11858.000000   \n",
              "mean       3.619750  ...      3.624220      3.390622      3.155928   \n",
              "std        0.982878  ...      1.014341      1.084467      1.051298   \n",
              "min        1.000000  ...      1.000000      1.000000      1.000000   \n",
              "25%        3.000000  ...      3.000000      3.000000      3.000000   \n",
              "50%        4.000000  ...      4.000000      3.000000      3.000000   \n",
              "75%        4.000000  ...      4.000000      4.000000      4.000000   \n",
              "max        5.000000  ...      5.000000      5.000000      5.000000   \n",
              "\n",
              "       JobReputation      Autonomy  CompanyReputation      Interest  \\\n",
              "count   11858.000000  11858.000000       11858.000000  11858.000000   \n",
              "mean        3.523528      3.525721           3.529938      3.553803   \n",
              "std         0.981568      1.017708           0.978640      1.044517   \n",
              "min         1.000000      1.000000           1.000000      1.000000   \n",
              "25%         3.000000      3.000000           3.000000      3.000000   \n",
              "50%         4.000000      4.000000           4.000000      4.000000   \n",
              "75%         4.000000      4.000000           4.000000      4.000000   \n",
              "max         5.000000      5.000000           5.000000      5.000000   \n",
              "\n",
              "           Training  TurnoverPreparation  Satisfaction  \n",
              "count  11858.000000         11858.000000  11858.000000  \n",
              "mean       3.402344             1.702395      3.506915  \n",
              "std        1.026404             0.457224      0.911905  \n",
              "min        1.000000             1.000000      1.000000  \n",
              "25%        3.000000             1.000000      3.000000  \n",
              "50%        3.000000             2.000000      4.000000  \n",
              "75%        4.000000             2.000000      4.000000  \n",
              "max        5.000000             2.000000      5.000000  \n",
              "\n",
              "[8 rows x 23 columns]"
            ],
            "text/html": [
              "\n",
              "  <div id=\"df-ecf8571f-73cd-4a22-b199-fedac6c6c48b\">\n",
              "    <div class=\"colab-df-container\">\n",
              "      <div>\n",
              "<style scoped>\n",
              "    .dataframe tbody tr th:only-of-type {\n",
              "        vertical-align: middle;\n",
              "    }\n",
              "\n",
              "    .dataframe tbody tr th {\n",
              "        vertical-align: top;\n",
              "    }\n",
              "\n",
              "    .dataframe thead th {\n",
              "        text-align: right;\n",
              "    }\n",
              "</style>\n",
              "<table border=\"1\" class=\"dataframe\">\n",
              "  <thead>\n",
              "    <tr style=\"text-align: right;\">\n",
              "      <th></th>\n",
              "      <th>ID</th>\n",
              "      <th>Gender</th>\n",
              "      <th>CommuteTime</th>\n",
              "      <th>StandardHours</th>\n",
              "      <th>OvertimeHours</th>\n",
              "      <th>HolidayWork</th>\n",
              "      <th>MonthlyIncome</th>\n",
              "      <th>SalaryLevel</th>\n",
              "      <th>Stability</th>\n",
              "      <th>Description</th>\n",
              "      <th>...</th>\n",
              "      <th>Relationship</th>\n",
              "      <th>Benefits</th>\n",
              "      <th>Promotion</th>\n",
              "      <th>JobReputation</th>\n",
              "      <th>Autonomy</th>\n",
              "      <th>CompanyReputation</th>\n",
              "      <th>Interest</th>\n",
              "      <th>Training</th>\n",
              "      <th>TurnoverPreparation</th>\n",
              "      <th>Satisfaction</th>\n",
              "    </tr>\n",
              "  </thead>\n",
              "  <tbody>\n",
              "    <tr>\n",
              "      <th>count</th>\n",
              "      <td>11858.000000</td>\n",
              "      <td>11858.000000</td>\n",
              "      <td>11858.000000</td>\n",
              "      <td>11858.000000</td>\n",
              "      <td>11858.000000</td>\n",
              "      <td>11858.000000</td>\n",
              "      <td>11858.000000</td>\n",
              "      <td>11858.000000</td>\n",
              "      <td>11858.000000</td>\n",
              "      <td>11858.000000</td>\n",
              "      <td>...</td>\n",
              "      <td>11858.000000</td>\n",
              "      <td>11858.000000</td>\n",
              "      <td>11858.000000</td>\n",
              "      <td>11858.000000</td>\n",
              "      <td>11858.000000</td>\n",
              "      <td>11858.000000</td>\n",
              "      <td>11858.000000</td>\n",
              "      <td>11858.000000</td>\n",
              "      <td>11858.000000</td>\n",
              "      <td>11858.000000</td>\n",
              "    </tr>\n",
              "    <tr>\n",
              "      <th>mean</th>\n",
              "      <td>55461.858998</td>\n",
              "      <td>1.508180</td>\n",
              "      <td>0.223646</td>\n",
              "      <td>39.030106</td>\n",
              "      <td>2.815146</td>\n",
              "      <td>1.013577</td>\n",
              "      <td>224.500253</td>\n",
              "      <td>3.142351</td>\n",
              "      <td>3.648339</td>\n",
              "      <td>3.619750</td>\n",
              "      <td>...</td>\n",
              "      <td>3.624220</td>\n",
              "      <td>3.390622</td>\n",
              "      <td>3.155928</td>\n",
              "      <td>3.523528</td>\n",
              "      <td>3.525721</td>\n",
              "      <td>3.529938</td>\n",
              "      <td>3.553803</td>\n",
              "      <td>3.402344</td>\n",
              "      <td>1.702395</td>\n",
              "      <td>3.506915</td>\n",
              "    </tr>\n",
              "    <tr>\n",
              "      <th>std</th>\n",
              "      <td>33373.755918</td>\n",
              "      <td>0.499954</td>\n",
              "      <td>0.492235</td>\n",
              "      <td>9.318040</td>\n",
              "      <td>5.009048</td>\n",
              "      <td>2.227108</td>\n",
              "      <td>109.700698</td>\n",
              "      <td>1.070813</td>\n",
              "      <td>1.068758</td>\n",
              "      <td>0.982878</td>\n",
              "      <td>...</td>\n",
              "      <td>1.014341</td>\n",
              "      <td>1.084467</td>\n",
              "      <td>1.051298</td>\n",
              "      <td>0.981568</td>\n",
              "      <td>1.017708</td>\n",
              "      <td>0.978640</td>\n",
              "      <td>1.044517</td>\n",
              "      <td>1.026404</td>\n",
              "      <td>0.457224</td>\n",
              "      <td>0.911905</td>\n",
              "    </tr>\n",
              "    <tr>\n",
              "      <th>min</th>\n",
              "      <td>37.000000</td>\n",
              "      <td>1.000000</td>\n",
              "      <td>-1.000000</td>\n",
              "      <td>-1.000000</td>\n",
              "      <td>-1.000000</td>\n",
              "      <td>-1.000000</td>\n",
              "      <td>-1.000000</td>\n",
              "      <td>1.000000</td>\n",
              "      <td>1.000000</td>\n",
              "      <td>1.000000</td>\n",
              "      <td>...</td>\n",
              "      <td>1.000000</td>\n",
              "      <td>1.000000</td>\n",
              "      <td>1.000000</td>\n",
              "      <td>1.000000</td>\n",
              "      <td>1.000000</td>\n",
              "      <td>1.000000</td>\n",
              "      <td>1.000000</td>\n",
              "      <td>1.000000</td>\n",
              "      <td>1.000000</td>\n",
              "      <td>1.000000</td>\n",
              "    </tr>\n",
              "    <tr>\n",
              "      <th>25%</th>\n",
              "      <td>26402.250000</td>\n",
              "      <td>1.000000</td>\n",
              "      <td>0.000000</td>\n",
              "      <td>40.000000</td>\n",
              "      <td>0.000000</td>\n",
              "      <td>0.000000</td>\n",
              "      <td>180.000000</td>\n",
              "      <td>2.000000</td>\n",
              "      <td>3.000000</td>\n",
              "      <td>3.000000</td>\n",
              "      <td>...</td>\n",
              "      <td>3.000000</td>\n",
              "      <td>3.000000</td>\n",
              "      <td>3.000000</td>\n",
              "      <td>3.000000</td>\n",
              "      <td>3.000000</td>\n",
              "      <td>3.000000</td>\n",
              "      <td>3.000000</td>\n",
              "      <td>3.000000</td>\n",
              "      <td>1.000000</td>\n",
              "      <td>3.000000</td>\n",
              "    </tr>\n",
              "    <tr>\n",
              "      <th>50%</th>\n",
              "      <td>54145.000000</td>\n",
              "      <td>2.000000</td>\n",
              "      <td>0.000000</td>\n",
              "      <td>40.000000</td>\n",
              "      <td>0.000000</td>\n",
              "      <td>0.000000</td>\n",
              "      <td>214.000000</td>\n",
              "      <td>3.000000</td>\n",
              "      <td>4.000000</td>\n",
              "      <td>4.000000</td>\n",
              "      <td>...</td>\n",
              "      <td>4.000000</td>\n",
              "      <td>3.000000</td>\n",
              "      <td>3.000000</td>\n",
              "      <td>4.000000</td>\n",
              "      <td>4.000000</td>\n",
              "      <td>4.000000</td>\n",
              "      <td>4.000000</td>\n",
              "      <td>3.000000</td>\n",
              "      <td>2.000000</td>\n",
              "      <td>4.000000</td>\n",
              "    </tr>\n",
              "    <tr>\n",
              "      <th>75%</th>\n",
              "      <td>82939.500000</td>\n",
              "      <td>2.000000</td>\n",
              "      <td>0.000000</td>\n",
              "      <td>40.000000</td>\n",
              "      <td>4.000000</td>\n",
              "      <td>1.000000</td>\n",
              "      <td>260.000000</td>\n",
              "      <td>4.000000</td>\n",
              "      <td>4.000000</td>\n",
              "      <td>4.000000</td>\n",
              "      <td>...</td>\n",
              "      <td>4.000000</td>\n",
              "      <td>4.000000</td>\n",
              "      <td>4.000000</td>\n",
              "      <td>4.000000</td>\n",
              "      <td>4.000000</td>\n",
              "      <td>4.000000</td>\n",
              "      <td>4.000000</td>\n",
              "      <td>4.000000</td>\n",
              "      <td>2.000000</td>\n",
              "      <td>4.000000</td>\n",
              "    </tr>\n",
              "    <tr>\n",
              "      <th>max</th>\n",
              "      <td>117668.000000</td>\n",
              "      <td>2.000000</td>\n",
              "      <td>8.000000</td>\n",
              "      <td>100.000000</td>\n",
              "      <td>60.000000</td>\n",
              "      <td>15.000000</td>\n",
              "      <td>5000.000000</td>\n",
              "      <td>5.000000</td>\n",
              "      <td>5.000000</td>\n",
              "      <td>5.000000</td>\n",
              "      <td>...</td>\n",
              "      <td>5.000000</td>\n",
              "      <td>5.000000</td>\n",
              "      <td>5.000000</td>\n",
              "      <td>5.000000</td>\n",
              "      <td>5.000000</td>\n",
              "      <td>5.000000</td>\n",
              "      <td>5.000000</td>\n",
              "      <td>5.000000</td>\n",
              "      <td>2.000000</td>\n",
              "      <td>5.000000</td>\n",
              "    </tr>\n",
              "  </tbody>\n",
              "</table>\n",
              "<p>8 rows × 23 columns</p>\n",
              "</div>\n",
              "      <button class=\"colab-df-convert\" onclick=\"convertToInteractive('df-ecf8571f-73cd-4a22-b199-fedac6c6c48b')\"\n",
              "              title=\"Convert this dataframe to an interactive table.\"\n",
              "              style=\"display:none;\">\n",
              "        \n",
              "  <svg xmlns=\"http://www.w3.org/2000/svg\" height=\"24px\"viewBox=\"0 0 24 24\"\n",
              "       width=\"24px\">\n",
              "    <path d=\"M0 0h24v24H0V0z\" fill=\"none\"/>\n",
              "    <path d=\"M18.56 5.44l.94 2.06.94-2.06 2.06-.94-2.06-.94-.94-2.06-.94 2.06-2.06.94zm-11 1L8.5 8.5l.94-2.06 2.06-.94-2.06-.94L8.5 2.5l-.94 2.06-2.06.94zm10 10l.94 2.06.94-2.06 2.06-.94-2.06-.94-.94-2.06-.94 2.06-2.06.94z\"/><path d=\"M17.41 7.96l-1.37-1.37c-.4-.4-.92-.59-1.43-.59-.52 0-1.04.2-1.43.59L10.3 9.45l-7.72 7.72c-.78.78-.78 2.05 0 2.83L4 21.41c.39.39.9.59 1.41.59.51 0 1.02-.2 1.41-.59l7.78-7.78 2.81-2.81c.8-.78.8-2.07 0-2.86zM5.41 20L4 18.59l7.72-7.72 1.47 1.35L5.41 20z\"/>\n",
              "  </svg>\n",
              "      </button>\n",
              "      \n",
              "  <style>\n",
              "    .colab-df-container {\n",
              "      display:flex;\n",
              "      flex-wrap:wrap;\n",
              "      gap: 12px;\n",
              "    }\n",
              "\n",
              "    .colab-df-convert {\n",
              "      background-color: #E8F0FE;\n",
              "      border: none;\n",
              "      border-radius: 50%;\n",
              "      cursor: pointer;\n",
              "      display: none;\n",
              "      fill: #1967D2;\n",
              "      height: 32px;\n",
              "      padding: 0 0 0 0;\n",
              "      width: 32px;\n",
              "    }\n",
              "\n",
              "    .colab-df-convert:hover {\n",
              "      background-color: #E2EBFA;\n",
              "      box-shadow: 0px 1px 2px rgba(60, 64, 67, 0.3), 0px 1px 3px 1px rgba(60, 64, 67, 0.15);\n",
              "      fill: #174EA6;\n",
              "    }\n",
              "\n",
              "    [theme=dark] .colab-df-convert {\n",
              "      background-color: #3B4455;\n",
              "      fill: #D2E3FC;\n",
              "    }\n",
              "\n",
              "    [theme=dark] .colab-df-convert:hover {\n",
              "      background-color: #434B5C;\n",
              "      box-shadow: 0px 1px 3px 1px rgba(0, 0, 0, 0.15);\n",
              "      filter: drop-shadow(0px 1px 2px rgba(0, 0, 0, 0.3));\n",
              "      fill: #FFFFFF;\n",
              "    }\n",
              "  </style>\n",
              "\n",
              "      <script>\n",
              "        const buttonEl =\n",
              "          document.querySelector('#df-ecf8571f-73cd-4a22-b199-fedac6c6c48b button.colab-df-convert');\n",
              "        buttonEl.style.display =\n",
              "          google.colab.kernel.accessAllowed ? 'block' : 'none';\n",
              "\n",
              "        async function convertToInteractive(key) {\n",
              "          const element = document.querySelector('#df-ecf8571f-73cd-4a22-b199-fedac6c6c48b');\n",
              "          const dataTable =\n",
              "            await google.colab.kernel.invokeFunction('convertToInteractive',\n",
              "                                                     [key], {});\n",
              "          if (!dataTable) return;\n",
              "\n",
              "          const docLinkHtml = 'Like what you see? Visit the ' +\n",
              "            '<a target=\"_blank\" href=https://colab.research.google.com/notebooks/data_table.ipynb>data table notebook</a>'\n",
              "            + ' to learn more about interactive tables.';\n",
              "          element.innerHTML = '';\n",
              "          dataTable['output_type'] = 'display_data';\n",
              "          await google.colab.output.renderOutput(dataTable, element);\n",
              "          const docLink = document.createElement('div');\n",
              "          docLink.innerHTML = docLinkHtml;\n",
              "          element.appendChild(docLink);\n",
              "        }\n",
              "      </script>\n",
              "    </div>\n",
              "  </div>\n",
              "  "
            ]
          },
          "metadata": {}
        }
      ],
      "source": [
        "#결측치가 존재하는 모든 행 제거\n",
        "\n",
        "df=df.dropna()\n",
        "display(df.describe())"
      ]
    },
    {
      "cell_type": "code",
      "execution_count": 12,
      "metadata": {
        "colab": {
          "base_uri": "https://localhost:8080/"
        },
        "id": "r-05wCWy_mtT",
        "outputId": "bbcb4fb6-79da-4420-d172-b63be59571b2"
      },
      "outputs": [
        {
          "output_type": "stream",
          "name": "stdout",
          "text": [
            "Reading package lists... Done\n",
            "Building dependency tree       \n",
            "Reading state information... Done\n",
            "The following package was automatically installed and is no longer required:\n",
            "  libnvidia-common-460\n",
            "Use 'sudo apt autoremove' to remove it.\n",
            "The following NEW packages will be installed:\n",
            "  fonts-nanum\n",
            "0 upgraded, 1 newly installed, 0 to remove and 7 not upgraded.\n",
            "Need to get 9,604 kB of archives.\n",
            "After this operation, 29.5 MB of additional disk space will be used.\n",
            "Get:1 http://archive.ubuntu.com/ubuntu bionic/universe amd64 fonts-nanum all 20170925-1 [9,604 kB]\n",
            "Fetched 9,604 kB in 0s (23.0 MB/s)\n",
            "debconf: unable to initialize frontend: Dialog\n",
            "debconf: (No usable dialog-like program is installed, so the dialog based frontend cannot be used. at /usr/share/perl5/Debconf/FrontEnd/Dialog.pm line 76, <> line 1.)\n",
            "debconf: falling back to frontend: Readline\n",
            "debconf: unable to initialize frontend: Readline\n",
            "debconf: (This frontend requires a controlling tty.)\n",
            "debconf: falling back to frontend: Teletype\n",
            "dpkg-preconfigure: unable to re-open stdin: \n",
            "Selecting previously unselected package fonts-nanum.\n",
            "(Reading database ... 124015 files and directories currently installed.)\n",
            "Preparing to unpack .../fonts-nanum_20170925-1_all.deb ...\n",
            "Unpacking fonts-nanum (20170925-1) ...\n",
            "Setting up fonts-nanum (20170925-1) ...\n",
            "Processing triggers for fontconfig (2.12.6-0ubuntu2) ...\n",
            "/usr/share/fonts: caching, new cache contents: 0 fonts, 1 dirs\n",
            "/usr/share/fonts/truetype: caching, new cache contents: 0 fonts, 3 dirs\n",
            "/usr/share/fonts/truetype/humor-sans: caching, new cache contents: 1 fonts, 0 dirs\n",
            "/usr/share/fonts/truetype/liberation: caching, new cache contents: 16 fonts, 0 dirs\n",
            "/usr/share/fonts/truetype/nanum: caching, new cache contents: 10 fonts, 0 dirs\n",
            "/usr/local/share/fonts: caching, new cache contents: 0 fonts, 0 dirs\n",
            "/root/.local/share/fonts: skipping, no such directory\n",
            "/root/.fonts: skipping, no such directory\n",
            "/var/cache/fontconfig: cleaning cache directory\n",
            "/root/.cache/fontconfig: not cleaning non-existent cache directory\n",
            "/root/.fontconfig: not cleaning non-existent cache directory\n",
            "fc-cache: succeeded\n"
          ]
        }
      ],
      "source": [
        "# 한글 폰트 사용 \n",
        "\n",
        "!sudo apt-get install -y fonts-nanum\n",
        "!sudo fc-cache -fv\n",
        "!rm ~/.cache/matplotlib -rf"
      ]
    },
    {
      "cell_type": "code",
      "execution_count": 13,
      "metadata": {
        "id": "1iPIq-K2Bo1L"
      },
      "outputs": [],
      "source": [
        "plt.rc('font',family='NanumBarunGothic')"
      ]
    },
    {
      "cell_type": "code",
      "execution_count": 14,
      "metadata": {
        "colab": {
          "base_uri": "https://localhost:8080/",
          "height": 488
        },
        "id": "8GvqslABN6iD",
        "outputId": "abdb610c-1f51-491d-9d0b-dc5970dee416"
      },
      "outputs": [
        {
          "output_type": "execute_result",
          "data": {
            "text/plain": [
              "           ID  Gender  CommuteTime  StandardHours  OvertimeHours  HolidayWork  \\\n",
              "4          37       1          0.0           48.0            2.0          4.0   \n",
              "6          49       2          0.0           11.0            0.0          0.0   \n",
              "7          59       2          0.0            6.0            0.0          0.0   \n",
              "11         99       1          0.0           18.0            0.0          0.0   \n",
              "12        105       2          0.0           25.0            0.0          0.0   \n",
              "...       ...     ...          ...            ...            ...          ...   \n",
              "18265  117608       2          1.0           10.0            0.0          0.0   \n",
              "18266  117639       1          0.0           48.0            0.0          0.0   \n",
              "18267  117644       2          0.0           40.0            5.0          0.0   \n",
              "18268  117654       1          0.0           35.0            0.0          0.0   \n",
              "18269  117668       1          1.0           40.0           12.0          0.0   \n",
              "\n",
              "       MonthlyIncome  SalaryLevel  Stability  Description  ...  Relationship  \\\n",
              "4              170.0          3.0        3.0          3.0  ...           5.0   \n",
              "6               40.0          2.0        4.0          4.0  ...           5.0   \n",
              "7               45.0          4.0        4.0          4.0  ...           4.0   \n",
              "11              35.0          3.0        3.0          3.0  ...           3.0   \n",
              "12              90.0          3.0        2.0          1.0  ...           1.0   \n",
              "...              ...          ...        ...          ...  ...           ...   \n",
              "18265           52.0          2.0        2.0          4.0  ...           3.0   \n",
              "18266          135.0          4.0        4.0          4.0  ...           4.0   \n",
              "18267          230.0          5.0        5.0          5.0  ...           1.0   \n",
              "18268           30.0          3.0        3.0          3.0  ...           5.0   \n",
              "18269          190.0          5.0        5.0          5.0  ...           5.0   \n",
              "\n",
              "       Benefits  Promotion  JobReputation  Autonomy  CompanyReputation  \\\n",
              "4           3.0        3.0            3.0       3.0                3.0   \n",
              "6           3.0        3.0            3.0       4.0                3.0   \n",
              "7           4.0        4.0            4.0       4.0                4.0   \n",
              "11          3.0        3.0            3.0       3.0                3.0   \n",
              "12          4.0        1.0            3.0       3.0                3.0   \n",
              "...         ...        ...            ...       ...                ...   \n",
              "18265       3.0        1.0            4.0       3.0                4.0   \n",
              "18266       4.0        4.0            4.0       4.0                3.0   \n",
              "18267       5.0        5.0            4.0       1.0                1.0   \n",
              "18268       3.0        3.0            3.0       3.0                3.0   \n",
              "18269       5.0        5.0            5.0       5.0                5.0   \n",
              "\n",
              "       Interest  Training  TurnoverPreparation  Satisfaction  \n",
              "4           3.0       3.0                  2.0             0  \n",
              "6           3.0       3.0                  2.0             1  \n",
              "7           4.0       4.0                  2.0             1  \n",
              "11          3.0       3.0                  1.0             0  \n",
              "12          5.0       1.0                  1.0             0  \n",
              "...         ...       ...                  ...           ...  \n",
              "18265       4.0       4.0                  1.0             0  \n",
              "18266       4.0       4.0                  1.0             1  \n",
              "18267       5.0       5.0                  2.0             0  \n",
              "18268       3.0       3.0                  2.0             1  \n",
              "18269       5.0       5.0                  2.0             1  \n",
              "\n",
              "[11858 rows x 23 columns]"
            ],
            "text/html": [
              "\n",
              "  <div id=\"df-9e45d62b-0d73-4d9a-8a0f-48a37edfefbf\">\n",
              "    <div class=\"colab-df-container\">\n",
              "      <div>\n",
              "<style scoped>\n",
              "    .dataframe tbody tr th:only-of-type {\n",
              "        vertical-align: middle;\n",
              "    }\n",
              "\n",
              "    .dataframe tbody tr th {\n",
              "        vertical-align: top;\n",
              "    }\n",
              "\n",
              "    .dataframe thead th {\n",
              "        text-align: right;\n",
              "    }\n",
              "</style>\n",
              "<table border=\"1\" class=\"dataframe\">\n",
              "  <thead>\n",
              "    <tr style=\"text-align: right;\">\n",
              "      <th></th>\n",
              "      <th>ID</th>\n",
              "      <th>Gender</th>\n",
              "      <th>CommuteTime</th>\n",
              "      <th>StandardHours</th>\n",
              "      <th>OvertimeHours</th>\n",
              "      <th>HolidayWork</th>\n",
              "      <th>MonthlyIncome</th>\n",
              "      <th>SalaryLevel</th>\n",
              "      <th>Stability</th>\n",
              "      <th>Description</th>\n",
              "      <th>...</th>\n",
              "      <th>Relationship</th>\n",
              "      <th>Benefits</th>\n",
              "      <th>Promotion</th>\n",
              "      <th>JobReputation</th>\n",
              "      <th>Autonomy</th>\n",
              "      <th>CompanyReputation</th>\n",
              "      <th>Interest</th>\n",
              "      <th>Training</th>\n",
              "      <th>TurnoverPreparation</th>\n",
              "      <th>Satisfaction</th>\n",
              "    </tr>\n",
              "  </thead>\n",
              "  <tbody>\n",
              "    <tr>\n",
              "      <th>4</th>\n",
              "      <td>37</td>\n",
              "      <td>1</td>\n",
              "      <td>0.0</td>\n",
              "      <td>48.0</td>\n",
              "      <td>2.0</td>\n",
              "      <td>4.0</td>\n",
              "      <td>170.0</td>\n",
              "      <td>3.0</td>\n",
              "      <td>3.0</td>\n",
              "      <td>3.0</td>\n",
              "      <td>...</td>\n",
              "      <td>5.0</td>\n",
              "      <td>3.0</td>\n",
              "      <td>3.0</td>\n",
              "      <td>3.0</td>\n",
              "      <td>3.0</td>\n",
              "      <td>3.0</td>\n",
              "      <td>3.0</td>\n",
              "      <td>3.0</td>\n",
              "      <td>2.0</td>\n",
              "      <td>0</td>\n",
              "    </tr>\n",
              "    <tr>\n",
              "      <th>6</th>\n",
              "      <td>49</td>\n",
              "      <td>2</td>\n",
              "      <td>0.0</td>\n",
              "      <td>11.0</td>\n",
              "      <td>0.0</td>\n",
              "      <td>0.0</td>\n",
              "      <td>40.0</td>\n",
              "      <td>2.0</td>\n",
              "      <td>4.0</td>\n",
              "      <td>4.0</td>\n",
              "      <td>...</td>\n",
              "      <td>5.0</td>\n",
              "      <td>3.0</td>\n",
              "      <td>3.0</td>\n",
              "      <td>3.0</td>\n",
              "      <td>4.0</td>\n",
              "      <td>3.0</td>\n",
              "      <td>3.0</td>\n",
              "      <td>3.0</td>\n",
              "      <td>2.0</td>\n",
              "      <td>1</td>\n",
              "    </tr>\n",
              "    <tr>\n",
              "      <th>7</th>\n",
              "      <td>59</td>\n",
              "      <td>2</td>\n",
              "      <td>0.0</td>\n",
              "      <td>6.0</td>\n",
              "      <td>0.0</td>\n",
              "      <td>0.0</td>\n",
              "      <td>45.0</td>\n",
              "      <td>4.0</td>\n",
              "      <td>4.0</td>\n",
              "      <td>4.0</td>\n",
              "      <td>...</td>\n",
              "      <td>4.0</td>\n",
              "      <td>4.0</td>\n",
              "      <td>4.0</td>\n",
              "      <td>4.0</td>\n",
              "      <td>4.0</td>\n",
              "      <td>4.0</td>\n",
              "      <td>4.0</td>\n",
              "      <td>4.0</td>\n",
              "      <td>2.0</td>\n",
              "      <td>1</td>\n",
              "    </tr>\n",
              "    <tr>\n",
              "      <th>11</th>\n",
              "      <td>99</td>\n",
              "      <td>1</td>\n",
              "      <td>0.0</td>\n",
              "      <td>18.0</td>\n",
              "      <td>0.0</td>\n",
              "      <td>0.0</td>\n",
              "      <td>35.0</td>\n",
              "      <td>3.0</td>\n",
              "      <td>3.0</td>\n",
              "      <td>3.0</td>\n",
              "      <td>...</td>\n",
              "      <td>3.0</td>\n",
              "      <td>3.0</td>\n",
              "      <td>3.0</td>\n",
              "      <td>3.0</td>\n",
              "      <td>3.0</td>\n",
              "      <td>3.0</td>\n",
              "      <td>3.0</td>\n",
              "      <td>3.0</td>\n",
              "      <td>1.0</td>\n",
              "      <td>0</td>\n",
              "    </tr>\n",
              "    <tr>\n",
              "      <th>12</th>\n",
              "      <td>105</td>\n",
              "      <td>2</td>\n",
              "      <td>0.0</td>\n",
              "      <td>25.0</td>\n",
              "      <td>0.0</td>\n",
              "      <td>0.0</td>\n",
              "      <td>90.0</td>\n",
              "      <td>3.0</td>\n",
              "      <td>2.0</td>\n",
              "      <td>1.0</td>\n",
              "      <td>...</td>\n",
              "      <td>1.0</td>\n",
              "      <td>4.0</td>\n",
              "      <td>1.0</td>\n",
              "      <td>3.0</td>\n",
              "      <td>3.0</td>\n",
              "      <td>3.0</td>\n",
              "      <td>5.0</td>\n",
              "      <td>1.0</td>\n",
              "      <td>1.0</td>\n",
              "      <td>0</td>\n",
              "    </tr>\n",
              "    <tr>\n",
              "      <th>...</th>\n",
              "      <td>...</td>\n",
              "      <td>...</td>\n",
              "      <td>...</td>\n",
              "      <td>...</td>\n",
              "      <td>...</td>\n",
              "      <td>...</td>\n",
              "      <td>...</td>\n",
              "      <td>...</td>\n",
              "      <td>...</td>\n",
              "      <td>...</td>\n",
              "      <td>...</td>\n",
              "      <td>...</td>\n",
              "      <td>...</td>\n",
              "      <td>...</td>\n",
              "      <td>...</td>\n",
              "      <td>...</td>\n",
              "      <td>...</td>\n",
              "      <td>...</td>\n",
              "      <td>...</td>\n",
              "      <td>...</td>\n",
              "      <td>...</td>\n",
              "    </tr>\n",
              "    <tr>\n",
              "      <th>18265</th>\n",
              "      <td>117608</td>\n",
              "      <td>2</td>\n",
              "      <td>1.0</td>\n",
              "      <td>10.0</td>\n",
              "      <td>0.0</td>\n",
              "      <td>0.0</td>\n",
              "      <td>52.0</td>\n",
              "      <td>2.0</td>\n",
              "      <td>2.0</td>\n",
              "      <td>4.0</td>\n",
              "      <td>...</td>\n",
              "      <td>3.0</td>\n",
              "      <td>3.0</td>\n",
              "      <td>1.0</td>\n",
              "      <td>4.0</td>\n",
              "      <td>3.0</td>\n",
              "      <td>4.0</td>\n",
              "      <td>4.0</td>\n",
              "      <td>4.0</td>\n",
              "      <td>1.0</td>\n",
              "      <td>0</td>\n",
              "    </tr>\n",
              "    <tr>\n",
              "      <th>18266</th>\n",
              "      <td>117639</td>\n",
              "      <td>1</td>\n",
              "      <td>0.0</td>\n",
              "      <td>48.0</td>\n",
              "      <td>0.0</td>\n",
              "      <td>0.0</td>\n",
              "      <td>135.0</td>\n",
              "      <td>4.0</td>\n",
              "      <td>4.0</td>\n",
              "      <td>4.0</td>\n",
              "      <td>...</td>\n",
              "      <td>4.0</td>\n",
              "      <td>4.0</td>\n",
              "      <td>4.0</td>\n",
              "      <td>4.0</td>\n",
              "      <td>4.0</td>\n",
              "      <td>3.0</td>\n",
              "      <td>4.0</td>\n",
              "      <td>4.0</td>\n",
              "      <td>1.0</td>\n",
              "      <td>1</td>\n",
              "    </tr>\n",
              "    <tr>\n",
              "      <th>18267</th>\n",
              "      <td>117644</td>\n",
              "      <td>2</td>\n",
              "      <td>0.0</td>\n",
              "      <td>40.0</td>\n",
              "      <td>5.0</td>\n",
              "      <td>0.0</td>\n",
              "      <td>230.0</td>\n",
              "      <td>5.0</td>\n",
              "      <td>5.0</td>\n",
              "      <td>5.0</td>\n",
              "      <td>...</td>\n",
              "      <td>1.0</td>\n",
              "      <td>5.0</td>\n",
              "      <td>5.0</td>\n",
              "      <td>4.0</td>\n",
              "      <td>1.0</td>\n",
              "      <td>1.0</td>\n",
              "      <td>5.0</td>\n",
              "      <td>5.0</td>\n",
              "      <td>2.0</td>\n",
              "      <td>0</td>\n",
              "    </tr>\n",
              "    <tr>\n",
              "      <th>18268</th>\n",
              "      <td>117654</td>\n",
              "      <td>1</td>\n",
              "      <td>0.0</td>\n",
              "      <td>35.0</td>\n",
              "      <td>0.0</td>\n",
              "      <td>0.0</td>\n",
              "      <td>30.0</td>\n",
              "      <td>3.0</td>\n",
              "      <td>3.0</td>\n",
              "      <td>3.0</td>\n",
              "      <td>...</td>\n",
              "      <td>5.0</td>\n",
              "      <td>3.0</td>\n",
              "      <td>3.0</td>\n",
              "      <td>3.0</td>\n",
              "      <td>3.0</td>\n",
              "      <td>3.0</td>\n",
              "      <td>3.0</td>\n",
              "      <td>3.0</td>\n",
              "      <td>2.0</td>\n",
              "      <td>1</td>\n",
              "    </tr>\n",
              "    <tr>\n",
              "      <th>18269</th>\n",
              "      <td>117668</td>\n",
              "      <td>1</td>\n",
              "      <td>1.0</td>\n",
              "      <td>40.0</td>\n",
              "      <td>12.0</td>\n",
              "      <td>0.0</td>\n",
              "      <td>190.0</td>\n",
              "      <td>5.0</td>\n",
              "      <td>5.0</td>\n",
              "      <td>5.0</td>\n",
              "      <td>...</td>\n",
              "      <td>5.0</td>\n",
              "      <td>5.0</td>\n",
              "      <td>5.0</td>\n",
              "      <td>5.0</td>\n",
              "      <td>5.0</td>\n",
              "      <td>5.0</td>\n",
              "      <td>5.0</td>\n",
              "      <td>5.0</td>\n",
              "      <td>2.0</td>\n",
              "      <td>1</td>\n",
              "    </tr>\n",
              "  </tbody>\n",
              "</table>\n",
              "<p>11858 rows × 23 columns</p>\n",
              "</div>\n",
              "      <button class=\"colab-df-convert\" onclick=\"convertToInteractive('df-9e45d62b-0d73-4d9a-8a0f-48a37edfefbf')\"\n",
              "              title=\"Convert this dataframe to an interactive table.\"\n",
              "              style=\"display:none;\">\n",
              "        \n",
              "  <svg xmlns=\"http://www.w3.org/2000/svg\" height=\"24px\"viewBox=\"0 0 24 24\"\n",
              "       width=\"24px\">\n",
              "    <path d=\"M0 0h24v24H0V0z\" fill=\"none\"/>\n",
              "    <path d=\"M18.56 5.44l.94 2.06.94-2.06 2.06-.94-2.06-.94-.94-2.06-.94 2.06-2.06.94zm-11 1L8.5 8.5l.94-2.06 2.06-.94-2.06-.94L8.5 2.5l-.94 2.06-2.06.94zm10 10l.94 2.06.94-2.06 2.06-.94-2.06-.94-.94-2.06-.94 2.06-2.06.94z\"/><path d=\"M17.41 7.96l-1.37-1.37c-.4-.4-.92-.59-1.43-.59-.52 0-1.04.2-1.43.59L10.3 9.45l-7.72 7.72c-.78.78-.78 2.05 0 2.83L4 21.41c.39.39.9.59 1.41.59.51 0 1.02-.2 1.41-.59l7.78-7.78 2.81-2.81c.8-.78.8-2.07 0-2.86zM5.41 20L4 18.59l7.72-7.72 1.47 1.35L5.41 20z\"/>\n",
              "  </svg>\n",
              "      </button>\n",
              "      \n",
              "  <style>\n",
              "    .colab-df-container {\n",
              "      display:flex;\n",
              "      flex-wrap:wrap;\n",
              "      gap: 12px;\n",
              "    }\n",
              "\n",
              "    .colab-df-convert {\n",
              "      background-color: #E8F0FE;\n",
              "      border: none;\n",
              "      border-radius: 50%;\n",
              "      cursor: pointer;\n",
              "      display: none;\n",
              "      fill: #1967D2;\n",
              "      height: 32px;\n",
              "      padding: 0 0 0 0;\n",
              "      width: 32px;\n",
              "    }\n",
              "\n",
              "    .colab-df-convert:hover {\n",
              "      background-color: #E2EBFA;\n",
              "      box-shadow: 0px 1px 2px rgba(60, 64, 67, 0.3), 0px 1px 3px 1px rgba(60, 64, 67, 0.15);\n",
              "      fill: #174EA6;\n",
              "    }\n",
              "\n",
              "    [theme=dark] .colab-df-convert {\n",
              "      background-color: #3B4455;\n",
              "      fill: #D2E3FC;\n",
              "    }\n",
              "\n",
              "    [theme=dark] .colab-df-convert:hover {\n",
              "      background-color: #434B5C;\n",
              "      box-shadow: 0px 1px 3px 1px rgba(0, 0, 0, 0.15);\n",
              "      filter: drop-shadow(0px 1px 2px rgba(0, 0, 0, 0.3));\n",
              "      fill: #FFFFFF;\n",
              "    }\n",
              "  </style>\n",
              "\n",
              "      <script>\n",
              "        const buttonEl =\n",
              "          document.querySelector('#df-9e45d62b-0d73-4d9a-8a0f-48a37edfefbf button.colab-df-convert');\n",
              "        buttonEl.style.display =\n",
              "          google.colab.kernel.accessAllowed ? 'block' : 'none';\n",
              "\n",
              "        async function convertToInteractive(key) {\n",
              "          const element = document.querySelector('#df-9e45d62b-0d73-4d9a-8a0f-48a37edfefbf');\n",
              "          const dataTable =\n",
              "            await google.colab.kernel.invokeFunction('convertToInteractive',\n",
              "                                                     [key], {});\n",
              "          if (!dataTable) return;\n",
              "\n",
              "          const docLinkHtml = 'Like what you see? Visit the ' +\n",
              "            '<a target=\"_blank\" href=https://colab.research.google.com/notebooks/data_table.ipynb>data table notebook</a>'\n",
              "            + ' to learn more about interactive tables.';\n",
              "          element.innerHTML = '';\n",
              "          dataTable['output_type'] = 'display_data';\n",
              "          await google.colab.output.renderOutput(dataTable, element);\n",
              "          const docLink = document.createElement('div');\n",
              "          docLink.innerHTML = docLinkHtml;\n",
              "          element.appendChild(docLink);\n",
              "        }\n",
              "      </script>\n",
              "    </div>\n",
              "  </div>\n",
              "  "
            ]
          },
          "metadata": {},
          "execution_count": 14
        }
      ],
      "source": [
        "\n",
        "def reshape(values):\n",
        "    if values < 4:\n",
        "        return 0\n",
        "    else:\n",
        "        return 1\n",
        "\n",
        "df['Satisfaction'] = df['Satisfaction'].apply(reshape)\n",
        "df"
      ]
    },
    {
      "cell_type": "code",
      "execution_count": 15,
      "metadata": {
        "colab": {
          "base_uri": "https://localhost:8080/",
          "height": 488
        },
        "id": "erKQxmocF-f9",
        "outputId": "0f84a8f3-c6a2-48df-de33-975edbf81e43"
      },
      "outputs": [
        {
          "output_type": "display_data",
          "data": {
            "text/plain": [
              "           ID  Gender  CommuteTime  StandardHours  OvertimeHours  HolidayWork  \\\n",
              "4          37       1          0.0           48.0            2.0          4.0   \n",
              "6          49       2          0.0           11.0            0.0          0.0   \n",
              "7          59       2          0.0            6.0            0.0          0.0   \n",
              "11         99       1          0.0           18.0            0.0          0.0   \n",
              "12        105       2          0.0           25.0            0.0          0.0   \n",
              "...       ...     ...          ...            ...            ...          ...   \n",
              "18265  117608       2          1.0           10.0            0.0          0.0   \n",
              "18266  117639       1          0.0           48.0            0.0          0.0   \n",
              "18267  117644       2          0.0           40.0            5.0          0.0   \n",
              "18268  117654       1          0.0           35.0            0.0          0.0   \n",
              "18269  117668       1          1.0           40.0           12.0          0.0   \n",
              "\n",
              "       MonthlyIncome  SalaryLevel  Stability  Description  ...  Relationship  \\\n",
              "4              170.0          3.0        3.0          3.0  ...           5.0   \n",
              "6               40.0          2.0        4.0          4.0  ...           5.0   \n",
              "7               45.0          4.0        4.0          4.0  ...           4.0   \n",
              "11              35.0          3.0        3.0          3.0  ...           3.0   \n",
              "12              90.0          3.0        2.0          1.0  ...           1.0   \n",
              "...              ...          ...        ...          ...  ...           ...   \n",
              "18265           52.0          2.0        2.0          4.0  ...           3.0   \n",
              "18266          135.0          4.0        4.0          4.0  ...           4.0   \n",
              "18267          230.0          5.0        5.0          5.0  ...           1.0   \n",
              "18268           30.0          3.0        3.0          3.0  ...           5.0   \n",
              "18269          190.0          5.0        5.0          5.0  ...           5.0   \n",
              "\n",
              "       Benefits  Promotion  JobReputation  Autonomy  CompanyReputation  \\\n",
              "4           3.0        3.0            3.0       3.0                3.0   \n",
              "6           3.0        3.0            3.0       4.0                3.0   \n",
              "7           4.0        4.0            4.0       4.0                4.0   \n",
              "11          3.0        3.0            3.0       3.0                3.0   \n",
              "12          4.0        1.0            3.0       3.0                3.0   \n",
              "...         ...        ...            ...       ...                ...   \n",
              "18265       3.0        1.0            4.0       3.0                4.0   \n",
              "18266       4.0        4.0            4.0       4.0                3.0   \n",
              "18267       5.0        5.0            4.0       1.0                1.0   \n",
              "18268       3.0        3.0            3.0       3.0                3.0   \n",
              "18269       5.0        5.0            5.0       5.0                5.0   \n",
              "\n",
              "       Interest  Training  TurnoverPreparation  Satisfaction  \n",
              "4           3.0       3.0                  2.0             0  \n",
              "6           3.0       3.0                  2.0             1  \n",
              "7           4.0       4.0                  2.0             1  \n",
              "11          3.0       3.0                  1.0             0  \n",
              "12          5.0       1.0                  1.0             0  \n",
              "...         ...       ...                  ...           ...  \n",
              "18265       4.0       4.0                  1.0             0  \n",
              "18266       4.0       4.0                  1.0             1  \n",
              "18267       5.0       5.0                  2.0             0  \n",
              "18268       3.0       3.0                  2.0             1  \n",
              "18269       5.0       5.0                  2.0             1  \n",
              "\n",
              "[11858 rows x 23 columns]"
            ],
            "text/html": [
              "\n",
              "  <div id=\"df-b3930794-d879-4b0f-8b75-7c6cd47db106\">\n",
              "    <div class=\"colab-df-container\">\n",
              "      <div>\n",
              "<style scoped>\n",
              "    .dataframe tbody tr th:only-of-type {\n",
              "        vertical-align: middle;\n",
              "    }\n",
              "\n",
              "    .dataframe tbody tr th {\n",
              "        vertical-align: top;\n",
              "    }\n",
              "\n",
              "    .dataframe thead th {\n",
              "        text-align: right;\n",
              "    }\n",
              "</style>\n",
              "<table border=\"1\" class=\"dataframe\">\n",
              "  <thead>\n",
              "    <tr style=\"text-align: right;\">\n",
              "      <th></th>\n",
              "      <th>ID</th>\n",
              "      <th>Gender</th>\n",
              "      <th>CommuteTime</th>\n",
              "      <th>StandardHours</th>\n",
              "      <th>OvertimeHours</th>\n",
              "      <th>HolidayWork</th>\n",
              "      <th>MonthlyIncome</th>\n",
              "      <th>SalaryLevel</th>\n",
              "      <th>Stability</th>\n",
              "      <th>Description</th>\n",
              "      <th>...</th>\n",
              "      <th>Relationship</th>\n",
              "      <th>Benefits</th>\n",
              "      <th>Promotion</th>\n",
              "      <th>JobReputation</th>\n",
              "      <th>Autonomy</th>\n",
              "      <th>CompanyReputation</th>\n",
              "      <th>Interest</th>\n",
              "      <th>Training</th>\n",
              "      <th>TurnoverPreparation</th>\n",
              "      <th>Satisfaction</th>\n",
              "    </tr>\n",
              "  </thead>\n",
              "  <tbody>\n",
              "    <tr>\n",
              "      <th>4</th>\n",
              "      <td>37</td>\n",
              "      <td>1</td>\n",
              "      <td>0.0</td>\n",
              "      <td>48.0</td>\n",
              "      <td>2.0</td>\n",
              "      <td>4.0</td>\n",
              "      <td>170.0</td>\n",
              "      <td>3.0</td>\n",
              "      <td>3.0</td>\n",
              "      <td>3.0</td>\n",
              "      <td>...</td>\n",
              "      <td>5.0</td>\n",
              "      <td>3.0</td>\n",
              "      <td>3.0</td>\n",
              "      <td>3.0</td>\n",
              "      <td>3.0</td>\n",
              "      <td>3.0</td>\n",
              "      <td>3.0</td>\n",
              "      <td>3.0</td>\n",
              "      <td>2.0</td>\n",
              "      <td>0</td>\n",
              "    </tr>\n",
              "    <tr>\n",
              "      <th>6</th>\n",
              "      <td>49</td>\n",
              "      <td>2</td>\n",
              "      <td>0.0</td>\n",
              "      <td>11.0</td>\n",
              "      <td>0.0</td>\n",
              "      <td>0.0</td>\n",
              "      <td>40.0</td>\n",
              "      <td>2.0</td>\n",
              "      <td>4.0</td>\n",
              "      <td>4.0</td>\n",
              "      <td>...</td>\n",
              "      <td>5.0</td>\n",
              "      <td>3.0</td>\n",
              "      <td>3.0</td>\n",
              "      <td>3.0</td>\n",
              "      <td>4.0</td>\n",
              "      <td>3.0</td>\n",
              "      <td>3.0</td>\n",
              "      <td>3.0</td>\n",
              "      <td>2.0</td>\n",
              "      <td>1</td>\n",
              "    </tr>\n",
              "    <tr>\n",
              "      <th>7</th>\n",
              "      <td>59</td>\n",
              "      <td>2</td>\n",
              "      <td>0.0</td>\n",
              "      <td>6.0</td>\n",
              "      <td>0.0</td>\n",
              "      <td>0.0</td>\n",
              "      <td>45.0</td>\n",
              "      <td>4.0</td>\n",
              "      <td>4.0</td>\n",
              "      <td>4.0</td>\n",
              "      <td>...</td>\n",
              "      <td>4.0</td>\n",
              "      <td>4.0</td>\n",
              "      <td>4.0</td>\n",
              "      <td>4.0</td>\n",
              "      <td>4.0</td>\n",
              "      <td>4.0</td>\n",
              "      <td>4.0</td>\n",
              "      <td>4.0</td>\n",
              "      <td>2.0</td>\n",
              "      <td>1</td>\n",
              "    </tr>\n",
              "    <tr>\n",
              "      <th>11</th>\n",
              "      <td>99</td>\n",
              "      <td>1</td>\n",
              "      <td>0.0</td>\n",
              "      <td>18.0</td>\n",
              "      <td>0.0</td>\n",
              "      <td>0.0</td>\n",
              "      <td>35.0</td>\n",
              "      <td>3.0</td>\n",
              "      <td>3.0</td>\n",
              "      <td>3.0</td>\n",
              "      <td>...</td>\n",
              "      <td>3.0</td>\n",
              "      <td>3.0</td>\n",
              "      <td>3.0</td>\n",
              "      <td>3.0</td>\n",
              "      <td>3.0</td>\n",
              "      <td>3.0</td>\n",
              "      <td>3.0</td>\n",
              "      <td>3.0</td>\n",
              "      <td>1.0</td>\n",
              "      <td>0</td>\n",
              "    </tr>\n",
              "    <tr>\n",
              "      <th>12</th>\n",
              "      <td>105</td>\n",
              "      <td>2</td>\n",
              "      <td>0.0</td>\n",
              "      <td>25.0</td>\n",
              "      <td>0.0</td>\n",
              "      <td>0.0</td>\n",
              "      <td>90.0</td>\n",
              "      <td>3.0</td>\n",
              "      <td>2.0</td>\n",
              "      <td>1.0</td>\n",
              "      <td>...</td>\n",
              "      <td>1.0</td>\n",
              "      <td>4.0</td>\n",
              "      <td>1.0</td>\n",
              "      <td>3.0</td>\n",
              "      <td>3.0</td>\n",
              "      <td>3.0</td>\n",
              "      <td>5.0</td>\n",
              "      <td>1.0</td>\n",
              "      <td>1.0</td>\n",
              "      <td>0</td>\n",
              "    </tr>\n",
              "    <tr>\n",
              "      <th>...</th>\n",
              "      <td>...</td>\n",
              "      <td>...</td>\n",
              "      <td>...</td>\n",
              "      <td>...</td>\n",
              "      <td>...</td>\n",
              "      <td>...</td>\n",
              "      <td>...</td>\n",
              "      <td>...</td>\n",
              "      <td>...</td>\n",
              "      <td>...</td>\n",
              "      <td>...</td>\n",
              "      <td>...</td>\n",
              "      <td>...</td>\n",
              "      <td>...</td>\n",
              "      <td>...</td>\n",
              "      <td>...</td>\n",
              "      <td>...</td>\n",
              "      <td>...</td>\n",
              "      <td>...</td>\n",
              "      <td>...</td>\n",
              "      <td>...</td>\n",
              "    </tr>\n",
              "    <tr>\n",
              "      <th>18265</th>\n",
              "      <td>117608</td>\n",
              "      <td>2</td>\n",
              "      <td>1.0</td>\n",
              "      <td>10.0</td>\n",
              "      <td>0.0</td>\n",
              "      <td>0.0</td>\n",
              "      <td>52.0</td>\n",
              "      <td>2.0</td>\n",
              "      <td>2.0</td>\n",
              "      <td>4.0</td>\n",
              "      <td>...</td>\n",
              "      <td>3.0</td>\n",
              "      <td>3.0</td>\n",
              "      <td>1.0</td>\n",
              "      <td>4.0</td>\n",
              "      <td>3.0</td>\n",
              "      <td>4.0</td>\n",
              "      <td>4.0</td>\n",
              "      <td>4.0</td>\n",
              "      <td>1.0</td>\n",
              "      <td>0</td>\n",
              "    </tr>\n",
              "    <tr>\n",
              "      <th>18266</th>\n",
              "      <td>117639</td>\n",
              "      <td>1</td>\n",
              "      <td>0.0</td>\n",
              "      <td>48.0</td>\n",
              "      <td>0.0</td>\n",
              "      <td>0.0</td>\n",
              "      <td>135.0</td>\n",
              "      <td>4.0</td>\n",
              "      <td>4.0</td>\n",
              "      <td>4.0</td>\n",
              "      <td>...</td>\n",
              "      <td>4.0</td>\n",
              "      <td>4.0</td>\n",
              "      <td>4.0</td>\n",
              "      <td>4.0</td>\n",
              "      <td>4.0</td>\n",
              "      <td>3.0</td>\n",
              "      <td>4.0</td>\n",
              "      <td>4.0</td>\n",
              "      <td>1.0</td>\n",
              "      <td>1</td>\n",
              "    </tr>\n",
              "    <tr>\n",
              "      <th>18267</th>\n",
              "      <td>117644</td>\n",
              "      <td>2</td>\n",
              "      <td>0.0</td>\n",
              "      <td>40.0</td>\n",
              "      <td>5.0</td>\n",
              "      <td>0.0</td>\n",
              "      <td>230.0</td>\n",
              "      <td>5.0</td>\n",
              "      <td>5.0</td>\n",
              "      <td>5.0</td>\n",
              "      <td>...</td>\n",
              "      <td>1.0</td>\n",
              "      <td>5.0</td>\n",
              "      <td>5.0</td>\n",
              "      <td>4.0</td>\n",
              "      <td>1.0</td>\n",
              "      <td>1.0</td>\n",
              "      <td>5.0</td>\n",
              "      <td>5.0</td>\n",
              "      <td>2.0</td>\n",
              "      <td>0</td>\n",
              "    </tr>\n",
              "    <tr>\n",
              "      <th>18268</th>\n",
              "      <td>117654</td>\n",
              "      <td>1</td>\n",
              "      <td>0.0</td>\n",
              "      <td>35.0</td>\n",
              "      <td>0.0</td>\n",
              "      <td>0.0</td>\n",
              "      <td>30.0</td>\n",
              "      <td>3.0</td>\n",
              "      <td>3.0</td>\n",
              "      <td>3.0</td>\n",
              "      <td>...</td>\n",
              "      <td>5.0</td>\n",
              "      <td>3.0</td>\n",
              "      <td>3.0</td>\n",
              "      <td>3.0</td>\n",
              "      <td>3.0</td>\n",
              "      <td>3.0</td>\n",
              "      <td>3.0</td>\n",
              "      <td>3.0</td>\n",
              "      <td>2.0</td>\n",
              "      <td>1</td>\n",
              "    </tr>\n",
              "    <tr>\n",
              "      <th>18269</th>\n",
              "      <td>117668</td>\n",
              "      <td>1</td>\n",
              "      <td>1.0</td>\n",
              "      <td>40.0</td>\n",
              "      <td>12.0</td>\n",
              "      <td>0.0</td>\n",
              "      <td>190.0</td>\n",
              "      <td>5.0</td>\n",
              "      <td>5.0</td>\n",
              "      <td>5.0</td>\n",
              "      <td>...</td>\n",
              "      <td>5.0</td>\n",
              "      <td>5.0</td>\n",
              "      <td>5.0</td>\n",
              "      <td>5.0</td>\n",
              "      <td>5.0</td>\n",
              "      <td>5.0</td>\n",
              "      <td>5.0</td>\n",
              "      <td>5.0</td>\n",
              "      <td>2.0</td>\n",
              "      <td>1</td>\n",
              "    </tr>\n",
              "  </tbody>\n",
              "</table>\n",
              "<p>11858 rows × 23 columns</p>\n",
              "</div>\n",
              "      <button class=\"colab-df-convert\" onclick=\"convertToInteractive('df-b3930794-d879-4b0f-8b75-7c6cd47db106')\"\n",
              "              title=\"Convert this dataframe to an interactive table.\"\n",
              "              style=\"display:none;\">\n",
              "        \n",
              "  <svg xmlns=\"http://www.w3.org/2000/svg\" height=\"24px\"viewBox=\"0 0 24 24\"\n",
              "       width=\"24px\">\n",
              "    <path d=\"M0 0h24v24H0V0z\" fill=\"none\"/>\n",
              "    <path d=\"M18.56 5.44l.94 2.06.94-2.06 2.06-.94-2.06-.94-.94-2.06-.94 2.06-2.06.94zm-11 1L8.5 8.5l.94-2.06 2.06-.94-2.06-.94L8.5 2.5l-.94 2.06-2.06.94zm10 10l.94 2.06.94-2.06 2.06-.94-2.06-.94-.94-2.06-.94 2.06-2.06.94z\"/><path d=\"M17.41 7.96l-1.37-1.37c-.4-.4-.92-.59-1.43-.59-.52 0-1.04.2-1.43.59L10.3 9.45l-7.72 7.72c-.78.78-.78 2.05 0 2.83L4 21.41c.39.39.9.59 1.41.59.51 0 1.02-.2 1.41-.59l7.78-7.78 2.81-2.81c.8-.78.8-2.07 0-2.86zM5.41 20L4 18.59l7.72-7.72 1.47 1.35L5.41 20z\"/>\n",
              "  </svg>\n",
              "      </button>\n",
              "      \n",
              "  <style>\n",
              "    .colab-df-container {\n",
              "      display:flex;\n",
              "      flex-wrap:wrap;\n",
              "      gap: 12px;\n",
              "    }\n",
              "\n",
              "    .colab-df-convert {\n",
              "      background-color: #E8F0FE;\n",
              "      border: none;\n",
              "      border-radius: 50%;\n",
              "      cursor: pointer;\n",
              "      display: none;\n",
              "      fill: #1967D2;\n",
              "      height: 32px;\n",
              "      padding: 0 0 0 0;\n",
              "      width: 32px;\n",
              "    }\n",
              "\n",
              "    .colab-df-convert:hover {\n",
              "      background-color: #E2EBFA;\n",
              "      box-shadow: 0px 1px 2px rgba(60, 64, 67, 0.3), 0px 1px 3px 1px rgba(60, 64, 67, 0.15);\n",
              "      fill: #174EA6;\n",
              "    }\n",
              "\n",
              "    [theme=dark] .colab-df-convert {\n",
              "      background-color: #3B4455;\n",
              "      fill: #D2E3FC;\n",
              "    }\n",
              "\n",
              "    [theme=dark] .colab-df-convert:hover {\n",
              "      background-color: #434B5C;\n",
              "      box-shadow: 0px 1px 3px 1px rgba(0, 0, 0, 0.15);\n",
              "      filter: drop-shadow(0px 1px 2px rgba(0, 0, 0, 0.3));\n",
              "      fill: #FFFFFF;\n",
              "    }\n",
              "  </style>\n",
              "\n",
              "      <script>\n",
              "        const buttonEl =\n",
              "          document.querySelector('#df-b3930794-d879-4b0f-8b75-7c6cd47db106 button.colab-df-convert');\n",
              "        buttonEl.style.display =\n",
              "          google.colab.kernel.accessAllowed ? 'block' : 'none';\n",
              "\n",
              "        async function convertToInteractive(key) {\n",
              "          const element = document.querySelector('#df-b3930794-d879-4b0f-8b75-7c6cd47db106');\n",
              "          const dataTable =\n",
              "            await google.colab.kernel.invokeFunction('convertToInteractive',\n",
              "                                                     [key], {});\n",
              "          if (!dataTable) return;\n",
              "\n",
              "          const docLinkHtml = 'Like what you see? Visit the ' +\n",
              "            '<a target=\"_blank\" href=https://colab.research.google.com/notebooks/data_table.ipynb>data table notebook</a>'\n",
              "            + ' to learn more about interactive tables.';\n",
              "          element.innerHTML = '';\n",
              "          dataTable['output_type'] = 'display_data';\n",
              "          await google.colab.output.renderOutput(dataTable, element);\n",
              "          const docLink = document.createElement('div');\n",
              "          docLink.innerHTML = docLinkHtml;\n",
              "          element.appendChild(docLink);\n",
              "        }\n",
              "      </script>\n",
              "    </div>\n",
              "  </div>\n",
              "  "
            ]
          },
          "metadata": {}
        }
      ],
      "source": [
        "display(df)"
      ]
    },
    {
      "cell_type": "code",
      "execution_count": 16,
      "metadata": {
        "colab": {
          "base_uri": "https://localhost:8080/"
        },
        "id": "eSfwC6CudNJN",
        "outputId": "b1ed15af-5fe9-418c-e78e-fca33158f6bf"
      },
      "outputs": [
        {
          "output_type": "stream",
          "name": "stdout",
          "text": [
            "(11858, 23)\n"
          ]
        }
      ],
      "source": [
        "print(df.shape)"
      ]
    },
    {
      "cell_type": "code",
      "execution_count": 17,
      "metadata": {
        "colab": {
          "base_uri": "https://localhost:8080/"
        },
        "id": "gbDSX6QzKnU0",
        "outputId": "88ec1f18-3754-4591-b06e-4f892feccd1d"
      },
      "outputs": [
        {
          "output_type": "stream",
          "name": "stdout",
          "text": [
            "학습용 데이터 정확도: 1.000\n",
            "시험용 데이터 정확도: 0.734\n"
          ]
        }
      ],
      "source": [
        "from sklearn.tree import DecisionTreeClassifier\n",
        "from sklearn.model_selection import train_test_split\n",
        "\n",
        "X = df.iloc[:, :-1]   #변수 22개\n",
        "y = df.iloc[:, -1]  #target 변수 satisfaction\n",
        "\n",
        "\n",
        "#데이터셋을 학습(train)과 테스트(test) 세트로 분할\n",
        "#random_state : random으로 분할 시 사용되는 난수 seed 숫자\n",
        "\n",
        "X_train, X_test, y_train, y_test = train_test_split(X,y,test_size = 0.25, random_state=42)\n",
        "\n",
        "tree = DecisionTreeClassifier(random_state=0)\n",
        "tree.fit(X_train, y_train)\n",
        "\n",
        "print(\"학습용 데이터 정확도: {:.3f}\".format(tree.score(X_train, y_train)))\n",
        "print(\"시험용 데이터 정확도: {:.3f}\".format(tree.score(X_test, y_test)))"
      ]
    },
    {
      "cell_type": "code",
      "execution_count": 18,
      "metadata": {
        "colab": {
          "base_uri": "https://localhost:8080/"
        },
        "id": "R1LNZHEkQ3QP",
        "outputId": "cdf3accc-bd58-4d55-b678-a49cf1e5cc0a"
      },
      "outputs": [
        {
          "output_type": "stream",
          "name": "stdout",
          "text": [
            "학습용 데이터 정확도: 0.810\n",
            "시험용 데이터 정확도: 0.787\n"
          ]
        }
      ],
      "source": [
        "#의사결정나무의 깊이를 5로 제한 (과적합 줄임)\n",
        "\n",
        "tree = DecisionTreeClassifier(max_depth=5, random_state=0)\n",
        "tree.fit(X_train, y_train)\n",
        "\n",
        "print(\"학습용 데이터 정확도: {:.3f}\".format(tree.score(X_train, y_train)))\n",
        "print(\"시험용 데이터 정확도: {:.3f}\".format(tree.score(X_test, y_test)))"
      ]
    },
    {
      "cell_type": "markdown",
      "metadata": {
        "id": "c3osTPBdY3ev"
      },
      "source": [
        "#의사결정나무\n",
        "##주요변수들\n",
        "- LDL 콜레스테롤 / HDL콜레스테롤 / 트리글리세라이드 가 총콜레스테롤과 가장 연관이 있음을 알 수 있다.\n",
        "- HDL은 혈관벽에 침착되어 있는 콜레스테롤을 포착해 세포로 전달하므로 높을수록 몸에 좋다.\n",
        "LDL은 혈관벽에 축적되면서 다양한 심혈관질환을 일으키므로 낮아야 좋다.\n",
        "- 이를 바탕으로 의사결정나무 결과를 분석해보면 LDL이 134.5 이하인 경우 최종적으로 총콜레스테롤 수치가 정상인 경우가 많고 그 중에서 HDL콜레스테롤이 76.5보다 높은 경우에만 총콜레스테롤 수치가 주의 단계가 되었다.\n",
        "- 의사결정나무 그래프를 바탕으로 중성지방인 트리글리세라이드가 높을 수록 총콜레스테롤 수치도 높게 나옴을 알 수 있다."
      ]
    },
    {
      "cell_type": "code",
      "execution_count": 19,
      "metadata": {
        "colab": {
          "base_uri": "https://localhost:8080/",
          "height": 815
        },
        "id": "Dyp7vjxeMdtB",
        "outputId": "920f8bee-a249-44b9-e40b-0e2badd56a38"
      },
      "outputs": [
        {
          "output_type": "display_data",
          "data": {
            "text/plain": [
              "<graphviz.files.Source at 0x7f71046caa30>"
            ],
            "image/svg+xml": "<?xml version=\"1.0\" encoding=\"UTF-8\" standalone=\"no\"?>\n<!DOCTYPE svg PUBLIC \"-//W3C//DTD SVG 1.1//EN\"\n \"http://www.w3.org/Graphics/SVG/1.1/DTD/svg11.dtd\">\n<!-- Generated by graphviz version 2.40.1 (20161225.0304)\n -->\n<!-- Title: Tree Pages: 1 -->\n<svg width=\"4372pt\" height=\"581pt\"\n viewBox=\"0.00 0.00 4372.00 581.00\" xmlns=\"http://www.w3.org/2000/svg\" xmlns:xlink=\"http://www.w3.org/1999/xlink\">\n<g id=\"graph0\" class=\"graph\" transform=\"scale(1 1) rotate(0) translate(4 577)\">\n<title>Tree</title>\n<polygon fill=\"#ffffff\" stroke=\"transparent\" points=\"-4,4 -4,-577 4368,-577 4368,4 -4,4\"/>\n<!-- 0 -->\n<g id=\"node1\" class=\"node\">\n<title>0</title>\n<polygon fill=\"#e1f0fb\" stroke=\"#000000\" points=\"2186.5,-573 2037.5,-573 2037.5,-505 2186.5,-505 2186.5,-573\"/>\n<text text-anchor=\"middle\" x=\"2112\" y=\"-557.8\" font-family=\"Helvetica,sans-Serif\" font-size=\"14.00\" fill=\"#000000\">Description &lt;= 3.5</text>\n<text text-anchor=\"middle\" x=\"2112\" y=\"-542.8\" font-family=\"Helvetica,sans-Serif\" font-size=\"14.00\" fill=\"#000000\">samples = 8893</text>\n<text text-anchor=\"middle\" x=\"2112\" y=\"-527.8\" font-family=\"Helvetica,sans-Serif\" font-size=\"14.00\" fill=\"#000000\">value = [4088, 4805]</text>\n<text text-anchor=\"middle\" x=\"2112\" y=\"-512.8\" font-family=\"Helvetica,sans-Serif\" font-size=\"14.00\" fill=\"#000000\">class = 만족</text>\n</g>\n<!-- 1 -->\n<g id=\"node2\" class=\"node\">\n<title>1</title>\n<polygon fill=\"#eda978\" stroke=\"#000000\" points=\"1628,-469 1488,-469 1488,-401 1628,-401 1628,-469\"/>\n<text text-anchor=\"middle\" x=\"1558\" y=\"-453.8\" font-family=\"Helvetica,sans-Serif\" font-size=\"14.00\" fill=\"#000000\">SalaryLevel &lt;= 3.5</text>\n<text text-anchor=\"middle\" x=\"1558\" y=\"-438.8\" font-family=\"Helvetica,sans-Serif\" font-size=\"14.00\" fill=\"#000000\">samples = 3723</text>\n<text text-anchor=\"middle\" x=\"1558\" y=\"-423.8\" font-family=\"Helvetica,sans-Serif\" font-size=\"14.00\" fill=\"#000000\">value = [2827, 896]</text>\n<text text-anchor=\"middle\" x=\"1558\" y=\"-408.8\" font-family=\"Helvetica,sans-Serif\" font-size=\"14.00\" fill=\"#000000\">class = 불만족</text>\n</g>\n<!-- 0&#45;&gt;1 -->\n<g id=\"edge1\" class=\"edge\">\n<title>0&#45;&gt;1</title>\n<path fill=\"none\" stroke=\"#000000\" d=\"M2037.2851,-524.9741C1933.1379,-505.423 1745.1051,-470.1244 1638.135,-450.0434\"/>\n<polygon fill=\"#000000\" stroke=\"#000000\" points=\"1638.5157,-446.5538 1628.0416,-448.1486 1637.2242,-453.4336 1638.5157,-446.5538\"/>\n<text text-anchor=\"middle\" x=\"1642.1542\" y=\"-465.0844\" font-family=\"Helvetica,sans-Serif\" font-size=\"14.00\" fill=\"#000000\">True</text>\n</g>\n<!-- 32 -->\n<g id=\"node33\" class=\"node\">\n<title>32</title>\n<polygon fill=\"#79bded\" stroke=\"#000000\" points=\"2705.5,-469 2556.5,-469 2556.5,-401 2705.5,-401 2705.5,-469\"/>\n<text text-anchor=\"middle\" x=\"2631\" y=\"-453.8\" font-family=\"Helvetica,sans-Serif\" font-size=\"14.00\" fill=\"#000000\">Training &lt;= 3.5</text>\n<text text-anchor=\"middle\" x=\"2631\" y=\"-438.8\" font-family=\"Helvetica,sans-Serif\" font-size=\"14.00\" fill=\"#000000\">samples = 5170</text>\n<text text-anchor=\"middle\" x=\"2631\" y=\"-423.8\" font-family=\"Helvetica,sans-Serif\" font-size=\"14.00\" fill=\"#000000\">value = [1261, 3909]</text>\n<text text-anchor=\"middle\" x=\"2631\" y=\"-408.8\" font-family=\"Helvetica,sans-Serif\" font-size=\"14.00\" fill=\"#000000\">class = 만족</text>\n</g>\n<!-- 0&#45;&gt;32 -->\n<g id=\"edge32\" class=\"edge\">\n<title>0&#45;&gt;32</title>\n<path fill=\"none\" stroke=\"#000000\" d=\"M2186.6362,-524.044C2281.9595,-504.9426 2446.5034,-471.9704 2546.3871,-451.9552\"/>\n<polygon fill=\"#000000\" stroke=\"#000000\" points=\"2547.3265,-455.3366 2556.4439,-449.9399 2545.9511,-448.473 2547.3265,-455.3366\"/>\n<text text-anchor=\"middle\" x=\"2542.5841\" y=\"-467.0463\" font-family=\"Helvetica,sans-Serif\" font-size=\"14.00\" fill=\"#000000\">False</text>\n</g>\n<!-- 2 -->\n<g id=\"node3\" class=\"node\">\n<title>2</title>\n<polygon fill=\"#eb9e67\" stroke=\"#000000\" points=\"907,-365 713,-365 713,-297 907,-297 907,-365\"/>\n<text text-anchor=\"middle\" x=\"810\" y=\"-349.8\" font-family=\"Helvetica,sans-Serif\" font-size=\"14.00\" fill=\"#000000\">TurnoverPreparation &lt;= 1.5</text>\n<text text-anchor=\"middle\" x=\"810\" y=\"-334.8\" font-family=\"Helvetica,sans-Serif\" font-size=\"14.00\" fill=\"#000000\">samples = 3149</text>\n<text text-anchor=\"middle\" x=\"810\" y=\"-319.8\" font-family=\"Helvetica,sans-Serif\" font-size=\"14.00\" fill=\"#000000\">value = [2558, 591]</text>\n<text text-anchor=\"middle\" x=\"810\" y=\"-304.8\" font-family=\"Helvetica,sans-Serif\" font-size=\"14.00\" fill=\"#000000\">class = 불만족</text>\n</g>\n<!-- 1&#45;&gt;2 -->\n<g id=\"edge2\" class=\"edge\">\n<title>1&#45;&gt;2</title>\n<path fill=\"none\" stroke=\"#000000\" d=\"M1487.9662,-425.2627C1356.6542,-407.0054 1072.7105,-367.5266 917.1875,-345.9031\"/>\n<polygon fill=\"#000000\" stroke=\"#000000\" points=\"917.5189,-342.4156 907.1322,-344.505 916.5549,-349.3489 917.5189,-342.4156\"/>\n</g>\n<!-- 17 -->\n<g id=\"node18\" class=\"node\">\n<title>17</title>\n<polygon fill=\"#e8f3fc\" stroke=\"#000000\" points=\"1655,-365 1461,-365 1461,-297 1655,-297 1655,-365\"/>\n<text text-anchor=\"middle\" x=\"1558\" y=\"-349.8\" font-family=\"Helvetica,sans-Serif\" font-size=\"14.00\" fill=\"#000000\">TurnoverPreparation &lt;= 1.5</text>\n<text text-anchor=\"middle\" x=\"1558\" y=\"-334.8\" font-family=\"Helvetica,sans-Serif\" font-size=\"14.00\" fill=\"#000000\">samples = 574</text>\n<text text-anchor=\"middle\" x=\"1558\" y=\"-319.8\" font-family=\"Helvetica,sans-Serif\" font-size=\"14.00\" fill=\"#000000\">value = [269, 305]</text>\n<text text-anchor=\"middle\" x=\"1558\" y=\"-304.8\" font-family=\"Helvetica,sans-Serif\" font-size=\"14.00\" fill=\"#000000\">class = 만족</text>\n</g>\n<!-- 1&#45;&gt;17 -->\n<g id=\"edge17\" class=\"edge\">\n<title>1&#45;&gt;17</title>\n<path fill=\"none\" stroke=\"#000000\" d=\"M1558,-400.9465C1558,-392.776 1558,-383.9318 1558,-375.3697\"/>\n<polygon fill=\"#000000\" stroke=\"#000000\" points=\"1561.5001,-375.13 1558,-365.13 1554.5001,-375.13 1561.5001,-375.13\"/>\n</g>\n<!-- 3 -->\n<g id=\"node4\" class=\"node\">\n<title>3</title>\n<polygon fill=\"#e78c4b\" stroke=\"#000000\" points=\"481,-261 341,-261 341,-193 481,-193 481,-261\"/>\n<text text-anchor=\"middle\" x=\"411\" y=\"-245.8\" font-family=\"Helvetica,sans-Serif\" font-size=\"14.00\" fill=\"#000000\">Training &lt;= 3.5</text>\n<text text-anchor=\"middle\" x=\"411\" y=\"-230.8\" font-family=\"Helvetica,sans-Serif\" font-size=\"14.00\" fill=\"#000000\">samples = 1320</text>\n<text text-anchor=\"middle\" x=\"411\" y=\"-215.8\" font-family=\"Helvetica,sans-Serif\" font-size=\"14.00\" fill=\"#000000\">value = [1212, 108]</text>\n<text text-anchor=\"middle\" x=\"411\" y=\"-200.8\" font-family=\"Helvetica,sans-Serif\" font-size=\"14.00\" fill=\"#000000\">class = 불만족</text>\n</g>\n<!-- 2&#45;&gt;3 -->\n<g id=\"edge3\" class=\"edge\">\n<title>2&#45;&gt;3</title>\n<path fill=\"none\" stroke=\"#000000\" d=\"M712.9038,-305.6917C644.9167,-287.9708 555.1606,-264.5757 491.2271,-247.9113\"/>\n<polygon fill=\"#000000\" stroke=\"#000000\" points=\"491.7547,-244.432 481.1952,-245.2965 489.989,-251.2056 491.7547,-244.432\"/>\n</g>\n<!-- 10 -->\n<g id=\"node11\" class=\"node\">\n<title>10</title>\n<polygon fill=\"#eeae80\" stroke=\"#000000\" points=\"880,-261 740,-261 740,-193 880,-193 880,-261\"/>\n<text text-anchor=\"middle\" x=\"810\" y=\"-245.8\" font-family=\"Helvetica,sans-Serif\" font-size=\"14.00\" fill=\"#000000\">Training &lt;= 3.5</text>\n<text text-anchor=\"middle\" x=\"810\" y=\"-230.8\" font-family=\"Helvetica,sans-Serif\" font-size=\"14.00\" fill=\"#000000\">samples = 1829</text>\n<text text-anchor=\"middle\" x=\"810\" y=\"-215.8\" font-family=\"Helvetica,sans-Serif\" font-size=\"14.00\" fill=\"#000000\">value = [1346, 483]</text>\n<text text-anchor=\"middle\" x=\"810\" y=\"-200.8\" font-family=\"Helvetica,sans-Serif\" font-size=\"14.00\" fill=\"#000000\">class = 불만족</text>\n</g>\n<!-- 2&#45;&gt;10 -->\n<g id=\"edge10\" class=\"edge\">\n<title>2&#45;&gt;10</title>\n<path fill=\"none\" stroke=\"#000000\" d=\"M810,-296.9465C810,-288.776 810,-279.9318 810,-271.3697\"/>\n<polygon fill=\"#000000\" stroke=\"#000000\" points=\"813.5001,-271.13 810,-261.13 806.5001,-271.13 813.5001,-271.13\"/>\n</g>\n<!-- 4 -->\n<g id=\"node5\" class=\"node\">\n<title>4</title>\n<polygon fill=\"#e78a47\" stroke=\"#000000\" points=\"281.5,-157 126.5,-157 126.5,-89 281.5,-89 281.5,-157\"/>\n<text text-anchor=\"middle\" x=\"204\" y=\"-141.8\" font-family=\"Helvetica,sans-Serif\" font-size=\"14.00\" fill=\"#000000\">JobReputation &lt;= 4.5</text>\n<text text-anchor=\"middle\" x=\"204\" y=\"-126.8\" font-family=\"Helvetica,sans-Serif\" font-size=\"14.00\" fill=\"#000000\">samples = 1170</text>\n<text text-anchor=\"middle\" x=\"204\" y=\"-111.8\" font-family=\"Helvetica,sans-Serif\" font-size=\"14.00\" fill=\"#000000\">value = [1093, 77]</text>\n<text text-anchor=\"middle\" x=\"204\" y=\"-96.8\" font-family=\"Helvetica,sans-Serif\" font-size=\"14.00\" fill=\"#000000\">class = 불만족</text>\n</g>\n<!-- 3&#45;&gt;4 -->\n<g id=\"edge4\" class=\"edge\">\n<title>3&#45;&gt;4</title>\n<path fill=\"none\" stroke=\"#000000\" d=\"M343.2205,-192.9465C323.2946,-182.9354 301.3554,-171.9129 280.9027,-161.6371\"/>\n<polygon fill=\"#000000\" stroke=\"#000000\" points=\"282.4388,-158.492 271.9318,-157.13 279.2961,-164.7469 282.4388,-158.492\"/>\n</g>\n<!-- 7 -->\n<g id=\"node8\" class=\"node\">\n<title>7</title>\n<polygon fill=\"#eca26d\" stroke=\"#000000\" points=\"474.5,-157 347.5,-157 347.5,-89 474.5,-89 474.5,-157\"/>\n<text text-anchor=\"middle\" x=\"411\" y=\"-141.8\" font-family=\"Helvetica,sans-Serif\" font-size=\"14.00\" fill=\"#000000\">Autonomy &lt;= 3.5</text>\n<text text-anchor=\"middle\" x=\"411\" y=\"-126.8\" font-family=\"Helvetica,sans-Serif\" font-size=\"14.00\" fill=\"#000000\">samples = 150</text>\n<text text-anchor=\"middle\" x=\"411\" y=\"-111.8\" font-family=\"Helvetica,sans-Serif\" font-size=\"14.00\" fill=\"#000000\">value = [119, 31]</text>\n<text text-anchor=\"middle\" x=\"411\" y=\"-96.8\" font-family=\"Helvetica,sans-Serif\" font-size=\"14.00\" fill=\"#000000\">class = 불만족</text>\n</g>\n<!-- 3&#45;&gt;7 -->\n<g id=\"edge7\" class=\"edge\">\n<title>3&#45;&gt;7</title>\n<path fill=\"none\" stroke=\"#000000\" d=\"M411,-192.9465C411,-184.776 411,-175.9318 411,-167.3697\"/>\n<polygon fill=\"#000000\" stroke=\"#000000\" points=\"414.5001,-167.13 411,-157.13 407.5001,-167.13 414.5001,-167.13\"/>\n</g>\n<!-- 5 -->\n<g id=\"node6\" class=\"node\">\n<title>5</title>\n<polygon fill=\"#e78946\" stroke=\"#000000\" points=\"132,-53 0,-53 0,0 132,0 132,-53\"/>\n<text text-anchor=\"middle\" x=\"66\" y=\"-37.8\" font-family=\"Helvetica,sans-Serif\" font-size=\"14.00\" fill=\"#000000\">samples = 1149</text>\n<text text-anchor=\"middle\" x=\"66\" y=\"-22.8\" font-family=\"Helvetica,sans-Serif\" font-size=\"14.00\" fill=\"#000000\">value = [1078, 71]</text>\n<text text-anchor=\"middle\" x=\"66\" y=\"-7.8\" font-family=\"Helvetica,sans-Serif\" font-size=\"14.00\" fill=\"#000000\">class = 불만족</text>\n</g>\n<!-- 4&#45;&gt;5 -->\n<g id=\"edge5\" class=\"edge\">\n<title>4&#45;&gt;5</title>\n<path fill=\"none\" stroke=\"#000000\" d=\"M155.3464,-88.9777C141.4657,-79.2713 126.3786,-68.7213 112.6223,-59.1018\"/>\n<polygon fill=\"#000000\" stroke=\"#000000\" points=\"114.4526,-56.1109 104.2517,-53.2485 110.4411,-61.8475 114.4526,-56.1109\"/>\n</g>\n<!-- 6 -->\n<g id=\"node7\" class=\"node\">\n<title>6</title>\n<polygon fill=\"#efb388\" stroke=\"#000000\" points=\"257.5,-53 150.5,-53 150.5,0 257.5,0 257.5,-53\"/>\n<text text-anchor=\"middle\" x=\"204\" y=\"-37.8\" font-family=\"Helvetica,sans-Serif\" font-size=\"14.00\" fill=\"#000000\">samples = 21</text>\n<text text-anchor=\"middle\" x=\"204\" y=\"-22.8\" font-family=\"Helvetica,sans-Serif\" font-size=\"14.00\" fill=\"#000000\">value = [15, 6]</text>\n<text text-anchor=\"middle\" x=\"204\" y=\"-7.8\" font-family=\"Helvetica,sans-Serif\" font-size=\"14.00\" fill=\"#000000\">class = 불만족</text>\n</g>\n<!-- 4&#45;&gt;6 -->\n<g id=\"edge6\" class=\"edge\">\n<title>4&#45;&gt;6</title>\n<path fill=\"none\" stroke=\"#000000\" d=\"M204,-88.9777C204,-80.7364 204,-71.887 204,-63.5153\"/>\n<polygon fill=\"#000000\" stroke=\"#000000\" points=\"207.5001,-63.2484 204,-53.2485 200.5001,-63.2485 207.5001,-63.2484\"/>\n</g>\n<!-- 8 -->\n<g id=\"node9\" class=\"node\">\n<title>8</title>\n<polygon fill=\"#e78b48\" stroke=\"#000000\" points=\"382.5,-53 275.5,-53 275.5,0 382.5,0 382.5,-53\"/>\n<text text-anchor=\"middle\" x=\"329\" y=\"-37.8\" font-family=\"Helvetica,sans-Serif\" font-size=\"14.00\" fill=\"#000000\">samples = 84</text>\n<text text-anchor=\"middle\" x=\"329\" y=\"-22.8\" font-family=\"Helvetica,sans-Serif\" font-size=\"14.00\" fill=\"#000000\">value = [78, 6]</text>\n<text text-anchor=\"middle\" x=\"329\" y=\"-7.8\" font-family=\"Helvetica,sans-Serif\" font-size=\"14.00\" fill=\"#000000\">class = 불만족</text>\n</g>\n<!-- 7&#45;&gt;8 -->\n<g id=\"edge8\" class=\"edge\">\n<title>7&#45;&gt;8</title>\n<path fill=\"none\" stroke=\"#000000\" d=\"M382.0899,-88.9777C374.3866,-79.9123 366.0581,-70.111 358.3324,-61.0192\"/>\n<polygon fill=\"#000000\" stroke=\"#000000\" points=\"360.8718,-58.6025 351.7293,-53.2485 355.5375,-63.1352 360.8718,-58.6025\"/>\n</g>\n<!-- 9 -->\n<g id=\"node10\" class=\"node\">\n<title>9</title>\n<polygon fill=\"#f5ceb2\" stroke=\"#000000\" points=\"517,-53 401,-53 401,0 517,0 517,-53\"/>\n<text text-anchor=\"middle\" x=\"459\" y=\"-37.8\" font-family=\"Helvetica,sans-Serif\" font-size=\"14.00\" fill=\"#000000\">samples = 66</text>\n<text text-anchor=\"middle\" x=\"459\" y=\"-22.8\" font-family=\"Helvetica,sans-Serif\" font-size=\"14.00\" fill=\"#000000\">value = [41, 25]</text>\n<text text-anchor=\"middle\" x=\"459\" y=\"-7.8\" font-family=\"Helvetica,sans-Serif\" font-size=\"14.00\" fill=\"#000000\">class = 불만족</text>\n</g>\n<!-- 7&#45;&gt;9 -->\n<g id=\"edge9\" class=\"edge\">\n<title>7&#45;&gt;9</title>\n<path fill=\"none\" stroke=\"#000000\" d=\"M427.923,-88.9777C432.2045,-80.3702 436.816,-71.0992 441.142,-62.402\"/>\n<polygon fill=\"#000000\" stroke=\"#000000\" points=\"444.3752,-63.7608 445.6951,-53.2485 438.1077,-60.6433 444.3752,-63.7608\"/>\n</g>\n<!-- 11 -->\n<g id=\"node12\" class=\"node\">\n<title>11</title>\n<polygon fill=\"#eda673\" stroke=\"#000000\" points=\"803,-157 663,-157 663,-89 803,-89 803,-157\"/>\n<text text-anchor=\"middle\" x=\"733\" y=\"-141.8\" font-family=\"Helvetica,sans-Serif\" font-size=\"14.00\" fill=\"#000000\">Stability &lt;= 1.5</text>\n<text text-anchor=\"middle\" x=\"733\" y=\"-126.8\" font-family=\"Helvetica,sans-Serif\" font-size=\"14.00\" fill=\"#000000\">samples = 1560</text>\n<text text-anchor=\"middle\" x=\"733\" y=\"-111.8\" font-family=\"Helvetica,sans-Serif\" font-size=\"14.00\" fill=\"#000000\">value = [1208, 352]</text>\n<text text-anchor=\"middle\" x=\"733\" y=\"-96.8\" font-family=\"Helvetica,sans-Serif\" font-size=\"14.00\" fill=\"#000000\">class = 불만족</text>\n</g>\n<!-- 10&#45;&gt;11 -->\n<g id=\"edge11\" class=\"edge\">\n<title>10&#45;&gt;11</title>\n<path fill=\"none\" stroke=\"#000000\" d=\"M784.7873,-192.9465C778.2727,-184.1475 771.1795,-174.5672 764.3918,-165.3993\"/>\n<polygon fill=\"#000000\" stroke=\"#000000\" points=\"767.0327,-163.0843 758.2693,-157.13 761.4069,-167.2496 767.0327,-163.0843\"/>\n</g>\n<!-- 14 -->\n<g id=\"node15\" class=\"node\">\n<title>14</title>\n<polygon fill=\"#fef9f5\" stroke=\"#000000\" points=\"953,-157 821,-157 821,-89 953,-89 953,-157\"/>\n<text text-anchor=\"middle\" x=\"887\" y=\"-141.8\" font-family=\"Helvetica,sans-Serif\" font-size=\"14.00\" fill=\"#000000\">Time &lt;= 2.5</text>\n<text text-anchor=\"middle\" x=\"887\" y=\"-126.8\" font-family=\"Helvetica,sans-Serif\" font-size=\"14.00\" fill=\"#000000\">samples = 269</text>\n<text text-anchor=\"middle\" x=\"887\" y=\"-111.8\" font-family=\"Helvetica,sans-Serif\" font-size=\"14.00\" fill=\"#000000\">value = [138, 131]</text>\n<text text-anchor=\"middle\" x=\"887\" y=\"-96.8\" font-family=\"Helvetica,sans-Serif\" font-size=\"14.00\" fill=\"#000000\">class = 불만족</text>\n</g>\n<!-- 10&#45;&gt;14 -->\n<g id=\"edge14\" class=\"edge\">\n<title>10&#45;&gt;14</title>\n<path fill=\"none\" stroke=\"#000000\" d=\"M835.2127,-192.9465C841.7273,-184.1475 848.8205,-174.5672 855.6082,-165.3993\"/>\n<polygon fill=\"#000000\" stroke=\"#000000\" points=\"858.5931,-167.2496 861.7307,-157.13 852.9673,-163.0843 858.5931,-167.2496\"/>\n</g>\n<!-- 12 -->\n<g id=\"node13\" class=\"node\">\n<title>12</title>\n<polygon fill=\"#cfe7f9\" stroke=\"#000000\" points=\"651,-53 535,-53 535,0 651,0 651,-53\"/>\n<text text-anchor=\"middle\" x=\"593\" y=\"-37.8\" font-family=\"Helvetica,sans-Serif\" font-size=\"14.00\" fill=\"#000000\">samples = 123</text>\n<text text-anchor=\"middle\" x=\"593\" y=\"-22.8\" font-family=\"Helvetica,sans-Serif\" font-size=\"14.00\" fill=\"#000000\">value = [53, 70]</text>\n<text text-anchor=\"middle\" x=\"593\" y=\"-7.8\" font-family=\"Helvetica,sans-Serif\" font-size=\"14.00\" fill=\"#000000\">class = 만족</text>\n</g>\n<!-- 11&#45;&gt;12 -->\n<g id=\"edge12\" class=\"edge\">\n<title>11&#45;&gt;12</title>\n<path fill=\"none\" stroke=\"#000000\" d=\"M683.6412,-88.9777C669.5594,-79.2713 654.2537,-68.7213 640.298,-59.1018\"/>\n<polygon fill=\"#000000\" stroke=\"#000000\" points=\"642.026,-56.042 631.8061,-53.2485 638.0533,-61.8055 642.026,-56.042\"/>\n</g>\n<!-- 13 -->\n<g id=\"node14\" class=\"node\">\n<title>13</title>\n<polygon fill=\"#eba069\" stroke=\"#000000\" points=\"809,-53 669,-53 669,0 809,0 809,-53\"/>\n<text text-anchor=\"middle\" x=\"739\" y=\"-37.8\" font-family=\"Helvetica,sans-Serif\" font-size=\"14.00\" fill=\"#000000\">samples = 1437</text>\n<text text-anchor=\"middle\" x=\"739\" y=\"-22.8\" font-family=\"Helvetica,sans-Serif\" font-size=\"14.00\" fill=\"#000000\">value = [1155, 282]</text>\n<text text-anchor=\"middle\" x=\"739\" y=\"-7.8\" font-family=\"Helvetica,sans-Serif\" font-size=\"14.00\" fill=\"#000000\">class = 불만족</text>\n</g>\n<!-- 11&#45;&gt;13 -->\n<g id=\"edge13\" class=\"edge\">\n<title>11&#45;&gt;13</title>\n<path fill=\"none\" stroke=\"#000000\" d=\"M735.1154,-88.9777C735.6335,-80.6449 736.1902,-71.6903 736.7159,-63.2364\"/>\n<polygon fill=\"#000000\" stroke=\"#000000\" points=\"740.2095,-63.4464 737.3369,-53.2485 733.223,-63.012 740.2095,-63.4464\"/>\n</g>\n<!-- 15 -->\n<g id=\"node16\" class=\"node\">\n<title>15</title>\n<polygon fill=\"#e99559\" stroke=\"#000000\" points=\"934.5,-53 827.5,-53 827.5,0 934.5,0 934.5,-53\"/>\n<text text-anchor=\"middle\" x=\"881\" y=\"-37.8\" font-family=\"Helvetica,sans-Serif\" font-size=\"14.00\" fill=\"#000000\">samples = 36</text>\n<text text-anchor=\"middle\" x=\"881\" y=\"-22.8\" font-family=\"Helvetica,sans-Serif\" font-size=\"14.00\" fill=\"#000000\">value = [31, 5]</text>\n<text text-anchor=\"middle\" x=\"881\" y=\"-7.8\" font-family=\"Helvetica,sans-Serif\" font-size=\"14.00\" fill=\"#000000\">class = 불만족</text>\n</g>\n<!-- 14&#45;&gt;15 -->\n<g id=\"edge15\" class=\"edge\">\n<title>14&#45;&gt;15</title>\n<path fill=\"none\" stroke=\"#000000\" d=\"M884.8846,-88.9777C884.3665,-80.6449 883.8098,-71.6903 883.2841,-63.2364\"/>\n<polygon fill=\"#000000\" stroke=\"#000000\" points=\"886.777,-63.012 882.6631,-53.2485 879.7905,-63.4464 886.777,-63.012\"/>\n</g>\n<!-- 16 -->\n<g id=\"node17\" class=\"node\">\n<title>16</title>\n<polygon fill=\"#e1f0fb\" stroke=\"#000000\" points=\"1085,-53 953,-53 953,0 1085,0 1085,-53\"/>\n<text text-anchor=\"middle\" x=\"1019\" y=\"-37.8\" font-family=\"Helvetica,sans-Serif\" font-size=\"14.00\" fill=\"#000000\">samples = 233</text>\n<text text-anchor=\"middle\" x=\"1019\" y=\"-22.8\" font-family=\"Helvetica,sans-Serif\" font-size=\"14.00\" fill=\"#000000\">value = [107, 126]</text>\n<text text-anchor=\"middle\" x=\"1019\" y=\"-7.8\" font-family=\"Helvetica,sans-Serif\" font-size=\"14.00\" fill=\"#000000\">class = 만족</text>\n</g>\n<!-- 14&#45;&gt;16 -->\n<g id=\"edge16\" class=\"edge\">\n<title>14&#45;&gt;16</title>\n<path fill=\"none\" stroke=\"#000000\" d=\"M933.5383,-88.9777C946.6901,-79.3629 960.9743,-68.9203 974.032,-59.3743\"/>\n<polygon fill=\"#000000\" stroke=\"#000000\" points=\"976.4042,-61.9757 982.4114,-53.2485 972.273,-56.3247 976.4042,-61.9757\"/>\n</g>\n<!-- 18 -->\n<g id=\"node19\" class=\"node\">\n<title>18</title>\n<polygon fill=\"#efb286\" stroke=\"#000000\" points=\"1557,-261 1433,-261 1433,-193 1557,-193 1557,-261\"/>\n<text text-anchor=\"middle\" x=\"1495\" y=\"-245.8\" font-family=\"Helvetica,sans-Serif\" font-size=\"14.00\" fill=\"#000000\">Training &lt;= 2.5</text>\n<text text-anchor=\"middle\" x=\"1495\" y=\"-230.8\" font-family=\"Helvetica,sans-Serif\" font-size=\"14.00\" fill=\"#000000\">samples = 179</text>\n<text text-anchor=\"middle\" x=\"1495\" y=\"-215.8\" font-family=\"Helvetica,sans-Serif\" font-size=\"14.00\" fill=\"#000000\">value = [129, 50]</text>\n<text text-anchor=\"middle\" x=\"1495\" y=\"-200.8\" font-family=\"Helvetica,sans-Serif\" font-size=\"14.00\" fill=\"#000000\">class = 불만족</text>\n</g>\n<!-- 17&#45;&gt;18 -->\n<g id=\"edge18\" class=\"edge\">\n<title>17&#45;&gt;18</title>\n<path fill=\"none\" stroke=\"#000000\" d=\"M1537.3714,-296.9465C1532.1501,-288.3271 1526.4745,-278.9579 1521.0245,-269.9611\"/>\n<polygon fill=\"#000000\" stroke=\"#000000\" points=\"1523.8497,-267.8697 1515.6749,-261.13 1517.8626,-271.4965 1523.8497,-267.8697\"/>\n</g>\n<!-- 25 -->\n<g id=\"node26\" class=\"node\">\n<title>25</title>\n<polygon fill=\"#a6d3f3\" stroke=\"#000000\" points=\"1804,-261 1632,-261 1632,-193 1804,-193 1804,-261\"/>\n<text text-anchor=\"middle\" x=\"1718\" y=\"-245.8\" font-family=\"Helvetica,sans-Serif\" font-size=\"14.00\" fill=\"#000000\">SelfDevelopment &lt;= 3.5</text>\n<text text-anchor=\"middle\" x=\"1718\" y=\"-230.8\" font-family=\"Helvetica,sans-Serif\" font-size=\"14.00\" fill=\"#000000\">samples = 395</text>\n<text text-anchor=\"middle\" x=\"1718\" y=\"-215.8\" font-family=\"Helvetica,sans-Serif\" font-size=\"14.00\" fill=\"#000000\">value = [140, 255]</text>\n<text text-anchor=\"middle\" x=\"1718\" y=\"-200.8\" font-family=\"Helvetica,sans-Serif\" font-size=\"14.00\" fill=\"#000000\">class = 만족</text>\n</g>\n<!-- 17&#45;&gt;25 -->\n<g id=\"edge25\" class=\"edge\">\n<title>17&#45;&gt;25</title>\n<path fill=\"none\" stroke=\"#000000\" d=\"M1610.39,-296.9465C1625.3082,-287.2497 1641.6864,-276.6039 1657.0662,-266.6069\"/>\n<polygon fill=\"#000000\" stroke=\"#000000\" points=\"1659.0153,-269.5145 1665.4923,-261.13 1655.2004,-263.6454 1659.0153,-269.5145\"/>\n</g>\n<!-- 19 -->\n<g id=\"node20\" class=\"node\">\n<title>19</title>\n<polygon fill=\"#e78c4a\" stroke=\"#000000\" points=\"1370,-157 1194,-157 1194,-89 1370,-89 1370,-157\"/>\n<text text-anchor=\"middle\" x=\"1282\" y=\"-141.8\" font-family=\"Helvetica,sans-Serif\" font-size=\"14.00\" fill=\"#000000\">MonthlyIncome &lt;= 259.5</text>\n<text text-anchor=\"middle\" x=\"1282\" y=\"-126.8\" font-family=\"Helvetica,sans-Serif\" font-size=\"14.00\" fill=\"#000000\">samples = 62</text>\n<text text-anchor=\"middle\" x=\"1282\" y=\"-111.8\" font-family=\"Helvetica,sans-Serif\" font-size=\"14.00\" fill=\"#000000\">value = [57, 5]</text>\n<text text-anchor=\"middle\" x=\"1282\" y=\"-96.8\" font-family=\"Helvetica,sans-Serif\" font-size=\"14.00\" fill=\"#000000\">class = 불만족</text>\n</g>\n<!-- 18&#45;&gt;19 -->\n<g id=\"edge19\" class=\"edge\">\n<title>18&#45;&gt;19</title>\n<path fill=\"none\" stroke=\"#000000\" d=\"M1432.819,-196.6393C1410.2803,-185.6345 1384.5184,-173.0559 1360.741,-161.4463\"/>\n<polygon fill=\"#000000\" stroke=\"#000000\" points=\"1362.2578,-158.292 1351.7361,-157.0496 1359.1865,-164.5823 1362.2578,-158.292\"/>\n</g>\n<!-- 22 -->\n<g id=\"node23\" class=\"node\">\n<title>22</title>\n<polygon fill=\"#f5d0b5\" stroke=\"#000000\" points=\"1558.5,-157 1431.5,-157 1431.5,-89 1558.5,-89 1558.5,-157\"/>\n<text text-anchor=\"middle\" x=\"1495\" y=\"-141.8\" font-family=\"Helvetica,sans-Serif\" font-size=\"14.00\" fill=\"#000000\">Autonomy &lt;= 4.5</text>\n<text text-anchor=\"middle\" x=\"1495\" y=\"-126.8\" font-family=\"Helvetica,sans-Serif\" font-size=\"14.00\" fill=\"#000000\">samples = 117</text>\n<text text-anchor=\"middle\" x=\"1495\" y=\"-111.8\" font-family=\"Helvetica,sans-Serif\" font-size=\"14.00\" fill=\"#000000\">value = [72, 45]</text>\n<text text-anchor=\"middle\" x=\"1495\" y=\"-96.8\" font-family=\"Helvetica,sans-Serif\" font-size=\"14.00\" fill=\"#000000\">class = 불만족</text>\n</g>\n<!-- 18&#45;&gt;22 -->\n<g id=\"edge22\" class=\"edge\">\n<title>18&#45;&gt;22</title>\n<path fill=\"none\" stroke=\"#000000\" d=\"M1495,-192.9465C1495,-184.776 1495,-175.9318 1495,-167.3697\"/>\n<polygon fill=\"#000000\" stroke=\"#000000\" points=\"1498.5001,-167.13 1495,-157.13 1491.5001,-167.13 1498.5001,-167.13\"/>\n</g>\n<!-- 20 -->\n<g id=\"node21\" class=\"node\">\n<title>20</title>\n<polygon fill=\"#ea995f\" stroke=\"#000000\" points=\"1210.5,-53 1103.5,-53 1103.5,0 1210.5,0 1210.5,-53\"/>\n<text text-anchor=\"middle\" x=\"1157\" y=\"-37.8\" font-family=\"Helvetica,sans-Serif\" font-size=\"14.00\" fill=\"#000000\">samples = 31</text>\n<text text-anchor=\"middle\" x=\"1157\" y=\"-22.8\" font-family=\"Helvetica,sans-Serif\" font-size=\"14.00\" fill=\"#000000\">value = [26, 5]</text>\n<text text-anchor=\"middle\" x=\"1157\" y=\"-7.8\" font-family=\"Helvetica,sans-Serif\" font-size=\"14.00\" fill=\"#000000\">class = 불만족</text>\n</g>\n<!-- 19&#45;&gt;20 -->\n<g id=\"edge20\" class=\"edge\">\n<title>19&#45;&gt;20</title>\n<path fill=\"none\" stroke=\"#000000\" d=\"M1237.9297,-88.9777C1225.4752,-79.3629 1211.9485,-68.9203 1199.5833,-59.3743\"/>\n<polygon fill=\"#000000\" stroke=\"#000000\" points=\"1201.7028,-56.5889 1191.6483,-53.2485 1197.4251,-62.1299 1201.7028,-56.5889\"/>\n</g>\n<!-- 21 -->\n<g id=\"node22\" class=\"node\">\n<title>21</title>\n<polygon fill=\"#e58139\" stroke=\"#000000\" points=\"1335.5,-53 1228.5,-53 1228.5,0 1335.5,0 1335.5,-53\"/>\n<text text-anchor=\"middle\" x=\"1282\" y=\"-37.8\" font-family=\"Helvetica,sans-Serif\" font-size=\"14.00\" fill=\"#000000\">samples = 31</text>\n<text text-anchor=\"middle\" x=\"1282\" y=\"-22.8\" font-family=\"Helvetica,sans-Serif\" font-size=\"14.00\" fill=\"#000000\">value = [31, 0]</text>\n<text text-anchor=\"middle\" x=\"1282\" y=\"-7.8\" font-family=\"Helvetica,sans-Serif\" font-size=\"14.00\" fill=\"#000000\">class = 불만족</text>\n</g>\n<!-- 19&#45;&gt;21 -->\n<g id=\"edge21\" class=\"edge\">\n<title>19&#45;&gt;21</title>\n<path fill=\"none\" stroke=\"#000000\" d=\"M1282,-88.9777C1282,-80.7364 1282,-71.887 1282,-63.5153\"/>\n<polygon fill=\"#000000\" stroke=\"#000000\" points=\"1285.5001,-63.2484 1282,-53.2485 1278.5001,-63.2485 1285.5001,-63.2484\"/>\n</g>\n<!-- 23 -->\n<g id=\"node24\" class=\"node\">\n<title>23</title>\n<polygon fill=\"#f3c5a4\" stroke=\"#000000\" points=\"1470,-53 1354,-53 1354,0 1470,0 1470,-53\"/>\n<text text-anchor=\"middle\" x=\"1412\" y=\"-37.8\" font-family=\"Helvetica,sans-Serif\" font-size=\"14.00\" fill=\"#000000\">samples = 111</text>\n<text text-anchor=\"middle\" x=\"1412\" y=\"-22.8\" font-family=\"Helvetica,sans-Serif\" font-size=\"14.00\" fill=\"#000000\">value = [72, 39]</text>\n<text text-anchor=\"middle\" x=\"1412\" y=\"-7.8\" font-family=\"Helvetica,sans-Serif\" font-size=\"14.00\" fill=\"#000000\">class = 불만족</text>\n</g>\n<!-- 22&#45;&gt;23 -->\n<g id=\"edge23\" class=\"edge\">\n<title>22&#45;&gt;23</title>\n<path fill=\"none\" stroke=\"#000000\" d=\"M1465.7373,-88.9777C1457.9401,-79.9123 1449.51,-70.111 1441.6901,-61.0192\"/>\n<polygon fill=\"#000000\" stroke=\"#000000\" points=\"1444.1809,-58.5477 1435.0065,-53.2485 1438.8738,-63.1123 1444.1809,-58.5477\"/>\n</g>\n<!-- 24 -->\n<g id=\"node25\" class=\"node\">\n<title>24</title>\n<polygon fill=\"#399de5\" stroke=\"#000000\" points=\"1587.5,-53 1488.5,-53 1488.5,0 1587.5,0 1587.5,-53\"/>\n<text text-anchor=\"middle\" x=\"1538\" y=\"-37.8\" font-family=\"Helvetica,sans-Serif\" font-size=\"14.00\" fill=\"#000000\">samples = 6</text>\n<text text-anchor=\"middle\" x=\"1538\" y=\"-22.8\" font-family=\"Helvetica,sans-Serif\" font-size=\"14.00\" fill=\"#000000\">value = [0, 6]</text>\n<text text-anchor=\"middle\" x=\"1538\" y=\"-7.8\" font-family=\"Helvetica,sans-Serif\" font-size=\"14.00\" fill=\"#000000\">class = 만족</text>\n</g>\n<!-- 22&#45;&gt;24 -->\n<g id=\"edge24\" class=\"edge\">\n<title>22&#45;&gt;24</title>\n<path fill=\"none\" stroke=\"#000000\" d=\"M1510.1602,-88.9777C1513.9957,-80.3702 1518.1268,-71.0992 1522.0022,-62.402\"/>\n<polygon fill=\"#000000\" stroke=\"#000000\" points=\"1525.2077,-63.8073 1526.081,-53.2485 1518.8138,-60.9581 1525.2077,-63.8073\"/>\n</g>\n<!-- 26 -->\n<g id=\"node27\" class=\"node\">\n<title>26</title>\n<polygon fill=\"#e6f3fc\" stroke=\"#000000\" points=\"1784,-157 1652,-157 1652,-89 1784,-89 1784,-157\"/>\n<text text-anchor=\"middle\" x=\"1718\" y=\"-141.8\" font-family=\"Helvetica,sans-Serif\" font-size=\"14.00\" fill=\"#000000\">Benefits &lt;= 3.5</text>\n<text text-anchor=\"middle\" x=\"1718\" y=\"-126.8\" font-family=\"Helvetica,sans-Serif\" font-size=\"14.00\" fill=\"#000000\">samples = 227</text>\n<text text-anchor=\"middle\" x=\"1718\" y=\"-111.8\" font-family=\"Helvetica,sans-Serif\" font-size=\"14.00\" fill=\"#000000\">value = [106, 121]</text>\n<text text-anchor=\"middle\" x=\"1718\" y=\"-96.8\" font-family=\"Helvetica,sans-Serif\" font-size=\"14.00\" fill=\"#000000\">class = 만족</text>\n</g>\n<!-- 25&#45;&gt;26 -->\n<g id=\"edge26\" class=\"edge\">\n<title>25&#45;&gt;26</title>\n<path fill=\"none\" stroke=\"#000000\" d=\"M1718,-192.9465C1718,-184.776 1718,-175.9318 1718,-167.3697\"/>\n<polygon fill=\"#000000\" stroke=\"#000000\" points=\"1721.5001,-167.13 1718,-157.13 1714.5001,-167.13 1721.5001,-167.13\"/>\n</g>\n<!-- 29 -->\n<g id=\"node30\" class=\"node\">\n<title>29</title>\n<polygon fill=\"#6bb6ec\" stroke=\"#000000\" points=\"1999.5,-157 1856.5,-157 1856.5,-89 1999.5,-89 1999.5,-157\"/>\n<text text-anchor=\"middle\" x=\"1928\" y=\"-141.8\" font-family=\"Helvetica,sans-Serif\" font-size=\"14.00\" fill=\"#000000\">Environment &lt;= 2.5</text>\n<text text-anchor=\"middle\" x=\"1928\" y=\"-126.8\" font-family=\"Helvetica,sans-Serif\" font-size=\"14.00\" fill=\"#000000\">samples = 168</text>\n<text text-anchor=\"middle\" x=\"1928\" y=\"-111.8\" font-family=\"Helvetica,sans-Serif\" font-size=\"14.00\" fill=\"#000000\">value = [34, 134]</text>\n<text text-anchor=\"middle\" x=\"1928\" y=\"-96.8\" font-family=\"Helvetica,sans-Serif\" font-size=\"14.00\" fill=\"#000000\">class = 만족</text>\n</g>\n<!-- 25&#45;&gt;29 -->\n<g id=\"edge29\" class=\"edge\">\n<title>25&#45;&gt;29</title>\n<path fill=\"none\" stroke=\"#000000\" d=\"M1786.7619,-192.9465C1806.9765,-182.9354 1829.2336,-171.9129 1849.9828,-161.6371\"/>\n<polygon fill=\"#000000\" stroke=\"#000000\" points=\"1851.6757,-164.7045 1859.0837,-157.13 1848.5691,-158.4316 1851.6757,-164.7045\"/>\n</g>\n<!-- 27 -->\n<g id=\"node28\" class=\"node\">\n<title>27</title>\n<polygon fill=\"#f8ddca\" stroke=\"#000000\" points=\"1722,-53 1606,-53 1606,0 1722,0 1722,-53\"/>\n<text text-anchor=\"middle\" x=\"1664\" y=\"-37.8\" font-family=\"Helvetica,sans-Serif\" font-size=\"14.00\" fill=\"#000000\">samples = 123</text>\n<text text-anchor=\"middle\" x=\"1664\" y=\"-22.8\" font-family=\"Helvetica,sans-Serif\" font-size=\"14.00\" fill=\"#000000\">value = [71, 52]</text>\n<text text-anchor=\"middle\" x=\"1664\" y=\"-7.8\" font-family=\"Helvetica,sans-Serif\" font-size=\"14.00\" fill=\"#000000\">class = 불만족</text>\n</g>\n<!-- 26&#45;&gt;27 -->\n<g id=\"edge27\" class=\"edge\">\n<title>26&#45;&gt;27</title>\n<path fill=\"none\" stroke=\"#000000\" d=\"M1698.9616,-88.9777C1694.0937,-80.2786 1688.8466,-70.9018 1683.935,-62.1247\"/>\n<polygon fill=\"#000000\" stroke=\"#000000\" points=\"1686.9057,-60.2659 1678.9681,-53.2485 1680.7971,-63.6843 1686.9057,-60.2659\"/>\n</g>\n<!-- 28 -->\n<g id=\"node29\" class=\"node\">\n<title>28</title>\n<polygon fill=\"#9dcff2\" stroke=\"#000000\" points=\"1856,-53 1740,-53 1740,0 1856,0 1856,-53\"/>\n<text text-anchor=\"middle\" x=\"1798\" y=\"-37.8\" font-family=\"Helvetica,sans-Serif\" font-size=\"14.00\" fill=\"#000000\">samples = 104</text>\n<text text-anchor=\"middle\" x=\"1798\" y=\"-22.8\" font-family=\"Helvetica,sans-Serif\" font-size=\"14.00\" fill=\"#000000\">value = [35, 69]</text>\n<text text-anchor=\"middle\" x=\"1798\" y=\"-7.8\" font-family=\"Helvetica,sans-Serif\" font-size=\"14.00\" fill=\"#000000\">class = 만족</text>\n</g>\n<!-- 26&#45;&gt;28 -->\n<g id=\"edge28\" class=\"edge\">\n<title>26&#45;&gt;28</title>\n<path fill=\"none\" stroke=\"#000000\" d=\"M1746.205,-88.9777C1753.7204,-79.9123 1761.8458,-70.111 1769.383,-61.0192\"/>\n<polygon fill=\"#000000\" stroke=\"#000000\" points=\"1772.1374,-63.1808 1775.8251,-53.2485 1766.7484,-58.7133 1772.1374,-63.1808\"/>\n</g>\n<!-- 30 -->\n<g id=\"node31\" class=\"node\">\n<title>30</title>\n<polygon fill=\"#f6d5bd\" stroke=\"#000000\" points=\"1981.5,-53 1874.5,-53 1874.5,0 1981.5,0 1981.5,-53\"/>\n<text text-anchor=\"middle\" x=\"1928\" y=\"-37.8\" font-family=\"Helvetica,sans-Serif\" font-size=\"14.00\" fill=\"#000000\">samples = 10</text>\n<text text-anchor=\"middle\" x=\"1928\" y=\"-22.8\" font-family=\"Helvetica,sans-Serif\" font-size=\"14.00\" fill=\"#000000\">value = [6, 4]</text>\n<text text-anchor=\"middle\" x=\"1928\" y=\"-7.8\" font-family=\"Helvetica,sans-Serif\" font-size=\"14.00\" fill=\"#000000\">class = 불만족</text>\n</g>\n<!-- 29&#45;&gt;30 -->\n<g id=\"edge30\" class=\"edge\">\n<title>29&#45;&gt;30</title>\n<path fill=\"none\" stroke=\"#000000\" d=\"M1928,-88.9777C1928,-80.7364 1928,-71.887 1928,-63.5153\"/>\n<polygon fill=\"#000000\" stroke=\"#000000\" points=\"1931.5001,-63.2484 1928,-53.2485 1924.5001,-63.2485 1931.5001,-63.2484\"/>\n</g>\n<!-- 31 -->\n<g id=\"node32\" class=\"node\">\n<title>31</title>\n<polygon fill=\"#64b2eb\" stroke=\"#000000\" points=\"2124,-53 2000,-53 2000,0 2124,0 2124,-53\"/>\n<text text-anchor=\"middle\" x=\"2062\" y=\"-37.8\" font-family=\"Helvetica,sans-Serif\" font-size=\"14.00\" fill=\"#000000\">samples = 158</text>\n<text text-anchor=\"middle\" x=\"2062\" y=\"-22.8\" font-family=\"Helvetica,sans-Serif\" font-size=\"14.00\" fill=\"#000000\">value = [28, 130]</text>\n<text text-anchor=\"middle\" x=\"2062\" y=\"-7.8\" font-family=\"Helvetica,sans-Serif\" font-size=\"14.00\" fill=\"#000000\">class = 만족</text>\n</g>\n<!-- 29&#45;&gt;31 -->\n<g id=\"edge31\" class=\"edge\">\n<title>29&#45;&gt;31</title>\n<path fill=\"none\" stroke=\"#000000\" d=\"M1975.2434,-88.9777C1988.7217,-79.2713 2003.3715,-68.7213 2016.7291,-59.1018\"/>\n<polygon fill=\"#000000\" stroke=\"#000000\" points=\"2018.7876,-61.9325 2024.857,-53.2485 2014.6969,-56.2522 2018.7876,-61.9325\"/>\n</g>\n<!-- 33 -->\n<g id=\"node34\" class=\"node\">\n<title>33</title>\n<polygon fill=\"#e0f0fb\" stroke=\"#000000\" points=\"2699.5,-365 2562.5,-365 2562.5,-297 2699.5,-297 2699.5,-365\"/>\n<text text-anchor=\"middle\" x=\"2631\" y=\"-349.8\" font-family=\"Helvetica,sans-Serif\" font-size=\"14.00\" fill=\"#000000\">SalaryLevel &lt;= 3.5</text>\n<text text-anchor=\"middle\" x=\"2631\" y=\"-334.8\" font-family=\"Helvetica,sans-Serif\" font-size=\"14.00\" fill=\"#000000\">samples = 1691</text>\n<text text-anchor=\"middle\" x=\"2631\" y=\"-319.8\" font-family=\"Helvetica,sans-Serif\" font-size=\"14.00\" fill=\"#000000\">value = [774, 917]</text>\n<text text-anchor=\"middle\" x=\"2631\" y=\"-304.8\" font-family=\"Helvetica,sans-Serif\" font-size=\"14.00\" fill=\"#000000\">class = 만족</text>\n</g>\n<!-- 32&#45;&gt;33 -->\n<g id=\"edge33\" class=\"edge\">\n<title>32&#45;&gt;33</title>\n<path fill=\"none\" stroke=\"#000000\" d=\"M2631,-400.9465C2631,-392.776 2631,-383.9318 2631,-375.3697\"/>\n<polygon fill=\"#000000\" stroke=\"#000000\" points=\"2634.5001,-375.13 2631,-365.13 2627.5001,-375.13 2634.5001,-375.13\"/>\n</g>\n<!-- 48 -->\n<g id=\"node49\" class=\"node\">\n<title>48</title>\n<polygon fill=\"#59ade9\" stroke=\"#000000\" points=\"3596,-365 3456,-365 3456,-297 3596,-297 3596,-365\"/>\n<text text-anchor=\"middle\" x=\"3526\" y=\"-349.8\" font-family=\"Helvetica,sans-Serif\" font-size=\"14.00\" fill=\"#000000\">SalaryLevel &lt;= 2.5</text>\n<text text-anchor=\"middle\" x=\"3526\" y=\"-334.8\" font-family=\"Helvetica,sans-Serif\" font-size=\"14.00\" fill=\"#000000\">samples = 3479</text>\n<text text-anchor=\"middle\" x=\"3526\" y=\"-319.8\" font-family=\"Helvetica,sans-Serif\" font-size=\"14.00\" fill=\"#000000\">value = [487, 2992]</text>\n<text text-anchor=\"middle\" x=\"3526\" y=\"-304.8\" font-family=\"Helvetica,sans-Serif\" font-size=\"14.00\" fill=\"#000000\">class = 만족</text>\n</g>\n<!-- 32&#45;&gt;48 -->\n<g id=\"edge48\" class=\"edge\">\n<title>32&#45;&gt;48</title>\n<path fill=\"none\" stroke=\"#000000\" d=\"M2705.7678,-426.3119C2872.5953,-406.9264 3274.0232,-360.28 3445.8081,-340.3184\"/>\n<polygon fill=\"#000000\" stroke=\"#000000\" points=\"3446.2679,-343.7886 3455.7971,-339.1577 3445.4599,-336.8354 3446.2679,-343.7886\"/>\n</g>\n<!-- 34 -->\n<g id=\"node35\" class=\"node\">\n<title>34</title>\n<polygon fill=\"#f9e4d4\" stroke=\"#000000\" points=\"2628,-261 2496,-261 2496,-193 2628,-193 2628,-261\"/>\n<text text-anchor=\"middle\" x=\"2562\" y=\"-245.8\" font-family=\"Helvetica,sans-Serif\" font-size=\"14.00\" fill=\"#000000\">Benefits &lt;= 2.5</text>\n<text text-anchor=\"middle\" x=\"2562\" y=\"-230.8\" font-family=\"Helvetica,sans-Serif\" font-size=\"14.00\" fill=\"#000000\">samples = 1095</text>\n<text text-anchor=\"middle\" x=\"2562\" y=\"-215.8\" font-family=\"Helvetica,sans-Serif\" font-size=\"14.00\" fill=\"#000000\">value = [614, 481]</text>\n<text text-anchor=\"middle\" x=\"2562\" y=\"-200.8\" font-family=\"Helvetica,sans-Serif\" font-size=\"14.00\" fill=\"#000000\">class = 불만족</text>\n</g>\n<!-- 33&#45;&gt;34 -->\n<g id=\"edge34\" class=\"edge\">\n<title>33&#45;&gt;34</title>\n<path fill=\"none\" stroke=\"#000000\" d=\"M2608.4068,-296.9465C2602.6286,-288.2373 2596.3425,-278.7626 2590.3166,-269.6801\"/>\n<polygon fill=\"#000000\" stroke=\"#000000\" points=\"2593.089,-267.5278 2584.6439,-261.13 2587.256,-271.3978 2593.089,-267.5278\"/>\n</g>\n<!-- 41 -->\n<g id=\"node42\" class=\"node\">\n<title>41</title>\n<polygon fill=\"#82c1ef\" stroke=\"#000000\" points=\"2892,-261 2760,-261 2760,-193 2892,-193 2892,-261\"/>\n<text text-anchor=\"middle\" x=\"2826\" y=\"-245.8\" font-family=\"Helvetica,sans-Serif\" font-size=\"14.00\" fill=\"#000000\">Interest &lt;= 3.5</text>\n<text text-anchor=\"middle\" x=\"2826\" y=\"-230.8\" font-family=\"Helvetica,sans-Serif\" font-size=\"14.00\" fill=\"#000000\">samples = 596</text>\n<text text-anchor=\"middle\" x=\"2826\" y=\"-215.8\" font-family=\"Helvetica,sans-Serif\" font-size=\"14.00\" fill=\"#000000\">value = [160, 436]</text>\n<text text-anchor=\"middle\" x=\"2826\" y=\"-200.8\" font-family=\"Helvetica,sans-Serif\" font-size=\"14.00\" fill=\"#000000\">class = 만족</text>\n</g>\n<!-- 33&#45;&gt;41 -->\n<g id=\"edge41\" class=\"edge\">\n<title>33&#45;&gt;41</title>\n<path fill=\"none\" stroke=\"#000000\" d=\"M2694.8503,-296.9465C2713.4527,-287.0252 2733.9178,-276.1105 2753.0367,-265.9138\"/>\n<polygon fill=\"#000000\" stroke=\"#000000\" points=\"2754.8298,-268.9242 2762.0063,-261.13 2751.5356,-262.7477 2754.8298,-268.9242\"/>\n</g>\n<!-- 35 -->\n<g id=\"node36\" class=\"node\">\n<title>35</title>\n<polygon fill=\"#eead7f\" stroke=\"#000000\" points=\"2405.5,-157 2278.5,-157 2278.5,-89 2405.5,-89 2405.5,-157\"/>\n<text text-anchor=\"middle\" x=\"2342\" y=\"-141.8\" font-family=\"Helvetica,sans-Serif\" font-size=\"14.00\" fill=\"#000000\">Autonomy &lt;= 4.5</text>\n<text text-anchor=\"middle\" x=\"2342\" y=\"-126.8\" font-family=\"Helvetica,sans-Serif\" font-size=\"14.00\" fill=\"#000000\">samples = 303</text>\n<text text-anchor=\"middle\" x=\"2342\" y=\"-111.8\" font-family=\"Helvetica,sans-Serif\" font-size=\"14.00\" fill=\"#000000\">value = [224, 79]</text>\n<text text-anchor=\"middle\" x=\"2342\" y=\"-96.8\" font-family=\"Helvetica,sans-Serif\" font-size=\"14.00\" fill=\"#000000\">class = 불만족</text>\n</g>\n<!-- 34&#45;&gt;35 -->\n<g id=\"edge35\" class=\"edge\">\n<title>34&#45;&gt;35</title>\n<path fill=\"none\" stroke=\"#000000\" d=\"M2495.9927,-195.7966C2470.4054,-183.7007 2441.0158,-169.8075 2414.8159,-157.422\"/>\n<polygon fill=\"#000000\" stroke=\"#000000\" points=\"2416.2297,-154.2191 2405.6931,-153.1095 2413.238,-160.5476 2416.2297,-154.2191\"/>\n</g>\n<!-- 38 -->\n<g id=\"node39\" class=\"node\">\n<title>38</title>\n<polygon fill=\"#f9fcfe\" stroke=\"#000000\" points=\"2628,-157 2496,-157 2496,-89 2628,-89 2628,-157\"/>\n<text text-anchor=\"middle\" x=\"2562\" y=\"-141.8\" font-family=\"Helvetica,sans-Serif\" font-size=\"14.00\" fill=\"#000000\">Interest &lt;= 3.5</text>\n<text text-anchor=\"middle\" x=\"2562\" y=\"-126.8\" font-family=\"Helvetica,sans-Serif\" font-size=\"14.00\" fill=\"#000000\">samples = 792</text>\n<text text-anchor=\"middle\" x=\"2562\" y=\"-111.8\" font-family=\"Helvetica,sans-Serif\" font-size=\"14.00\" fill=\"#000000\">value = [390, 402]</text>\n<text text-anchor=\"middle\" x=\"2562\" y=\"-96.8\" font-family=\"Helvetica,sans-Serif\" font-size=\"14.00\" fill=\"#000000\">class = 만족</text>\n</g>\n<!-- 34&#45;&gt;38 -->\n<g id=\"edge38\" class=\"edge\">\n<title>34&#45;&gt;38</title>\n<path fill=\"none\" stroke=\"#000000\" d=\"M2562,-192.9465C2562,-184.776 2562,-175.9318 2562,-167.3697\"/>\n<polygon fill=\"#000000\" stroke=\"#000000\" points=\"2565.5001,-167.13 2562,-157.13 2558.5001,-167.13 2565.5001,-167.13\"/>\n</g>\n<!-- 36 -->\n<g id=\"node37\" class=\"node\">\n<title>36</title>\n<polygon fill=\"#eca36f\" stroke=\"#000000\" points=\"2266,-53 2142,-53 2142,0 2266,0 2266,-53\"/>\n<text text-anchor=\"middle\" x=\"2204\" y=\"-37.8\" font-family=\"Helvetica,sans-Serif\" font-size=\"14.00\" fill=\"#000000\">samples = 262</text>\n<text text-anchor=\"middle\" x=\"2204\" y=\"-22.8\" font-family=\"Helvetica,sans-Serif\" font-size=\"14.00\" fill=\"#000000\">value = [206, 56]</text>\n<text text-anchor=\"middle\" x=\"2204\" y=\"-7.8\" font-family=\"Helvetica,sans-Serif\" font-size=\"14.00\" fill=\"#000000\">class = 불만족</text>\n</g>\n<!-- 35&#45;&gt;36 -->\n<g id=\"edge36\" class=\"edge\">\n<title>35&#45;&gt;36</title>\n<path fill=\"none\" stroke=\"#000000\" d=\"M2293.3464,-88.9777C2279.4657,-79.2713 2264.3786,-68.7213 2250.6223,-59.1018\"/>\n<polygon fill=\"#000000\" stroke=\"#000000\" points=\"2252.4526,-56.1109 2242.2517,-53.2485 2248.4411,-61.8475 2252.4526,-56.1109\"/>\n</g>\n<!-- 37 -->\n<g id=\"node38\" class=\"node\">\n<title>37</title>\n<polygon fill=\"#d4eaf9\" stroke=\"#000000\" points=\"2400,-53 2284,-53 2284,0 2400,0 2400,-53\"/>\n<text text-anchor=\"middle\" x=\"2342\" y=\"-37.8\" font-family=\"Helvetica,sans-Serif\" font-size=\"14.00\" fill=\"#000000\">samples = 41</text>\n<text text-anchor=\"middle\" x=\"2342\" y=\"-22.8\" font-family=\"Helvetica,sans-Serif\" font-size=\"14.00\" fill=\"#000000\">value = [18, 23]</text>\n<text text-anchor=\"middle\" x=\"2342\" y=\"-7.8\" font-family=\"Helvetica,sans-Serif\" font-size=\"14.00\" fill=\"#000000\">class = 만족</text>\n</g>\n<!-- 35&#45;&gt;37 -->\n<g id=\"edge37\" class=\"edge\">\n<title>35&#45;&gt;37</title>\n<path fill=\"none\" stroke=\"#000000\" d=\"M2342,-88.9777C2342,-80.7364 2342,-71.887 2342,-63.5153\"/>\n<polygon fill=\"#000000\" stroke=\"#000000\" points=\"2345.5001,-63.2484 2342,-53.2485 2338.5001,-63.2485 2345.5001,-63.2484\"/>\n</g>\n<!-- 39 -->\n<g id=\"node40\" class=\"node\">\n<title>39</title>\n<polygon fill=\"#f6d5bd\" stroke=\"#000000\" points=\"2550,-53 2418,-53 2418,0 2550,0 2550,-53\"/>\n<text text-anchor=\"middle\" x=\"2484\" y=\"-37.8\" font-family=\"Helvetica,sans-Serif\" font-size=\"14.00\" fill=\"#000000\">samples = 400</text>\n<text text-anchor=\"middle\" x=\"2484\" y=\"-22.8\" font-family=\"Helvetica,sans-Serif\" font-size=\"14.00\" fill=\"#000000\">value = [240, 160]</text>\n<text text-anchor=\"middle\" x=\"2484\" y=\"-7.8\" font-family=\"Helvetica,sans-Serif\" font-size=\"14.00\" fill=\"#000000\">class = 불만족</text>\n</g>\n<!-- 38&#45;&gt;39 -->\n<g id=\"edge39\" class=\"edge\">\n<title>38&#45;&gt;39</title>\n<path fill=\"none\" stroke=\"#000000\" d=\"M2534.5001,-88.9777C2527.2467,-80.0039 2519.4103,-70.3089 2512.1244,-61.295\"/>\n<polygon fill=\"#000000\" stroke=\"#000000\" points=\"2514.6288,-58.8255 2505.6205,-53.2485 2509.1847,-63.2258 2514.6288,-58.8255\"/>\n</g>\n<!-- 40 -->\n<g id=\"node41\" class=\"node\">\n<title>40</title>\n<polygon fill=\"#b4daf5\" stroke=\"#000000\" points=\"2700,-53 2568,-53 2568,0 2700,0 2700,-53\"/>\n<text text-anchor=\"middle\" x=\"2634\" y=\"-37.8\" font-family=\"Helvetica,sans-Serif\" font-size=\"14.00\" fill=\"#000000\">samples = 392</text>\n<text text-anchor=\"middle\" x=\"2634\" y=\"-22.8\" font-family=\"Helvetica,sans-Serif\" font-size=\"14.00\" fill=\"#000000\">value = [150, 242]</text>\n<text text-anchor=\"middle\" x=\"2634\" y=\"-7.8\" font-family=\"Helvetica,sans-Serif\" font-size=\"14.00\" fill=\"#000000\">class = 만족</text>\n</g>\n<!-- 38&#45;&gt;40 -->\n<g id=\"edge40\" class=\"edge\">\n<title>38&#45;&gt;40</title>\n<path fill=\"none\" stroke=\"#000000\" d=\"M2587.3845,-88.9777C2594.08,-80.0039 2601.3135,-70.3089 2608.039,-61.295\"/>\n<polygon fill=\"#000000\" stroke=\"#000000\" points=\"2610.8677,-63.3565 2614.0426,-53.2485 2605.2573,-59.1704 2610.8677,-63.3565\"/>\n</g>\n<!-- 42 -->\n<g id=\"node43\" class=\"node\">\n<title>42</title>\n<polygon fill=\"#b7dbf6\" stroke=\"#000000\" points=\"2896.5,-157 2755.5,-157 2755.5,-89 2896.5,-89 2896.5,-157\"/>\n<text text-anchor=\"middle\" x=\"2826\" y=\"-141.8\" font-family=\"Helvetica,sans-Serif\" font-size=\"14.00\" fill=\"#000000\">Relationship &lt;= 1.5</text>\n<text text-anchor=\"middle\" x=\"2826\" y=\"-126.8\" font-family=\"Helvetica,sans-Serif\" font-size=\"14.00\" fill=\"#000000\">samples = 278</text>\n<text text-anchor=\"middle\" x=\"2826\" y=\"-111.8\" font-family=\"Helvetica,sans-Serif\" font-size=\"14.00\" fill=\"#000000\">value = [108, 170]</text>\n<text text-anchor=\"middle\" x=\"2826\" y=\"-96.8\" font-family=\"Helvetica,sans-Serif\" font-size=\"14.00\" fill=\"#000000\">class = 만족</text>\n</g>\n<!-- 41&#45;&gt;42 -->\n<g id=\"edge42\" class=\"edge\">\n<title>41&#45;&gt;42</title>\n<path fill=\"none\" stroke=\"#000000\" d=\"M2826,-192.9465C2826,-184.776 2826,-175.9318 2826,-167.3697\"/>\n<polygon fill=\"#000000\" stroke=\"#000000\" points=\"2829.5001,-167.13 2826,-157.13 2822.5001,-167.13 2829.5001,-167.13\"/>\n</g>\n<!-- 45 -->\n<g id=\"node46\" class=\"node\">\n<title>45</title>\n<polygon fill=\"#60b0ea\" stroke=\"#000000\" points=\"3127.5,-157 2968.5,-157 2968.5,-89 3127.5,-89 3127.5,-157\"/>\n<text text-anchor=\"middle\" x=\"3048\" y=\"-141.8\" font-family=\"Helvetica,sans-Serif\" font-size=\"14.00\" fill=\"#000000\">StandardHours &lt;= 4.5</text>\n<text text-anchor=\"middle\" x=\"3048\" y=\"-126.8\" font-family=\"Helvetica,sans-Serif\" font-size=\"14.00\" fill=\"#000000\">samples = 318</text>\n<text text-anchor=\"middle\" x=\"3048\" y=\"-111.8\" font-family=\"Helvetica,sans-Serif\" font-size=\"14.00\" fill=\"#000000\">value = [52, 266]</text>\n<text text-anchor=\"middle\" x=\"3048\" y=\"-96.8\" font-family=\"Helvetica,sans-Serif\" font-size=\"14.00\" fill=\"#000000\">class = 만족</text>\n</g>\n<!-- 41&#45;&gt;45 -->\n<g id=\"edge45\" class=\"edge\">\n<title>41&#45;&gt;45</title>\n<path fill=\"none\" stroke=\"#000000\" d=\"M2892.0063,-196.0782C2915.2395,-185.1941 2941.6384,-172.827 2966.0267,-161.4019\"/>\n<polygon fill=\"#000000\" stroke=\"#000000\" points=\"2967.6937,-164.4861 2975.2645,-157.0743 2964.7241,-158.1472 2967.6937,-164.4861\"/>\n</g>\n<!-- 43 -->\n<g id=\"node44\" class=\"node\">\n<title>43</title>\n<polygon fill=\"#e58139\" stroke=\"#000000\" points=\"2825.5,-53 2718.5,-53 2718.5,0 2825.5,0 2825.5,-53\"/>\n<text text-anchor=\"middle\" x=\"2772\" y=\"-37.8\" font-family=\"Helvetica,sans-Serif\" font-size=\"14.00\" fill=\"#000000\">samples = 8</text>\n<text text-anchor=\"middle\" x=\"2772\" y=\"-22.8\" font-family=\"Helvetica,sans-Serif\" font-size=\"14.00\" fill=\"#000000\">value = [8, 0]</text>\n<text text-anchor=\"middle\" x=\"2772\" y=\"-7.8\" font-family=\"Helvetica,sans-Serif\" font-size=\"14.00\" fill=\"#000000\">class = 불만족</text>\n</g>\n<!-- 42&#45;&gt;43 -->\n<g id=\"edge43\" class=\"edge\">\n<title>42&#45;&gt;43</title>\n<path fill=\"none\" stroke=\"#000000\" d=\"M2806.9616,-88.9777C2802.0937,-80.2786 2796.8466,-70.9018 2791.935,-62.1247\"/>\n<polygon fill=\"#000000\" stroke=\"#000000\" points=\"2794.9057,-60.2659 2786.9681,-53.2485 2788.7971,-63.6843 2794.9057,-60.2659\"/>\n</g>\n<!-- 44 -->\n<g id=\"node45\" class=\"node\">\n<title>44</title>\n<polygon fill=\"#add7f4\" stroke=\"#000000\" points=\"2976,-53 2844,-53 2844,0 2976,0 2976,-53\"/>\n<text text-anchor=\"middle\" x=\"2910\" y=\"-37.8\" font-family=\"Helvetica,sans-Serif\" font-size=\"14.00\" fill=\"#000000\">samples = 270</text>\n<text text-anchor=\"middle\" x=\"2910\" y=\"-22.8\" font-family=\"Helvetica,sans-Serif\" font-size=\"14.00\" fill=\"#000000\">value = [100, 170]</text>\n<text text-anchor=\"middle\" x=\"2910\" y=\"-7.8\" font-family=\"Helvetica,sans-Serif\" font-size=\"14.00\" fill=\"#000000\">class = 만족</text>\n</g>\n<!-- 42&#45;&gt;44 -->\n<g id=\"edge44\" class=\"edge\">\n<title>42&#45;&gt;44</title>\n<path fill=\"none\" stroke=\"#000000\" d=\"M2855.6153,-88.9777C2863.5064,-79.9123 2872.0381,-70.111 2879.9522,-61.0192\"/>\n<polygon fill=\"#000000\" stroke=\"#000000\" points=\"2882.7906,-63.0892 2886.7164,-53.2485 2877.5107,-58.4932 2882.7906,-63.0892\"/>\n</g>\n<!-- 46 -->\n<g id=\"node47\" class=\"node\">\n<title>46</title>\n<polygon fill=\"#e58139\" stroke=\"#000000\" points=\"3101.5,-53 2994.5,-53 2994.5,0 3101.5,0 3101.5,-53\"/>\n<text text-anchor=\"middle\" x=\"3048\" y=\"-37.8\" font-family=\"Helvetica,sans-Serif\" font-size=\"14.00\" fill=\"#000000\">samples = 4</text>\n<text text-anchor=\"middle\" x=\"3048\" y=\"-22.8\" font-family=\"Helvetica,sans-Serif\" font-size=\"14.00\" fill=\"#000000\">value = [4, 0]</text>\n<text text-anchor=\"middle\" x=\"3048\" y=\"-7.8\" font-family=\"Helvetica,sans-Serif\" font-size=\"14.00\" fill=\"#000000\">class = 불만족</text>\n</g>\n<!-- 45&#45;&gt;46 -->\n<g id=\"edge46\" class=\"edge\">\n<title>45&#45;&gt;46</title>\n<path fill=\"none\" stroke=\"#000000\" d=\"M3048,-88.9777C3048,-80.7364 3048,-71.887 3048,-63.5153\"/>\n<polygon fill=\"#000000\" stroke=\"#000000\" points=\"3051.5001,-63.2484 3048,-53.2485 3044.5001,-63.2485 3051.5001,-63.2484\"/>\n</g>\n<!-- 47 -->\n<g id=\"node48\" class=\"node\">\n<title>47</title>\n<polygon fill=\"#5dafea\" stroke=\"#000000\" points=\"3244,-53 3120,-53 3120,0 3244,0 3244,-53\"/>\n<text text-anchor=\"middle\" x=\"3182\" y=\"-37.8\" font-family=\"Helvetica,sans-Serif\" font-size=\"14.00\" fill=\"#000000\">samples = 314</text>\n<text text-anchor=\"middle\" x=\"3182\" y=\"-22.8\" font-family=\"Helvetica,sans-Serif\" font-size=\"14.00\" fill=\"#000000\">value = [48, 266]</text>\n<text text-anchor=\"middle\" x=\"3182\" y=\"-7.8\" font-family=\"Helvetica,sans-Serif\" font-size=\"14.00\" fill=\"#000000\">class = 만족</text>\n</g>\n<!-- 45&#45;&gt;47 -->\n<g id=\"edge47\" class=\"edge\">\n<title>45&#45;&gt;47</title>\n<path fill=\"none\" stroke=\"#000000\" d=\"M3095.2434,-88.9777C3108.7217,-79.2713 3123.3715,-68.7213 3136.7291,-59.1018\"/>\n<polygon fill=\"#000000\" stroke=\"#000000\" points=\"3138.7876,-61.9325 3144.857,-53.2485 3134.6969,-56.2522 3138.7876,-61.9325\"/>\n</g>\n<!-- 49 -->\n<g id=\"node50\" class=\"node\">\n<title>49</title>\n<polygon fill=\"#bedff6\" stroke=\"#000000\" points=\"3603.5,-261 3448.5,-261 3448.5,-193 3603.5,-193 3603.5,-261\"/>\n<text text-anchor=\"middle\" x=\"3526\" y=\"-245.8\" font-family=\"Helvetica,sans-Serif\" font-size=\"14.00\" fill=\"#000000\">JobReputation &lt;= 4.5</text>\n<text text-anchor=\"middle\" x=\"3526\" y=\"-230.8\" font-family=\"Helvetica,sans-Serif\" font-size=\"14.00\" fill=\"#000000\">samples = 473</text>\n<text text-anchor=\"middle\" x=\"3526\" y=\"-215.8\" font-family=\"Helvetica,sans-Serif\" font-size=\"14.00\" fill=\"#000000\">value = [190, 283]</text>\n<text text-anchor=\"middle\" x=\"3526\" y=\"-200.8\" font-family=\"Helvetica,sans-Serif\" font-size=\"14.00\" fill=\"#000000\">class = 만족</text>\n</g>\n<!-- 48&#45;&gt;49 -->\n<g id=\"edge49\" class=\"edge\">\n<title>48&#45;&gt;49</title>\n<path fill=\"none\" stroke=\"#000000\" d=\"M3526,-296.9465C3526,-288.776 3526,-279.9318 3526,-271.3697\"/>\n<polygon fill=\"#000000\" stroke=\"#000000\" points=\"3529.5001,-271.13 3526,-261.13 3522.5001,-271.13 3529.5001,-271.13\"/>\n</g>\n<!-- 56 -->\n<g id=\"node57\" class=\"node\">\n<title>56</title>\n<polygon fill=\"#4fa8e8\" stroke=\"#000000\" points=\"3986,-261 3846,-261 3846,-193 3986,-193 3986,-261\"/>\n<text text-anchor=\"middle\" x=\"3916\" y=\"-245.8\" font-family=\"Helvetica,sans-Serif\" font-size=\"14.00\" fill=\"#000000\">Time &lt;= 4.5</text>\n<text text-anchor=\"middle\" x=\"3916\" y=\"-230.8\" font-family=\"Helvetica,sans-Serif\" font-size=\"14.00\" fill=\"#000000\">samples = 3006</text>\n<text text-anchor=\"middle\" x=\"3916\" y=\"-215.8\" font-family=\"Helvetica,sans-Serif\" font-size=\"14.00\" fill=\"#000000\">value = [297, 2709]</text>\n<text text-anchor=\"middle\" x=\"3916\" y=\"-200.8\" font-family=\"Helvetica,sans-Serif\" font-size=\"14.00\" fill=\"#000000\">class = 만족</text>\n</g>\n<!-- 48&#45;&gt;56 -->\n<g id=\"edge56\" class=\"edge\">\n<title>48&#45;&gt;56</title>\n<path fill=\"none\" stroke=\"#000000\" d=\"M3596.1746,-312.2868C3663.6182,-294.3018 3765.4297,-267.1521 3835.9899,-248.336\"/>\n<polygon fill=\"#000000\" stroke=\"#000000\" points=\"3836.9715,-251.6967 3845.732,-245.7381 3835.1678,-244.933 3836.9715,-251.6967\"/>\n</g>\n<!-- 50 -->\n<g id=\"node51\" class=\"node\">\n<title>50</title>\n<polygon fill=\"#f0f8fd\" stroke=\"#000000\" points=\"3534,-157 3340,-157 3340,-89 3534,-89 3534,-157\"/>\n<text text-anchor=\"middle\" x=\"3437\" y=\"-141.8\" font-family=\"Helvetica,sans-Serif\" font-size=\"14.00\" fill=\"#000000\">TurnoverPreparation &lt;= 1.5</text>\n<text text-anchor=\"middle\" x=\"3437\" y=\"-126.8\" font-family=\"Helvetica,sans-Serif\" font-size=\"14.00\" fill=\"#000000\">samples = 352</text>\n<text text-anchor=\"middle\" x=\"3437\" y=\"-111.8\" font-family=\"Helvetica,sans-Serif\" font-size=\"14.00\" fill=\"#000000\">value = [169, 183]</text>\n<text text-anchor=\"middle\" x=\"3437\" y=\"-96.8\" font-family=\"Helvetica,sans-Serif\" font-size=\"14.00\" fill=\"#000000\">class = 만족</text>\n</g>\n<!-- 49&#45;&gt;50 -->\n<g id=\"edge50\" class=\"edge\">\n<title>49&#45;&gt;50</title>\n<path fill=\"none\" stroke=\"#000000\" d=\"M3496.8581,-192.9465C3489.1745,-183.968 3480.7947,-174.1758 3472.8041,-164.8385\"/>\n<polygon fill=\"#000000\" stroke=\"#000000\" points=\"3475.3685,-162.4521 3466.2074,-157.13 3470.0501,-167.0034 3475.3685,-162.4521\"/>\n</g>\n<!-- 53 -->\n<g id=\"node54\" class=\"node\">\n<title>53</title>\n<polygon fill=\"#63b2ea\" stroke=\"#000000\" points=\"3676,-157 3552,-157 3552,-89 3676,-89 3676,-157\"/>\n<text text-anchor=\"middle\" x=\"3614\" y=\"-141.8\" font-family=\"Helvetica,sans-Serif\" font-size=\"14.00\" fill=\"#000000\">Stability &lt;= 1.5</text>\n<text text-anchor=\"middle\" x=\"3614\" y=\"-126.8\" font-family=\"Helvetica,sans-Serif\" font-size=\"14.00\" fill=\"#000000\">samples = 121</text>\n<text text-anchor=\"middle\" x=\"3614\" y=\"-111.8\" font-family=\"Helvetica,sans-Serif\" font-size=\"14.00\" fill=\"#000000\">value = [21, 100]</text>\n<text text-anchor=\"middle\" x=\"3614\" y=\"-96.8\" font-family=\"Helvetica,sans-Serif\" font-size=\"14.00\" fill=\"#000000\">class = 만족</text>\n</g>\n<!-- 49&#45;&gt;53 -->\n<g id=\"edge53\" class=\"edge\">\n<title>49&#45;&gt;53</title>\n<path fill=\"none\" stroke=\"#000000\" d=\"M3554.8145,-192.9465C3562.4117,-183.968 3570.6974,-174.1758 3578.5982,-164.8385\"/>\n<polygon fill=\"#000000\" stroke=\"#000000\" points=\"3581.3332,-167.0247 3585.1208,-157.13 3575.9895,-162.5031 3581.3332,-167.0247\"/>\n</g>\n<!-- 51 -->\n<g id=\"node52\" class=\"node\">\n<title>51</title>\n<polygon fill=\"#f1bd98\" stroke=\"#000000\" points=\"3378,-53 3262,-53 3262,0 3378,0 3378,-53\"/>\n<text text-anchor=\"middle\" x=\"3320\" y=\"-37.8\" font-family=\"Helvetica,sans-Serif\" font-size=\"14.00\" fill=\"#000000\">samples = 111</text>\n<text text-anchor=\"middle\" x=\"3320\" y=\"-22.8\" font-family=\"Helvetica,sans-Serif\" font-size=\"14.00\" fill=\"#000000\">value = [75, 36]</text>\n<text text-anchor=\"middle\" x=\"3320\" y=\"-7.8\" font-family=\"Helvetica,sans-Serif\" font-size=\"14.00\" fill=\"#000000\">class = 불만족</text>\n</g>\n<!-- 50&#45;&gt;51 -->\n<g id=\"edge51\" class=\"edge\">\n<title>50&#45;&gt;51</title>\n<path fill=\"none\" stroke=\"#000000\" d=\"M3395.7502,-88.9777C3384.2039,-79.4545 3371.6729,-69.1191 3360.189,-59.6473\"/>\n<polygon fill=\"#000000\" stroke=\"#000000\" points=\"3362.3724,-56.9113 3352.4308,-53.2485 3357.9184,-62.3115 3362.3724,-56.9113\"/>\n</g>\n<!-- 52 -->\n<g id=\"node53\" class=\"node\">\n<title>52</title>\n<polygon fill=\"#b8dcf6\" stroke=\"#000000\" points=\"3520,-53 3396,-53 3396,0 3520,0 3520,-53\"/>\n<text text-anchor=\"middle\" x=\"3458\" y=\"-37.8\" font-family=\"Helvetica,sans-Serif\" font-size=\"14.00\" fill=\"#000000\">samples = 241</text>\n<text text-anchor=\"middle\" x=\"3458\" y=\"-22.8\" font-family=\"Helvetica,sans-Serif\" font-size=\"14.00\" fill=\"#000000\">value = [94, 147]</text>\n<text text-anchor=\"middle\" x=\"3458\" y=\"-7.8\" font-family=\"Helvetica,sans-Serif\" font-size=\"14.00\" fill=\"#000000\">class = 만족</text>\n</g>\n<!-- 50&#45;&gt;52 -->\n<g id=\"edge52\" class=\"edge\">\n<title>50&#45;&gt;52</title>\n<path fill=\"none\" stroke=\"#000000\" d=\"M3444.4038,-88.9777C3446.2172,-80.6449 3448.1659,-71.6903 3450.0055,-63.2364\"/>\n<polygon fill=\"#000000\" stroke=\"#000000\" points=\"3453.4726,-63.7641 3452.1791,-53.2485 3446.6327,-62.2755 3453.4726,-63.7641\"/>\n</g>\n<!-- 54 -->\n<g id=\"node55\" class=\"node\">\n<title>54</title>\n<polygon fill=\"#ea9a61\" stroke=\"#000000\" points=\"3645.5,-53 3538.5,-53 3538.5,0 3645.5,0 3645.5,-53\"/>\n<text text-anchor=\"middle\" x=\"3592\" y=\"-37.8\" font-family=\"Helvetica,sans-Serif\" font-size=\"14.00\" fill=\"#000000\">samples = 6</text>\n<text text-anchor=\"middle\" x=\"3592\" y=\"-22.8\" font-family=\"Helvetica,sans-Serif\" font-size=\"14.00\" fill=\"#000000\">value = [5, 1]</text>\n<text text-anchor=\"middle\" x=\"3592\" y=\"-7.8\" font-family=\"Helvetica,sans-Serif\" font-size=\"14.00\" fill=\"#000000\">class = 불만족</text>\n</g>\n<!-- 53&#45;&gt;54 -->\n<g id=\"edge54\" class=\"edge\">\n<title>53&#45;&gt;54</title>\n<path fill=\"none\" stroke=\"#000000\" d=\"M3606.2436,-88.9777C3604.3439,-80.6449 3602.3024,-71.6903 3600.3751,-63.2364\"/>\n<polygon fill=\"#000000\" stroke=\"#000000\" points=\"3603.7334,-62.2203 3598.0981,-53.2485 3596.9085,-63.7763 3603.7334,-62.2203\"/>\n</g>\n<!-- 55 -->\n<g id=\"node56\" class=\"node\">\n<title>55</title>\n<polygon fill=\"#59ade9\" stroke=\"#000000\" points=\"3780,-53 3664,-53 3664,0 3780,0 3780,-53\"/>\n<text text-anchor=\"middle\" x=\"3722\" y=\"-37.8\" font-family=\"Helvetica,sans-Serif\" font-size=\"14.00\" fill=\"#000000\">samples = 115</text>\n<text text-anchor=\"middle\" x=\"3722\" y=\"-22.8\" font-family=\"Helvetica,sans-Serif\" font-size=\"14.00\" fill=\"#000000\">value = [16, 99]</text>\n<text text-anchor=\"middle\" x=\"3722\" y=\"-7.8\" font-family=\"Helvetica,sans-Serif\" font-size=\"14.00\" fill=\"#000000\">class = 만족</text>\n</g>\n<!-- 53&#45;&gt;55 -->\n<g id=\"edge55\" class=\"edge\">\n<title>53&#45;&gt;55</title>\n<path fill=\"none\" stroke=\"#000000\" d=\"M3652.0768,-88.9777C3662.6324,-79.546 3674.0796,-69.3178 3684.5964,-59.9208\"/>\n<polygon fill=\"#000000\" stroke=\"#000000\" points=\"3686.939,-62.5213 3692.0639,-53.2485 3682.2749,-57.3015 3686.939,-62.5213\"/>\n</g>\n<!-- 57 -->\n<g id=\"node58\" class=\"node\">\n<title>57</title>\n<polygon fill=\"#5baee9\" stroke=\"#000000\" points=\"4013,-157 3819,-157 3819,-89 4013,-89 4013,-157\"/>\n<text text-anchor=\"middle\" x=\"3916\" y=\"-141.8\" font-family=\"Helvetica,sans-Serif\" font-size=\"14.00\" fill=\"#000000\">CompanyReputation &lt;= 3.5</text>\n<text text-anchor=\"middle\" x=\"3916\" y=\"-126.8\" font-family=\"Helvetica,sans-Serif\" font-size=\"14.00\" fill=\"#000000\">samples = 1766</text>\n<text text-anchor=\"middle\" x=\"3916\" y=\"-111.8\" font-family=\"Helvetica,sans-Serif\" font-size=\"14.00\" fill=\"#000000\">value = [259, 1507]</text>\n<text text-anchor=\"middle\" x=\"3916\" y=\"-96.8\" font-family=\"Helvetica,sans-Serif\" font-size=\"14.00\" fill=\"#000000\">class = 만족</text>\n</g>\n<!-- 56&#45;&gt;57 -->\n<g id=\"edge57\" class=\"edge\">\n<title>56&#45;&gt;57</title>\n<path fill=\"none\" stroke=\"#000000\" d=\"M3916,-192.9465C3916,-184.776 3916,-175.9318 3916,-167.3697\"/>\n<polygon fill=\"#000000\" stroke=\"#000000\" points=\"3919.5001,-167.13 3916,-157.13 3912.5001,-167.13 3919.5001,-167.13\"/>\n</g>\n<!-- 60 -->\n<g id=\"node61\" class=\"node\">\n<title>60</title>\n<polygon fill=\"#3fa0e6\" stroke=\"#000000\" points=\"4231.5,-157 4088.5,-157 4088.5,-89 4231.5,-89 4231.5,-157\"/>\n<text text-anchor=\"middle\" x=\"4160\" y=\"-141.8\" font-family=\"Helvetica,sans-Serif\" font-size=\"14.00\" fill=\"#000000\">Environment &lt;= 4.5</text>\n<text text-anchor=\"middle\" x=\"4160\" y=\"-126.8\" font-family=\"Helvetica,sans-Serif\" font-size=\"14.00\" fill=\"#000000\">samples = 1240</text>\n<text text-anchor=\"middle\" x=\"4160\" y=\"-111.8\" font-family=\"Helvetica,sans-Serif\" font-size=\"14.00\" fill=\"#000000\">value = [38, 1202]</text>\n<text text-anchor=\"middle\" x=\"4160\" y=\"-96.8\" font-family=\"Helvetica,sans-Serif\" font-size=\"14.00\" fill=\"#000000\">class = 만족</text>\n</g>\n<!-- 56&#45;&gt;60 -->\n<g id=\"edge60\" class=\"edge\">\n<title>56&#45;&gt;60</title>\n<path fill=\"none\" stroke=\"#000000\" d=\"M3986.2476,-197.0584C4015.085,-184.767 4048.658,-170.4572 4078.5621,-157.7113\"/>\n<polygon fill=\"#000000\" stroke=\"#000000\" points=\"4080.3047,-160.7732 4088.1316,-153.6324 4077.56,-154.3337 4080.3047,-160.7732\"/>\n</g>\n<!-- 58 -->\n<g id=\"node59\" class=\"node\">\n<title>58</title>\n<polygon fill=\"#8ec7f0\" stroke=\"#000000\" points=\"3922,-53 3798,-53 3798,0 3922,0 3922,-53\"/>\n<text text-anchor=\"middle\" x=\"3860\" y=\"-37.8\" font-family=\"Helvetica,sans-Serif\" font-size=\"14.00\" fill=\"#000000\">samples = 262</text>\n<text text-anchor=\"middle\" x=\"3860\" y=\"-22.8\" font-family=\"Helvetica,sans-Serif\" font-size=\"14.00\" fill=\"#000000\">value = [79, 183]</text>\n<text text-anchor=\"middle\" x=\"3860\" y=\"-7.8\" font-family=\"Helvetica,sans-Serif\" font-size=\"14.00\" fill=\"#000000\">class = 만족</text>\n</g>\n<!-- 57&#45;&gt;58 -->\n<g id=\"edge58\" class=\"edge\">\n<title>57&#45;&gt;58</title>\n<path fill=\"none\" stroke=\"#000000\" d=\"M3896.2565,-88.9777C3891.2083,-80.2786 3885.7669,-70.9018 3880.6734,-62.1247\"/>\n<polygon fill=\"#000000\" stroke=\"#000000\" points=\"3883.5689,-60.1409 3875.5224,-53.2485 3877.5145,-63.6544 3883.5689,-60.1409\"/>\n</g>\n<!-- 59 -->\n<g id=\"node60\" class=\"node\">\n<title>59</title>\n<polygon fill=\"#54aae9\" stroke=\"#000000\" points=\"4080,-53 3940,-53 3940,0 4080,0 4080,-53\"/>\n<text text-anchor=\"middle\" x=\"4010\" y=\"-37.8\" font-family=\"Helvetica,sans-Serif\" font-size=\"14.00\" fill=\"#000000\">samples = 1504</text>\n<text text-anchor=\"middle\" x=\"4010\" y=\"-22.8\" font-family=\"Helvetica,sans-Serif\" font-size=\"14.00\" fill=\"#000000\">value = [180, 1324]</text>\n<text text-anchor=\"middle\" x=\"4010\" y=\"-7.8\" font-family=\"Helvetica,sans-Serif\" font-size=\"14.00\" fill=\"#000000\">class = 만족</text>\n</g>\n<!-- 57&#45;&gt;59 -->\n<g id=\"edge59\" class=\"edge\">\n<title>57&#45;&gt;59</title>\n<path fill=\"none\" stroke=\"#000000\" d=\"M3949.1409,-88.9777C3958.1498,-79.7292 3967.9048,-69.7147 3976.9109,-60.4691\"/>\n<polygon fill=\"#000000\" stroke=\"#000000\" points=\"3979.4739,-62.8539 3983.9445,-53.2485 3974.4596,-57.9696 3979.4739,-62.8539\"/>\n</g>\n<!-- 61 -->\n<g id=\"node62\" class=\"node\">\n<title>61</title>\n<polygon fill=\"#49a5e7\" stroke=\"#000000\" points=\"4222,-53 4098,-53 4098,0 4222,0 4222,-53\"/>\n<text text-anchor=\"middle\" x=\"4160\" y=\"-37.8\" font-family=\"Helvetica,sans-Serif\" font-size=\"14.00\" fill=\"#000000\">samples = 239</text>\n<text text-anchor=\"middle\" x=\"4160\" y=\"-22.8\" font-family=\"Helvetica,sans-Serif\" font-size=\"14.00\" fill=\"#000000\">value = [18, 221]</text>\n<text text-anchor=\"middle\" x=\"4160\" y=\"-7.8\" font-family=\"Helvetica,sans-Serif\" font-size=\"14.00\" fill=\"#000000\">class = 만족</text>\n</g>\n<!-- 60&#45;&gt;61 -->\n<g id=\"edge61\" class=\"edge\">\n<title>60&#45;&gt;61</title>\n<path fill=\"none\" stroke=\"#000000\" d=\"M4160,-88.9777C4160,-80.7364 4160,-71.887 4160,-63.5153\"/>\n<polygon fill=\"#000000\" stroke=\"#000000\" points=\"4163.5001,-63.2484 4160,-53.2485 4156.5001,-63.2485 4163.5001,-63.2484\"/>\n</g>\n<!-- 62 -->\n<g id=\"node63\" class=\"node\">\n<title>62</title>\n<polygon fill=\"#3d9fe6\" stroke=\"#000000\" points=\"4364,-53 4240,-53 4240,0 4364,0 4364,-53\"/>\n<text text-anchor=\"middle\" x=\"4302\" y=\"-37.8\" font-family=\"Helvetica,sans-Serif\" font-size=\"14.00\" fill=\"#000000\">samples = 1001</text>\n<text text-anchor=\"middle\" x=\"4302\" y=\"-22.8\" font-family=\"Helvetica,sans-Serif\" font-size=\"14.00\" fill=\"#000000\">value = [20, 981]</text>\n<text text-anchor=\"middle\" x=\"4302\" y=\"-7.8\" font-family=\"Helvetica,sans-Serif\" font-size=\"14.00\" fill=\"#000000\">class = 만족</text>\n</g>\n<!-- 60&#45;&gt;62 -->\n<g id=\"edge62\" class=\"edge\">\n<title>60&#45;&gt;62</title>\n<path fill=\"none\" stroke=\"#000000\" d=\"M4210.0639,-88.9777C4224.3469,-79.2713 4239.8713,-68.7213 4254.0263,-59.1018\"/>\n<polygon fill=\"#000000\" stroke=\"#000000\" points=\"4256.3359,-61.764 4262.6395,-53.2485 4252.4014,-55.9744 4256.3359,-61.764\"/>\n</g>\n</g>\n</svg>\n"
          },
          "metadata": {}
        }
      ],
      "source": [
        "#  graphviz 라이브러리를 이용하여 의사결정나무 그리기\n",
        "from sklearn.tree import export_graphviz\n",
        "import graphviz\n",
        "\n",
        "export_graphviz(tree, out_file='tree.dot', class_names=['불만족','만족'], feature_names=df.columns[:-1], impurity=False, filled=True)\n",
        "\n",
        "\n",
        "with open(\"tree.dot\") as f:\n",
        "    dot_graph = f.read()\n",
        "\n",
        "display(graphviz.Source(dot_graph))"
      ]
    },
    {
      "cell_type": "code",
      "execution_count": 20,
      "metadata": {
        "colab": {
          "base_uri": "https://localhost:8080/"
        },
        "id": "agnZY4gsaq8M",
        "outputId": "d378d431-9465-4994-d0da-352033a5c899"
      },
      "outputs": [
        {
          "output_type": "stream",
          "name": "stdout",
          "text": [
            "변수의 중요도:\n",
            " [0.00000000e+00 0.00000000e+00 0.00000000e+00 2.84257541e-03\n",
            " 0.00000000e+00 0.00000000e+00 4.04383864e-04 1.28175197e-01\n",
            " 1.85533073e-02 5.76653103e-01 2.27833033e-03 1.48837840e-02\n",
            " 6.77790686e-03 3.08904880e-03 1.66667480e-02 0.00000000e+00\n",
            " 9.52381112e-03 1.01903397e-02 7.39964346e-03 1.69078838e-02\n",
            " 1.37324567e-01 4.83293706e-02]\n"
          ]
        }
      ],
      "source": [
        "#주요 변수들 찾기\n",
        "\n",
        "result = tree.feature_importances_\n",
        "print(\"변수의 중요도:\\n\", result)"
      ]
    },
    {
      "cell_type": "code",
      "execution_count": 21,
      "metadata": {
        "colab": {
          "base_uri": "https://localhost:8080/"
        },
        "id": "ThY49twilh9R",
        "outputId": "6ba3d479-7dca-4623-cfd2-2f0163143866"
      },
      "outputs": [
        {
          "output_type": "execute_result",
          "data": {
            "text/plain": [
              "(11858, 23)"
            ]
          },
          "metadata": {},
          "execution_count": 21
        }
      ],
      "source": [
        "df.shape"
      ]
    },
    {
      "cell_type": "code",
      "execution_count": 22,
      "metadata": {
        "colab": {
          "base_uri": "https://localhost:8080/",
          "height": 406
        },
        "id": "W1CblJo9lTmC",
        "outputId": "c318ea7c-e8e2-49bb-f2d8-630630f1fdb8"
      },
      "outputs": [
        {
          "output_type": "stream",
          "name": "stderr",
          "text": [
            "WARNING:matplotlib.font_manager:findfont: Font family ['NanumBarunGothic'] not found. Falling back to DejaVu Sans.\n"
          ]
        },
        {
          "output_type": "display_data",
          "data": {
            "text/plain": [
              "<Figure size 648x432 with 1 Axes>"
            ],
            "image/png": "[encoded data removed]"
          },
          "metadata": {
            "needs_background": "light"
          }
        }
      ],
      "source": [
        "\n",
        "def plot_feature_importances_df(model):\n",
        "    plt.rcParams[\"figure.figsize\"] = (9,6)\n",
        "    n_features = len(df.columns[0:22])\n",
        "    plt.barh(np.arange(n_features), model.feature_importances_, align='center') \n",
        "    plt.yticks(np.arange(n_features), df.columns[0:22])\n",
        "    plt.xlabel(\"feature importance\")\n",
        "    plt.ylabel(\"feature\")\n",
        "    plt.ylim(-1, n_features)\n",
        "\n",
        "plot_feature_importances_df(tree)"
      ]
    },
    {
      "cell_type": "markdown",
      "metadata": {
        "id": "wjWQc13lhuCc"
      },
      "source": [
        "#앙상블모델_ 랜덤포레스트\n"
      ]
    },
    {
      "cell_type": "code",
      "execution_count": 24,
      "metadata": {
        "colab": {
          "base_uri": "https://localhost:8080/",
          "height": 630
        },
        "id": "QBkeYlwvq94w",
        "outputId": "56e71b05-a33f-43e8-a848-e7642095ceed"
      },
      "outputs": [
        {
          "output_type": "stream",
          "name": "stderr",
          "text": [
            "/usr/local/lib/python3.8/dist-packages/sklearn/base.py:450: UserWarning: X does not have valid feature names, but RandomForestClassifier was fitted with feature names\n",
            "  warnings.warn(\n"
          ]
        },
        {
          "output_type": "display_data",
          "data": {
            "text/plain": [
              "<Figure size 1440x720 with 6 Axes>"
            ],
            "image/png": "[encoded data removed]"
          },
          "metadata": {}
        }
      ],
      "source": [
        "from sklearn.ensemble import RandomForestClassifier\n",
        "import mglearn\n",
        "\n",
        "\n",
        "# radius_mean, texture_mean 변수만 이용하여 \n",
        "# 5개의 나무를 만드는 예 (n_estimators = 5, 실제는 수백개의 트리를 만든다)\n",
        "forest = RandomForestClassifier(n_estimators=5, random_state=2)\n",
        "forest.fit(X_train.iloc[:, 3:5], y_train)\n",
        "\n",
        "# 5개 나무 각각의 분류 경계를 그림 (서로 모양이 많이 다르다)\n",
        "# 2차원으로 나무의 결과를 보여주기 위한 코드로 mglearn의 함수들을 이용 - 여기서는 설명 생략\n",
        "fig, axes = plt.subplots(2, 3, figsize=(20, 10))\n",
        "for i, (ax, tree) in enumerate(zip(axes.ravel(), forest.estimators_)):\n",
        "    ax.set_title(\"Tree {}\".format(i))\n",
        "    mglearn.plots.plot_tree_partition(X.iloc[:, 3:5].values, y, tree, ax=ax)\n",
        "    \n",
        "mglearn.plots.plot_2d_separator(forest, X.iloc[:, 3:5].values, fill=True, ax=axes[-1, -1], alpha=.4)\n",
        "axes[-1, -1].set_title(\"Random forest\")\n",
        "mglearn.discrete_scatter(X.iloc[:, 0], X.iloc[:, 1], y)\n",
        "plt.show()"
      ]
    },
    {
      "cell_type": "code",
      "execution_count": 25,
      "metadata": {
        "colab": {
          "base_uri": "https://localhost:8080/"
        },
        "id": "0POTwqANdBWd",
        "outputId": "f8fb9c4e-5378-420e-d9db-3eea5fb2a8de"
      },
      "outputs": [
        {
          "output_type": "stream",
          "name": "stdout",
          "text": [
            "학습용 데이터 세트 정확도: 1.000\n",
            "시험용 데이터 세트 정확도: 0.814\n"
          ]
        }
      ],
      "source": [
        "\n",
        "# 변수를 모두 이용하여 100개의 나무 생성 (정확도가 높아짐)\n",
        "\n",
        "forest = RandomForestClassifier(n_estimators=100, random_state=0)\n",
        "forest.fit(X_train, y_train)\n",
        "\n",
        "print(\"학습용 데이터 세트 정확도: {:.3f}\".format(forest.score(X_train, y_train)))\n",
        "print(\"시험용 데이터 세트 정확도: {:.3f}\".format(forest.score(X_test, y_test)))\n",
        "\n"
      ]
    },
    {
      "cell_type": "code",
      "execution_count": 26,
      "metadata": {
        "colab": {
          "base_uri": "https://localhost:8080/",
          "height": 388
        },
        "id": "y_jPTQosraCP",
        "outputId": "09f80ac3-ed4c-4f1d-c382-84ed5488cfb9"
      },
      "outputs": [
        {
          "output_type": "display_data",
          "data": {
            "text/plain": [
              "<Figure size 648x432 with 1 Axes>"
            ],
            "image/png": "[encoded data removed]"
          },
          "metadata": {
            "needs_background": "light"
          }
        }
      ],
      "source": [
        "\n",
        "# 단일 의사결정나무의 경우보다 많은 변수(feature)들이 사용됨\n",
        "plot_feature_importances_df(forest)"
      ]
    },
    {
      "cell_type": "code",
      "execution_count": 27,
      "metadata": {
        "colab": {
          "base_uri": "https://localhost:8080/"
        },
        "id": "nDm_m_L_qfg9",
        "outputId": "dd0f5985-2a20-432e-8c8b-01b56a6b4a20"
      },
      "outputs": [
        {
          "output_type": "stream",
          "name": "stdout",
          "text": [
            "Accuracy\n",
            "Decision tree:  [0.74382022 0.72808989 0.73033708 0.7367829  0.74128234 0.74578178\n",
            " 0.75140607 0.72440945 0.73903262 0.74915636]\n",
            "Random forest:  [0.82359551 0.82808989 0.82359551 0.81327334 0.83014623 0.82564679\n",
            " 0.84364454 0.82339708 0.80989876 0.82789651]\n",
            "Accuracy mean\n",
            "Decision tree :0.739\n",
            "Random forest :0.825\n"
          ]
        }
      ],
      "source": [
        "\n",
        "from sklearn.model_selection import cross_val_score\n",
        "\n",
        "# 교차 검증을 10번 수행하여 10번의 교차 검증 평균 정확도를 비교 (10-fold cross validation)\n",
        "# default cv=5\n",
        "\n",
        "dt_scores = cross_val_score(tree, X_train, y_train, cv=10, scoring='accuracy')  \n",
        "rf_scores = cross_val_score(forest, X_train, y_train, cv=10, scoring='accuracy')\n",
        "\n",
        "print(\"Accuracy\")\n",
        "print(\"Decision tree: \", dt_scores) \n",
        "print(\"Random forest: \", rf_scores) \n",
        "\n",
        "print(\"Accuracy mean\")\n",
        "print(\"Decision tree :{:.3f}\".format(dt_scores.mean())) \n",
        "print(\"Random forest :{:.3f}\".format(rf_scores.mean())) \n"
      ]
    },
    {
      "cell_type": "code",
      "execution_count": 28,
      "metadata": {
        "colab": {
          "base_uri": "https://localhost:8080/",
          "height": 392
        },
        "id": "hZWKc12MuDgX",
        "outputId": "363cd14a-2cc6-4c71-bf90-0f28902f6901"
      },
      "outputs": [
        {
          "output_type": "execute_result",
          "data": {
            "text/plain": [
              "<matplotlib.axes._subplots.AxesSubplot at 0x7f7102397a60>"
            ]
          },
          "metadata": {},
          "execution_count": 28
        },
        {
          "output_type": "display_data",
          "data": {
            "text/plain": [
              "<Figure size 648x432 with 1 Axes>"
            ],
            "image/png": "[encoded data removed]"
          },
          "metadata": {
            "needs_background": "light"
          }
        }
      ],
      "source": [
        "cv_list = [    \n",
        "            ['decision_tree',dt_scores],\n",
        "            ['random_forest',rf_scores],\n",
        "          ]\n",
        "dfg = pd.DataFrame.from_dict(dict(cv_list))\n",
        "dfg.plot()"
      ]
    },
    {
      "cell_type": "markdown",
      "metadata": {
        "id": "zrjZegh0uNO-"
      },
      "source": [
        "# **그래디언트부스팅**"
      ]
    },
    {
      "cell_type": "code",
      "execution_count": 29,
      "metadata": {
        "colab": {
          "base_uri": "https://localhost:8080/"
        },
        "id": "E848Tq4wuLbG",
        "outputId": "ff50507f-90d1-4431-e915-e0e604b81e04"
      },
      "outputs": [
        {
          "output_type": "stream",
          "name": "stdout",
          "text": [
            "학습용 데이터 세트 정확도: 0.842\n",
            "시험용 데이터 세트 정확도: 0.825\n"
          ]
        }
      ],
      "source": [
        "from sklearn.ensemble import GradientBoostingClassifier\n",
        "# 기본값 : max_depth= 3, n_estimators=100, learning_rate = 0.1\n",
        "\n",
        "gbrt = GradientBoostingClassifier(random_state=0)\n",
        "gbrt.fit(X_train, y_train)\n",
        "\n",
        "\n",
        "print(\"학습용 데이터 세트 정확도: {:.3f}\".format(gbrt.score(X_train, y_train)))\n",
        "print(\"시험용 데이터 세트 정확도: {:.3f}\".format(gbrt.score(X_test, y_test)))"
      ]
    },
    {
      "cell_type": "code",
      "execution_count": 30,
      "metadata": {
        "colab": {
          "base_uri": "https://localhost:8080/",
          "height": 388
        },
        "id": "YNS7HVzkiK1k",
        "outputId": "07436e12-ffa4-41d6-beed-d329db2c9c6e"
      },
      "outputs": [
        {
          "output_type": "display_data",
          "data": {
            "text/plain": [
              "<Figure size 648x432 with 1 Axes>"
            ],
            "image/png": "[encoded data removed]"
          },
          "metadata": {
            "needs_background": "light"
          }
        }
      ],
      "source": [
        "plot_feature_importances_df(gbrt)"
      ]
    },
    {
      "cell_type": "code",
      "execution_count": 31,
      "metadata": {
        "colab": {
          "base_uri": "https://localhost:8080/"
        },
        "id": "aWcvZq2AjoKy",
        "outputId": "9a2427d4-4ceb-4900-bdfd-ce9b11d09ce9"
      },
      "outputs": [
        {
          "output_type": "stream",
          "name": "stdout",
          "text": [
            "학습 데이터 세트 정확도: 0.830\n",
            "시험용 데이터 세트 정확도: 0.823\n"
          ]
        }
      ],
      "source": [
        "gbrt = GradientBoostingClassifier(random_state=0, max_depth=2)\n",
        "gbrt.fit(X_train, y_train)\n",
        "\n",
        "print(\"학습 데이터 세트 정확도: {:.3f}\".format(gbrt.score(X_train, y_train)))\n",
        "print(\"시험용 데이터 세트 정확도: {:.3f}\".format(gbrt.score(X_test, y_test)))\n"
      ]
    },
    {
      "cell_type": "code",
      "execution_count": 32,
      "metadata": {
        "colab": {
          "base_uri": "https://localhost:8080/"
        },
        "id": "wTAMDKsazEX8",
        "outputId": "c4d77f58-973b-4035-9224-12e8435cc613"
      },
      "outputs": [
        {
          "output_type": "stream",
          "name": "stdout",
          "text": [
            "학습 데이터 세트 정확도: 0.816\n",
            "시험용 데이터 세트 정확도: 0.799\n"
          ]
        }
      ],
      "source": [
        "#학습률 감소\n",
        "gbrt = GradientBoostingClassifier(random_state=0, learning_rate=0.01)\n",
        "gbrt.fit(X_train, y_train)\n",
        "\n",
        "print(\"학습 데이터 세트 정확도: {:.3f}\".format(gbrt.score(X_train, y_train)))\n",
        "print(\"시험용 데이터 세트 정확도: {:.3f}\".format(gbrt.score(X_test, y_test)))"
      ]
    },
    {
      "cell_type": "markdown",
      "metadata": {
        "id": "GkY84KSgzIrw"
      },
      "source": [
        "학습률 감소 이전이 시험용데이터세트 정확도가 더 높게 나왔다.\n",
        "\n",
        "학습데이터 세트 정확도가 1이 아니므로 과적합이 아닌 것을 알 수 있다.\n"
      ]
    },
    {
      "cell_type": "markdown",
      "metadata": {
        "id": "1cn8-jvJzgky"
      },
      "source": [
        "#**교차검증**\n"
      ]
    },
    {
      "cell_type": "code",
      "execution_count": 33,
      "metadata": {
        "colab": {
          "base_uri": "https://localhost:8080/"
        },
        "id": "pwnXxsg5zH6U",
        "outputId": "d0780d94-dc89-404a-fb4f-d3c08895ef97"
      },
      "outputs": [
        {
          "output_type": "stream",
          "name": "stdout",
          "text": [
            "Accuracy\n",
            "Decision tree:  [0.74382022 0.72808989 0.73033708 0.7367829  0.74128234 0.74578178\n",
            " 0.75140607 0.72440945 0.73903262 0.74915636]\n",
            "Random forest:  [0.82359551 0.82808989 0.82359551 0.81327334 0.83014623 0.82564679\n",
            " 0.84364454 0.82339708 0.80989876 0.82789651]\n",
            "Gradient boosting:  [0.81123596 0.81460674 0.81460674 0.80764904 0.81102362 0.80427447\n",
            " 0.82452193 0.80314961 0.78852643 0.80314961]\n",
            "Accuracy mean\n",
            "Decision tree :0.739\n",
            "Random forest :0.825\n",
            "Gradient boosting :0.808\n"
          ]
        }
      ],
      "source": [
        "# 교차 검증을 10번 수행하여 10번의 교차 검증 평균 정확도를 비교 (10-fold cross validation)\n",
        "# default cv=5\n",
        "\n",
        "dt_scores = cross_val_score(tree, X_train, y_train, cv=10, scoring='accuracy')  \n",
        "rf_scores = cross_val_score(forest, X_train, y_train, cv=10, scoring='accuracy')\n",
        "gbrt_scores = cross_val_score(gbrt, X_train, y_train, cv=10, scoring='accuracy')\n",
        "\n",
        "print(\"Accuracy\")\n",
        "print(\"Decision tree: \", dt_scores) \n",
        "print(\"Random forest: \", rf_scores) \n",
        "print(\"Gradient boosting: \", gbrt_scores) \n",
        "\n",
        "print(\"Accuracy mean\")\n",
        "print(\"Decision tree :{:.3f}\".format(dt_scores.mean())) \n",
        "print(\"Random forest :{:.3f}\".format(rf_scores.mean())) \n",
        "print(\"Gradient boosting :{:.3f}\".format(gbrt_scores.mean())) \n"
      ]
    },
    {
      "cell_type": "code",
      "execution_count": 34,
      "metadata": {
        "colab": {
          "base_uri": "https://localhost:8080/"
        },
        "id": "N0iRX-Twzxtz",
        "outputId": "3d3ecdb1-4bc8-42b8-c032-9ce9823e2771"
      },
      "outputs": [
        {
          "output_type": "stream",
          "name": "stdout",
          "text": [
            "StratifiedKFold(n_splits=10, random_state=None, shuffle=False)\n",
            "Accuracy mean -- StratifiedKFold 이용\n",
            "Decision tree :0.739\n",
            "Random forest :0.825\n",
            "Gradient boosting :0.808\n"
          ]
        }
      ],
      "source": [
        "# 교차 검증 상세 옵션 지정\n",
        "\n",
        "# KFold :기본값 n_splits=5, shuffle=None (데이터를 임의로 섞지 않음) \n",
        "# LeaveOneOut :데이터 1개를 검증에 이용 \n",
        "# ShuffleSplit :임의 분할, 전체 데이터를 모두 사용하지 않을 수도 있음\n",
        "# GroupKFold :그룹을 지정해서 같은 그룹의 데이터는 학습용 또는 검증용으로 동일하게 분할\n",
        "# StratifiedKFold :각 fold마다 클래스의 분포가 동일하도록 분할 (예. 악성:양성) \n",
        "# RepeatedStratifiedKFold: 교차검증을 반복, 기본값 n_repeats =10\n",
        "\n",
        "from sklearn.model_selection import StratifiedKFold\n",
        "kf = StratifiedKFold(n_splits=10)\n",
        "#from sklearn.model_selection import RepeatedStratifiedKFold\n",
        "#kf = RepeatedStratifiedKFold(n_splits=10)\n",
        "\n",
        "print(kf)\n",
        "\n",
        "dt_scores = cross_val_score(tree, X_train, y_train, cv=kf, scoring='accuracy')  \n",
        "rf_scores = cross_val_score(forest, X_train, y_train, cv=kf, scoring='accuracy')\n",
        "gbrt_scores = cross_val_score(gbrt, X_train, y_train, cv=kf, scoring='accuracy')\n",
        "\n",
        "print(\"Accuracy mean -- StratifiedKFold 이용\")\n",
        "print(\"Decision tree :{:.3f}\".format(dt_scores.mean())) \n",
        "print(\"Random forest :{:.3f}\".format(rf_scores.mean())) \n",
        "print(\"Gradient boosting :{:.3f}\".format(gbrt_scores.mean())) "
      ]
    },
    {
      "cell_type": "markdown",
      "metadata": {
        "id": "tB74oXoO0DM_"
      },
      "source": [
        "#**그리드서치**"
      ]
    },
    {
      "cell_type": "code",
      "execution_count": 35,
      "metadata": {
        "id": "iG5aEpjFz8op"
      },
      "outputs": [],
      "source": [
        "\n",
        "from sklearn.model_selection import GridSearchCV\n",
        "\n",
        "# 파라미터를 dictionary 형태로 설정\n",
        "parameters = {'max_depth':[1,2,3], 'learning_rate':[0.1,0.08, 0.06, 0.04, 0.02]}\n",
        "\n"
      ]
    },
    {
      "cell_type": "code",
      "execution_count": 36,
      "metadata": {
        "colab": {
          "base_uri": "https://localhost:8080/",
          "height": 574
        },
        "id": "j3jcfyDu0N-c",
        "outputId": "ac73b31d-7670-4974-fd05-6381756e91ef"
      },
      "outputs": [
        {
          "output_type": "stream",
          "name": "stdout",
          "text": [
            "GridSearchCV(cv=3, estimator=GradientBoostingClassifier(random_state=0),\n",
            "             param_grid={'learning_rate': [0.1, 0.08, 0.06, 0.04, 0.02],\n",
            "                         'max_depth': [1, 2, 3]})\n"
          ]
        },
        {
          "output_type": "execute_result",
          "data": {
            "text/plain": [
              "                                     params  mean_test_score  rank_test_score  \\\n",
              "0    {'learning_rate': 0.1, 'max_depth': 1}         0.814910                9   \n",
              "1    {'learning_rate': 0.1, 'max_depth': 2}         0.821208                4   \n",
              "2    {'learning_rate': 0.1, 'max_depth': 3}         0.822220                2   \n",
              "3   {'learning_rate': 0.08, 'max_depth': 1}         0.814236               10   \n",
              "4   {'learning_rate': 0.08, 'max_depth': 2}         0.818622                6   \n",
              "5   {'learning_rate': 0.08, 'max_depth': 3}         0.821995                3   \n",
              "6   {'learning_rate': 0.06, 'max_depth': 1}         0.811087               12   \n",
              "7   {'learning_rate': 0.06, 'max_depth': 2}         0.818284                7   \n",
              "8   {'learning_rate': 0.06, 'max_depth': 3}         0.823344                1   \n",
              "9   {'learning_rate': 0.04, 'max_depth': 1}         0.809288               14   \n",
              "10  {'learning_rate': 0.04, 'max_depth': 2}         0.816260                8   \n",
              "11  {'learning_rate': 0.04, 'max_depth': 3}         0.819296                5   \n",
              "12  {'learning_rate': 0.02, 'max_depth': 1}         0.797143               15   \n",
              "13  {'learning_rate': 0.02, 'max_depth': 2}         0.810637               13   \n",
              "14  {'learning_rate': 0.02, 'max_depth': 3}         0.814236               11   \n",
              "\n",
              "    split0_test_score  split1_test_score  split2_test_score  \n",
              "0            0.817538           0.819163           0.808030  \n",
              "1            0.818887           0.827598           0.817139  \n",
              "2            0.823946           0.826586           0.816127  \n",
              "3            0.816863           0.817814           0.808030  \n",
              "4            0.813491           0.827598           0.814777  \n",
              "5            0.823946           0.823212           0.818826  \n",
              "6            0.814503           0.814440           0.804318  \n",
              "7            0.814840           0.825574           0.814440  \n",
              "8            0.825632           0.827598           0.816802  \n",
              "9            0.810455           0.817139           0.800270  \n",
              "10           0.817201           0.821525           0.810054  \n",
              "11           0.821248           0.824224           0.812416  \n",
              "12           0.802024           0.801619           0.787787  \n",
              "13           0.811804           0.815115           0.804993  \n",
              "14           0.817538           0.817814           0.807355  "
            ],
            "text/html": [
              "\n",
              "  <div id=\"df-4511daf3-85e5-4f35-93a4-d030f4611481\">\n",
              "    <div class=\"colab-df-container\">\n",
              "      <div>\n",
              "<style scoped>\n",
              "    .dataframe tbody tr th:only-of-type {\n",
              "        vertical-align: middle;\n",
              "    }\n",
              "\n",
              "    .dataframe tbody tr th {\n",
              "        vertical-align: top;\n",
              "    }\n",
              "\n",
              "    .dataframe thead th {\n",
              "        text-align: right;\n",
              "    }\n",
              "</style>\n",
              "<table border=\"1\" class=\"dataframe\">\n",
              "  <thead>\n",
              "    <tr style=\"text-align: right;\">\n",
              "      <th></th>\n",
              "      <th>params</th>\n",
              "      <th>mean_test_score</th>\n",
              "      <th>rank_test_score</th>\n",
              "      <th>split0_test_score</th>\n",
              "      <th>split1_test_score</th>\n",
              "      <th>split2_test_score</th>\n",
              "    </tr>\n",
              "  </thead>\n",
              "  <tbody>\n",
              "    <tr>\n",
              "      <th>0</th>\n",
              "      <td>{'learning_rate': 0.1, 'max_depth': 1}</td>\n",
              "      <td>0.814910</td>\n",
              "      <td>9</td>\n",
              "      <td>0.817538</td>\n",
              "      <td>0.819163</td>\n",
              "      <td>0.808030</td>\n",
              "    </tr>\n",
              "    <tr>\n",
              "      <th>1</th>\n",
              "      <td>{'learning_rate': 0.1, 'max_depth': 2}</td>\n",
              "      <td>0.821208</td>\n",
              "      <td>4</td>\n",
              "      <td>0.818887</td>\n",
              "      <td>0.827598</td>\n",
              "      <td>0.817139</td>\n",
              "    </tr>\n",
              "    <tr>\n",
              "      <th>2</th>\n",
              "      <td>{'learning_rate': 0.1, 'max_depth': 3}</td>\n",
              "      <td>0.822220</td>\n",
              "      <td>2</td>\n",
              "      <td>0.823946</td>\n",
              "      <td>0.826586</td>\n",
              "      <td>0.816127</td>\n",
              "    </tr>\n",
              "    <tr>\n",
              "      <th>3</th>\n",
              "      <td>{'learning_rate': 0.08, 'max_depth': 1}</td>\n",
              "      <td>0.814236</td>\n",
              "      <td>10</td>\n",
              "      <td>0.816863</td>\n",
              "      <td>0.817814</td>\n",
              "      <td>0.808030</td>\n",
              "    </tr>\n",
              "    <tr>\n",
              "      <th>4</th>\n",
              "      <td>{'learning_rate': 0.08, 'max_depth': 2}</td>\n",
              "      <td>0.818622</td>\n",
              "      <td>6</td>\n",
              "      <td>0.813491</td>\n",
              "      <td>0.827598</td>\n",
              "      <td>0.814777</td>\n",
              "    </tr>\n",
              "    <tr>\n",
              "      <th>5</th>\n",
              "      <td>{'learning_rate': 0.08, 'max_depth': 3}</td>\n",
              "      <td>0.821995</td>\n",
              "      <td>3</td>\n",
              "      <td>0.823946</td>\n",
              "      <td>0.823212</td>\n",
              "      <td>0.818826</td>\n",
              "    </tr>\n",
              "    <tr>\n",
              "      <th>6</th>\n",
              "      <td>{'learning_rate': 0.06, 'max_depth': 1}</td>\n",
              "      <td>0.811087</td>\n",
              "      <td>12</td>\n",
              "      <td>0.814503</td>\n",
              "      <td>0.814440</td>\n",
              "      <td>0.804318</td>\n",
              "    </tr>\n",
              "    <tr>\n",
              "      <th>7</th>\n",
              "      <td>{'learning_rate': 0.06, 'max_depth': 2}</td>\n",
              "      <td>0.818284</td>\n",
              "      <td>7</td>\n",
              "      <td>0.814840</td>\n",
              "      <td>0.825574</td>\n",
              "      <td>0.814440</td>\n",
              "    </tr>\n",
              "    <tr>\n",
              "      <th>8</th>\n",
              "      <td>{'learning_rate': 0.06, 'max_depth': 3}</td>\n",
              "      <td>0.823344</td>\n",
              "      <td>1</td>\n",
              "      <td>0.825632</td>\n",
              "      <td>0.827598</td>\n",
              "      <td>0.816802</td>\n",
              "    </tr>\n",
              "    <tr>\n",
              "      <th>9</th>\n",
              "      <td>{'learning_rate': 0.04, 'max_depth': 1}</td>\n",
              "      <td>0.809288</td>\n",
              "      <td>14</td>\n",
              "      <td>0.810455</td>\n",
              "      <td>0.817139</td>\n",
              "      <td>0.800270</td>\n",
              "    </tr>\n",
              "    <tr>\n",
              "      <th>10</th>\n",
              "      <td>{'learning_rate': 0.04, 'max_depth': 2}</td>\n",
              "      <td>0.816260</td>\n",
              "      <td>8</td>\n",
              "      <td>0.817201</td>\n",
              "      <td>0.821525</td>\n",
              "      <td>0.810054</td>\n",
              "    </tr>\n",
              "    <tr>\n",
              "      <th>11</th>\n",
              "      <td>{'learning_rate': 0.04, 'max_depth': 3}</td>\n",
              "      <td>0.819296</td>\n",
              "      <td>5</td>\n",
              "      <td>0.821248</td>\n",
              "      <td>0.824224</td>\n",
              "      <td>0.812416</td>\n",
              "    </tr>\n",
              "    <tr>\n",
              "      <th>12</th>\n",
              "      <td>{'learning_rate': 0.02, 'max_depth': 1}</td>\n",
              "      <td>0.797143</td>\n",
              "      <td>15</td>\n",
              "      <td>0.802024</td>\n",
              "      <td>0.801619</td>\n",
              "      <td>0.787787</td>\n",
              "    </tr>\n",
              "    <tr>\n",
              "      <th>13</th>\n",
              "      <td>{'learning_rate': 0.02, 'max_depth': 2}</td>\n",
              "      <td>0.810637</td>\n",
              "      <td>13</td>\n",
              "      <td>0.811804</td>\n",
              "      <td>0.815115</td>\n",
              "      <td>0.804993</td>\n",
              "    </tr>\n",
              "    <tr>\n",
              "      <th>14</th>\n",
              "      <td>{'learning_rate': 0.02, 'max_depth': 3}</td>\n",
              "      <td>0.814236</td>\n",
              "      <td>11</td>\n",
              "      <td>0.817538</td>\n",
              "      <td>0.817814</td>\n",
              "      <td>0.807355</td>\n",
              "    </tr>\n",
              "  </tbody>\n",
              "</table>\n",
              "</div>\n",
              "      <button class=\"colab-df-convert\" onclick=\"convertToInteractive('df-4511daf3-85e5-4f35-93a4-d030f4611481')\"\n",
              "              title=\"Convert this dataframe to an interactive table.\"\n",
              "              style=\"display:none;\">\n",
              "        \n",
              "  <svg xmlns=\"http://www.w3.org/2000/svg\" height=\"24px\"viewBox=\"0 0 24 24\"\n",
              "       width=\"24px\">\n",
              "    <path d=\"M0 0h24v24H0V0z\" fill=\"none\"/>\n",
              "    <path d=\"M18.56 5.44l.94 2.06.94-2.06 2.06-.94-2.06-.94-.94-2.06-.94 2.06-2.06.94zm-11 1L8.5 8.5l.94-2.06 2.06-.94-2.06-.94L8.5 2.5l-.94 2.06-2.06.94zm10 10l.94 2.06.94-2.06 2.06-.94-2.06-.94-.94-2.06-.94 2.06-2.06.94z\"/><path d=\"M17.41 7.96l-1.37-1.37c-.4-.4-.92-.59-1.43-.59-.52 0-1.04.2-1.43.59L10.3 9.45l-7.72 7.72c-.78.78-.78 2.05 0 2.83L4 21.41c.39.39.9.59 1.41.59.51 0 1.02-.2 1.41-.59l7.78-7.78 2.81-2.81c.8-.78.8-2.07 0-2.86zM5.41 20L4 18.59l7.72-7.72 1.47 1.35L5.41 20z\"/>\n",
              "  </svg>\n",
              "      </button>\n",
              "      \n",
              "  <style>\n",
              "    .colab-df-container {\n",
              "      display:flex;\n",
              "      flex-wrap:wrap;\n",
              "      gap: 12px;\n",
              "    }\n",
              "\n",
              "    .colab-df-convert {\n",
              "      background-color: #E8F0FE;\n",
              "      border: none;\n",
              "      border-radius: 50%;\n",
              "      cursor: pointer;\n",
              "      display: none;\n",
              "      fill: #1967D2;\n",
              "      height: 32px;\n",
              "      padding: 0 0 0 0;\n",
              "      width: 32px;\n",
              "    }\n",
              "\n",
              "    .colab-df-convert:hover {\n",
              "      background-color: #E2EBFA;\n",
              "      box-shadow: 0px 1px 2px rgba(60, 64, 67, 0.3), 0px 1px 3px 1px rgba(60, 64, 67, 0.15);\n",
              "      fill: #174EA6;\n",
              "    }\n",
              "\n",
              "    [theme=dark] .colab-df-convert {\n",
              "      background-color: #3B4455;\n",
              "      fill: #D2E3FC;\n",
              "    }\n",
              "\n",
              "    [theme=dark] .colab-df-convert:hover {\n",
              "      background-color: #434B5C;\n",
              "      box-shadow: 0px 1px 3px 1px rgba(0, 0, 0, 0.15);\n",
              "      filter: drop-shadow(0px 1px 2px rgba(0, 0, 0, 0.3));\n",
              "      fill: #FFFFFF;\n",
              "    }\n",
              "  </style>\n",
              "\n",
              "      <script>\n",
              "        const buttonEl =\n",
              "          document.querySelector('#df-4511daf3-85e5-4f35-93a4-d030f4611481 button.colab-df-convert');\n",
              "        buttonEl.style.display =\n",
              "          google.colab.kernel.accessAllowed ? 'block' : 'none';\n",
              "\n",
              "        async function convertToInteractive(key) {\n",
              "          const element = document.querySelector('#df-4511daf3-85e5-4f35-93a4-d030f4611481');\n",
              "          const dataTable =\n",
              "            await google.colab.kernel.invokeFunction('convertToInteractive',\n",
              "                                                     [key], {});\n",
              "          if (!dataTable) return;\n",
              "\n",
              "          const docLinkHtml = 'Like what you see? Visit the ' +\n",
              "            '<a target=\"_blank\" href=https://colab.research.google.com/notebooks/data_table.ipynb>data table notebook</a>'\n",
              "            + ' to learn more about interactive tables.';\n",
              "          element.innerHTML = '';\n",
              "          dataTable['output_type'] = 'display_data';\n",
              "          await google.colab.output.renderOutput(dataTable, element);\n",
              "          const docLink = document.createElement('div');\n",
              "          docLink.innerHTML = docLinkHtml;\n",
              "          element.appendChild(docLink);\n",
              "        }\n",
              "      </script>\n",
              "    </div>\n",
              "  </div>\n",
              "  "
            ]
          },
          "metadata": {},
          "execution_count": 36
        }
      ],
      "source": [
        "# param_grid의 파라미터들을 3개의 fold 로 나누어 검증\n",
        "# refit=True (기본값): 가장 좋은 파라미터 설정으로 재학습  \n",
        "init_gbrt = GradientBoostingClassifier(random_state=0)\n",
        "grid_gbrt = GridSearchCV(init_gbrt, param_grid=parameters, cv=3, refit=True)\n",
        "print(grid_gbrt)\n",
        "# 파라미터들을 순차적으로 학습, 검증\n",
        "grid_gbrt.fit(X_train, y_train)\n",
        "\n",
        "# GridSearchCV 결과 추출하여 DataFrame으로 변환\n",
        "scores_df = pd.DataFrame(grid_gbrt.cv_results_)\n",
        "scores_df[['params', 'mean_test_score', 'rank_test_score', 'split0_test_score', 'split1_test_score', 'split2_test_score']]\n",
        "\n"
      ]
    },
    {
      "cell_type": "code",
      "execution_count": 37,
      "metadata": {
        "colab": {
          "base_uri": "https://localhost:8080/"
        },
        "id": "5-BgNERR0ej2",
        "outputId": "dfe4a206-fde3-4ca8-f2a8-787ac8989d10"
      },
      "outputs": [
        {
          "output_type": "stream",
          "name": "stdout",
          "text": [
            "GridSearchCV 최적 파라미터: {'learning_rate': 0.06, 'max_depth': 3}\n",
            "GridSearchCV 최고 정확도: 0.8233\n"
          ]
        }
      ],
      "source": [
        "print('GridSearchCV 최적 파라미터:', grid_gbrt.best_params_)\n",
        "print('GridSearchCV 최고 정확도: {0:.4f}'.format(grid_gbrt.best_score_))\n"
      ]
    },
    {
      "cell_type": "code",
      "execution_count": 38,
      "metadata": {
        "colab": {
          "base_uri": "https://localhost:8080/"
        },
        "id": "orPueJ0U0jJW",
        "outputId": "1eba308d-6523-4c90-ab45-4f4b0652d065"
      },
      "outputs": [
        {
          "output_type": "stream",
          "name": "stdout",
          "text": [
            "시험용 데이터 세트 정확도: 0.822\n"
          ]
        }
      ],
      "source": [
        "# 최적 파라미터로 학습이 된 모델을 이용하여 시험용 데이터 세트 분류\n",
        "print(\"시험용 데이터 세트 정확도: {:.3f}\".format(grid_gbrt.score(X_test, y_test)))\n"
      ]
    },
    {
      "cell_type": "code",
      "source": [
        "parameters = {'max_depth':[2, 3, 4, 5, 6, 7]}\n",
        "\n",
        "init_tree = DecisionTreeClassifier(random_state=0)\n",
        "grid_tree = GridSearchCV(init_tree, param_grid=parameters, cv=10, refit=True)\n",
        "\n",
        "grid_tree.fit(X_train, y_train)\n",
        "\n",
        "scores_df_t = pd.DataFrame(grid_tree.cv_results_)\n",
        "scores_df_t[['params', 'mean_test_score', 'rank_test_score', 'split0_test_score', 'split1_test_score', 'split2_test_score']]"
      ],
      "metadata": {
        "colab": {
          "base_uri": "https://localhost:8080/",
          "height": 237
        },
        "id": "Ye0wJaKSAa5x",
        "outputId": "226ad527-1bb0-4d39-a960-6dc8a28e6c02"
      },
      "execution_count": 52,
      "outputs": [
        {
          "output_type": "execute_result",
          "data": {
            "text/plain": [
              "             params  mean_test_score  rank_test_score  split0_test_score  \\\n",
              "0  {'max_depth': 2}         0.761497                6           0.774157   \n",
              "1  {'max_depth': 3}         0.779715                5           0.775281   \n",
              "2  {'max_depth': 4}         0.781287                4           0.787640   \n",
              "3  {'max_depth': 5}         0.793656                2           0.798876   \n",
              "4  {'max_depth': 6}         0.798268                1           0.808989   \n",
              "5  {'max_depth': 7}         0.790171                3           0.793258   \n",
              "\n",
              "   split1_test_score  split2_test_score  \n",
              "0           0.760674           0.752809  \n",
              "1           0.774157           0.782022  \n",
              "2           0.784270           0.789888  \n",
              "3           0.793258           0.804494  \n",
              "4           0.797753           0.792135  \n",
              "5           0.795506           0.792135  "
            ],
            "text/html": [
              "\n",
              "  <div id=\"df-1ef65c6a-09ca-48a2-a596-4de805d40ea8\">\n",
              "    <div class=\"colab-df-container\">\n",
              "      <div>\n",
              "<style scoped>\n",
              "    .dataframe tbody tr th:only-of-type {\n",
              "        vertical-align: middle;\n",
              "    }\n",
              "\n",
              "    .dataframe tbody tr th {\n",
              "        vertical-align: top;\n",
              "    }\n",
              "\n",
              "    .dataframe thead th {\n",
              "        text-align: right;\n",
              "    }\n",
              "</style>\n",
              "<table border=\"1\" class=\"dataframe\">\n",
              "  <thead>\n",
              "    <tr style=\"text-align: right;\">\n",
              "      <th></th>\n",
              "      <th>params</th>\n",
              "      <th>mean_test_score</th>\n",
              "      <th>rank_test_score</th>\n",
              "      <th>split0_test_score</th>\n",
              "      <th>split1_test_score</th>\n",
              "      <th>split2_test_score</th>\n",
              "    </tr>\n",
              "  </thead>\n",
              "  <tbody>\n",
              "    <tr>\n",
              "      <th>0</th>\n",
              "      <td>{'max_depth': 2}</td>\n",
              "      <td>0.761497</td>\n",
              "      <td>6</td>\n",
              "      <td>0.774157</td>\n",
              "      <td>0.760674</td>\n",
              "      <td>0.752809</td>\n",
              "    </tr>\n",
              "    <tr>\n",
              "      <th>1</th>\n",
              "      <td>{'max_depth': 3}</td>\n",
              "      <td>0.779715</td>\n",
              "      <td>5</td>\n",
              "      <td>0.775281</td>\n",
              "      <td>0.774157</td>\n",
              "      <td>0.782022</td>\n",
              "    </tr>\n",
              "    <tr>\n",
              "      <th>2</th>\n",
              "      <td>{'max_depth': 4}</td>\n",
              "      <td>0.781287</td>\n",
              "      <td>4</td>\n",
              "      <td>0.787640</td>\n",
              "      <td>0.784270</td>\n",
              "      <td>0.789888</td>\n",
              "    </tr>\n",
              "    <tr>\n",
              "      <th>3</th>\n",
              "      <td>{'max_depth': 5}</td>\n",
              "      <td>0.793656</td>\n",
              "      <td>2</td>\n",
              "      <td>0.798876</td>\n",
              "      <td>0.793258</td>\n",
              "      <td>0.804494</td>\n",
              "    </tr>\n",
              "    <tr>\n",
              "      <th>4</th>\n",
              "      <td>{'max_depth': 6}</td>\n",
              "      <td>0.798268</td>\n",
              "      <td>1</td>\n",
              "      <td>0.808989</td>\n",
              "      <td>0.797753</td>\n",
              "      <td>0.792135</td>\n",
              "    </tr>\n",
              "    <tr>\n",
              "      <th>5</th>\n",
              "      <td>{'max_depth': 7}</td>\n",
              "      <td>0.790171</td>\n",
              "      <td>3</td>\n",
              "      <td>0.793258</td>\n",
              "      <td>0.795506</td>\n",
              "      <td>0.792135</td>\n",
              "    </tr>\n",
              "  </tbody>\n",
              "</table>\n",
              "</div>\n",
              "      <button class=\"colab-df-convert\" onclick=\"convertToInteractive('df-1ef65c6a-09ca-48a2-a596-4de805d40ea8')\"\n",
              "              title=\"Convert this dataframe to an interactive table.\"\n",
              "              style=\"display:none;\">\n",
              "        \n",
              "  <svg xmlns=\"http://www.w3.org/2000/svg\" height=\"24px\"viewBox=\"0 0 24 24\"\n",
              "       width=\"24px\">\n",
              "    <path d=\"M0 0h24v24H0V0z\" fill=\"none\"/>\n",
              "    <path d=\"M18.56 5.44l.94 2.06.94-2.06 2.06-.94-2.06-.94-.94-2.06-.94 2.06-2.06.94zm-11 1L8.5 8.5l.94-2.06 2.06-.94-2.06-.94L8.5 2.5l-.94 2.06-2.06.94zm10 10l.94 2.06.94-2.06 2.06-.94-2.06-.94-.94-2.06-.94 2.06-2.06.94z\"/><path d=\"M17.41 7.96l-1.37-1.37c-.4-.4-.92-.59-1.43-.59-.52 0-1.04.2-1.43.59L10.3 9.45l-7.72 7.72c-.78.78-.78 2.05 0 2.83L4 21.41c.39.39.9.59 1.41.59.51 0 1.02-.2 1.41-.59l7.78-7.78 2.81-2.81c.8-.78.8-2.07 0-2.86zM5.41 20L4 18.59l7.72-7.72 1.47 1.35L5.41 20z\"/>\n",
              "  </svg>\n",
              "      </button>\n",
              "      \n",
              "  <style>\n",
              "    .colab-df-container {\n",
              "      display:flex;\n",
              "      flex-wrap:wrap;\n",
              "      gap: 12px;\n",
              "    }\n",
              "\n",
              "    .colab-df-convert {\n",
              "      background-color: #E8F0FE;\n",
              "      border: none;\n",
              "      border-radius: 50%;\n",
              "      cursor: pointer;\n",
              "      display: none;\n",
              "      fill: #1967D2;\n",
              "      height: 32px;\n",
              "      padding: 0 0 0 0;\n",
              "      width: 32px;\n",
              "    }\n",
              "\n",
              "    .colab-df-convert:hover {\n",
              "      background-color: #E2EBFA;\n",
              "      box-shadow: 0px 1px 2px rgba(60, 64, 67, 0.3), 0px 1px 3px 1px rgba(60, 64, 67, 0.15);\n",
              "      fill: #174EA6;\n",
              "    }\n",
              "\n",
              "    [theme=dark] .colab-df-convert {\n",
              "      background-color: #3B4455;\n",
              "      fill: #D2E3FC;\n",
              "    }\n",
              "\n",
              "    [theme=dark] .colab-df-convert:hover {\n",
              "      background-color: #434B5C;\n",
              "      box-shadow: 0px 1px 3px 1px rgba(0, 0, 0, 0.15);\n",
              "      filter: drop-shadow(0px 1px 2px rgba(0, 0, 0, 0.3));\n",
              "      fill: #FFFFFF;\n",
              "    }\n",
              "  </style>\n",
              "\n",
              "      <script>\n",
              "        const buttonEl =\n",
              "          document.querySelector('#df-1ef65c6a-09ca-48a2-a596-4de805d40ea8 button.colab-df-convert');\n",
              "        buttonEl.style.display =\n",
              "          google.colab.kernel.accessAllowed ? 'block' : 'none';\n",
              "\n",
              "        async function convertToInteractive(key) {\n",
              "          const element = document.querySelector('#df-1ef65c6a-09ca-48a2-a596-4de805d40ea8');\n",
              "          const dataTable =\n",
              "            await google.colab.kernel.invokeFunction('convertToInteractive',\n",
              "                                                     [key], {});\n",
              "          if (!dataTable) return;\n",
              "\n",
              "          const docLinkHtml = 'Like what you see? Visit the ' +\n",
              "            '<a target=\"_blank\" href=https://colab.research.google.com/notebooks/data_table.ipynb>data table notebook</a>'\n",
              "            + ' to learn more about interactive tables.';\n",
              "          element.innerHTML = '';\n",
              "          dataTable['output_type'] = 'display_data';\n",
              "          await google.colab.output.renderOutput(dataTable, element);\n",
              "          const docLink = document.createElement('div');\n",
              "          docLink.innerHTML = docLinkHtml;\n",
              "          element.appendChild(docLink);\n",
              "        }\n",
              "      </script>\n",
              "    </div>\n",
              "  </div>\n",
              "  "
            ]
          },
          "metadata": {},
          "execution_count": 52
        }
      ]
    },
    {
      "cell_type": "code",
      "source": [
        "parameters = {'max_depth':[2, 3, 4, 5, 6, 7]}\n",
        "\n",
        "init_forest = RandomForestClassifier(random_state=0)\n",
        "grid_forest = GridSearchCV(init_forest, param_grid=parameters, cv=10, refit=True)\n",
        "\n",
        "grid_forest.fit(X_train, y_train)\n",
        "\n",
        "scores_df_f = pd.DataFrame(grid_forest.cv_results_)\n",
        "scores_df_f[['params', 'mean_test_score', 'rank_test_score', 'split0_test_score', 'split1_test_score', 'split2_test_score']]"
      ],
      "metadata": {
        "colab": {
          "base_uri": "https://localhost:8080/",
          "height": 237
        },
        "id": "8NABPKBAA5Ku",
        "outputId": "370acd11-e7ae-4782-a182-a16237323db6"
      },
      "execution_count": 54,
      "outputs": [
        {
          "output_type": "execute_result",
          "data": {
            "text/plain": [
              "             params  mean_test_score  rank_test_score  split0_test_score  \\\n",
              "0  {'max_depth': 2}         0.794445                6           0.801124   \n",
              "1  {'max_depth': 3}         0.802765                5           0.808989   \n",
              "2  {'max_depth': 4}         0.809400                4           0.813483   \n",
              "3  {'max_depth': 5}         0.815360                3           0.816854   \n",
              "4  {'max_depth': 6}         0.820757                2           0.819101   \n",
              "5  {'max_depth': 7}         0.821769                1           0.820225   \n",
              "\n",
              "   split1_test_score  split2_test_score  \n",
              "0           0.791011           0.794382  \n",
              "1           0.806742           0.803371  \n",
              "2           0.812360           0.811236  \n",
              "3           0.810112           0.820225  \n",
              "4           0.821348           0.830337  \n",
              "5           0.821348           0.832584  "
            ],
            "text/html": [
              "\n",
              "  <div id=\"df-66abb8d3-2c25-4fbb-be24-6807cc3c18e7\">\n",
              "    <div class=\"colab-df-container\">\n",
              "      <div>\n",
              "<style scoped>\n",
              "    .dataframe tbody tr th:only-of-type {\n",
              "        vertical-align: middle;\n",
              "    }\n",
              "\n",
              "    .dataframe tbody tr th {\n",
              "        vertical-align: top;\n",
              "    }\n",
              "\n",
              "    .dataframe thead th {\n",
              "        text-align: right;\n",
              "    }\n",
              "</style>\n",
              "<table border=\"1\" class=\"dataframe\">\n",
              "  <thead>\n",
              "    <tr style=\"text-align: right;\">\n",
              "      <th></th>\n",
              "      <th>params</th>\n",
              "      <th>mean_test_score</th>\n",
              "      <th>rank_test_score</th>\n",
              "      <th>split0_test_score</th>\n",
              "      <th>split1_test_score</th>\n",
              "      <th>split2_test_score</th>\n",
              "    </tr>\n",
              "  </thead>\n",
              "  <tbody>\n",
              "    <tr>\n",
              "      <th>0</th>\n",
              "      <td>{'max_depth': 2}</td>\n",
              "      <td>0.794445</td>\n",
              "      <td>6</td>\n",
              "      <td>0.801124</td>\n",
              "      <td>0.791011</td>\n",
              "      <td>0.794382</td>\n",
              "    </tr>\n",
              "    <tr>\n",
              "      <th>1</th>\n",
              "      <td>{'max_depth': 3}</td>\n",
              "      <td>0.802765</td>\n",
              "      <td>5</td>\n",
              "      <td>0.808989</td>\n",
              "      <td>0.806742</td>\n",
              "      <td>0.803371</td>\n",
              "    </tr>\n",
              "    <tr>\n",
              "      <th>2</th>\n",
              "      <td>{'max_depth': 4}</td>\n",
              "      <td>0.809400</td>\n",
              "      <td>4</td>\n",
              "      <td>0.813483</td>\n",
              "      <td>0.812360</td>\n",
              "      <td>0.811236</td>\n",
              "    </tr>\n",
              "    <tr>\n",
              "      <th>3</th>\n",
              "      <td>{'max_depth': 5}</td>\n",
              "      <td>0.815360</td>\n",
              "      <td>3</td>\n",
              "      <td>0.816854</td>\n",
              "      <td>0.810112</td>\n",
              "      <td>0.820225</td>\n",
              "    </tr>\n",
              "    <tr>\n",
              "      <th>4</th>\n",
              "      <td>{'max_depth': 6}</td>\n",
              "      <td>0.820757</td>\n",
              "      <td>2</td>\n",
              "      <td>0.819101</td>\n",
              "      <td>0.821348</td>\n",
              "      <td>0.830337</td>\n",
              "    </tr>\n",
              "    <tr>\n",
              "      <th>5</th>\n",
              "      <td>{'max_depth': 7}</td>\n",
              "      <td>0.821769</td>\n",
              "      <td>1</td>\n",
              "      <td>0.820225</td>\n",
              "      <td>0.821348</td>\n",
              "      <td>0.832584</td>\n",
              "    </tr>\n",
              "  </tbody>\n",
              "</table>\n",
              "</div>\n",
              "      <button class=\"colab-df-convert\" onclick=\"convertToInteractive('df-66abb8d3-2c25-4fbb-be24-6807cc3c18e7')\"\n",
              "              title=\"Convert this dataframe to an interactive table.\"\n",
              "              style=\"display:none;\">\n",
              "        \n",
              "  <svg xmlns=\"http://www.w3.org/2000/svg\" height=\"24px\"viewBox=\"0 0 24 24\"\n",
              "       width=\"24px\">\n",
              "    <path d=\"M0 0h24v24H0V0z\" fill=\"none\"/>\n",
              "    <path d=\"M18.56 5.44l.94 2.06.94-2.06 2.06-.94-2.06-.94-.94-2.06-.94 2.06-2.06.94zm-11 1L8.5 8.5l.94-2.06 2.06-.94-2.06-.94L8.5 2.5l-.94 2.06-2.06.94zm10 10l.94 2.06.94-2.06 2.06-.94-2.06-.94-.94-2.06-.94 2.06-2.06.94z\"/><path d=\"M17.41 7.96l-1.37-1.37c-.4-.4-.92-.59-1.43-.59-.52 0-1.04.2-1.43.59L10.3 9.45l-7.72 7.72c-.78.78-.78 2.05 0 2.83L4 21.41c.39.39.9.59 1.41.59.51 0 1.02-.2 1.41-.59l7.78-7.78 2.81-2.81c.8-.78.8-2.07 0-2.86zM5.41 20L4 18.59l7.72-7.72 1.47 1.35L5.41 20z\"/>\n",
              "  </svg>\n",
              "      </button>\n",
              "      \n",
              "  <style>\n",
              "    .colab-df-container {\n",
              "      display:flex;\n",
              "      flex-wrap:wrap;\n",
              "      gap: 12px;\n",
              "    }\n",
              "\n",
              "    .colab-df-convert {\n",
              "      background-color: #E8F0FE;\n",
              "      border: none;\n",
              "      border-radius: 50%;\n",
              "      cursor: pointer;\n",
              "      display: none;\n",
              "      fill: #1967D2;\n",
              "      height: 32px;\n",
              "      padding: 0 0 0 0;\n",
              "      width: 32px;\n",
              "    }\n",
              "\n",
              "    .colab-df-convert:hover {\n",
              "      background-color: #E2EBFA;\n",
              "      box-shadow: 0px 1px 2px rgba(60, 64, 67, 0.3), 0px 1px 3px 1px rgba(60, 64, 67, 0.15);\n",
              "      fill: #174EA6;\n",
              "    }\n",
              "\n",
              "    [theme=dark] .colab-df-convert {\n",
              "      background-color: #3B4455;\n",
              "      fill: #D2E3FC;\n",
              "    }\n",
              "\n",
              "    [theme=dark] .colab-df-convert:hover {\n",
              "      background-color: #434B5C;\n",
              "      box-shadow: 0px 1px 3px 1px rgba(0, 0, 0, 0.15);\n",
              "      filter: drop-shadow(0px 1px 2px rgba(0, 0, 0, 0.3));\n",
              "      fill: #FFFFFF;\n",
              "    }\n",
              "  </style>\n",
              "\n",
              "      <script>\n",
              "        const buttonEl =\n",
              "          document.querySelector('#df-66abb8d3-2c25-4fbb-be24-6807cc3c18e7 button.colab-df-convert');\n",
              "        buttonEl.style.display =\n",
              "          google.colab.kernel.accessAllowed ? 'block' : 'none';\n",
              "\n",
              "        async function convertToInteractive(key) {\n",
              "          const element = document.querySelector('#df-66abb8d3-2c25-4fbb-be24-6807cc3c18e7');\n",
              "          const dataTable =\n",
              "            await google.colab.kernel.invokeFunction('convertToInteractive',\n",
              "                                                     [key], {});\n",
              "          if (!dataTable) return;\n",
              "\n",
              "          const docLinkHtml = 'Like what you see? Visit the ' +\n",
              "            '<a target=\"_blank\" href=https://colab.research.google.com/notebooks/data_table.ipynb>data table notebook</a>'\n",
              "            + ' to learn more about interactive tables.';\n",
              "          element.innerHTML = '';\n",
              "          dataTable['output_type'] = 'display_data';\n",
              "          await google.colab.output.renderOutput(dataTable, element);\n",
              "          const docLink = document.createElement('div');\n",
              "          docLink.innerHTML = docLinkHtml;\n",
              "          element.appendChild(docLink);\n",
              "        }\n",
              "      </script>\n",
              "    </div>\n",
              "  </div>\n",
              "  "
            ]
          },
          "metadata": {},
          "execution_count": 54
        }
      ]
    },
    {
      "cell_type": "markdown",
      "source": [
        "#그레디언트부스팅 결과확인\n",
        "결과가 가장 좋게 나온 모델인 그레디언트 부스팅 결과를 다시 확인한다"
      ],
      "metadata": {
        "id": "ybI_bxT68sbm"
      }
    },
    {
      "cell_type": "code",
      "source": [
        "#{'learning_rate': 0.06, 'max_depth': 3}\t그리드 서치 결과 가장 좋게 나온 모델의 파라미터\n",
        "gbrt = GradientBoostingClassifier(random_state=0, learning_rate=0.06, max_depth = 3)\n",
        "gbrt.fit(X_train, y_train)"
      ],
      "metadata": {
        "colab": {
          "base_uri": "https://localhost:8080/"
        },
        "id": "DYIoZQvR96Nm",
        "outputId": "69ad21cd-438b-41b3-b349-e3ad9f9de1d4"
      },
      "execution_count": 47,
      "outputs": [
        {
          "output_type": "execute_result",
          "data": {
            "text/plain": [
              "GradientBoostingClassifier(learning_rate=0.06, random_state=0)"
            ]
          },
          "metadata": {},
          "execution_count": 47
        }
      ]
    },
    {
      "cell_type": "code",
      "source": [
        "plot_feature_importances_df(gbrt)"
      ],
      "metadata": {
        "colab": {
          "base_uri": "https://localhost:8080/",
          "height": 388
        },
        "id": "Uz6bv1YC8yxM",
        "outputId": "9008dcd9-ddc0-41f8-9bee-f72231ef65b9"
      },
      "execution_count": 48,
      "outputs": [
        {
          "output_type": "display_data",
          "data": {
            "text/plain": [
              "<Figure size 648x432 with 1 Axes>"
            ],
            "image/png": "[encoded data removed]"
          },
          "metadata": {
            "needs_background": "light"
          }
        }
      ]
    },
    {
      "cell_type": "code",
      "source": [
        "\n",
        "print(\"학습 데이터 세트 정확도: {:.3f}\".format(gbrt.score(X_train, y_train)))\n",
        "print(\"시험용 데이터 세트 정확도: {:.3f}\".format(gbrt.score(X_test, y_test)))"
      ],
      "metadata": {
        "colab": {
          "base_uri": "https://localhost:8080/"
        },
        "id": "xmoX9SqW-ITx",
        "outputId": "53560319-25eb-476f-998c-387cc3619dbf"
      },
      "execution_count": 49,
      "outputs": [
        {
          "output_type": "stream",
          "name": "stdout",
          "text": [
            "학습 데이터 세트 정확도: 0.836\n",
            "시험용 데이터 세트 정확도: 0.822\n"
          ]
        }
      ]
    },
    {
      "cell_type": "code",
      "source": [
        "\n",
        "print(\"학습 데이터 세트 정확도: {:.3f}\".format(grid_gbrt.score(X_train, y_train)))\n",
        "print(\"시험용 데이터 세트 정확도: {:.3f}\".format(grid_gbrt.score(X_test, y_test)))"
      ],
      "metadata": {
        "colab": {
          "base_uri": "https://localhost:8080/"
        },
        "id": "XoqTRRTZ80wg",
        "outputId": "8b9fcd93-b6c5-4d5d-95a6-002f7fec3eba"
      },
      "execution_count": 46,
      "outputs": [
        {
          "output_type": "stream",
          "name": "stdout",
          "text": [
            "학습 데이터 세트 정확도: 0.836\n",
            "시험용 데이터 세트 정확도: 0.822\n"
          ]
        }
      ]
    },
    {
      "cell_type": "markdown",
      "metadata": {
        "id": "Qid1cYkikkxM"
      },
      "source": [
        "#**모델평가**"
      ]
    },
    {
      "cell_type": "markdown",
      "metadata": {
        "id": "kqSogl2n0xAU"
      },
      "source": [
        "##정오분류표\n"
      ]
    },
    {
      "cell_type": "code",
      "execution_count": 55,
      "metadata": {
        "colab": {
          "base_uri": "https://localhost:8080/"
        },
        "id": "ltYIZkYo0wKm",
        "outputId": "9da97596-e642-4173-ff84-38215e5ea574"
      },
      "outputs": [
        {
          "output_type": "stream",
          "name": "stdout",
          "text": [
            "1    1607\n",
            "0    1358\n",
            "Name: Satisfaction, dtype: int64\n",
            "Decision tree 시험용 데이터 세트 정확도:0.796\n",
            "[[1028  330]\n",
            " [ 274 1333]]\n",
            "Random forest 시험용 데이터 세트 정확도:0.817\n",
            "[[1085  273]\n",
            " [ 269 1338]]\n",
            "Gradient boosting 시험용 데이터 세트 정확도:0.822\n",
            "[[1108  250]\n",
            " [ 279 1328]]\n"
          ]
        }
      ],
      "source": [
        "from sklearn.metrics import accuracy_score, precision_score, recall_score, f1_score\n",
        "from sklearn.metrics import confusion_matrix \n",
        "\n",
        "print(y_test.value_counts()) # y_test 의 B,M 분포\n",
        "\n",
        "dt_pred = grid_tree.predict(X_test)\n",
        "rf_pred = grid_forest.predict(X_test)\n",
        "grid_gbrt_pred = grid_gbrt.predict(X_test)\n",
        "\n",
        "# 예측 결과인 pred와 실제 결과인 y_test의 Confusion Matrix 출력\n",
        "print('Decision tree 시험용 데이터 세트 정확도:{:.3f}'.format(accuracy_score(y_test, dt_pred)))\n",
        "print(confusion_matrix(y_test, dt_pred))\n",
        "print('Random forest 시험용 데이터 세트 정확도:{:.3f}'.format(accuracy_score(y_test, rf_pred)))\n",
        "print(confusion_matrix(y_test, rf_pred))\n",
        "print('Gradient boosting 시험용 데이터 세트 정확도:{:.3f}'.format(accuracy_score(y_test, grid_gbrt_pred)))\n",
        "print(confusion_matrix(y_test, grid_gbrt_pred))\n"
      ]
    },
    {
      "cell_type": "code",
      "execution_count": 56,
      "metadata": {
        "colab": {
          "base_uri": "https://localhost:8080/",
          "height": 415
        },
        "id": "-1ZGZgjJ1LXk",
        "outputId": "ee330454-2a82-43a5-c74f-39c57681c29c"
      },
      "outputs": [
        {
          "output_type": "stream",
          "name": "stderr",
          "text": [
            "WARNING:matplotlib.font_manager:findfont: Font family ['NanumBarunGothic'] not found. Falling back to DejaVu Sans.\n",
            "WARNING:matplotlib.font_manager:findfont: Font family ['NanumBarunGothic'] not found. Falling back to DejaVu Sans.\n"
          ]
        },
        {
          "output_type": "display_data",
          "data": {
            "text/plain": [
              "<Figure size 648x432 with 1 Axes>"
            ],
            "image/png": "[encoded data removed]"
          },
          "metadata": {
            "needs_background": "light"
          }
        }
      ],
      "source": [
        "\n",
        "mglearn.plots.plot_binary_confusion_matrix()"
      ]
    },
    {
      "cell_type": "code",
      "execution_count": 57,
      "metadata": {
        "colab": {
          "base_uri": "https://localhost:8080/"
        },
        "id": "x5TDnY0xkoRt",
        "outputId": "c51e58c9-f97e-4f0a-f58c-716a3fdc134d"
      },
      "outputs": [
        {
          "output_type": "stream",
          "name": "stdout",
          "text": [
            "정밀도:0.842\n",
            "TP (49) / TP+FP (52) = 0.942\n",
            "재현율:0.826\n",
            "TP (49) / TP+FN (51) = 0.961\n",
            "f1-measure:0.834\n",
            "2*(정밀도*재현율)/(정밀도+재현율) = 0.951\n"
          ]
        }
      ],
      "source": [
        "print('정밀도:{:.3f}'.format(precision_score (y_test, grid_gbrt_pred, average='binary', pos_label=1)))  # pos_label = 1 기본값\n",
        "print('TP (49) / TP+FP (52) = {:.3f}'.format(49/52))\n",
        "print('재현율:{:.3f}'.format(recall_score(y_test, grid_gbrt_pred, average='binary', pos_label=1)))\n",
        "print('TP (49) / TP+FN (51) = {:.3f}'.format(49/51))\n",
        "print('f1-measure:{:.3f}'.format(f1_score(y_test, grid_gbrt_pred, average='binary', pos_label=1)))\n",
        "print('2*(정밀도*재현율)/(정밀도+재현율) = {:.3f}'.format(2*0.942*0.961/(0.942+0.961)))"
      ]
    },
    {
      "cell_type": "code",
      "execution_count": 58,
      "metadata": {
        "colab": {
          "base_uri": "https://localhost:8080/"
        },
        "id": "4p_7skiw1g4Z",
        "outputId": "b2ffff6c-d7de-4f58-f2a7-77775bba669d"
      },
      "outputs": [
        {
          "output_type": "stream",
          "name": "stdout",
          "text": [
            "Decision Tree:\n",
            "              precision    recall  f1-score   support\n",
            "\n",
            "           B       0.79      0.76      0.77      1358\n",
            "           M       0.80      0.83      0.82      1607\n",
            "\n",
            "    accuracy                           0.80      2965\n",
            "   macro avg       0.80      0.79      0.79      2965\n",
            "weighted avg       0.80      0.80      0.80      2965\n",
            "\n",
            "Random Forest:\n",
            "              precision    recall  f1-score   support\n",
            "\n",
            "           B       0.80      0.80      0.80      1358\n",
            "           M       0.83      0.83      0.83      1607\n",
            "\n",
            "    accuracy                           0.82      2965\n",
            "   macro avg       0.82      0.82      0.82      2965\n",
            "weighted avg       0.82      0.82      0.82      2965\n",
            "\n",
            "Gradient Boosting:\n",
            "              precision    recall  f1-score   support\n",
            "\n",
            "           B       0.80      0.82      0.81      1358\n",
            "           M       0.84      0.83      0.83      1607\n",
            "\n",
            "    accuracy                           0.82      2965\n",
            "   macro avg       0.82      0.82      0.82      2965\n",
            "weighted avg       0.82      0.82      0.82      2965\n",
            "\n"
          ]
        }
      ],
      "source": [
        "from sklearn.metrics import classification_report\n",
        "\n",
        "# 각 클래스가 Positive일 때의 정밀도, 재현율, f1 값을 보여줌 (\"M\"이 Postivit인 경우가 기본값임)\n",
        "# macro avg는 클래스별 점수의 평균을 계산\n",
        "# weighted avg는 클래스의 샘플 수로 가중평균을 계산\n",
        "print(\"Decision Tree:\")\n",
        "print(classification_report(y_test, dt_pred, target_names=[\"B\", \"M\"]))\n",
        "print(\"Random Forest:\")\n",
        "print(classification_report(y_test, rf_pred, target_names=[\"B\", \"M\"]))\n",
        "print(\"Gradient Boosting:\")\n",
        "print(classification_report(y_test, grid_gbrt_pred, target_names=[\"B\", \"M\"]))\n"
      ]
    },
    {
      "cell_type": "markdown",
      "metadata": {
        "id": "dh0_rzwI1moJ"
      },
      "source": [
        "#**ROC (Receiver Operator Characteristic) 곡선과 AUC (Area Under the Curve)**"
      ]
    },
    {
      "cell_type": "code",
      "execution_count": 62,
      "metadata": {
        "colab": {
          "base_uri": "https://localhost:8080/",
          "height": 515
        },
        "id": "iLBsmHOO1lhw",
        "outputId": "913686f9-43a1-4f3e-abc2-2aa966487fb4"
      },
      "outputs": [
        {
          "output_type": "stream",
          "name": "stdout",
          "text": [
            "[[0.42922374 0.57077626]\n",
            " [0.94378966 0.05621034]\n",
            " [0.50622407 0.49377593]\n",
            " ...\n",
            " [0.01905717 0.98094283]\n",
            " [0.08876298 0.91123702]\n",
            " [0.34023669 0.65976331]]\n"
          ]
        },
        {
          "output_type": "display_data",
          "data": {
            "text/plain": [
              "<Figure size 648x432 with 1 Axes>"
            ],
            "image/png": "[encoded data removed]"
          },
          "metadata": {
            "needs_background": "light"
          }
        }
      ],
      "source": [
        "\n",
        "from sklearn.metrics import roc_auc_score, roc_curve\n",
        "\n",
        "print(grid_tree.predict_proba(X_test))\n",
        "\n",
        "fpr_dt, tpr_dt, cutoff_dt = roc_curve(y_test, grid_tree.predict_proba(X_test)[:, 1], pos_label=1)\n",
        "fpr_rf, tpr_rf, cutoff_rf = roc_curve(y_test, grid_forest.predict_proba(X_test)[:, 1], pos_label=1)\n",
        "fpr_gbrt, tpr_gbrt, cutoff_gbrt = roc_curve(y_test, grid_gbrt.predict_proba(X_test)[:, 1], pos_label=1)\n",
        "\n",
        "plt.plot(fpr_dt, tpr_dt, label=\"Decision Tree ROC Curve\")\n",
        "plt.plot(fpr_rf, tpr_rf, label=\"Random Forest ROC Curve\")\n",
        "plt.plot(fpr_gbrt, tpr_gbrt, label=\"Gradient Boosting ROC Curve\")\n",
        "plt.plot([0,1], [0, 1], \"k--\", label =\"Random\")\n",
        "\n",
        "plt.xlabel(\"False Positive Rate\")\n",
        "plt.ylabel(\"True Positive Rate\")\n",
        "\n",
        "plt.legend(loc=4)\n",
        "plt.show() \n"
      ]
    },
    {
      "cell_type": "code",
      "execution_count": 64,
      "metadata": {
        "colab": {
          "base_uri": "https://localhost:8080/"
        },
        "id": "JkmI_gS92E7f",
        "outputId": "bd0ea2d2-b60c-497f-eec5-6d9060fe7f02"
      },
      "outputs": [
        {
          "output_type": "stream",
          "name": "stdout",
          "text": [
            "Decision Tree의 AUC: 0.861\n",
            "Random Forest의 AUC: 0.884\n",
            "Gradient Boosting의 AUC: 0.889\n"
          ]
        }
      ],
      "source": [
        "\n",
        "auc_dt = roc_auc_score(y_test, grid_tree.predict_proba(X_test)[:, 1])\n",
        "auc_rf = roc_auc_score(y_test, grid_forest.predict_proba(X_test)[:, 1])\n",
        "auc_gbrt = roc_auc_score(y_test, grid_gbrt.predict_proba(X_test)[:, 1])\n",
        "print(\"Decision Tree의 AUC: {:.3f}\".format(auc_dt))\n",
        "print(\"Random Forest의 AUC: {:.3f}\".format(auc_rf))\n",
        "print(\"Gradient Boosting의 AUC: {:.3f}\".format(auc_gbrt)) ## AUC 면적이 가장 큰 모델\n",
        "\n"
      ]
    }
  ],
  "metadata": {
    "colab": {
      "provenance": [],
      "include_colab_link": true
    },
    "gpuClass": "standard",
    "kernelspec": {
      "display_name": "Python 3",
      "name": "python3"
    },
    "language_info": {
      "name": "python"
    }
  },
  "nbformat": 4,
  "nbformat_minor": 0
}