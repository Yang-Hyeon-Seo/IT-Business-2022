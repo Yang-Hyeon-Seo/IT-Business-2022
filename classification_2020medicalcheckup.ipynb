{
  "nbformat": 4,
  "nbformat_minor": 0,
  "metadata": {
    "colab": {
      "provenance": [],
      "toc_visible": true,
      "authorship_tag": "ABX9TyMrCSywR/v5E+dfcuUN9fex",
      "include_colab_link": true
    },
    "kernelspec": {
      "name": "python3",
      "display_name": "Python 3"
    },
    "language_info": {
      "name": "python"
    }
  },
  "cells": [
    {
      "cell_type": "markdown",
      "metadata": {
        "id": "view-in-github",
        "colab_type": "text"
      },
      "source": [
        "<a href=\"https://colab.research.google.com/github/Yang-Hyeon-Seo/IT-Business-2022/blob/main/classification_2020medicalcheckup.ipynb\" target=\"_parent\"><img src=\"https://colab.research.google.com/assets/colab-badge.svg\" alt=\"Open In Colab\"/></a>"
      ]
    },
    {
      "cell_type": "markdown",
      "source": [
        "mglearn이 import가 안돼서 앞부분에서 실행"
      ],
      "metadata": {
        "id": "rc3d-5SWiSV_"
      }
    },
    {
      "cell_type": "code",
      "source": [
        "!pip install mglearn "
      ],
      "metadata": {
        "colab": {
          "base_uri": "https://localhost:8080/"
        },
        "id": "lvHyAoPGiFXT",
        "outputId": "0c3ab0c6-5b83-4a1b-99fe-646b3454eed2"
      },
      "execution_count": 1,
      "outputs": [
        {
          "output_type": "stream",
          "name": "stdout",
          "text": [
            "Looking in indexes: https://pypi.org/simple, https://us-python.pkg.dev/colab-wheels/public/simple/\n",
            "Requirement already satisfied: mglearn in /usr/local/lib/python3.7/dist-packages (0.1.9)\n",
            "Requirement already satisfied: joblib in /usr/local/lib/python3.7/dist-packages (from mglearn) (1.1.0)\n",
            "Requirement already satisfied: imageio in /usr/local/lib/python3.7/dist-packages (from mglearn) (2.9.0)\n",
            "Requirement already satisfied: numpy in /usr/local/lib/python3.7/dist-packages (from mglearn) (1.21.6)\n",
            "Requirement already satisfied: pillow in /usr/local/lib/python3.7/dist-packages (from mglearn) (7.1.2)\n",
            "Requirement already satisfied: scikit-learn in /usr/local/lib/python3.7/dist-packages (from mglearn) (1.0.2)\n",
            "Requirement already satisfied: pandas in /usr/local/lib/python3.7/dist-packages (from mglearn) (1.3.5)\n",
            "Requirement already satisfied: matplotlib in /usr/local/lib/python3.7/dist-packages (from mglearn) (3.2.2)\n",
            "Requirement already satisfied: cycler in /usr/local/lib/python3.7/dist-packages (from mglearn) (0.11.0)\n",
            "Requirement already satisfied: python-dateutil>=2.1 in /usr/local/lib/python3.7/dist-packages (from matplotlib->mglearn) (2.8.2)\n",
            "Requirement already satisfied: pyparsing!=2.0.4,!=2.1.2,!=2.1.6,>=2.0.1 in /usr/local/lib/python3.7/dist-packages (from matplotlib->mglearn) (3.0.9)\n",
            "Requirement already satisfied: kiwisolver>=1.0.1 in /usr/local/lib/python3.7/dist-packages (from matplotlib->mglearn) (1.4.4)\n",
            "Requirement already satisfied: typing-extensions in /usr/local/lib/python3.7/dist-packages (from kiwisolver>=1.0.1->matplotlib->mglearn) (4.1.1)\n",
            "Requirement already satisfied: six>=1.5 in /usr/local/lib/python3.7/dist-packages (from python-dateutil>=2.1->matplotlib->mglearn) (1.15.0)\n",
            "Requirement already satisfied: pytz>=2017.3 in /usr/local/lib/python3.7/dist-packages (from pandas->mglearn) (2022.6)\n",
            "Requirement already satisfied: scipy>=1.1.0 in /usr/local/lib/python3.7/dist-packages (from scikit-learn->mglearn) (1.7.3)\n",
            "Requirement already satisfied: threadpoolctl>=2.0.0 in /usr/local/lib/python3.7/dist-packages (from scikit-learn->mglearn) (3.1.0)\n"
          ]
        }
      ]
    },
    {
      "cell_type": "code",
      "source": [
        "!pip install --upgrade joblib==1.1.0"
      ],
      "metadata": {
        "colab": {
          "base_uri": "https://localhost:8080/"
        },
        "id": "ZJHyHPhtiLgm",
        "outputId": "cdb29bf3-e615-447f-f469-4f309a50ba73"
      },
      "execution_count": 2,
      "outputs": [
        {
          "output_type": "stream",
          "name": "stdout",
          "text": [
            "Looking in indexes: https://pypi.org/simple, https://us-python.pkg.dev/colab-wheels/public/simple/\n",
            "Requirement already satisfied: joblib==1.1.0 in /usr/local/lib/python3.7/dist-packages (1.1.0)\n"
          ]
        }
      ]
    },
    {
      "cell_type": "code",
      "source": [
        "import mglearn"
      ],
      "metadata": {
        "id": "YN-0okmLiPIe"
      },
      "execution_count": 3,
      "outputs": []
    },
    {
      "cell_type": "code",
      "source": [
        "import seaborn as sns\n",
        "import matplotlib as mpl\n",
        "from matplotlib import pyplot as plt\n",
        "\n",
        "%matplotlib inline"
      ],
      "metadata": {
        "id": "JCcw6JMrjxsd"
      },
      "execution_count": 4,
      "outputs": []
    },
    {
      "cell_type": "code",
      "source": [
        "#한글 깨지는 것 해결\n",
        "!sudo apt-get install -y fonts-nanum\n",
        "!sudo fc-cache -fv\n",
        "!rm ~/.cache/matplotlib -rf"
      ],
      "metadata": {
        "colab": {
          "base_uri": "https://localhost:8080/"
        },
        "id": "VR-VuVgVjbuX",
        "outputId": "6cf77deb-86eb-4c38-87f9-babbcf77ef34"
      },
      "execution_count": 7,
      "outputs": [
        {
          "output_type": "stream",
          "name": "stdout",
          "text": [
            "Reading package lists... Done\n",
            "Building dependency tree       \n",
            "Reading state information... Done\n",
            "fonts-nanum is already the newest version (20170925-1).\n",
            "The following package was automatically installed and is no longer required:\n",
            "  libnvidia-common-460\n",
            "Use 'sudo apt autoremove' to remove it.\n",
            "0 upgraded, 0 newly installed, 0 to remove and 5 not upgraded.\n",
            "/usr/share/fonts: caching, new cache contents: 0 fonts, 1 dirs\n",
            "/usr/share/fonts/truetype: caching, new cache contents: 0 fonts, 3 dirs\n",
            "/usr/share/fonts/truetype/humor-sans: caching, new cache contents: 1 fonts, 0 dirs\n",
            "/usr/share/fonts/truetype/liberation: caching, new cache contents: 16 fonts, 0 dirs\n",
            "/usr/share/fonts/truetype/nanum: caching, new cache contents: 10 fonts, 0 dirs\n",
            "/usr/local/share/fonts: caching, new cache contents: 0 fonts, 0 dirs\n",
            "/root/.local/share/fonts: skipping, no such directory\n",
            "/root/.fonts: skipping, no such directory\n",
            "/var/cache/fontconfig: cleaning cache directory\n",
            "/root/.cache/fontconfig: not cleaning non-existent cache directory\n",
            "/root/.fontconfig: not cleaning non-existent cache directory\n",
            "fc-cache: succeeded\n"
          ]
        }
      ]
    },
    {
      "cell_type": "code",
      "source": [
        "plt.rc('font', family='NanumBarunGothic') "
      ],
      "metadata": {
        "id": "OcWinGSGjjqG"
      },
      "execution_count": 5,
      "outputs": []
    },
    {
      "cell_type": "markdown",
      "source": [
        "# 간 건강으로 당뇨 여부를 예측할 수 있을까?"
      ],
      "metadata": {
        "id": "L_eTi2vh5N_t"
      }
    },
    {
      "cell_type": "markdown",
      "source": [
        "## 당뇨\n",
        "당뇨병은 높은 혈당 수치가 오랜 기간 지속되는 대사 질환이다.  \n",
        "> ### 혈당이 높을 때의 몸의 반응\n",
        "혈당이 정상보다 높아지면 이자(췌장)에서 인슐린이 분비되고, 인슐린은 간에서 포도당을 글리코젠으로 저장하도록 촉진한다\n",
        "\n",
        "> ### 혈당이 낮을 때의 몸의 반응\n",
        "혈당이 정상보다 낮아지면 이자(췌장)에서 글루카곤이 분비되고, 글루카곤은 간에서 글리코젠을 분해하도록 한다.\n",
        "\n",
        "당뇨병은 췌장이 충분한 인슐린을 만들어 내지 못하거나 몸의 세포가 만들어진 인슐린에 적절하게 반응하지 못하는 것이 원인이 된다. \n",
        "\n",
        "2014년 기준으로, 세계적으로 약 3억 8천 명의 당뇨병 환자가 존재하며, 2035년에 5억 9천만명까지 증가할 것으로 예측된다.  \n",
        "2012년부터 2014년까지, 매년 당뇨병으로 사망한 사람은 150만에서 490만에 이르는 것으로 추정되었다.\n"
      ],
      "metadata": {
        "id": "sGynHRxz50PB"
      }
    },
    {
      "cell_type": "markdown",
      "source": [
        "![image.png](data:image/png;base64,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)"
      ],
      "metadata": {
        "id": "bJU1oRnh9C0c"
      }
    },
    {
      "cell_type": "markdown",
      "source": [
        "WHO(World Health Organization)에 따르면 당뇨병은 2000년 이후 70%의 상당한 비율 증가에 이어 사망 원인 상위 10위에 진입했다."
      ],
      "metadata": {
        "id": "e22KDudP9Tdm"
      }
    },
    {
      "cell_type": "markdown",
      "source": [
        "당뇨병의 주 원인인 혈당을 관리하기 위해선 췌장에서 호르몬을 분비해야 하지만, 이 호르몬이 실제로 작용하는 곳은 간이다.  \n",
        "따라서 간 건강 수치를 통해 당뇨병 여부를 분류해보려고 한다."
      ],
      "metadata": {
        "id": "KR8ncXsr9gzS"
      }
    },
    {
      "cell_type": "markdown",
      "source": [
        "## 데이터 전처리\n",
        "1. 데이터 파일을 가지고 온다\n",
        "2. 종속변수와 독립변수를 정한 후, 변수에 NULL값이 있는 사례를 제외한다\n",
        "3. 공복혈당이 당뇨병 진단 기준을 넘는 경우를 당뇨병(1), 넘지 않는 경우를 정상(0)으로 표현하는 종속변수를 새롭게 만든다. 또, 체중이 당뇨에 영향을 미치기 때문에 일단 BMI를 계산한 BMI 열을 추가로 만든다\n",
        "\n"
      ],
      "metadata": {
        "id": "7bJ8UlW9-GJZ"
      }
    },
    {
      "cell_type": "code",
      "execution_count": 6,
      "metadata": {
        "colab": {
          "base_uri": "https://localhost:8080/"
        },
        "id": "ietW6B0pr_K9",
        "outputId": "45cc1deb-72cc-458c-e319-5699f9def51a"
      },
      "outputs": [
        {
          "output_type": "stream",
          "name": "stdout",
          "text": [
            "Drive already mounted at /content/drive; to attempt to forcibly remount, call drive.mount(\"/content/drive\", force_remount=True).\n"
          ]
        }
      ],
      "source": [
        "from google.colab import drive\n",
        "drive.mount('/content/drive')"
      ]
    },
    {
      "cell_type": "code",
      "source": [
        "import pandas as pd\n",
        "\n",
        "# health data 데이터 가져오기\n",
        "data = pd.read_csv(\"/content/drive/My Drive/Colab Notebooks/IT-Business/health_data.csv\")\n",
        "\n",
        "#데이터 확인\n",
        "display(data.head()) \n",
        "print(data.info())  "
      ],
      "metadata": {
        "colab": {
          "base_uri": "https://localhost:8080/",
          "height": 1000
        },
        "id": "OO1lDEt_sSr2",
        "outputId": "98662d0c-aee9-4e2a-f1c0-6525752535a1"
      },
      "execution_count": 7,
      "outputs": [
        {
          "output_type": "display_data",
          "data": {
            "text/plain": [
              "   기준년도  가입자일련번호  시도코드 성별코드  연령대코드(5세단위)  신장(5Cm단위)  체중(5Kg 단위)  허리둘레  시력(좌)  \\\n",
              "0  2020        1    36    M            9        165          60  72.1    1.2   \n",
              "1  2020        2    27    F           13        150          65  81.0    0.8   \n",
              "2  2020        3    11    F           12        155          55  70.0    0.6   \n",
              "3  2020        4    31    M           13        160          70  90.8    1.0   \n",
              "4  2020        5    41    F           12        155          50  75.2    1.5   \n",
              "\n",
              "   시력(우)  ...  혈청크레아티닌  (혈청지오티)AST  (혈청지오티)ALT  감마지티피  흡연상태  음주여부  구강검진수검여부  \\\n",
              "0    1.5  ...      1.1        21.0        27.0   21.0    No    No         0   \n",
              "1    0.8  ...      0.5        18.0        15.0   15.0    No    No         0   \n",
              "2    0.7  ...      0.7        27.0        25.0    7.0    No    No         0   \n",
              "3    1.0  ...      1.2        65.0        97.0   72.0    No    No         1   \n",
              "4    1.2  ...      0.7        18.0        17.0   14.0    No    No         0   \n",
              "\n",
              "   치아우식증유무   치석     데이터공개일자  \n",
              "0      NaN  NaN  12/29/2021  \n",
              "1      NaN  NaN  12/29/2021  \n",
              "2      NaN  NaN  12/29/2021  \n",
              "3      0.0  0.0  12/29/2021  \n",
              "4      NaN  NaN  12/29/2021  \n",
              "\n",
              "[5 rows x 31 columns]"
            ],
            "text/html": [
              "\n",
              "  <div id=\"df-5a1031e0-8b3a-43b2-b4f4-ac602d5fada3\">\n",
              "    <div class=\"colab-df-container\">\n",
              "      <div>\n",
              "<style scoped>\n",
              "    .dataframe tbody tr th:only-of-type {\n",
              "        vertical-align: middle;\n",
              "    }\n",
              "\n",
              "    .dataframe tbody tr th {\n",
              "        vertical-align: top;\n",
              "    }\n",
              "\n",
              "    .dataframe thead th {\n",
              "        text-align: right;\n",
              "    }\n",
              "</style>\n",
              "<table border=\"1\" class=\"dataframe\">\n",
              "  <thead>\n",
              "    <tr style=\"text-align: right;\">\n",
              "      <th></th>\n",
              "      <th>기준년도</th>\n",
              "      <th>가입자일련번호</th>\n",
              "      <th>시도코드</th>\n",
              "      <th>성별코드</th>\n",
              "      <th>연령대코드(5세단위)</th>\n",
              "      <th>신장(5Cm단위)</th>\n",
              "      <th>체중(5Kg 단위)</th>\n",
              "      <th>허리둘레</th>\n",
              "      <th>시력(좌)</th>\n",
              "      <th>시력(우)</th>\n",
              "      <th>...</th>\n",
              "      <th>혈청크레아티닌</th>\n",
              "      <th>(혈청지오티)AST</th>\n",
              "      <th>(혈청지오티)ALT</th>\n",
              "      <th>감마지티피</th>\n",
              "      <th>흡연상태</th>\n",
              "      <th>음주여부</th>\n",
              "      <th>구강검진수검여부</th>\n",
              "      <th>치아우식증유무</th>\n",
              "      <th>치석</th>\n",
              "      <th>데이터공개일자</th>\n",
              "    </tr>\n",
              "  </thead>\n",
              "  <tbody>\n",
              "    <tr>\n",
              "      <th>0</th>\n",
              "      <td>2020</td>\n",
              "      <td>1</td>\n",
              "      <td>36</td>\n",
              "      <td>M</td>\n",
              "      <td>9</td>\n",
              "      <td>165</td>\n",
              "      <td>60</td>\n",
              "      <td>72.1</td>\n",
              "      <td>1.2</td>\n",
              "      <td>1.5</td>\n",
              "      <td>...</td>\n",
              "      <td>1.1</td>\n",
              "      <td>21.0</td>\n",
              "      <td>27.0</td>\n",
              "      <td>21.0</td>\n",
              "      <td>No</td>\n",
              "      <td>No</td>\n",
              "      <td>0</td>\n",
              "      <td>NaN</td>\n",
              "      <td>NaN</td>\n",
              "      <td>12/29/2021</td>\n",
              "    </tr>\n",
              "    <tr>\n",
              "      <th>1</th>\n",
              "      <td>2020</td>\n",
              "      <td>2</td>\n",
              "      <td>27</td>\n",
              "      <td>F</td>\n",
              "      <td>13</td>\n",
              "      <td>150</td>\n",
              "      <td>65</td>\n",
              "      <td>81.0</td>\n",
              "      <td>0.8</td>\n",
              "      <td>0.8</td>\n",
              "      <td>...</td>\n",
              "      <td>0.5</td>\n",
              "      <td>18.0</td>\n",
              "      <td>15.0</td>\n",
              "      <td>15.0</td>\n",
              "      <td>No</td>\n",
              "      <td>No</td>\n",
              "      <td>0</td>\n",
              "      <td>NaN</td>\n",
              "      <td>NaN</td>\n",
              "      <td>12/29/2021</td>\n",
              "    </tr>\n",
              "    <tr>\n",
              "      <th>2</th>\n",
              "      <td>2020</td>\n",
              "      <td>3</td>\n",
              "      <td>11</td>\n",
              "      <td>F</td>\n",
              "      <td>12</td>\n",
              "      <td>155</td>\n",
              "      <td>55</td>\n",
              "      <td>70.0</td>\n",
              "      <td>0.6</td>\n",
              "      <td>0.7</td>\n",
              "      <td>...</td>\n",
              "      <td>0.7</td>\n",
              "      <td>27.0</td>\n",
              "      <td>25.0</td>\n",
              "      <td>7.0</td>\n",
              "      <td>No</td>\n",
              "      <td>No</td>\n",
              "      <td>0</td>\n",
              "      <td>NaN</td>\n",
              "      <td>NaN</td>\n",
              "      <td>12/29/2021</td>\n",
              "    </tr>\n",
              "    <tr>\n",
              "      <th>3</th>\n",
              "      <td>2020</td>\n",
              "      <td>4</td>\n",
              "      <td>31</td>\n",
              "      <td>M</td>\n",
              "      <td>13</td>\n",
              "      <td>160</td>\n",
              "      <td>70</td>\n",
              "      <td>90.8</td>\n",
              "      <td>1.0</td>\n",
              "      <td>1.0</td>\n",
              "      <td>...</td>\n",
              "      <td>1.2</td>\n",
              "      <td>65.0</td>\n",
              "      <td>97.0</td>\n",
              "      <td>72.0</td>\n",
              "      <td>No</td>\n",
              "      <td>No</td>\n",
              "      <td>1</td>\n",
              "      <td>0.0</td>\n",
              "      <td>0.0</td>\n",
              "      <td>12/29/2021</td>\n",
              "    </tr>\n",
              "    <tr>\n",
              "      <th>4</th>\n",
              "      <td>2020</td>\n",
              "      <td>5</td>\n",
              "      <td>41</td>\n",
              "      <td>F</td>\n",
              "      <td>12</td>\n",
              "      <td>155</td>\n",
              "      <td>50</td>\n",
              "      <td>75.2</td>\n",
              "      <td>1.5</td>\n",
              "      <td>1.2</td>\n",
              "      <td>...</td>\n",
              "      <td>0.7</td>\n",
              "      <td>18.0</td>\n",
              "      <td>17.0</td>\n",
              "      <td>14.0</td>\n",
              "      <td>No</td>\n",
              "      <td>No</td>\n",
              "      <td>0</td>\n",
              "      <td>NaN</td>\n",
              "      <td>NaN</td>\n",
              "      <td>12/29/2021</td>\n",
              "    </tr>\n",
              "  </tbody>\n",
              "</table>\n",
              "<p>5 rows × 31 columns</p>\n",
              "</div>\n",
              "      <button class=\"colab-df-convert\" onclick=\"convertToInteractive('df-5a1031e0-8b3a-43b2-b4f4-ac602d5fada3')\"\n",
              "              title=\"Convert this dataframe to an interactive table.\"\n",
              "              style=\"display:none;\">\n",
              "        \n",
              "  <svg xmlns=\"http://www.w3.org/2000/svg\" height=\"24px\"viewBox=\"0 0 24 24\"\n",
              "       width=\"24px\">\n",
              "    <path d=\"M0 0h24v24H0V0z\" fill=\"none\"/>\n",
              "    <path d=\"M18.56 5.44l.94 2.06.94-2.06 2.06-.94-2.06-.94-.94-2.06-.94 2.06-2.06.94zm-11 1L8.5 8.5l.94-2.06 2.06-.94-2.06-.94L8.5 2.5l-.94 2.06-2.06.94zm10 10l.94 2.06.94-2.06 2.06-.94-2.06-.94-.94-2.06-.94 2.06-2.06.94z\"/><path d=\"M17.41 7.96l-1.37-1.37c-.4-.4-.92-.59-1.43-.59-.52 0-1.04.2-1.43.59L10.3 9.45l-7.72 7.72c-.78.78-.78 2.05 0 2.83L4 21.41c.39.39.9.59 1.41.59.51 0 1.02-.2 1.41-.59l7.78-7.78 2.81-2.81c.8-.78.8-2.07 0-2.86zM5.41 20L4 18.59l7.72-7.72 1.47 1.35L5.41 20z\"/>\n",
              "  </svg>\n",
              "      </button>\n",
              "      \n",
              "  <style>\n",
              "    .colab-df-container {\n",
              "      display:flex;\n",
              "      flex-wrap:wrap;\n",
              "      gap: 12px;\n",
              "    }\n",
              "\n",
              "    .colab-df-convert {\n",
              "      background-color: #E8F0FE;\n",
              "      border: none;\n",
              "      border-radius: 50%;\n",
              "      cursor: pointer;\n",
              "      display: none;\n",
              "      fill: #1967D2;\n",
              "      height: 32px;\n",
              "      padding: 0 0 0 0;\n",
              "      width: 32px;\n",
              "    }\n",
              "\n",
              "    .colab-df-convert:hover {\n",
              "      background-color: #E2EBFA;\n",
              "      box-shadow: 0px 1px 2px rgba(60, 64, 67, 0.3), 0px 1px 3px 1px rgba(60, 64, 67, 0.15);\n",
              "      fill: #174EA6;\n",
              "    }\n",
              "\n",
              "    [theme=dark] .colab-df-convert {\n",
              "      background-color: #3B4455;\n",
              "      fill: #D2E3FC;\n",
              "    }\n",
              "\n",
              "    [theme=dark] .colab-df-convert:hover {\n",
              "      background-color: #434B5C;\n",
              "      box-shadow: 0px 1px 3px 1px rgba(0, 0, 0, 0.15);\n",
              "      filter: drop-shadow(0px 1px 2px rgba(0, 0, 0, 0.3));\n",
              "      fill: #FFFFFF;\n",
              "    }\n",
              "  </style>\n",
              "\n",
              "      <script>\n",
              "        const buttonEl =\n",
              "          document.querySelector('#df-5a1031e0-8b3a-43b2-b4f4-ac602d5fada3 button.colab-df-convert');\n",
              "        buttonEl.style.display =\n",
              "          google.colab.kernel.accessAllowed ? 'block' : 'none';\n",
              "\n",
              "        async function convertToInteractive(key) {\n",
              "          const element = document.querySelector('#df-5a1031e0-8b3a-43b2-b4f4-ac602d5fada3');\n",
              "          const dataTable =\n",
              "            await google.colab.kernel.invokeFunction('convertToInteractive',\n",
              "                                                     [key], {});\n",
              "          if (!dataTable) return;\n",
              "\n",
              "          const docLinkHtml = 'Like what you see? Visit the ' +\n",
              "            '<a target=\"_blank\" href=https://colab.research.google.com/notebooks/data_table.ipynb>data table notebook</a>'\n",
              "            + ' to learn more about interactive tables.';\n",
              "          element.innerHTML = '';\n",
              "          dataTable['output_type'] = 'display_data';\n",
              "          await google.colab.output.renderOutput(dataTable, element);\n",
              "          const docLink = document.createElement('div');\n",
              "          docLink.innerHTML = docLinkHtml;\n",
              "          element.appendChild(docLink);\n",
              "        }\n",
              "      </script>\n",
              "    </div>\n",
              "  </div>\n",
              "  "
            ]
          },
          "metadata": {}
        },
        {
          "output_type": "stream",
          "name": "stdout",
          "text": [
            "<class 'pandas.core.frame.DataFrame'>\n",
            "RangeIndex: 10000 entries, 0 to 9999\n",
            "Data columns (total 31 columns):\n",
            " #   Column       Non-Null Count  Dtype  \n",
            "---  ------       --------------  -----  \n",
            " 0   기준년도         10000 non-null  int64  \n",
            " 1   가입자일련번호      10000 non-null  int64  \n",
            " 2   시도코드         10000 non-null  int64  \n",
            " 3   성별코드         10000 non-null  object \n",
            " 4   연령대코드(5세단위)  10000 non-null  int64  \n",
            " 5   신장(5Cm단위)    10000 non-null  int64  \n",
            " 6   체중(5Kg 단위)   10000 non-null  int64  \n",
            " 7   허리둘레         10000 non-null  float64\n",
            " 8   시력(좌)        10000 non-null  float64\n",
            " 9   시력(우)        10000 non-null  float64\n",
            " 10  청력(좌)        10000 non-null  int64  \n",
            " 11  청력(우)        10000 non-null  int64  \n",
            " 12  수축기혈압        9912 non-null   float64\n",
            " 13  이완기혈압        9912 non-null   float64\n",
            " 14  식전혈당(공복혈당)   9912 non-null   float64\n",
            " 15  총콜레스테롤       4044 non-null   float64\n",
            " 16  트리글리세라이드     4044 non-null   float64\n",
            " 17  HDL콜레스테롤     4044 non-null   float64\n",
            " 18  LDL콜레스테롤     3977 non-null   float64\n",
            " 19  혈색소          9912 non-null   float64\n",
            " 20  요단백          9861 non-null   float64\n",
            " 21  혈청크레아티닌      9912 non-null   float64\n",
            " 22  (혈청지오티)AST   9912 non-null   float64\n",
            " 23  (혈청지오티)ALT   9912 non-null   float64\n",
            " 24  감마지티피        9912 non-null   float64\n",
            " 25  흡연상태         9998 non-null   object \n",
            " 26  음주여부         9999 non-null   object \n",
            " 27  구강검진수검여부     10000 non-null  int64  \n",
            " 28  치아우식증유무      3251 non-null   float64\n",
            " 29  치석           3251 non-null   float64\n",
            " 30  데이터공개일자      10000 non-null  object \n",
            "dtypes: float64(18), int64(9), object(4)\n",
            "memory usage: 2.4+ MB\n",
            "None\n"
          ]
        }
      ]
    },
    {
      "cell_type": "markdown",
      "source": [
        "* 종속변수 : 당뇨 여부 - 식전혈당(공복혈당) 값이 당뇨병 기준인 125를 기준으로 식전혈당 < 125라면 0, 식전혈당 >= 125라면 1값을 갖는 새로운 변수(Diabetes)를 만든다  \n",
        "* 독립변수 : 성별코드, 연령대코드, BMI(신장과 체중을 바탕으로 BMI라는 새로운 변수를 만든다, BMI = 체중/(신장x0.01)^2 ), (혈청지오티)AST, (혈청지오티)ALT, 감마지티피, 흡연상태, 음주여부"
      ],
      "metadata": {
        "id": "sMtCbg3mBpcS"
      }
    },
    {
      "cell_type": "markdown",
      "source": [
        "독립변수에 NULL이 포함된 사례를 모두 제거한다"
      ],
      "metadata": {
        "id": "DuMvBjorEHSL"
      }
    },
    {
      "cell_type": "code",
      "source": [
        "#원본 데이터를 직접 수정하지 않기 위해 데이터 프레임을 복사한다\n",
        "df = data.copy()"
      ],
      "metadata": {
        "id": "Jh0SOOugFMiE"
      },
      "execution_count": 8,
      "outputs": []
    },
    {
      "cell_type": "code",
      "source": [
        "print(df.isnull().sum())  #결측치 확인"
      ],
      "metadata": {
        "colab": {
          "base_uri": "https://localhost:8080/"
        },
        "id": "5dEx25nYFv1q",
        "outputId": "138df142-5345-4d92-94b9-72af3b110549"
      },
      "execution_count": 9,
      "outputs": [
        {
          "output_type": "stream",
          "name": "stdout",
          "text": [
            "기준년도              0\n",
            "가입자일련번호           0\n",
            "시도코드              0\n",
            "성별코드              0\n",
            "연령대코드(5세단위)       0\n",
            "신장(5Cm단위)         0\n",
            "체중(5Kg 단위)        0\n",
            "허리둘레              0\n",
            "시력(좌)             0\n",
            "시력(우)             0\n",
            "청력(좌)             0\n",
            "청력(우)             0\n",
            "수축기혈압            88\n",
            "이완기혈압            88\n",
            "식전혈당(공복혈당)       88\n",
            "총콜레스테롤         5956\n",
            "트리글리세라이드       5956\n",
            "HDL콜레스테롤       5956\n",
            "LDL콜레스테롤       6023\n",
            "혈색소              88\n",
            "요단백             139\n",
            "혈청크레아티닌          88\n",
            "(혈청지오티)AST       88\n",
            "(혈청지오티)ALT       88\n",
            "감마지티피            88\n",
            "흡연상태              2\n",
            "음주여부              1\n",
            "구강검진수검여부          0\n",
            "치아우식증유무        6749\n",
            "치석             6749\n",
            "데이터공개일자           0\n",
            "dtype: int64\n"
          ]
        }
      ]
    },
    {
      "cell_type": "code",
      "source": [
        "#각 종속 변수의 결측치를 제거한다\n",
        "df = df.dropna(subset = ['식전혈당(공복혈당)'], axis=0)\n",
        "df = df.dropna(subset = ['(혈청지오티)AST'], axis=0)\n",
        "df = df.dropna(subset = ['(혈청지오티)ALT'], axis=0)\n",
        "df = df.dropna(subset = ['감마지티피'], axis=0)\n",
        "df = df.dropna(subset = ['흡연상태'], axis=0)\n",
        "df = df.dropna(subset = ['음주여부'], axis=0)"
      ],
      "metadata": {
        "id": "-TBchbut5MnX"
      },
      "execution_count": 10,
      "outputs": []
    },
    {
      "cell_type": "code",
      "source": [
        "print(df.isnull().sum())  #결측치 확인"
      ],
      "metadata": {
        "colab": {
          "base_uri": "https://localhost:8080/"
        },
        "id": "xeA9BkBpGLCM",
        "outputId": "4d48d6e2-7c00-42ea-fec5-bcafe20c2498"
      },
      "execution_count": 11,
      "outputs": [
        {
          "output_type": "stream",
          "name": "stdout",
          "text": [
            "기준년도              0\n",
            "가입자일련번호           0\n",
            "시도코드              0\n",
            "성별코드              0\n",
            "연령대코드(5세단위)       0\n",
            "신장(5Cm단위)         0\n",
            "체중(5Kg 단위)        0\n",
            "허리둘레              0\n",
            "시력(좌)             0\n",
            "시력(우)             0\n",
            "청력(좌)             0\n",
            "청력(우)             0\n",
            "수축기혈압             0\n",
            "이완기혈압             0\n",
            "식전혈당(공복혈당)        0\n",
            "총콜레스테롤         5866\n",
            "트리글리세라이드       5866\n",
            "HDL콜레스테롤       5866\n",
            "LDL콜레스테롤       5933\n",
            "혈색소               0\n",
            "요단백              51\n",
            "혈청크레아티닌           0\n",
            "(혈청지오티)AST        0\n",
            "(혈청지오티)ALT        0\n",
            "감마지티피             0\n",
            "흡연상태              0\n",
            "음주여부              0\n",
            "구강검진수검여부          0\n",
            "치아우식증유무        6658\n",
            "치석             6658\n",
            "데이터공개일자           0\n",
            "dtype: int64\n"
          ]
        }
      ]
    },
    {
      "cell_type": "code",
      "source": [
        "print(df.info()) "
      ],
      "metadata": {
        "colab": {
          "base_uri": "https://localhost:8080/"
        },
        "id": "05RgXJSaGQUl",
        "outputId": "c46a8729-d0c1-497d-85f5-b8019ccc479f"
      },
      "execution_count": 12,
      "outputs": [
        {
          "output_type": "stream",
          "name": "stdout",
          "text": [
            "<class 'pandas.core.frame.DataFrame'>\n",
            "Int64Index: 9909 entries, 0 to 9999\n",
            "Data columns (total 31 columns):\n",
            " #   Column       Non-Null Count  Dtype  \n",
            "---  ------       --------------  -----  \n",
            " 0   기준년도         9909 non-null   int64  \n",
            " 1   가입자일련번호      9909 non-null   int64  \n",
            " 2   시도코드         9909 non-null   int64  \n",
            " 3   성별코드         9909 non-null   object \n",
            " 4   연령대코드(5세단위)  9909 non-null   int64  \n",
            " 5   신장(5Cm단위)    9909 non-null   int64  \n",
            " 6   체중(5Kg 단위)   9909 non-null   int64  \n",
            " 7   허리둘레         9909 non-null   float64\n",
            " 8   시력(좌)        9909 non-null   float64\n",
            " 9   시력(우)        9909 non-null   float64\n",
            " 10  청력(좌)        9909 non-null   int64  \n",
            " 11  청력(우)        9909 non-null   int64  \n",
            " 12  수축기혈압        9909 non-null   float64\n",
            " 13  이완기혈압        9909 non-null   float64\n",
            " 14  식전혈당(공복혈당)   9909 non-null   float64\n",
            " 15  총콜레스테롤       4043 non-null   float64\n",
            " 16  트리글리세라이드     4043 non-null   float64\n",
            " 17  HDL콜레스테롤     4043 non-null   float64\n",
            " 18  LDL콜레스테롤     3976 non-null   float64\n",
            " 19  혈색소          9909 non-null   float64\n",
            " 20  요단백          9858 non-null   float64\n",
            " 21  혈청크레아티닌      9909 non-null   float64\n",
            " 22  (혈청지오티)AST   9909 non-null   float64\n",
            " 23  (혈청지오티)ALT   9909 non-null   float64\n",
            " 24  감마지티피        9909 non-null   float64\n",
            " 25  흡연상태         9909 non-null   object \n",
            " 26  음주여부         9909 non-null   object \n",
            " 27  구강검진수검여부     9909 non-null   int64  \n",
            " 28  치아우식증유무      3251 non-null   float64\n",
            " 29  치석           3251 non-null   float64\n",
            " 30  데이터공개일자      9909 non-null   object \n",
            "dtypes: float64(18), int64(9), object(4)\n",
            "memory usage: 2.4+ MB\n",
            "None\n"
          ]
        }
      ]
    },
    {
      "cell_type": "code",
      "source": [
        "print(\"결측치 제거한 데이터 프레임 :\", df.shape)\n",
        "print(\"원본 데이터 프레임 :\", data.shape)"
      ],
      "metadata": {
        "colab": {
          "base_uri": "https://localhost:8080/"
        },
        "id": "kOZt605pGitl",
        "outputId": "202ae23c-2a96-425f-f12b-f1642d51c4b6"
      },
      "execution_count": 13,
      "outputs": [
        {
          "output_type": "stream",
          "name": "stdout",
          "text": [
            "결측치 제거한 데이터 프레임 : (9909, 31)\n",
            "원본 데이터 프레임 : (10000, 31)\n"
          ]
        }
      ]
    },
    {
      "cell_type": "markdown",
      "source": [
        "Diabetes변수와 BMI변수를 새로 만든다"
      ],
      "metadata": {
        "id": "1GY9Z2L3ETPd"
      }
    },
    {
      "cell_type": "code",
      "source": [
        "#Diabetes\n",
        "df['diabetes'] = [1 if s >= 125 else 0 for s in df['식전혈당(공복혈당)']] "
      ],
      "metadata": {
        "id": "YxUdCYqGEuKv"
      },
      "execution_count": 14,
      "outputs": []
    },
    {
      "cell_type": "code",
      "source": [
        "def changeBMI(weight, height):\n",
        "  return weight/(height/100)**2"
      ],
      "metadata": {
        "id": "cEFYeYlkKLWS"
      },
      "execution_count": 15,
      "outputs": []
    },
    {
      "cell_type": "code",
      "source": [
        "print(changeBMI(60, 165))"
      ],
      "metadata": {
        "colab": {
          "base_uri": "https://localhost:8080/"
        },
        "id": "6FNsAhTbHyaq",
        "outputId": "2fbbe2c7-8cd6-4e27-b460-df3a062ac35a"
      },
      "execution_count": 16,
      "outputs": [
        {
          "output_type": "stream",
          "name": "stdout",
          "text": [
            "22.03856749311295\n"
          ]
        }
      ]
    },
    {
      "cell_type": "code",
      "source": [
        "#print(df.BMI[0])"
      ],
      "metadata": {
        "id": "Hk7Ol5neR7Bu"
      },
      "execution_count": 17,
      "outputs": []
    },
    {
      "cell_type": "code",
      "source": [
        "print(df.shape[0])"
      ],
      "metadata": {
        "colab": {
          "base_uri": "https://localhost:8080/"
        },
        "id": "bO9SCc-LSrUF",
        "outputId": "6a415aed-d11d-4414-808a-3964a5f8c359"
      },
      "execution_count": 18,
      "outputs": [
        {
          "output_type": "stream",
          "name": "stdout",
          "text": [
            "9909\n"
          ]
        }
      ]
    },
    {
      "cell_type": "code",
      "source": [
        "print(df['체중(5Kg 단위)'][3])"
      ],
      "metadata": {
        "colab": {
          "base_uri": "https://localhost:8080/"
        },
        "id": "KLLrZfDWTr9r",
        "outputId": "a163f286-aebd-4df4-9aba-ce0363ae136e"
      },
      "execution_count": 19,
      "outputs": [
        {
          "output_type": "stream",
          "name": "stdout",
          "text": [
            "70\n"
          ]
        }
      ]
    },
    {
      "cell_type": "code",
      "source": [
        "#df = df.drop('BMI', axis=1)"
      ],
      "metadata": {
        "id": "Ahuo0XcVgWB2"
      },
      "execution_count": 20,
      "outputs": []
    },
    {
      "cell_type": "code",
      "source": [
        "#BMI\n",
        "BMI = changeBMI(df['체중(5Kg 단위)'], df['신장(5Cm단위)']) #원하는 데이터 형태가 나온다\n",
        "\n",
        "print(BMI)\n",
        "print(df)\n",
        "#체중과 신장에서 함께 돌아가도록 해야지, 아니면 체중에 대해 신장 모두 계산하고 그걸 반복하게 될 것임\n",
        "df['BMI'] = BMI\n",
        "\n"
      ],
      "metadata": {
        "colab": {
          "base_uri": "https://localhost:8080/"
        },
        "id": "6yVs29kjJfKU",
        "outputId": "ea2bb5c3-1fd6-4c21-df99-e0a645ef0e61"
      },
      "execution_count": 21,
      "outputs": [
        {
          "output_type": "stream",
          "name": "stdout",
          "text": [
            "0       22.038567\n",
            "1       28.888889\n",
            "2       22.892820\n",
            "3       27.343750\n",
            "4       20.811655\n",
            "          ...    \n",
            "9995    22.892820\n",
            "9996    21.484375\n",
            "9997    31.250000\n",
            "9998    22.892820\n",
            "9999    29.296875\n",
            "Length: 9909, dtype: float64\n",
            "      기준년도  가입자일련번호  시도코드 성별코드  연령대코드(5세단위)  신장(5Cm단위)  체중(5Kg 단위)   허리둘레  \\\n",
            "0     2020        1    36    M            9        165          60   72.1   \n",
            "1     2020        2    27    F           13        150          65   81.0   \n",
            "2     2020        3    11    F           12        155          55   70.0   \n",
            "3     2020        4    31    M           13        160          70   90.8   \n",
            "4     2020        5    41    F           12        155          50   75.2   \n",
            "...    ...      ...   ...  ...          ...        ...         ...    ...   \n",
            "9995  2020     9996    44    F           13        155          55   83.0   \n",
            "9996  2020     9997    43    F           11        160          55   77.5   \n",
            "9997  2020     9998    45    M           12        160          80   93.0   \n",
            "9998  2020     9999    27    F           15        155          55   78.0   \n",
            "9999  2020    10000    45    F           13        160          75  100.0   \n",
            "\n",
            "      시력(좌)  시력(우)  ...  (혈청지오티)AST  (혈청지오티)ALT  감마지티피    흡연상태  음주여부  \\\n",
            "0       1.2    1.5  ...        21.0        27.0   21.0      No    No   \n",
            "1       0.8    0.8  ...        18.0        15.0   15.0      No    No   \n",
            "2       0.6    0.7  ...        27.0        25.0    7.0      No    No   \n",
            "3       1.0    1.0  ...        65.0        97.0   72.0      No    No   \n",
            "4       1.5    1.2  ...        18.0        17.0   14.0      No    No   \n",
            "...     ...    ...  ...         ...         ...    ...     ...   ...   \n",
            "9995    1.2    1.2  ...        20.0        21.0   20.0      No   Yes   \n",
            "9996    1.0    1.2  ...        24.0        22.0   21.0      No   Yes   \n",
            "9997    0.6    0.6  ...        22.0        27.0   35.0      No    No   \n",
            "9998    0.6    1.0  ...        26.0        24.0   21.0      No    No   \n",
            "9999    0.5    0.5  ...        32.0        24.0   30.0  NotNow   Yes   \n",
            "\n",
            "      구강검진수검여부  치아우식증유무   치석     데이터공개일자  diabetes  \n",
            "0            0      NaN  NaN  12/29/2021         0  \n",
            "1            0      NaN  NaN  12/29/2021         0  \n",
            "2            0      NaN  NaN  12/29/2021         0  \n",
            "3            1      0.0  0.0  12/29/2021         1  \n",
            "4            0      NaN  NaN  12/29/2021         0  \n",
            "...        ...      ...  ...         ...       ...  \n",
            "9995         0      NaN  NaN  12/29/2021         0  \n",
            "9996         1      0.0  0.0  12/29/2021         0  \n",
            "9997         0      NaN  NaN  12/29/2021         0  \n",
            "9998         0      NaN  NaN  12/29/2021         0  \n",
            "9999         0      NaN  NaN  12/29/2021         0  \n",
            "\n",
            "[9909 rows x 32 columns]\n"
          ]
        }
      ]
    },
    {
      "cell_type": "code",
      "source": [
        "display(df.head(20))"
      ],
      "metadata": {
        "colab": {
          "base_uri": "https://localhost:8080/",
          "height": 871
        },
        "id": "CTqngpvwJhaW",
        "outputId": "e9d1c868-c0b3-4816-e5cd-ce22954802e4"
      },
      "execution_count": 22,
      "outputs": [
        {
          "output_type": "display_data",
          "data": {
            "text/plain": [
              "    기준년도  가입자일련번호  시도코드 성별코드  연령대코드(5세단위)  신장(5Cm단위)  체중(5Kg 단위)  허리둘레  시력(좌)  \\\n",
              "0   2020        1    36    M            9        165          60  72.1    1.2   \n",
              "1   2020        2    27    F           13        150          65  81.0    0.8   \n",
              "2   2020        3    11    F           12        155          55  70.0    0.6   \n",
              "3   2020        4    31    M           13        160          70  90.8    1.0   \n",
              "4   2020        5    41    F           12        155          50  75.2    1.5   \n",
              "5   2020        6    27    M            9        185          85  94.0    1.2   \n",
              "6   2020        7    44    M            9        165          80  93.0    0.8   \n",
              "7   2020        8    41    M           13        160          65  92.0    0.5   \n",
              "8   2020        9    41    F           17        150          50  82.0    0.4   \n",
              "9   2020       10    48    F           14        150          45  71.2    0.8   \n",
              "10  2020       11    41    F           16        155          55  84.0    0.8   \n",
              "11  2020       12    41    F           11        150          45  63.0    0.6   \n",
              "12  2020       13    41    M           14        175          80  90.0    0.8   \n",
              "13  2020       14    44    F           10        160          75  89.0    0.5   \n",
              "14  2020       15    11    F           11        145          50  75.4    0.9   \n",
              "15  2020       16    41    M           10        165          75  96.0    0.6   \n",
              "16  2020       17    30    M           11        160          65  90.0    0.6   \n",
              "17  2020       18    44    F           14        145          60  90.0    1.0   \n",
              "18  2020       19    44    M           10        170          65  81.0    0.9   \n",
              "19  2020       20    27    M           13        170          55  76.0    0.8   \n",
              "\n",
              "    시력(우)  ...  (혈청지오티)ALT  감마지티피  흡연상태  음주여부  구강검진수검여부  치아우식증유무   치석  \\\n",
              "0     1.5  ...        27.0   21.0    No    No         0      NaN  NaN   \n",
              "1     0.8  ...        15.0   15.0    No    No         0      NaN  NaN   \n",
              "2     0.7  ...        25.0    7.0    No    No         0      NaN  NaN   \n",
              "3     1.0  ...        97.0   72.0    No    No         1      0.0  0.0   \n",
              "4     1.2  ...        17.0   14.0    No    No         0      NaN  NaN   \n",
              "5     1.2  ...        32.0   26.0   Yes   Yes         0      NaN  NaN   \n",
              "6     0.7  ...        20.0   35.0   Yes   Yes         1      0.0  1.0   \n",
              "7     0.5  ...        17.0   19.0   Yes    No         1      0.0  2.0   \n",
              "8     0.5  ...        48.0   39.0    No    No         0      NaN  NaN   \n",
              "9     0.7  ...        11.0   10.0    No    No         0      NaN  NaN   \n",
              "10    0.8  ...        22.0   12.0    No    No         0      NaN  NaN   \n",
              "11    0.5  ...        23.0   24.0   Yes   Yes         0      NaN  NaN   \n",
              "12    0.7  ...        21.0   41.0   Yes   Yes         1      0.0  0.0   \n",
              "13    0.9  ...        22.0   15.0    No   Yes         0      NaN  NaN   \n",
              "14    1.0  ...        25.0   18.0    No   Yes         0      NaN  NaN   \n",
              "15    0.3  ...        26.0   48.0   Yes   Yes         0      NaN  NaN   \n",
              "16    0.6  ...        54.0   24.0    No   Yes         1      0.0  1.0   \n",
              "17    0.9  ...        21.0   38.0    No    No         0      NaN  NaN   \n",
              "18    1.2  ...        18.0   76.0   Yes   Yes         0      NaN  NaN   \n",
              "19    0.8  ...        12.0   35.0    No    No         0      NaN  NaN   \n",
              "\n",
              "       데이터공개일자  diabetes        BMI  \n",
              "0   12/29/2021         0  22.038567  \n",
              "1   12/29/2021         0  28.888889  \n",
              "2   12/29/2021         0  22.892820  \n",
              "3   12/29/2021         1  27.343750  \n",
              "4   12/29/2021         0  20.811655  \n",
              "5   12/29/2021         0  24.835646  \n",
              "6   12/29/2021         1  29.384757  \n",
              "7   12/29/2021         0  25.390625  \n",
              "8   12/29/2021         0  22.222222  \n",
              "9   12/29/2021         0  20.000000  \n",
              "10  12/29/2021         0  22.892820  \n",
              "11  12/29/2021         0  20.000000  \n",
              "12  12/29/2021         0  26.122449  \n",
              "13  12/29/2021         0  29.296875  \n",
              "14  12/29/2021         0  23.781213  \n",
              "15  12/29/2021         0  27.548209  \n",
              "16  12/29/2021         0  25.390625  \n",
              "17  12/29/2021         0  28.537455  \n",
              "18  12/29/2021         0  22.491349  \n",
              "19  12/29/2021         0  19.031142  \n",
              "\n",
              "[20 rows x 33 columns]"
            ],
            "text/html": [
              "\n",
              "  <div id=\"df-71cbd89b-fc40-48a5-bff8-1eff8d5dca14\">\n",
              "    <div class=\"colab-df-container\">\n",
              "      <div>\n",
              "<style scoped>\n",
              "    .dataframe tbody tr th:only-of-type {\n",
              "        vertical-align: middle;\n",
              "    }\n",
              "\n",
              "    .dataframe tbody tr th {\n",
              "        vertical-align: top;\n",
              "    }\n",
              "\n",
              "    .dataframe thead th {\n",
              "        text-align: right;\n",
              "    }\n",
              "</style>\n",
              "<table border=\"1\" class=\"dataframe\">\n",
              "  <thead>\n",
              "    <tr style=\"text-align: right;\">\n",
              "      <th></th>\n",
              "      <th>기준년도</th>\n",
              "      <th>가입자일련번호</th>\n",
              "      <th>시도코드</th>\n",
              "      <th>성별코드</th>\n",
              "      <th>연령대코드(5세단위)</th>\n",
              "      <th>신장(5Cm단위)</th>\n",
              "      <th>체중(5Kg 단위)</th>\n",
              "      <th>허리둘레</th>\n",
              "      <th>시력(좌)</th>\n",
              "      <th>시력(우)</th>\n",
              "      <th>...</th>\n",
              "      <th>(혈청지오티)ALT</th>\n",
              "      <th>감마지티피</th>\n",
              "      <th>흡연상태</th>\n",
              "      <th>음주여부</th>\n",
              "      <th>구강검진수검여부</th>\n",
              "      <th>치아우식증유무</th>\n",
              "      <th>치석</th>\n",
              "      <th>데이터공개일자</th>\n",
              "      <th>diabetes</th>\n",
              "      <th>BMI</th>\n",
              "    </tr>\n",
              "  </thead>\n",
              "  <tbody>\n",
              "    <tr>\n",
              "      <th>0</th>\n",
              "      <td>2020</td>\n",
              "      <td>1</td>\n",
              "      <td>36</td>\n",
              "      <td>M</td>\n",
              "      <td>9</td>\n",
              "      <td>165</td>\n",
              "      <td>60</td>\n",
              "      <td>72.1</td>\n",
              "      <td>1.2</td>\n",
              "      <td>1.5</td>\n",
              "      <td>...</td>\n",
              "      <td>27.0</td>\n",
              "      <td>21.0</td>\n",
              "      <td>No</td>\n",
              "      <td>No</td>\n",
              "      <td>0</td>\n",
              "      <td>NaN</td>\n",
              "      <td>NaN</td>\n",
              "      <td>12/29/2021</td>\n",
              "      <td>0</td>\n",
              "      <td>22.038567</td>\n",
              "    </tr>\n",
              "    <tr>\n",
              "      <th>1</th>\n",
              "      <td>2020</td>\n",
              "      <td>2</td>\n",
              "      <td>27</td>\n",
              "      <td>F</td>\n",
              "      <td>13</td>\n",
              "      <td>150</td>\n",
              "      <td>65</td>\n",
              "      <td>81.0</td>\n",
              "      <td>0.8</td>\n",
              "      <td>0.8</td>\n",
              "      <td>...</td>\n",
              "      <td>15.0</td>\n",
              "      <td>15.0</td>\n",
              "      <td>No</td>\n",
              "      <td>No</td>\n",
              "      <td>0</td>\n",
              "      <td>NaN</td>\n",
              "      <td>NaN</td>\n",
              "      <td>12/29/2021</td>\n",
              "      <td>0</td>\n",
              "      <td>28.888889</td>\n",
              "    </tr>\n",
              "    <tr>\n",
              "      <th>2</th>\n",
              "      <td>2020</td>\n",
              "      <td>3</td>\n",
              "      <td>11</td>\n",
              "      <td>F</td>\n",
              "      <td>12</td>\n",
              "      <td>155</td>\n",
              "      <td>55</td>\n",
              "      <td>70.0</td>\n",
              "      <td>0.6</td>\n",
              "      <td>0.7</td>\n",
              "      <td>...</td>\n",
              "      <td>25.0</td>\n",
              "      <td>7.0</td>\n",
              "      <td>No</td>\n",
              "      <td>No</td>\n",
              "      <td>0</td>\n",
              "      <td>NaN</td>\n",
              "      <td>NaN</td>\n",
              "      <td>12/29/2021</td>\n",
              "      <td>0</td>\n",
              "      <td>22.892820</td>\n",
              "    </tr>\n",
              "    <tr>\n",
              "      <th>3</th>\n",
              "      <td>2020</td>\n",
              "      <td>4</td>\n",
              "      <td>31</td>\n",
              "      <td>M</td>\n",
              "      <td>13</td>\n",
              "      <td>160</td>\n",
              "      <td>70</td>\n",
              "      <td>90.8</td>\n",
              "      <td>1.0</td>\n",
              "      <td>1.0</td>\n",
              "      <td>...</td>\n",
              "      <td>97.0</td>\n",
              "      <td>72.0</td>\n",
              "      <td>No</td>\n",
              "      <td>No</td>\n",
              "      <td>1</td>\n",
              "      <td>0.0</td>\n",
              "      <td>0.0</td>\n",
              "      <td>12/29/2021</td>\n",
              "      <td>1</td>\n",
              "      <td>27.343750</td>\n",
              "    </tr>\n",
              "    <tr>\n",
              "      <th>4</th>\n",
              "      <td>2020</td>\n",
              "      <td>5</td>\n",
              "      <td>41</td>\n",
              "      <td>F</td>\n",
              "      <td>12</td>\n",
              "      <td>155</td>\n",
              "      <td>50</td>\n",
              "      <td>75.2</td>\n",
              "      <td>1.5</td>\n",
              "      <td>1.2</td>\n",
              "      <td>...</td>\n",
              "      <td>17.0</td>\n",
              "      <td>14.0</td>\n",
              "      <td>No</td>\n",
              "      <td>No</td>\n",
              "      <td>0</td>\n",
              "      <td>NaN</td>\n",
              "      <td>NaN</td>\n",
              "      <td>12/29/2021</td>\n",
              "      <td>0</td>\n",
              "      <td>20.811655</td>\n",
              "    </tr>\n",
              "    <tr>\n",
              "      <th>5</th>\n",
              "      <td>2020</td>\n",
              "      <td>6</td>\n",
              "      <td>27</td>\n",
              "      <td>M</td>\n",
              "      <td>9</td>\n",
              "      <td>185</td>\n",
              "      <td>85</td>\n",
              "      <td>94.0</td>\n",
              "      <td>1.2</td>\n",
              "      <td>1.2</td>\n",
              "      <td>...</td>\n",
              "      <td>32.0</td>\n",
              "      <td>26.0</td>\n",
              "      <td>Yes</td>\n",
              "      <td>Yes</td>\n",
              "      <td>0</td>\n",
              "      <td>NaN</td>\n",
              "      <td>NaN</td>\n",
              "      <td>12/29/2021</td>\n",
              "      <td>0</td>\n",
              "      <td>24.835646</td>\n",
              "    </tr>\n",
              "    <tr>\n",
              "      <th>6</th>\n",
              "      <td>2020</td>\n",
              "      <td>7</td>\n",
              "      <td>44</td>\n",
              "      <td>M</td>\n",
              "      <td>9</td>\n",
              "      <td>165</td>\n",
              "      <td>80</td>\n",
              "      <td>93.0</td>\n",
              "      <td>0.8</td>\n",
              "      <td>0.7</td>\n",
              "      <td>...</td>\n",
              "      <td>20.0</td>\n",
              "      <td>35.0</td>\n",
              "      <td>Yes</td>\n",
              "      <td>Yes</td>\n",
              "      <td>1</td>\n",
              "      <td>0.0</td>\n",
              "      <td>1.0</td>\n",
              "      <td>12/29/2021</td>\n",
              "      <td>1</td>\n",
              "      <td>29.384757</td>\n",
              "    </tr>\n",
              "    <tr>\n",
              "      <th>7</th>\n",
              "      <td>2020</td>\n",
              "      <td>8</td>\n",
              "      <td>41</td>\n",
              "      <td>M</td>\n",
              "      <td>13</td>\n",
              "      <td>160</td>\n",
              "      <td>65</td>\n",
              "      <td>92.0</td>\n",
              "      <td>0.5</td>\n",
              "      <td>0.5</td>\n",
              "      <td>...</td>\n",
              "      <td>17.0</td>\n",
              "      <td>19.0</td>\n",
              "      <td>Yes</td>\n",
              "      <td>No</td>\n",
              "      <td>1</td>\n",
              "      <td>0.0</td>\n",
              "      <td>2.0</td>\n",
              "      <td>12/29/2021</td>\n",
              "      <td>0</td>\n",
              "      <td>25.390625</td>\n",
              "    </tr>\n",
              "    <tr>\n",
              "      <th>8</th>\n",
              "      <td>2020</td>\n",
              "      <td>9</td>\n",
              "      <td>41</td>\n",
              "      <td>F</td>\n",
              "      <td>17</td>\n",
              "      <td>150</td>\n",
              "      <td>50</td>\n",
              "      <td>82.0</td>\n",
              "      <td>0.4</td>\n",
              "      <td>0.5</td>\n",
              "      <td>...</td>\n",
              "      <td>48.0</td>\n",
              "      <td>39.0</td>\n",
              "      <td>No</td>\n",
              "      <td>No</td>\n",
              "      <td>0</td>\n",
              "      <td>NaN</td>\n",
              "      <td>NaN</td>\n",
              "      <td>12/29/2021</td>\n",
              "      <td>0</td>\n",
              "      <td>22.222222</td>\n",
              "    </tr>\n",
              "    <tr>\n",
              "      <th>9</th>\n",
              "      <td>2020</td>\n",
              "      <td>10</td>\n",
              "      <td>48</td>\n",
              "      <td>F</td>\n",
              "      <td>14</td>\n",
              "      <td>150</td>\n",
              "      <td>45</td>\n",
              "      <td>71.2</td>\n",
              "      <td>0.8</td>\n",
              "      <td>0.7</td>\n",
              "      <td>...</td>\n",
              "      <td>11.0</td>\n",
              "      <td>10.0</td>\n",
              "      <td>No</td>\n",
              "      <td>No</td>\n",
              "      <td>0</td>\n",
              "      <td>NaN</td>\n",
              "      <td>NaN</td>\n",
              "      <td>12/29/2021</td>\n",
              "      <td>0</td>\n",
              "      <td>20.000000</td>\n",
              "    </tr>\n",
              "    <tr>\n",
              "      <th>10</th>\n",
              "      <td>2020</td>\n",
              "      <td>11</td>\n",
              "      <td>41</td>\n",
              "      <td>F</td>\n",
              "      <td>16</td>\n",
              "      <td>155</td>\n",
              "      <td>55</td>\n",
              "      <td>84.0</td>\n",
              "      <td>0.8</td>\n",
              "      <td>0.8</td>\n",
              "      <td>...</td>\n",
              "      <td>22.0</td>\n",
              "      <td>12.0</td>\n",
              "      <td>No</td>\n",
              "      <td>No</td>\n",
              "      <td>0</td>\n",
              "      <td>NaN</td>\n",
              "      <td>NaN</td>\n",
              "      <td>12/29/2021</td>\n",
              "      <td>0</td>\n",
              "      <td>22.892820</td>\n",
              "    </tr>\n",
              "    <tr>\n",
              "      <th>11</th>\n",
              "      <td>2020</td>\n",
              "      <td>12</td>\n",
              "      <td>41</td>\n",
              "      <td>F</td>\n",
              "      <td>11</td>\n",
              "      <td>150</td>\n",
              "      <td>45</td>\n",
              "      <td>63.0</td>\n",
              "      <td>0.6</td>\n",
              "      <td>0.5</td>\n",
              "      <td>...</td>\n",
              "      <td>23.0</td>\n",
              "      <td>24.0</td>\n",
              "      <td>Yes</td>\n",
              "      <td>Yes</td>\n",
              "      <td>0</td>\n",
              "      <td>NaN</td>\n",
              "      <td>NaN</td>\n",
              "      <td>12/29/2021</td>\n",
              "      <td>0</td>\n",
              "      <td>20.000000</td>\n",
              "    </tr>\n",
              "    <tr>\n",
              "      <th>12</th>\n",
              "      <td>2020</td>\n",
              "      <td>13</td>\n",
              "      <td>41</td>\n",
              "      <td>M</td>\n",
              "      <td>14</td>\n",
              "      <td>175</td>\n",
              "      <td>80</td>\n",
              "      <td>90.0</td>\n",
              "      <td>0.8</td>\n",
              "      <td>0.7</td>\n",
              "      <td>...</td>\n",
              "      <td>21.0</td>\n",
              "      <td>41.0</td>\n",
              "      <td>Yes</td>\n",
              "      <td>Yes</td>\n",
              "      <td>1</td>\n",
              "      <td>0.0</td>\n",
              "      <td>0.0</td>\n",
              "      <td>12/29/2021</td>\n",
              "      <td>0</td>\n",
              "      <td>26.122449</td>\n",
              "    </tr>\n",
              "    <tr>\n",
              "      <th>13</th>\n",
              "      <td>2020</td>\n",
              "      <td>14</td>\n",
              "      <td>44</td>\n",
              "      <td>F</td>\n",
              "      <td>10</td>\n",
              "      <td>160</td>\n",
              "      <td>75</td>\n",
              "      <td>89.0</td>\n",
              "      <td>0.5</td>\n",
              "      <td>0.9</td>\n",
              "      <td>...</td>\n",
              "      <td>22.0</td>\n",
              "      <td>15.0</td>\n",
              "      <td>No</td>\n",
              "      <td>Yes</td>\n",
              "      <td>0</td>\n",
              "      <td>NaN</td>\n",
              "      <td>NaN</td>\n",
              "      <td>12/29/2021</td>\n",
              "      <td>0</td>\n",
              "      <td>29.296875</td>\n",
              "    </tr>\n",
              "    <tr>\n",
              "      <th>14</th>\n",
              "      <td>2020</td>\n",
              "      <td>15</td>\n",
              "      <td>11</td>\n",
              "      <td>F</td>\n",
              "      <td>11</td>\n",
              "      <td>145</td>\n",
              "      <td>50</td>\n",
              "      <td>75.4</td>\n",
              "      <td>0.9</td>\n",
              "      <td>1.0</td>\n",
              "      <td>...</td>\n",
              "      <td>25.0</td>\n",
              "      <td>18.0</td>\n",
              "      <td>No</td>\n",
              "      <td>Yes</td>\n",
              "      <td>0</td>\n",
              "      <td>NaN</td>\n",
              "      <td>NaN</td>\n",
              "      <td>12/29/2021</td>\n",
              "      <td>0</td>\n",
              "      <td>23.781213</td>\n",
              "    </tr>\n",
              "    <tr>\n",
              "      <th>15</th>\n",
              "      <td>2020</td>\n",
              "      <td>16</td>\n",
              "      <td>41</td>\n",
              "      <td>M</td>\n",
              "      <td>10</td>\n",
              "      <td>165</td>\n",
              "      <td>75</td>\n",
              "      <td>96.0</td>\n",
              "      <td>0.6</td>\n",
              "      <td>0.3</td>\n",
              "      <td>...</td>\n",
              "      <td>26.0</td>\n",
              "      <td>48.0</td>\n",
              "      <td>Yes</td>\n",
              "      <td>Yes</td>\n",
              "      <td>0</td>\n",
              "      <td>NaN</td>\n",
              "      <td>NaN</td>\n",
              "      <td>12/29/2021</td>\n",
              "      <td>0</td>\n",
              "      <td>27.548209</td>\n",
              "    </tr>\n",
              "    <tr>\n",
              "      <th>16</th>\n",
              "      <td>2020</td>\n",
              "      <td>17</td>\n",
              "      <td>30</td>\n",
              "      <td>M</td>\n",
              "      <td>11</td>\n",
              "      <td>160</td>\n",
              "      <td>65</td>\n",
              "      <td>90.0</td>\n",
              "      <td>0.6</td>\n",
              "      <td>0.6</td>\n",
              "      <td>...</td>\n",
              "      <td>54.0</td>\n",
              "      <td>24.0</td>\n",
              "      <td>No</td>\n",
              "      <td>Yes</td>\n",
              "      <td>1</td>\n",
              "      <td>0.0</td>\n",
              "      <td>1.0</td>\n",
              "      <td>12/29/2021</td>\n",
              "      <td>0</td>\n",
              "      <td>25.390625</td>\n",
              "    </tr>\n",
              "    <tr>\n",
              "      <th>17</th>\n",
              "      <td>2020</td>\n",
              "      <td>18</td>\n",
              "      <td>44</td>\n",
              "      <td>F</td>\n",
              "      <td>14</td>\n",
              "      <td>145</td>\n",
              "      <td>60</td>\n",
              "      <td>90.0</td>\n",
              "      <td>1.0</td>\n",
              "      <td>0.9</td>\n",
              "      <td>...</td>\n",
              "      <td>21.0</td>\n",
              "      <td>38.0</td>\n",
              "      <td>No</td>\n",
              "      <td>No</td>\n",
              "      <td>0</td>\n",
              "      <td>NaN</td>\n",
              "      <td>NaN</td>\n",
              "      <td>12/29/2021</td>\n",
              "      <td>0</td>\n",
              "      <td>28.537455</td>\n",
              "    </tr>\n",
              "    <tr>\n",
              "      <th>18</th>\n",
              "      <td>2020</td>\n",
              "      <td>19</td>\n",
              "      <td>44</td>\n",
              "      <td>M</td>\n",
              "      <td>10</td>\n",
              "      <td>170</td>\n",
              "      <td>65</td>\n",
              "      <td>81.0</td>\n",
              "      <td>0.9</td>\n",
              "      <td>1.2</td>\n",
              "      <td>...</td>\n",
              "      <td>18.0</td>\n",
              "      <td>76.0</td>\n",
              "      <td>Yes</td>\n",
              "      <td>Yes</td>\n",
              "      <td>0</td>\n",
              "      <td>NaN</td>\n",
              "      <td>NaN</td>\n",
              "      <td>12/29/2021</td>\n",
              "      <td>0</td>\n",
              "      <td>22.491349</td>\n",
              "    </tr>\n",
              "    <tr>\n",
              "      <th>19</th>\n",
              "      <td>2020</td>\n",
              "      <td>20</td>\n",
              "      <td>27</td>\n",
              "      <td>M</td>\n",
              "      <td>13</td>\n",
              "      <td>170</td>\n",
              "      <td>55</td>\n",
              "      <td>76.0</td>\n",
              "      <td>0.8</td>\n",
              "      <td>0.8</td>\n",
              "      <td>...</td>\n",
              "      <td>12.0</td>\n",
              "      <td>35.0</td>\n",
              "      <td>No</td>\n",
              "      <td>No</td>\n",
              "      <td>0</td>\n",
              "      <td>NaN</td>\n",
              "      <td>NaN</td>\n",
              "      <td>12/29/2021</td>\n",
              "      <td>0</td>\n",
              "      <td>19.031142</td>\n",
              "    </tr>\n",
              "  </tbody>\n",
              "</table>\n",
              "<p>20 rows × 33 columns</p>\n",
              "</div>\n",
              "      <button class=\"colab-df-convert\" onclick=\"convertToInteractive('df-71cbd89b-fc40-48a5-bff8-1eff8d5dca14')\"\n",
              "              title=\"Convert this dataframe to an interactive table.\"\n",
              "              style=\"display:none;\">\n",
              "        \n",
              "  <svg xmlns=\"http://www.w3.org/2000/svg\" height=\"24px\"viewBox=\"0 0 24 24\"\n",
              "       width=\"24px\">\n",
              "    <path d=\"M0 0h24v24H0V0z\" fill=\"none\"/>\n",
              "    <path d=\"M18.56 5.44l.94 2.06.94-2.06 2.06-.94-2.06-.94-.94-2.06-.94 2.06-2.06.94zm-11 1L8.5 8.5l.94-2.06 2.06-.94-2.06-.94L8.5 2.5l-.94 2.06-2.06.94zm10 10l.94 2.06.94-2.06 2.06-.94-2.06-.94-.94-2.06-.94 2.06-2.06.94z\"/><path d=\"M17.41 7.96l-1.37-1.37c-.4-.4-.92-.59-1.43-.59-.52 0-1.04.2-1.43.59L10.3 9.45l-7.72 7.72c-.78.78-.78 2.05 0 2.83L4 21.41c.39.39.9.59 1.41.59.51 0 1.02-.2 1.41-.59l7.78-7.78 2.81-2.81c.8-.78.8-2.07 0-2.86zM5.41 20L4 18.59l7.72-7.72 1.47 1.35L5.41 20z\"/>\n",
              "  </svg>\n",
              "      </button>\n",
              "      \n",
              "  <style>\n",
              "    .colab-df-container {\n",
              "      display:flex;\n",
              "      flex-wrap:wrap;\n",
              "      gap: 12px;\n",
              "    }\n",
              "\n",
              "    .colab-df-convert {\n",
              "      background-color: #E8F0FE;\n",
              "      border: none;\n",
              "      border-radius: 50%;\n",
              "      cursor: pointer;\n",
              "      display: none;\n",
              "      fill: #1967D2;\n",
              "      height: 32px;\n",
              "      padding: 0 0 0 0;\n",
              "      width: 32px;\n",
              "    }\n",
              "\n",
              "    .colab-df-convert:hover {\n",
              "      background-color: #E2EBFA;\n",
              "      box-shadow: 0px 1px 2px rgba(60, 64, 67, 0.3), 0px 1px 3px 1px rgba(60, 64, 67, 0.15);\n",
              "      fill: #174EA6;\n",
              "    }\n",
              "\n",
              "    [theme=dark] .colab-df-convert {\n",
              "      background-color: #3B4455;\n",
              "      fill: #D2E3FC;\n",
              "    }\n",
              "\n",
              "    [theme=dark] .colab-df-convert:hover {\n",
              "      background-color: #434B5C;\n",
              "      box-shadow: 0px 1px 3px 1px rgba(0, 0, 0, 0.15);\n",
              "      filter: drop-shadow(0px 1px 2px rgba(0, 0, 0, 0.3));\n",
              "      fill: #FFFFFF;\n",
              "    }\n",
              "  </style>\n",
              "\n",
              "      <script>\n",
              "        const buttonEl =\n",
              "          document.querySelector('#df-71cbd89b-fc40-48a5-bff8-1eff8d5dca14 button.colab-df-convert');\n",
              "        buttonEl.style.display =\n",
              "          google.colab.kernel.accessAllowed ? 'block' : 'none';\n",
              "\n",
              "        async function convertToInteractive(key) {\n",
              "          const element = document.querySelector('#df-71cbd89b-fc40-48a5-bff8-1eff8d5dca14');\n",
              "          const dataTable =\n",
              "            await google.colab.kernel.invokeFunction('convertToInteractive',\n",
              "                                                     [key], {});\n",
              "          if (!dataTable) return;\n",
              "\n",
              "          const docLinkHtml = 'Like what you see? Visit the ' +\n",
              "            '<a target=\"_blank\" href=https://colab.research.google.com/notebooks/data_table.ipynb>data table notebook</a>'\n",
              "            + ' to learn more about interactive tables.';\n",
              "          element.innerHTML = '';\n",
              "          dataTable['output_type'] = 'display_data';\n",
              "          await google.colab.output.renderOutput(dataTable, element);\n",
              "          const docLink = document.createElement('div');\n",
              "          docLink.innerHTML = docLinkHtml;\n",
              "          element.appendChild(docLink);\n",
              "        }\n",
              "      </script>\n",
              "    </div>\n",
              "  </div>\n",
              "  "
            ]
          },
          "metadata": {}
        }
      ]
    },
    {
      "cell_type": "code",
      "source": [
        "print(df.info())"
      ],
      "metadata": {
        "colab": {
          "base_uri": "https://localhost:8080/"
        },
        "id": "hzvUppkMlmGS",
        "outputId": "02480223-198a-41c7-8fcb-801b6f29034c"
      },
      "execution_count": 23,
      "outputs": [
        {
          "output_type": "stream",
          "name": "stdout",
          "text": [
            "<class 'pandas.core.frame.DataFrame'>\n",
            "Int64Index: 9909 entries, 0 to 9999\n",
            "Data columns (total 33 columns):\n",
            " #   Column       Non-Null Count  Dtype  \n",
            "---  ------       --------------  -----  \n",
            " 0   기준년도         9909 non-null   int64  \n",
            " 1   가입자일련번호      9909 non-null   int64  \n",
            " 2   시도코드         9909 non-null   int64  \n",
            " 3   성별코드         9909 non-null   object \n",
            " 4   연령대코드(5세단위)  9909 non-null   int64  \n",
            " 5   신장(5Cm단위)    9909 non-null   int64  \n",
            " 6   체중(5Kg 단위)   9909 non-null   int64  \n",
            " 7   허리둘레         9909 non-null   float64\n",
            " 8   시력(좌)        9909 non-null   float64\n",
            " 9   시력(우)        9909 non-null   float64\n",
            " 10  청력(좌)        9909 non-null   int64  \n",
            " 11  청력(우)        9909 non-null   int64  \n",
            " 12  수축기혈압        9909 non-null   float64\n",
            " 13  이완기혈압        9909 non-null   float64\n",
            " 14  식전혈당(공복혈당)   9909 non-null   float64\n",
            " 15  총콜레스테롤       4043 non-null   float64\n",
            " 16  트리글리세라이드     4043 non-null   float64\n",
            " 17  HDL콜레스테롤     4043 non-null   float64\n",
            " 18  LDL콜레스테롤     3976 non-null   float64\n",
            " 19  혈색소          9909 non-null   float64\n",
            " 20  요단백          9858 non-null   float64\n",
            " 21  혈청크레아티닌      9909 non-null   float64\n",
            " 22  (혈청지오티)AST   9909 non-null   float64\n",
            " 23  (혈청지오티)ALT   9909 non-null   float64\n",
            " 24  감마지티피        9909 non-null   float64\n",
            " 25  흡연상태         9909 non-null   object \n",
            " 26  음주여부         9909 non-null   object \n",
            " 27  구강검진수검여부     9909 non-null   int64  \n",
            " 28  치아우식증유무      3251 non-null   float64\n",
            " 29  치석           3251 non-null   float64\n",
            " 30  데이터공개일자      9909 non-null   object \n",
            " 31  diabetes     9909 non-null   int64  \n",
            " 32  BMI          9909 non-null   float64\n",
            "dtypes: float64(19), int64(10), object(4)\n",
            "memory usage: 2.8+ MB\n",
            "None\n"
          ]
        }
      ]
    },
    {
      "cell_type": "markdown",
      "source": [
        "흡연상태와 음주여부, 성별코드가 아직 숫자형이 아님\n",
        "두 변수를 숫자형으로 만든 새로운 변수 smoking, drinking을 만든다"
      ],
      "metadata": {
        "id": "B9Gzf1DXnSL8"
      }
    },
    {
      "cell_type": "code",
      "source": [
        "def convSmoking(smoke):\n",
        "  if(smoke == 'Yes'):\n",
        "    return 2\n",
        "  elif (smoke == 'NotNow'):\n",
        "    return 1\n",
        "  else:\n",
        "    return 0"
      ],
      "metadata": {
        "id": "ldopW866nyjq"
      },
      "execution_count": 24,
      "outputs": []
    },
    {
      "cell_type": "code",
      "source": [
        "print(convSmoking(df['흡연상태'][1]), df['흡연상태'][1])\n",
        "print(convSmoking(df['흡연상태'][5]), df['흡연상태'][5])\n",
        "print(convSmoking(df['흡연상태'][20]), df['흡연상태'][20])\n",
        "print(convSmoking(df['흡연상태'][26]), df['흡연상태'][26])"
      ],
      "metadata": {
        "colab": {
          "base_uri": "https://localhost:8080/"
        },
        "id": "G5_7roAvoGYz",
        "outputId": "81838242-ef4f-4de6-f9bd-92a1e5767bc2"
      },
      "execution_count": 25,
      "outputs": [
        {
          "output_type": "stream",
          "name": "stdout",
          "text": [
            "0 No\n",
            "2 Yes\n",
            "0 No\n",
            "1 NotNow\n"
          ]
        }
      ]
    },
    {
      "cell_type": "code",
      "source": [
        "def convDrinking(drink):\n",
        "  if(drink == 'Yes'):\n",
        "    return 1\n",
        "  else:\n",
        "    return 0"
      ],
      "metadata": {
        "id": "A0w4-JrdpYZk"
      },
      "execution_count": 26,
      "outputs": []
    },
    {
      "cell_type": "code",
      "source": [
        "print(convDrinking(df['음주여부'][1]), df['음주여부'][1])\n",
        "print(convDrinking(df['음주여부'][5]), df['음주여부'][5])\n",
        "print(convDrinking(df['음주여부'][20]), df['음주여부'][20])\n",
        "print(convDrinking(df['음주여부'][35]), df['음주여부'][35])"
      ],
      "metadata": {
        "colab": {
          "base_uri": "https://localhost:8080/"
        },
        "id": "8cFMqnJHpgnf",
        "outputId": "c96a78c1-5cf0-4def-f641-62150ee2a6e2"
      },
      "execution_count": 27,
      "outputs": [
        {
          "output_type": "stream",
          "name": "stdout",
          "text": [
            "0 No\n",
            "1 Yes\n",
            "1 Yes\n",
            "1 Yes\n"
          ]
        }
      ]
    },
    {
      "cell_type": "markdown",
      "source": [
        "위의 함수를 이용하지 않고 인코딩을 이용한다"
      ],
      "metadata": {
        "id": "B_W9iYPHxly-"
      }
    },
    {
      "cell_type": "code",
      "source": [
        "from sklearn.preprocessing import LabelEncoder\n",
        "\n",
        "items=df['흡연상태']\n",
        "\n",
        "# LabelEncoder를 객체로 생성한 후 , fit( ) 과 transform( ) 으로 label 인코딩 수행. \n",
        "encoder = LabelEncoder()\n",
        "labels = encoder.fit_transform(items)\n",
        "#encoder.fit(items)\n",
        "#labels = encoder.transform(items)\n",
        "\n",
        "print(items)\n",
        "print('인코딩 클래스:',encoder.classes_)\n",
        "print('인코딩 변환값:',labels)\n",
        "\n",
        "print(items[26], labels[26])\n",
        "print(items[1], labels[1])\n",
        "print(items[5], labels[5])\n",
        "print(items[20], labels[20])"
      ],
      "metadata": {
        "colab": {
          "base_uri": "https://localhost:8080/"
        },
        "id": "tfN1PlEjxoJU",
        "outputId": "b5941896-4fb2-4d69-e153-bd43df2b9017"
      },
      "execution_count": 28,
      "outputs": [
        {
          "output_type": "stream",
          "name": "stdout",
          "text": [
            "0           No\n",
            "1           No\n",
            "2           No\n",
            "3           No\n",
            "4           No\n",
            "         ...  \n",
            "9995        No\n",
            "9996        No\n",
            "9997        No\n",
            "9998        No\n",
            "9999    NotNow\n",
            "Name: 흡연상태, Length: 9909, dtype: object\n",
            "인코딩 클래스: ['No' 'NotNow' 'Yes']\n",
            "인코딩 변환값: [0 0 0 ... 0 0 1]\n",
            "NotNow 1\n",
            "No 0\n",
            "Yes 2\n",
            "No 0\n"
          ]
        }
      ]
    },
    {
      "cell_type": "code",
      "source": [
        "df['smoking'] = labels"
      ],
      "metadata": {
        "id": "ecRq05JzzRTI"
      },
      "execution_count": 29,
      "outputs": []
    },
    {
      "cell_type": "code",
      "source": [
        "display(df.head(10))"
      ],
      "metadata": {
        "colab": {
          "base_uri": "https://localhost:8080/",
          "height": 540
        },
        "id": "OOZq95BQzWKZ",
        "outputId": "47de0918-ed1d-4e20-95df-a0ab6afa2224"
      },
      "execution_count": 30,
      "outputs": [
        {
          "output_type": "display_data",
          "data": {
            "text/plain": [
              "   기준년도  가입자일련번호  시도코드 성별코드  연령대코드(5세단위)  신장(5Cm단위)  체중(5Kg 단위)  허리둘레  시력(좌)  \\\n",
              "0  2020        1    36    M            9        165          60  72.1    1.2   \n",
              "1  2020        2    27    F           13        150          65  81.0    0.8   \n",
              "2  2020        3    11    F           12        155          55  70.0    0.6   \n",
              "3  2020        4    31    M           13        160          70  90.8    1.0   \n",
              "4  2020        5    41    F           12        155          50  75.2    1.5   \n",
              "5  2020        6    27    M            9        185          85  94.0    1.2   \n",
              "6  2020        7    44    M            9        165          80  93.0    0.8   \n",
              "7  2020        8    41    M           13        160          65  92.0    0.5   \n",
              "8  2020        9    41    F           17        150          50  82.0    0.4   \n",
              "9  2020       10    48    F           14        150          45  71.2    0.8   \n",
              "\n",
              "   시력(우)  ...  감마지티피  흡연상태  음주여부  구강검진수검여부  치아우식증유무   치석     데이터공개일자  \\\n",
              "0    1.5  ...   21.0    No    No         0      NaN  NaN  12/29/2021   \n",
              "1    0.8  ...   15.0    No    No         0      NaN  NaN  12/29/2021   \n",
              "2    0.7  ...    7.0    No    No         0      NaN  NaN  12/29/2021   \n",
              "3    1.0  ...   72.0    No    No         1      0.0  0.0  12/29/2021   \n",
              "4    1.2  ...   14.0    No    No         0      NaN  NaN  12/29/2021   \n",
              "5    1.2  ...   26.0   Yes   Yes         0      NaN  NaN  12/29/2021   \n",
              "6    0.7  ...   35.0   Yes   Yes         1      0.0  1.0  12/29/2021   \n",
              "7    0.5  ...   19.0   Yes    No         1      0.0  2.0  12/29/2021   \n",
              "8    0.5  ...   39.0    No    No         0      NaN  NaN  12/29/2021   \n",
              "9    0.7  ...   10.0    No    No         0      NaN  NaN  12/29/2021   \n",
              "\n",
              "   diabetes        BMI  smoking  \n",
              "0         0  22.038567        0  \n",
              "1         0  28.888889        0  \n",
              "2         0  22.892820        0  \n",
              "3         1  27.343750        0  \n",
              "4         0  20.811655        0  \n",
              "5         0  24.835646        2  \n",
              "6         1  29.384757        2  \n",
              "7         0  25.390625        2  \n",
              "8         0  22.222222        0  \n",
              "9         0  20.000000        0  \n",
              "\n",
              "[10 rows x 34 columns]"
            ],
            "text/html": [
              "\n",
              "  <div id=\"df-c83cdd4e-5c65-45c8-88d6-fb9d469b8679\">\n",
              "    <div class=\"colab-df-container\">\n",
              "      <div>\n",
              "<style scoped>\n",
              "    .dataframe tbody tr th:only-of-type {\n",
              "        vertical-align: middle;\n",
              "    }\n",
              "\n",
              "    .dataframe tbody tr th {\n",
              "        vertical-align: top;\n",
              "    }\n",
              "\n",
              "    .dataframe thead th {\n",
              "        text-align: right;\n",
              "    }\n",
              "</style>\n",
              "<table border=\"1\" class=\"dataframe\">\n",
              "  <thead>\n",
              "    <tr style=\"text-align: right;\">\n",
              "      <th></th>\n",
              "      <th>기준년도</th>\n",
              "      <th>가입자일련번호</th>\n",
              "      <th>시도코드</th>\n",
              "      <th>성별코드</th>\n",
              "      <th>연령대코드(5세단위)</th>\n",
              "      <th>신장(5Cm단위)</th>\n",
              "      <th>체중(5Kg 단위)</th>\n",
              "      <th>허리둘레</th>\n",
              "      <th>시력(좌)</th>\n",
              "      <th>시력(우)</th>\n",
              "      <th>...</th>\n",
              "      <th>감마지티피</th>\n",
              "      <th>흡연상태</th>\n",
              "      <th>음주여부</th>\n",
              "      <th>구강검진수검여부</th>\n",
              "      <th>치아우식증유무</th>\n",
              "      <th>치석</th>\n",
              "      <th>데이터공개일자</th>\n",
              "      <th>diabetes</th>\n",
              "      <th>BMI</th>\n",
              "      <th>smoking</th>\n",
              "    </tr>\n",
              "  </thead>\n",
              "  <tbody>\n",
              "    <tr>\n",
              "      <th>0</th>\n",
              "      <td>2020</td>\n",
              "      <td>1</td>\n",
              "      <td>36</td>\n",
              "      <td>M</td>\n",
              "      <td>9</td>\n",
              "      <td>165</td>\n",
              "      <td>60</td>\n",
              "      <td>72.1</td>\n",
              "      <td>1.2</td>\n",
              "      <td>1.5</td>\n",
              "      <td>...</td>\n",
              "      <td>21.0</td>\n",
              "      <td>No</td>\n",
              "      <td>No</td>\n",
              "      <td>0</td>\n",
              "      <td>NaN</td>\n",
              "      <td>NaN</td>\n",
              "      <td>12/29/2021</td>\n",
              "      <td>0</td>\n",
              "      <td>22.038567</td>\n",
              "      <td>0</td>\n",
              "    </tr>\n",
              "    <tr>\n",
              "      <th>1</th>\n",
              "      <td>2020</td>\n",
              "      <td>2</td>\n",
              "      <td>27</td>\n",
              "      <td>F</td>\n",
              "      <td>13</td>\n",
              "      <td>150</td>\n",
              "      <td>65</td>\n",
              "      <td>81.0</td>\n",
              "      <td>0.8</td>\n",
              "      <td>0.8</td>\n",
              "      <td>...</td>\n",
              "      <td>15.0</td>\n",
              "      <td>No</td>\n",
              "      <td>No</td>\n",
              "      <td>0</td>\n",
              "      <td>NaN</td>\n",
              "      <td>NaN</td>\n",
              "      <td>12/29/2021</td>\n",
              "      <td>0</td>\n",
              "      <td>28.888889</td>\n",
              "      <td>0</td>\n",
              "    </tr>\n",
              "    <tr>\n",
              "      <th>2</th>\n",
              "      <td>2020</td>\n",
              "      <td>3</td>\n",
              "      <td>11</td>\n",
              "      <td>F</td>\n",
              "      <td>12</td>\n",
              "      <td>155</td>\n",
              "      <td>55</td>\n",
              "      <td>70.0</td>\n",
              "      <td>0.6</td>\n",
              "      <td>0.7</td>\n",
              "      <td>...</td>\n",
              "      <td>7.0</td>\n",
              "      <td>No</td>\n",
              "      <td>No</td>\n",
              "      <td>0</td>\n",
              "      <td>NaN</td>\n",
              "      <td>NaN</td>\n",
              "      <td>12/29/2021</td>\n",
              "      <td>0</td>\n",
              "      <td>22.892820</td>\n",
              "      <td>0</td>\n",
              "    </tr>\n",
              "    <tr>\n",
              "      <th>3</th>\n",
              "      <td>2020</td>\n",
              "      <td>4</td>\n",
              "      <td>31</td>\n",
              "      <td>M</td>\n",
              "      <td>13</td>\n",
              "      <td>160</td>\n",
              "      <td>70</td>\n",
              "      <td>90.8</td>\n",
              "      <td>1.0</td>\n",
              "      <td>1.0</td>\n",
              "      <td>...</td>\n",
              "      <td>72.0</td>\n",
              "      <td>No</td>\n",
              "      <td>No</td>\n",
              "      <td>1</td>\n",
              "      <td>0.0</td>\n",
              "      <td>0.0</td>\n",
              "      <td>12/29/2021</td>\n",
              "      <td>1</td>\n",
              "      <td>27.343750</td>\n",
              "      <td>0</td>\n",
              "    </tr>\n",
              "    <tr>\n",
              "      <th>4</th>\n",
              "      <td>2020</td>\n",
              "      <td>5</td>\n",
              "      <td>41</td>\n",
              "      <td>F</td>\n",
              "      <td>12</td>\n",
              "      <td>155</td>\n",
              "      <td>50</td>\n",
              "      <td>75.2</td>\n",
              "      <td>1.5</td>\n",
              "      <td>1.2</td>\n",
              "      <td>...</td>\n",
              "      <td>14.0</td>\n",
              "      <td>No</td>\n",
              "      <td>No</td>\n",
              "      <td>0</td>\n",
              "      <td>NaN</td>\n",
              "      <td>NaN</td>\n",
              "      <td>12/29/2021</td>\n",
              "      <td>0</td>\n",
              "      <td>20.811655</td>\n",
              "      <td>0</td>\n",
              "    </tr>\n",
              "    <tr>\n",
              "      <th>5</th>\n",
              "      <td>2020</td>\n",
              "      <td>6</td>\n",
              "      <td>27</td>\n",
              "      <td>M</td>\n",
              "      <td>9</td>\n",
              "      <td>185</td>\n",
              "      <td>85</td>\n",
              "      <td>94.0</td>\n",
              "      <td>1.2</td>\n",
              "      <td>1.2</td>\n",
              "      <td>...</td>\n",
              "      <td>26.0</td>\n",
              "      <td>Yes</td>\n",
              "      <td>Yes</td>\n",
              "      <td>0</td>\n",
              "      <td>NaN</td>\n",
              "      <td>NaN</td>\n",
              "      <td>12/29/2021</td>\n",
              "      <td>0</td>\n",
              "      <td>24.835646</td>\n",
              "      <td>2</td>\n",
              "    </tr>\n",
              "    <tr>\n",
              "      <th>6</th>\n",
              "      <td>2020</td>\n",
              "      <td>7</td>\n",
              "      <td>44</td>\n",
              "      <td>M</td>\n",
              "      <td>9</td>\n",
              "      <td>165</td>\n",
              "      <td>80</td>\n",
              "      <td>93.0</td>\n",
              "      <td>0.8</td>\n",
              "      <td>0.7</td>\n",
              "      <td>...</td>\n",
              "      <td>35.0</td>\n",
              "      <td>Yes</td>\n",
              "      <td>Yes</td>\n",
              "      <td>1</td>\n",
              "      <td>0.0</td>\n",
              "      <td>1.0</td>\n",
              "      <td>12/29/2021</td>\n",
              "      <td>1</td>\n",
              "      <td>29.384757</td>\n",
              "      <td>2</td>\n",
              "    </tr>\n",
              "    <tr>\n",
              "      <th>7</th>\n",
              "      <td>2020</td>\n",
              "      <td>8</td>\n",
              "      <td>41</td>\n",
              "      <td>M</td>\n",
              "      <td>13</td>\n",
              "      <td>160</td>\n",
              "      <td>65</td>\n",
              "      <td>92.0</td>\n",
              "      <td>0.5</td>\n",
              "      <td>0.5</td>\n",
              "      <td>...</td>\n",
              "      <td>19.0</td>\n",
              "      <td>Yes</td>\n",
              "      <td>No</td>\n",
              "      <td>1</td>\n",
              "      <td>0.0</td>\n",
              "      <td>2.0</td>\n",
              "      <td>12/29/2021</td>\n",
              "      <td>0</td>\n",
              "      <td>25.390625</td>\n",
              "      <td>2</td>\n",
              "    </tr>\n",
              "    <tr>\n",
              "      <th>8</th>\n",
              "      <td>2020</td>\n",
              "      <td>9</td>\n",
              "      <td>41</td>\n",
              "      <td>F</td>\n",
              "      <td>17</td>\n",
              "      <td>150</td>\n",
              "      <td>50</td>\n",
              "      <td>82.0</td>\n",
              "      <td>0.4</td>\n",
              "      <td>0.5</td>\n",
              "      <td>...</td>\n",
              "      <td>39.0</td>\n",
              "      <td>No</td>\n",
              "      <td>No</td>\n",
              "      <td>0</td>\n",
              "      <td>NaN</td>\n",
              "      <td>NaN</td>\n",
              "      <td>12/29/2021</td>\n",
              "      <td>0</td>\n",
              "      <td>22.222222</td>\n",
              "      <td>0</td>\n",
              "    </tr>\n",
              "    <tr>\n",
              "      <th>9</th>\n",
              "      <td>2020</td>\n",
              "      <td>10</td>\n",
              "      <td>48</td>\n",
              "      <td>F</td>\n",
              "      <td>14</td>\n",
              "      <td>150</td>\n",
              "      <td>45</td>\n",
              "      <td>71.2</td>\n",
              "      <td>0.8</td>\n",
              "      <td>0.7</td>\n",
              "      <td>...</td>\n",
              "      <td>10.0</td>\n",
              "      <td>No</td>\n",
              "      <td>No</td>\n",
              "      <td>0</td>\n",
              "      <td>NaN</td>\n",
              "      <td>NaN</td>\n",
              "      <td>12/29/2021</td>\n",
              "      <td>0</td>\n",
              "      <td>20.000000</td>\n",
              "      <td>0</td>\n",
              "    </tr>\n",
              "  </tbody>\n",
              "</table>\n",
              "<p>10 rows × 34 columns</p>\n",
              "</div>\n",
              "      <button class=\"colab-df-convert\" onclick=\"convertToInteractive('df-c83cdd4e-5c65-45c8-88d6-fb9d469b8679')\"\n",
              "              title=\"Convert this dataframe to an interactive table.\"\n",
              "              style=\"display:none;\">\n",
              "        \n",
              "  <svg xmlns=\"http://www.w3.org/2000/svg\" height=\"24px\"viewBox=\"0 0 24 24\"\n",
              "       width=\"24px\">\n",
              "    <path d=\"M0 0h24v24H0V0z\" fill=\"none\"/>\n",
              "    <path d=\"M18.56 5.44l.94 2.06.94-2.06 2.06-.94-2.06-.94-.94-2.06-.94 2.06-2.06.94zm-11 1L8.5 8.5l.94-2.06 2.06-.94-2.06-.94L8.5 2.5l-.94 2.06-2.06.94zm10 10l.94 2.06.94-2.06 2.06-.94-2.06-.94-.94-2.06-.94 2.06-2.06.94z\"/><path d=\"M17.41 7.96l-1.37-1.37c-.4-.4-.92-.59-1.43-.59-.52 0-1.04.2-1.43.59L10.3 9.45l-7.72 7.72c-.78.78-.78 2.05 0 2.83L4 21.41c.39.39.9.59 1.41.59.51 0 1.02-.2 1.41-.59l7.78-7.78 2.81-2.81c.8-.78.8-2.07 0-2.86zM5.41 20L4 18.59l7.72-7.72 1.47 1.35L5.41 20z\"/>\n",
              "  </svg>\n",
              "      </button>\n",
              "      \n",
              "  <style>\n",
              "    .colab-df-container {\n",
              "      display:flex;\n",
              "      flex-wrap:wrap;\n",
              "      gap: 12px;\n",
              "    }\n",
              "\n",
              "    .colab-df-convert {\n",
              "      background-color: #E8F0FE;\n",
              "      border: none;\n",
              "      border-radius: 50%;\n",
              "      cursor: pointer;\n",
              "      display: none;\n",
              "      fill: #1967D2;\n",
              "      height: 32px;\n",
              "      padding: 0 0 0 0;\n",
              "      width: 32px;\n",
              "    }\n",
              "\n",
              "    .colab-df-convert:hover {\n",
              "      background-color: #E2EBFA;\n",
              "      box-shadow: 0px 1px 2px rgba(60, 64, 67, 0.3), 0px 1px 3px 1px rgba(60, 64, 67, 0.15);\n",
              "      fill: #174EA6;\n",
              "    }\n",
              "\n",
              "    [theme=dark] .colab-df-convert {\n",
              "      background-color: #3B4455;\n",
              "      fill: #D2E3FC;\n",
              "    }\n",
              "\n",
              "    [theme=dark] .colab-df-convert:hover {\n",
              "      background-color: #434B5C;\n",
              "      box-shadow: 0px 1px 3px 1px rgba(0, 0, 0, 0.15);\n",
              "      filter: drop-shadow(0px 1px 2px rgba(0, 0, 0, 0.3));\n",
              "      fill: #FFFFFF;\n",
              "    }\n",
              "  </style>\n",
              "\n",
              "      <script>\n",
              "        const buttonEl =\n",
              "          document.querySelector('#df-c83cdd4e-5c65-45c8-88d6-fb9d469b8679 button.colab-df-convert');\n",
              "        buttonEl.style.display =\n",
              "          google.colab.kernel.accessAllowed ? 'block' : 'none';\n",
              "\n",
              "        async function convertToInteractive(key) {\n",
              "          const element = document.querySelector('#df-c83cdd4e-5c65-45c8-88d6-fb9d469b8679');\n",
              "          const dataTable =\n",
              "            await google.colab.kernel.invokeFunction('convertToInteractive',\n",
              "                                                     [key], {});\n",
              "          if (!dataTable) return;\n",
              "\n",
              "          const docLinkHtml = 'Like what you see? Visit the ' +\n",
              "            '<a target=\"_blank\" href=https://colab.research.google.com/notebooks/data_table.ipynb>data table notebook</a>'\n",
              "            + ' to learn more about interactive tables.';\n",
              "          element.innerHTML = '';\n",
              "          dataTable['output_type'] = 'display_data';\n",
              "          await google.colab.output.renderOutput(dataTable, element);\n",
              "          const docLink = document.createElement('div');\n",
              "          docLink.innerHTML = docLinkHtml;\n",
              "          element.appendChild(docLink);\n",
              "        }\n",
              "      </script>\n",
              "    </div>\n",
              "  </div>\n",
              "  "
            ]
          },
          "metadata": {}
        }
      ]
    },
    {
      "cell_type": "code",
      "source": [
        "items_drink=df['음주여부']\n",
        "\n",
        "# LabelEncoder를 객체로 생성한 후 , fit( ) 과 transform( ) 으로 label 인코딩 수행. \n",
        "encoder_drink = LabelEncoder()\n",
        "labels_drink = encoder_drink.fit_transform(items_drink)\n",
        "#encoder.fit(items)\n",
        "#labels = encoder.transform(items)\n",
        "\n",
        "print(items_drink)\n",
        "print('인코딩 클래스:',encoder_drink.classes_)\n",
        "print('인코딩 변환값:',labels_drink)\n",
        "\n",
        "print(items_drink[26], labels_drink[26])\n",
        "print(items_drink[1], labels_drink[1])\n",
        "print(items_drink[5], labels_drink[5])\n",
        "print(items_drink[20], labels_drink[20])"
      ],
      "metadata": {
        "colab": {
          "base_uri": "https://localhost:8080/"
        },
        "id": "vxU7z6khzfSW",
        "outputId": "fbdaf64e-ace3-442c-8e8c-2c80306e00c2"
      },
      "execution_count": 31,
      "outputs": [
        {
          "output_type": "stream",
          "name": "stdout",
          "text": [
            "0        No\n",
            "1        No\n",
            "2        No\n",
            "3        No\n",
            "4        No\n",
            "       ... \n",
            "9995    Yes\n",
            "9996    Yes\n",
            "9997     No\n",
            "9998     No\n",
            "9999    Yes\n",
            "Name: 음주여부, Length: 9909, dtype: object\n",
            "인코딩 클래스: ['No' 'Yes']\n",
            "인코딩 변환값: [0 0 0 ... 0 0 1]\n",
            "Yes 1\n",
            "No 0\n",
            "Yes 1\n",
            "Yes 1\n"
          ]
        }
      ]
    },
    {
      "cell_type": "code",
      "source": [
        "df['drinking'] = labels_drink"
      ],
      "metadata": {
        "id": "U1fdPDQvz2XF"
      },
      "execution_count": 32,
      "outputs": []
    },
    {
      "cell_type": "code",
      "source": [
        "display(df.head(10))"
      ],
      "metadata": {
        "colab": {
          "base_uri": "https://localhost:8080/",
          "height": 558
        },
        "id": "BlBiRCuAz67m",
        "outputId": "e1e403fd-2cc8-4e56-b1de-f97a10490ed3"
      },
      "execution_count": 33,
      "outputs": [
        {
          "output_type": "display_data",
          "data": {
            "text/plain": [
              "   기준년도  가입자일련번호  시도코드 성별코드  연령대코드(5세단위)  신장(5Cm단위)  체중(5Kg 단위)  허리둘레  시력(좌)  \\\n",
              "0  2020        1    36    M            9        165          60  72.1    1.2   \n",
              "1  2020        2    27    F           13        150          65  81.0    0.8   \n",
              "2  2020        3    11    F           12        155          55  70.0    0.6   \n",
              "3  2020        4    31    M           13        160          70  90.8    1.0   \n",
              "4  2020        5    41    F           12        155          50  75.2    1.5   \n",
              "5  2020        6    27    M            9        185          85  94.0    1.2   \n",
              "6  2020        7    44    M            9        165          80  93.0    0.8   \n",
              "7  2020        8    41    M           13        160          65  92.0    0.5   \n",
              "8  2020        9    41    F           17        150          50  82.0    0.4   \n",
              "9  2020       10    48    F           14        150          45  71.2    0.8   \n",
              "\n",
              "   시력(우)  ...  흡연상태  음주여부  구강검진수검여부  치아우식증유무   치석     데이터공개일자  diabetes  \\\n",
              "0    1.5  ...    No    No         0      NaN  NaN  12/29/2021         0   \n",
              "1    0.8  ...    No    No         0      NaN  NaN  12/29/2021         0   \n",
              "2    0.7  ...    No    No         0      NaN  NaN  12/29/2021         0   \n",
              "3    1.0  ...    No    No         1      0.0  0.0  12/29/2021         1   \n",
              "4    1.2  ...    No    No         0      NaN  NaN  12/29/2021         0   \n",
              "5    1.2  ...   Yes   Yes         0      NaN  NaN  12/29/2021         0   \n",
              "6    0.7  ...   Yes   Yes         1      0.0  1.0  12/29/2021         1   \n",
              "7    0.5  ...   Yes    No         1      0.0  2.0  12/29/2021         0   \n",
              "8    0.5  ...    No    No         0      NaN  NaN  12/29/2021         0   \n",
              "9    0.7  ...    No    No         0      NaN  NaN  12/29/2021         0   \n",
              "\n",
              "         BMI  smoking  drinking  \n",
              "0  22.038567        0         0  \n",
              "1  28.888889        0         0  \n",
              "2  22.892820        0         0  \n",
              "3  27.343750        0         0  \n",
              "4  20.811655        0         0  \n",
              "5  24.835646        2         1  \n",
              "6  29.384757        2         1  \n",
              "7  25.390625        2         0  \n",
              "8  22.222222        0         0  \n",
              "9  20.000000        0         0  \n",
              "\n",
              "[10 rows x 35 columns]"
            ],
            "text/html": [
              "\n",
              "  <div id=\"df-19be3f89-ae08-4675-8595-4edfcd963570\">\n",
              "    <div class=\"colab-df-container\">\n",
              "      <div>\n",
              "<style scoped>\n",
              "    .dataframe tbody tr th:only-of-type {\n",
              "        vertical-align: middle;\n",
              "    }\n",
              "\n",
              "    .dataframe tbody tr th {\n",
              "        vertical-align: top;\n",
              "    }\n",
              "\n",
              "    .dataframe thead th {\n",
              "        text-align: right;\n",
              "    }\n",
              "</style>\n",
              "<table border=\"1\" class=\"dataframe\">\n",
              "  <thead>\n",
              "    <tr style=\"text-align: right;\">\n",
              "      <th></th>\n",
              "      <th>기준년도</th>\n",
              "      <th>가입자일련번호</th>\n",
              "      <th>시도코드</th>\n",
              "      <th>성별코드</th>\n",
              "      <th>연령대코드(5세단위)</th>\n",
              "      <th>신장(5Cm단위)</th>\n",
              "      <th>체중(5Kg 단위)</th>\n",
              "      <th>허리둘레</th>\n",
              "      <th>시력(좌)</th>\n",
              "      <th>시력(우)</th>\n",
              "      <th>...</th>\n",
              "      <th>흡연상태</th>\n",
              "      <th>음주여부</th>\n",
              "      <th>구강검진수검여부</th>\n",
              "      <th>치아우식증유무</th>\n",
              "      <th>치석</th>\n",
              "      <th>데이터공개일자</th>\n",
              "      <th>diabetes</th>\n",
              "      <th>BMI</th>\n",
              "      <th>smoking</th>\n",
              "      <th>drinking</th>\n",
              "    </tr>\n",
              "  </thead>\n",
              "  <tbody>\n",
              "    <tr>\n",
              "      <th>0</th>\n",
              "      <td>2020</td>\n",
              "      <td>1</td>\n",
              "      <td>36</td>\n",
              "      <td>M</td>\n",
              "      <td>9</td>\n",
              "      <td>165</td>\n",
              "      <td>60</td>\n",
              "      <td>72.1</td>\n",
              "      <td>1.2</td>\n",
              "      <td>1.5</td>\n",
              "      <td>...</td>\n",
              "      <td>No</td>\n",
              "      <td>No</td>\n",
              "      <td>0</td>\n",
              "      <td>NaN</td>\n",
              "      <td>NaN</td>\n",
              "      <td>12/29/2021</td>\n",
              "      <td>0</td>\n",
              "      <td>22.038567</td>\n",
              "      <td>0</td>\n",
              "      <td>0</td>\n",
              "    </tr>\n",
              "    <tr>\n",
              "      <th>1</th>\n",
              "      <td>2020</td>\n",
              "      <td>2</td>\n",
              "      <td>27</td>\n",
              "      <td>F</td>\n",
              "      <td>13</td>\n",
              "      <td>150</td>\n",
              "      <td>65</td>\n",
              "      <td>81.0</td>\n",
              "      <td>0.8</td>\n",
              "      <td>0.8</td>\n",
              "      <td>...</td>\n",
              "      <td>No</td>\n",
              "      <td>No</td>\n",
              "      <td>0</td>\n",
              "      <td>NaN</td>\n",
              "      <td>NaN</td>\n",
              "      <td>12/29/2021</td>\n",
              "      <td>0</td>\n",
              "      <td>28.888889</td>\n",
              "      <td>0</td>\n",
              "      <td>0</td>\n",
              "    </tr>\n",
              "    <tr>\n",
              "      <th>2</th>\n",
              "      <td>2020</td>\n",
              "      <td>3</td>\n",
              "      <td>11</td>\n",
              "      <td>F</td>\n",
              "      <td>12</td>\n",
              "      <td>155</td>\n",
              "      <td>55</td>\n",
              "      <td>70.0</td>\n",
              "      <td>0.6</td>\n",
              "      <td>0.7</td>\n",
              "      <td>...</td>\n",
              "      <td>No</td>\n",
              "      <td>No</td>\n",
              "      <td>0</td>\n",
              "      <td>NaN</td>\n",
              "      <td>NaN</td>\n",
              "      <td>12/29/2021</td>\n",
              "      <td>0</td>\n",
              "      <td>22.892820</td>\n",
              "      <td>0</td>\n",
              "      <td>0</td>\n",
              "    </tr>\n",
              "    <tr>\n",
              "      <th>3</th>\n",
              "      <td>2020</td>\n",
              "      <td>4</td>\n",
              "      <td>31</td>\n",
              "      <td>M</td>\n",
              "      <td>13</td>\n",
              "      <td>160</td>\n",
              "      <td>70</td>\n",
              "      <td>90.8</td>\n",
              "      <td>1.0</td>\n",
              "      <td>1.0</td>\n",
              "      <td>...</td>\n",
              "      <td>No</td>\n",
              "      <td>No</td>\n",
              "      <td>1</td>\n",
              "      <td>0.0</td>\n",
              "      <td>0.0</td>\n",
              "      <td>12/29/2021</td>\n",
              "      <td>1</td>\n",
              "      <td>27.343750</td>\n",
              "      <td>0</td>\n",
              "      <td>0</td>\n",
              "    </tr>\n",
              "    <tr>\n",
              "      <th>4</th>\n",
              "      <td>2020</td>\n",
              "      <td>5</td>\n",
              "      <td>41</td>\n",
              "      <td>F</td>\n",
              "      <td>12</td>\n",
              "      <td>155</td>\n",
              "      <td>50</td>\n",
              "      <td>75.2</td>\n",
              "      <td>1.5</td>\n",
              "      <td>1.2</td>\n",
              "      <td>...</td>\n",
              "      <td>No</td>\n",
              "      <td>No</td>\n",
              "      <td>0</td>\n",
              "      <td>NaN</td>\n",
              "      <td>NaN</td>\n",
              "      <td>12/29/2021</td>\n",
              "      <td>0</td>\n",
              "      <td>20.811655</td>\n",
              "      <td>0</td>\n",
              "      <td>0</td>\n",
              "    </tr>\n",
              "    <tr>\n",
              "      <th>5</th>\n",
              "      <td>2020</td>\n",
              "      <td>6</td>\n",
              "      <td>27</td>\n",
              "      <td>M</td>\n",
              "      <td>9</td>\n",
              "      <td>185</td>\n",
              "      <td>85</td>\n",
              "      <td>94.0</td>\n",
              "      <td>1.2</td>\n",
              "      <td>1.2</td>\n",
              "      <td>...</td>\n",
              "      <td>Yes</td>\n",
              "      <td>Yes</td>\n",
              "      <td>0</td>\n",
              "      <td>NaN</td>\n",
              "      <td>NaN</td>\n",
              "      <td>12/29/2021</td>\n",
              "      <td>0</td>\n",
              "      <td>24.835646</td>\n",
              "      <td>2</td>\n",
              "      <td>1</td>\n",
              "    </tr>\n",
              "    <tr>\n",
              "      <th>6</th>\n",
              "      <td>2020</td>\n",
              "      <td>7</td>\n",
              "      <td>44</td>\n",
              "      <td>M</td>\n",
              "      <td>9</td>\n",
              "      <td>165</td>\n",
              "      <td>80</td>\n",
              "      <td>93.0</td>\n",
              "      <td>0.8</td>\n",
              "      <td>0.7</td>\n",
              "      <td>...</td>\n",
              "      <td>Yes</td>\n",
              "      <td>Yes</td>\n",
              "      <td>1</td>\n",
              "      <td>0.0</td>\n",
              "      <td>1.0</td>\n",
              "      <td>12/29/2021</td>\n",
              "      <td>1</td>\n",
              "      <td>29.384757</td>\n",
              "      <td>2</td>\n",
              "      <td>1</td>\n",
              "    </tr>\n",
              "    <tr>\n",
              "      <th>7</th>\n",
              "      <td>2020</td>\n",
              "      <td>8</td>\n",
              "      <td>41</td>\n",
              "      <td>M</td>\n",
              "      <td>13</td>\n",
              "      <td>160</td>\n",
              "      <td>65</td>\n",
              "      <td>92.0</td>\n",
              "      <td>0.5</td>\n",
              "      <td>0.5</td>\n",
              "      <td>...</td>\n",
              "      <td>Yes</td>\n",
              "      <td>No</td>\n",
              "      <td>1</td>\n",
              "      <td>0.0</td>\n",
              "      <td>2.0</td>\n",
              "      <td>12/29/2021</td>\n",
              "      <td>0</td>\n",
              "      <td>25.390625</td>\n",
              "      <td>2</td>\n",
              "      <td>0</td>\n",
              "    </tr>\n",
              "    <tr>\n",
              "      <th>8</th>\n",
              "      <td>2020</td>\n",
              "      <td>9</td>\n",
              "      <td>41</td>\n",
              "      <td>F</td>\n",
              "      <td>17</td>\n",
              "      <td>150</td>\n",
              "      <td>50</td>\n",
              "      <td>82.0</td>\n",
              "      <td>0.4</td>\n",
              "      <td>0.5</td>\n",
              "      <td>...</td>\n",
              "      <td>No</td>\n",
              "      <td>No</td>\n",
              "      <td>0</td>\n",
              "      <td>NaN</td>\n",
              "      <td>NaN</td>\n",
              "      <td>12/29/2021</td>\n",
              "      <td>0</td>\n",
              "      <td>22.222222</td>\n",
              "      <td>0</td>\n",
              "      <td>0</td>\n",
              "    </tr>\n",
              "    <tr>\n",
              "      <th>9</th>\n",
              "      <td>2020</td>\n",
              "      <td>10</td>\n",
              "      <td>48</td>\n",
              "      <td>F</td>\n",
              "      <td>14</td>\n",
              "      <td>150</td>\n",
              "      <td>45</td>\n",
              "      <td>71.2</td>\n",
              "      <td>0.8</td>\n",
              "      <td>0.7</td>\n",
              "      <td>...</td>\n",
              "      <td>No</td>\n",
              "      <td>No</td>\n",
              "      <td>0</td>\n",
              "      <td>NaN</td>\n",
              "      <td>NaN</td>\n",
              "      <td>12/29/2021</td>\n",
              "      <td>0</td>\n",
              "      <td>20.000000</td>\n",
              "      <td>0</td>\n",
              "      <td>0</td>\n",
              "    </tr>\n",
              "  </tbody>\n",
              "</table>\n",
              "<p>10 rows × 35 columns</p>\n",
              "</div>\n",
              "      <button class=\"colab-df-convert\" onclick=\"convertToInteractive('df-19be3f89-ae08-4675-8595-4edfcd963570')\"\n",
              "              title=\"Convert this dataframe to an interactive table.\"\n",
              "              style=\"display:none;\">\n",
              "        \n",
              "  <svg xmlns=\"http://www.w3.org/2000/svg\" height=\"24px\"viewBox=\"0 0 24 24\"\n",
              "       width=\"24px\">\n",
              "    <path d=\"M0 0h24v24H0V0z\" fill=\"none\"/>\n",
              "    <path d=\"M18.56 5.44l.94 2.06.94-2.06 2.06-.94-2.06-.94-.94-2.06-.94 2.06-2.06.94zm-11 1L8.5 8.5l.94-2.06 2.06-.94-2.06-.94L8.5 2.5l-.94 2.06-2.06.94zm10 10l.94 2.06.94-2.06 2.06-.94-2.06-.94-.94-2.06-.94 2.06-2.06.94z\"/><path d=\"M17.41 7.96l-1.37-1.37c-.4-.4-.92-.59-1.43-.59-.52 0-1.04.2-1.43.59L10.3 9.45l-7.72 7.72c-.78.78-.78 2.05 0 2.83L4 21.41c.39.39.9.59 1.41.59.51 0 1.02-.2 1.41-.59l7.78-7.78 2.81-2.81c.8-.78.8-2.07 0-2.86zM5.41 20L4 18.59l7.72-7.72 1.47 1.35L5.41 20z\"/>\n",
              "  </svg>\n",
              "      </button>\n",
              "      \n",
              "  <style>\n",
              "    .colab-df-container {\n",
              "      display:flex;\n",
              "      flex-wrap:wrap;\n",
              "      gap: 12px;\n",
              "    }\n",
              "\n",
              "    .colab-df-convert {\n",
              "      background-color: #E8F0FE;\n",
              "      border: none;\n",
              "      border-radius: 50%;\n",
              "      cursor: pointer;\n",
              "      display: none;\n",
              "      fill: #1967D2;\n",
              "      height: 32px;\n",
              "      padding: 0 0 0 0;\n",
              "      width: 32px;\n",
              "    }\n",
              "\n",
              "    .colab-df-convert:hover {\n",
              "      background-color: #E2EBFA;\n",
              "      box-shadow: 0px 1px 2px rgba(60, 64, 67, 0.3), 0px 1px 3px 1px rgba(60, 64, 67, 0.15);\n",
              "      fill: #174EA6;\n",
              "    }\n",
              "\n",
              "    [theme=dark] .colab-df-convert {\n",
              "      background-color: #3B4455;\n",
              "      fill: #D2E3FC;\n",
              "    }\n",
              "\n",
              "    [theme=dark] .colab-df-convert:hover {\n",
              "      background-color: #434B5C;\n",
              "      box-shadow: 0px 1px 3px 1px rgba(0, 0, 0, 0.15);\n",
              "      filter: drop-shadow(0px 1px 2px rgba(0, 0, 0, 0.3));\n",
              "      fill: #FFFFFF;\n",
              "    }\n",
              "  </style>\n",
              "\n",
              "      <script>\n",
              "        const buttonEl =\n",
              "          document.querySelector('#df-19be3f89-ae08-4675-8595-4edfcd963570 button.colab-df-convert');\n",
              "        buttonEl.style.display =\n",
              "          google.colab.kernel.accessAllowed ? 'block' : 'none';\n",
              "\n",
              "        async function convertToInteractive(key) {\n",
              "          const element = document.querySelector('#df-19be3f89-ae08-4675-8595-4edfcd963570');\n",
              "          const dataTable =\n",
              "            await google.colab.kernel.invokeFunction('convertToInteractive',\n",
              "                                                     [key], {});\n",
              "          if (!dataTable) return;\n",
              "\n",
              "          const docLinkHtml = 'Like what you see? Visit the ' +\n",
              "            '<a target=\"_blank\" href=https://colab.research.google.com/notebooks/data_table.ipynb>data table notebook</a>'\n",
              "            + ' to learn more about interactive tables.';\n",
              "          element.innerHTML = '';\n",
              "          dataTable['output_type'] = 'display_data';\n",
              "          await google.colab.output.renderOutput(dataTable, element);\n",
              "          const docLink = document.createElement('div');\n",
              "          docLink.innerHTML = docLinkHtml;\n",
              "          element.appendChild(docLink);\n",
              "        }\n",
              "      </script>\n",
              "    </div>\n",
              "  </div>\n",
              "  "
            ]
          },
          "metadata": {}
        }
      ]
    },
    {
      "cell_type": "code",
      "source": [
        "items_sex=df['성별코드']\n",
        "\n",
        "# LabelEncoder를 객체로 생성한 후 , fit( ) 과 transform( ) 으로 label 인코딩 수행. \n",
        "encoder_sex = LabelEncoder()\n",
        "labels_sex = encoder_sex.fit_transform(items_sex)\n",
        "#encoder.fit(items)\n",
        "#labels = encoder.transform(items)\n",
        "\n",
        "print(items_sex)\n",
        "print('인코딩 클래스:',encoder_sex.classes_)\n",
        "print('인코딩 변환값:',labels_sex)\n",
        "\n",
        "print(items_sex[26], labels_sex[26])\n",
        "print(items_sex[1], labels_sex[1])\n",
        "print(items_sex[5], labels_sex[5])\n",
        "print(items_sex[20], labels_sex[20])"
      ],
      "metadata": {
        "colab": {
          "base_uri": "https://localhost:8080/"
        },
        "id": "kWoAeR_8z-K6",
        "outputId": "069a9d1f-bf41-4ff2-a0ad-dbc2f40bca92"
      },
      "execution_count": 34,
      "outputs": [
        {
          "output_type": "stream",
          "name": "stdout",
          "text": [
            "0       M\n",
            "1       F\n",
            "2       F\n",
            "3       M\n",
            "4       F\n",
            "       ..\n",
            "9995    F\n",
            "9996    F\n",
            "9997    M\n",
            "9998    F\n",
            "9999    F\n",
            "Name: 성별코드, Length: 9909, dtype: object\n",
            "인코딩 클래스: ['F' 'M']\n",
            "인코딩 변환값: [1 0 0 ... 1 0 0]\n",
            "M 1\n",
            "F 0\n",
            "M 1\n",
            "M 1\n"
          ]
        }
      ]
    },
    {
      "cell_type": "code",
      "source": [
        "df['sex'] = labels_sex"
      ],
      "metadata": {
        "id": "LahnAhTy0hhK"
      },
      "execution_count": 35,
      "outputs": []
    },
    {
      "cell_type": "code",
      "source": [
        "display(df.head(10)) #알파벳 순서대로 M : 1, F : 0"
      ],
      "metadata": {
        "colab": {
          "base_uri": "https://localhost:8080/",
          "height": 558
        },
        "id": "Jvn-N6us0k9j",
        "outputId": "dd9733c7-83c8-4fd5-87d2-a65febad02dd"
      },
      "execution_count": 36,
      "outputs": [
        {
          "output_type": "display_data",
          "data": {
            "text/plain": [
              "   기준년도  가입자일련번호  시도코드 성별코드  연령대코드(5세단위)  신장(5Cm단위)  체중(5Kg 단위)  허리둘레  시력(좌)  \\\n",
              "0  2020        1    36    M            9        165          60  72.1    1.2   \n",
              "1  2020        2    27    F           13        150          65  81.0    0.8   \n",
              "2  2020        3    11    F           12        155          55  70.0    0.6   \n",
              "3  2020        4    31    M           13        160          70  90.8    1.0   \n",
              "4  2020        5    41    F           12        155          50  75.2    1.5   \n",
              "5  2020        6    27    M            9        185          85  94.0    1.2   \n",
              "6  2020        7    44    M            9        165          80  93.0    0.8   \n",
              "7  2020        8    41    M           13        160          65  92.0    0.5   \n",
              "8  2020        9    41    F           17        150          50  82.0    0.4   \n",
              "9  2020       10    48    F           14        150          45  71.2    0.8   \n",
              "\n",
              "   시력(우)  ...  음주여부  구강검진수검여부  치아우식증유무   치석     데이터공개일자  diabetes        BMI  \\\n",
              "0    1.5  ...    No         0      NaN  NaN  12/29/2021         0  22.038567   \n",
              "1    0.8  ...    No         0      NaN  NaN  12/29/2021         0  28.888889   \n",
              "2    0.7  ...    No         0      NaN  NaN  12/29/2021         0  22.892820   \n",
              "3    1.0  ...    No         1      0.0  0.0  12/29/2021         1  27.343750   \n",
              "4    1.2  ...    No         0      NaN  NaN  12/29/2021         0  20.811655   \n",
              "5    1.2  ...   Yes         0      NaN  NaN  12/29/2021         0  24.835646   \n",
              "6    0.7  ...   Yes         1      0.0  1.0  12/29/2021         1  29.384757   \n",
              "7    0.5  ...    No         1      0.0  2.0  12/29/2021         0  25.390625   \n",
              "8    0.5  ...    No         0      NaN  NaN  12/29/2021         0  22.222222   \n",
              "9    0.7  ...    No         0      NaN  NaN  12/29/2021         0  20.000000   \n",
              "\n",
              "   smoking  drinking  sex  \n",
              "0        0         0    1  \n",
              "1        0         0    0  \n",
              "2        0         0    0  \n",
              "3        0         0    1  \n",
              "4        0         0    0  \n",
              "5        2         1    1  \n",
              "6        2         1    1  \n",
              "7        2         0    1  \n",
              "8        0         0    0  \n",
              "9        0         0    0  \n",
              "\n",
              "[10 rows x 36 columns]"
            ],
            "text/html": [
              "\n",
              "  <div id=\"df-c464269d-e38d-43d7-bc6f-5f8bffa7289a\">\n",
              "    <div class=\"colab-df-container\">\n",
              "      <div>\n",
              "<style scoped>\n",
              "    .dataframe tbody tr th:only-of-type {\n",
              "        vertical-align: middle;\n",
              "    }\n",
              "\n",
              "    .dataframe tbody tr th {\n",
              "        vertical-align: top;\n",
              "    }\n",
              "\n",
              "    .dataframe thead th {\n",
              "        text-align: right;\n",
              "    }\n",
              "</style>\n",
              "<table border=\"1\" class=\"dataframe\">\n",
              "  <thead>\n",
              "    <tr style=\"text-align: right;\">\n",
              "      <th></th>\n",
              "      <th>기준년도</th>\n",
              "      <th>가입자일련번호</th>\n",
              "      <th>시도코드</th>\n",
              "      <th>성별코드</th>\n",
              "      <th>연령대코드(5세단위)</th>\n",
              "      <th>신장(5Cm단위)</th>\n",
              "      <th>체중(5Kg 단위)</th>\n",
              "      <th>허리둘레</th>\n",
              "      <th>시력(좌)</th>\n",
              "      <th>시력(우)</th>\n",
              "      <th>...</th>\n",
              "      <th>음주여부</th>\n",
              "      <th>구강검진수검여부</th>\n",
              "      <th>치아우식증유무</th>\n",
              "      <th>치석</th>\n",
              "      <th>데이터공개일자</th>\n",
              "      <th>diabetes</th>\n",
              "      <th>BMI</th>\n",
              "      <th>smoking</th>\n",
              "      <th>drinking</th>\n",
              "      <th>sex</th>\n",
              "    </tr>\n",
              "  </thead>\n",
              "  <tbody>\n",
              "    <tr>\n",
              "      <th>0</th>\n",
              "      <td>2020</td>\n",
              "      <td>1</td>\n",
              "      <td>36</td>\n",
              "      <td>M</td>\n",
              "      <td>9</td>\n",
              "      <td>165</td>\n",
              "      <td>60</td>\n",
              "      <td>72.1</td>\n",
              "      <td>1.2</td>\n",
              "      <td>1.5</td>\n",
              "      <td>...</td>\n",
              "      <td>No</td>\n",
              "      <td>0</td>\n",
              "      <td>NaN</td>\n",
              "      <td>NaN</td>\n",
              "      <td>12/29/2021</td>\n",
              "      <td>0</td>\n",
              "      <td>22.038567</td>\n",
              "      <td>0</td>\n",
              "      <td>0</td>\n",
              "      <td>1</td>\n",
              "    </tr>\n",
              "    <tr>\n",
              "      <th>1</th>\n",
              "      <td>2020</td>\n",
              "      <td>2</td>\n",
              "      <td>27</td>\n",
              "      <td>F</td>\n",
              "      <td>13</td>\n",
              "      <td>150</td>\n",
              "      <td>65</td>\n",
              "      <td>81.0</td>\n",
              "      <td>0.8</td>\n",
              "      <td>0.8</td>\n",
              "      <td>...</td>\n",
              "      <td>No</td>\n",
              "      <td>0</td>\n",
              "      <td>NaN</td>\n",
              "      <td>NaN</td>\n",
              "      <td>12/29/2021</td>\n",
              "      <td>0</td>\n",
              "      <td>28.888889</td>\n",
              "      <td>0</td>\n",
              "      <td>0</td>\n",
              "      <td>0</td>\n",
              "    </tr>\n",
              "    <tr>\n",
              "      <th>2</th>\n",
              "      <td>2020</td>\n",
              "      <td>3</td>\n",
              "      <td>11</td>\n",
              "      <td>F</td>\n",
              "      <td>12</td>\n",
              "      <td>155</td>\n",
              "      <td>55</td>\n",
              "      <td>70.0</td>\n",
              "      <td>0.6</td>\n",
              "      <td>0.7</td>\n",
              "      <td>...</td>\n",
              "      <td>No</td>\n",
              "      <td>0</td>\n",
              "      <td>NaN</td>\n",
              "      <td>NaN</td>\n",
              "      <td>12/29/2021</td>\n",
              "      <td>0</td>\n",
              "      <td>22.892820</td>\n",
              "      <td>0</td>\n",
              "      <td>0</td>\n",
              "      <td>0</td>\n",
              "    </tr>\n",
              "    <tr>\n",
              "      <th>3</th>\n",
              "      <td>2020</td>\n",
              "      <td>4</td>\n",
              "      <td>31</td>\n",
              "      <td>M</td>\n",
              "      <td>13</td>\n",
              "      <td>160</td>\n",
              "      <td>70</td>\n",
              "      <td>90.8</td>\n",
              "      <td>1.0</td>\n",
              "      <td>1.0</td>\n",
              "      <td>...</td>\n",
              "      <td>No</td>\n",
              "      <td>1</td>\n",
              "      <td>0.0</td>\n",
              "      <td>0.0</td>\n",
              "      <td>12/29/2021</td>\n",
              "      <td>1</td>\n",
              "      <td>27.343750</td>\n",
              "      <td>0</td>\n",
              "      <td>0</td>\n",
              "      <td>1</td>\n",
              "    </tr>\n",
              "    <tr>\n",
              "      <th>4</th>\n",
              "      <td>2020</td>\n",
              "      <td>5</td>\n",
              "      <td>41</td>\n",
              "      <td>F</td>\n",
              "      <td>12</td>\n",
              "      <td>155</td>\n",
              "      <td>50</td>\n",
              "      <td>75.2</td>\n",
              "      <td>1.5</td>\n",
              "      <td>1.2</td>\n",
              "      <td>...</td>\n",
              "      <td>No</td>\n",
              "      <td>0</td>\n",
              "      <td>NaN</td>\n",
              "      <td>NaN</td>\n",
              "      <td>12/29/2021</td>\n",
              "      <td>0</td>\n",
              "      <td>20.811655</td>\n",
              "      <td>0</td>\n",
              "      <td>0</td>\n",
              "      <td>0</td>\n",
              "    </tr>\n",
              "    <tr>\n",
              "      <th>5</th>\n",
              "      <td>2020</td>\n",
              "      <td>6</td>\n",
              "      <td>27</td>\n",
              "      <td>M</td>\n",
              "      <td>9</td>\n",
              "      <td>185</td>\n",
              "      <td>85</td>\n",
              "      <td>94.0</td>\n",
              "      <td>1.2</td>\n",
              "      <td>1.2</td>\n",
              "      <td>...</td>\n",
              "      <td>Yes</td>\n",
              "      <td>0</td>\n",
              "      <td>NaN</td>\n",
              "      <td>NaN</td>\n",
              "      <td>12/29/2021</td>\n",
              "      <td>0</td>\n",
              "      <td>24.835646</td>\n",
              "      <td>2</td>\n",
              "      <td>1</td>\n",
              "      <td>1</td>\n",
              "    </tr>\n",
              "    <tr>\n",
              "      <th>6</th>\n",
              "      <td>2020</td>\n",
              "      <td>7</td>\n",
              "      <td>44</td>\n",
              "      <td>M</td>\n",
              "      <td>9</td>\n",
              "      <td>165</td>\n",
              "      <td>80</td>\n",
              "      <td>93.0</td>\n",
              "      <td>0.8</td>\n",
              "      <td>0.7</td>\n",
              "      <td>...</td>\n",
              "      <td>Yes</td>\n",
              "      <td>1</td>\n",
              "      <td>0.0</td>\n",
              "      <td>1.0</td>\n",
              "      <td>12/29/2021</td>\n",
              "      <td>1</td>\n",
              "      <td>29.384757</td>\n",
              "      <td>2</td>\n",
              "      <td>1</td>\n",
              "      <td>1</td>\n",
              "    </tr>\n",
              "    <tr>\n",
              "      <th>7</th>\n",
              "      <td>2020</td>\n",
              "      <td>8</td>\n",
              "      <td>41</td>\n",
              "      <td>M</td>\n",
              "      <td>13</td>\n",
              "      <td>160</td>\n",
              "      <td>65</td>\n",
              "      <td>92.0</td>\n",
              "      <td>0.5</td>\n",
              "      <td>0.5</td>\n",
              "      <td>...</td>\n",
              "      <td>No</td>\n",
              "      <td>1</td>\n",
              "      <td>0.0</td>\n",
              "      <td>2.0</td>\n",
              "      <td>12/29/2021</td>\n",
              "      <td>0</td>\n",
              "      <td>25.390625</td>\n",
              "      <td>2</td>\n",
              "      <td>0</td>\n",
              "      <td>1</td>\n",
              "    </tr>\n",
              "    <tr>\n",
              "      <th>8</th>\n",
              "      <td>2020</td>\n",
              "      <td>9</td>\n",
              "      <td>41</td>\n",
              "      <td>F</td>\n",
              "      <td>17</td>\n",
              "      <td>150</td>\n",
              "      <td>50</td>\n",
              "      <td>82.0</td>\n",
              "      <td>0.4</td>\n",
              "      <td>0.5</td>\n",
              "      <td>...</td>\n",
              "      <td>No</td>\n",
              "      <td>0</td>\n",
              "      <td>NaN</td>\n",
              "      <td>NaN</td>\n",
              "      <td>12/29/2021</td>\n",
              "      <td>0</td>\n",
              "      <td>22.222222</td>\n",
              "      <td>0</td>\n",
              "      <td>0</td>\n",
              "      <td>0</td>\n",
              "    </tr>\n",
              "    <tr>\n",
              "      <th>9</th>\n",
              "      <td>2020</td>\n",
              "      <td>10</td>\n",
              "      <td>48</td>\n",
              "      <td>F</td>\n",
              "      <td>14</td>\n",
              "      <td>150</td>\n",
              "      <td>45</td>\n",
              "      <td>71.2</td>\n",
              "      <td>0.8</td>\n",
              "      <td>0.7</td>\n",
              "      <td>...</td>\n",
              "      <td>No</td>\n",
              "      <td>0</td>\n",
              "      <td>NaN</td>\n",
              "      <td>NaN</td>\n",
              "      <td>12/29/2021</td>\n",
              "      <td>0</td>\n",
              "      <td>20.000000</td>\n",
              "      <td>0</td>\n",
              "      <td>0</td>\n",
              "      <td>0</td>\n",
              "    </tr>\n",
              "  </tbody>\n",
              "</table>\n",
              "<p>10 rows × 36 columns</p>\n",
              "</div>\n",
              "      <button class=\"colab-df-convert\" onclick=\"convertToInteractive('df-c464269d-e38d-43d7-bc6f-5f8bffa7289a')\"\n",
              "              title=\"Convert this dataframe to an interactive table.\"\n",
              "              style=\"display:none;\">\n",
              "        \n",
              "  <svg xmlns=\"http://www.w3.org/2000/svg\" height=\"24px\"viewBox=\"0 0 24 24\"\n",
              "       width=\"24px\">\n",
              "    <path d=\"M0 0h24v24H0V0z\" fill=\"none\"/>\n",
              "    <path d=\"M18.56 5.44l.94 2.06.94-2.06 2.06-.94-2.06-.94-.94-2.06-.94 2.06-2.06.94zm-11 1L8.5 8.5l.94-2.06 2.06-.94-2.06-.94L8.5 2.5l-.94 2.06-2.06.94zm10 10l.94 2.06.94-2.06 2.06-.94-2.06-.94-.94-2.06-.94 2.06-2.06.94z\"/><path d=\"M17.41 7.96l-1.37-1.37c-.4-.4-.92-.59-1.43-.59-.52 0-1.04.2-1.43.59L10.3 9.45l-7.72 7.72c-.78.78-.78 2.05 0 2.83L4 21.41c.39.39.9.59 1.41.59.51 0 1.02-.2 1.41-.59l7.78-7.78 2.81-2.81c.8-.78.8-2.07 0-2.86zM5.41 20L4 18.59l7.72-7.72 1.47 1.35L5.41 20z\"/>\n",
              "  </svg>\n",
              "      </button>\n",
              "      \n",
              "  <style>\n",
              "    .colab-df-container {\n",
              "      display:flex;\n",
              "      flex-wrap:wrap;\n",
              "      gap: 12px;\n",
              "    }\n",
              "\n",
              "    .colab-df-convert {\n",
              "      background-color: #E8F0FE;\n",
              "      border: none;\n",
              "      border-radius: 50%;\n",
              "      cursor: pointer;\n",
              "      display: none;\n",
              "      fill: #1967D2;\n",
              "      height: 32px;\n",
              "      padding: 0 0 0 0;\n",
              "      width: 32px;\n",
              "    }\n",
              "\n",
              "    .colab-df-convert:hover {\n",
              "      background-color: #E2EBFA;\n",
              "      box-shadow: 0px 1px 2px rgba(60, 64, 67, 0.3), 0px 1px 3px 1px rgba(60, 64, 67, 0.15);\n",
              "      fill: #174EA6;\n",
              "    }\n",
              "\n",
              "    [theme=dark] .colab-df-convert {\n",
              "      background-color: #3B4455;\n",
              "      fill: #D2E3FC;\n",
              "    }\n",
              "\n",
              "    [theme=dark] .colab-df-convert:hover {\n",
              "      background-color: #434B5C;\n",
              "      box-shadow: 0px 1px 3px 1px rgba(0, 0, 0, 0.15);\n",
              "      filter: drop-shadow(0px 1px 2px rgba(0, 0, 0, 0.3));\n",
              "      fill: #FFFFFF;\n",
              "    }\n",
              "  </style>\n",
              "\n",
              "      <script>\n",
              "        const buttonEl =\n",
              "          document.querySelector('#df-c464269d-e38d-43d7-bc6f-5f8bffa7289a button.colab-df-convert');\n",
              "        buttonEl.style.display =\n",
              "          google.colab.kernel.accessAllowed ? 'block' : 'none';\n",
              "\n",
              "        async function convertToInteractive(key) {\n",
              "          const element = document.querySelector('#df-c464269d-e38d-43d7-bc6f-5f8bffa7289a');\n",
              "          const dataTable =\n",
              "            await google.colab.kernel.invokeFunction('convertToInteractive',\n",
              "                                                     [key], {});\n",
              "          if (!dataTable) return;\n",
              "\n",
              "          const docLinkHtml = 'Like what you see? Visit the ' +\n",
              "            '<a target=\"_blank\" href=https://colab.research.google.com/notebooks/data_table.ipynb>data table notebook</a>'\n",
              "            + ' to learn more about interactive tables.';\n",
              "          element.innerHTML = '';\n",
              "          dataTable['output_type'] = 'display_data';\n",
              "          await google.colab.output.renderOutput(dataTable, element);\n",
              "          const docLink = document.createElement('div');\n",
              "          docLink.innerHTML = docLinkHtml;\n",
              "          element.appendChild(docLink);\n",
              "        }\n",
              "      </script>\n",
              "    </div>\n",
              "  </div>\n",
              "  "
            ]
          },
          "metadata": {}
        }
      ]
    },
    {
      "cell_type": "markdown",
      "source": [
        "사용할 변수만 선택하여 새로운 데이터프레임을 만든다"
      ],
      "metadata": {
        "id": "74o0tkNrkz79"
      }
    },
    {
      "cell_type": "code",
      "source": [
        "df_dia = df[['diabetes', 'sex', '연령대코드(5세단위)', 'BMI', '(혈청지오티)AST', '(혈청지오티)ALT', '감마지티피', 'smoking', 'drinking']]"
      ],
      "metadata": {
        "id": "FYiWW4SXlIFS"
      },
      "execution_count": 37,
      "outputs": []
    },
    {
      "cell_type": "code",
      "source": [
        "display(df_dia.head(10))\n",
        "print(df_dia.info())"
      ],
      "metadata": {
        "colab": {
          "base_uri": "https://localhost:8080/",
          "height": 671
        },
        "id": "KTUWSnZcmNfL",
        "outputId": "ad98259d-6176-4746-e9f2-61badc5c9d06"
      },
      "execution_count": 38,
      "outputs": [
        {
          "output_type": "display_data",
          "data": {
            "text/plain": [
              "   diabetes  sex  연령대코드(5세단위)        BMI  (혈청지오티)AST  (혈청지오티)ALT  감마지티피  \\\n",
              "0         0    1            9  22.038567        21.0        27.0   21.0   \n",
              "1         0    0           13  28.888889        18.0        15.0   15.0   \n",
              "2         0    0           12  22.892820        27.0        25.0    7.0   \n",
              "3         1    1           13  27.343750        65.0        97.0   72.0   \n",
              "4         0    0           12  20.811655        18.0        17.0   14.0   \n",
              "5         0    1            9  24.835646        25.0        32.0   26.0   \n",
              "6         1    1            9  29.384757        18.0        20.0   35.0   \n",
              "7         0    1           13  25.390625        18.0        17.0   19.0   \n",
              "8         0    0           17  22.222222        42.0        48.0   39.0   \n",
              "9         0    0           14  20.000000        22.0        11.0   10.0   \n",
              "\n",
              "   smoking  drinking  \n",
              "0        0         0  \n",
              "1        0         0  \n",
              "2        0         0  \n",
              "3        0         0  \n",
              "4        0         0  \n",
              "5        2         1  \n",
              "6        2         1  \n",
              "7        2         0  \n",
              "8        0         0  \n",
              "9        0         0  "
            ],
            "text/html": [
              "\n",
              "  <div id=\"df-5cfa8f6f-5bf6-4bdc-8b6f-f53092d60e3f\">\n",
              "    <div class=\"colab-df-container\">\n",
              "      <div>\n",
              "<style scoped>\n",
              "    .dataframe tbody tr th:only-of-type {\n",
              "        vertical-align: middle;\n",
              "    }\n",
              "\n",
              "    .dataframe tbody tr th {\n",
              "        vertical-align: top;\n",
              "    }\n",
              "\n",
              "    .dataframe thead th {\n",
              "        text-align: right;\n",
              "    }\n",
              "</style>\n",
              "<table border=\"1\" class=\"dataframe\">\n",
              "  <thead>\n",
              "    <tr style=\"text-align: right;\">\n",
              "      <th></th>\n",
              "      <th>diabetes</th>\n",
              "      <th>sex</th>\n",
              "      <th>연령대코드(5세단위)</th>\n",
              "      <th>BMI</th>\n",
              "      <th>(혈청지오티)AST</th>\n",
              "      <th>(혈청지오티)ALT</th>\n",
              "      <th>감마지티피</th>\n",
              "      <th>smoking</th>\n",
              "      <th>drinking</th>\n",
              "    </tr>\n",
              "  </thead>\n",
              "  <tbody>\n",
              "    <tr>\n",
              "      <th>0</th>\n",
              "      <td>0</td>\n",
              "      <td>1</td>\n",
              "      <td>9</td>\n",
              "      <td>22.038567</td>\n",
              "      <td>21.0</td>\n",
              "      <td>27.0</td>\n",
              "      <td>21.0</td>\n",
              "      <td>0</td>\n",
              "      <td>0</td>\n",
              "    </tr>\n",
              "    <tr>\n",
              "      <th>1</th>\n",
              "      <td>0</td>\n",
              "      <td>0</td>\n",
              "      <td>13</td>\n",
              "      <td>28.888889</td>\n",
              "      <td>18.0</td>\n",
              "      <td>15.0</td>\n",
              "      <td>15.0</td>\n",
              "      <td>0</td>\n",
              "      <td>0</td>\n",
              "    </tr>\n",
              "    <tr>\n",
              "      <th>2</th>\n",
              "      <td>0</td>\n",
              "      <td>0</td>\n",
              "      <td>12</td>\n",
              "      <td>22.892820</td>\n",
              "      <td>27.0</td>\n",
              "      <td>25.0</td>\n",
              "      <td>7.0</td>\n",
              "      <td>0</td>\n",
              "      <td>0</td>\n",
              "    </tr>\n",
              "    <tr>\n",
              "      <th>3</th>\n",
              "      <td>1</td>\n",
              "      <td>1</td>\n",
              "      <td>13</td>\n",
              "      <td>27.343750</td>\n",
              "      <td>65.0</td>\n",
              "      <td>97.0</td>\n",
              "      <td>72.0</td>\n",
              "      <td>0</td>\n",
              "      <td>0</td>\n",
              "    </tr>\n",
              "    <tr>\n",
              "      <th>4</th>\n",
              "      <td>0</td>\n",
              "      <td>0</td>\n",
              "      <td>12</td>\n",
              "      <td>20.811655</td>\n",
              "      <td>18.0</td>\n",
              "      <td>17.0</td>\n",
              "      <td>14.0</td>\n",
              "      <td>0</td>\n",
              "      <td>0</td>\n",
              "    </tr>\n",
              "    <tr>\n",
              "      <th>5</th>\n",
              "      <td>0</td>\n",
              "      <td>1</td>\n",
              "      <td>9</td>\n",
              "      <td>24.835646</td>\n",
              "      <td>25.0</td>\n",
              "      <td>32.0</td>\n",
              "      <td>26.0</td>\n",
              "      <td>2</td>\n",
              "      <td>1</td>\n",
              "    </tr>\n",
              "    <tr>\n",
              "      <th>6</th>\n",
              "      <td>1</td>\n",
              "      <td>1</td>\n",
              "      <td>9</td>\n",
              "      <td>29.384757</td>\n",
              "      <td>18.0</td>\n",
              "      <td>20.0</td>\n",
              "      <td>35.0</td>\n",
              "      <td>2</td>\n",
              "      <td>1</td>\n",
              "    </tr>\n",
              "    <tr>\n",
              "      <th>7</th>\n",
              "      <td>0</td>\n",
              "      <td>1</td>\n",
              "      <td>13</td>\n",
              "      <td>25.390625</td>\n",
              "      <td>18.0</td>\n",
              "      <td>17.0</td>\n",
              "      <td>19.0</td>\n",
              "      <td>2</td>\n",
              "      <td>0</td>\n",
              "    </tr>\n",
              "    <tr>\n",
              "      <th>8</th>\n",
              "      <td>0</td>\n",
              "      <td>0</td>\n",
              "      <td>17</td>\n",
              "      <td>22.222222</td>\n",
              "      <td>42.0</td>\n",
              "      <td>48.0</td>\n",
              "      <td>39.0</td>\n",
              "      <td>0</td>\n",
              "      <td>0</td>\n",
              "    </tr>\n",
              "    <tr>\n",
              "      <th>9</th>\n",
              "      <td>0</td>\n",
              "      <td>0</td>\n",
              "      <td>14</td>\n",
              "      <td>20.000000</td>\n",
              "      <td>22.0</td>\n",
              "      <td>11.0</td>\n",
              "      <td>10.0</td>\n",
              "      <td>0</td>\n",
              "      <td>0</td>\n",
              "    </tr>\n",
              "  </tbody>\n",
              "</table>\n",
              "</div>\n",
              "      <button class=\"colab-df-convert\" onclick=\"convertToInteractive('df-5cfa8f6f-5bf6-4bdc-8b6f-f53092d60e3f')\"\n",
              "              title=\"Convert this dataframe to an interactive table.\"\n",
              "              style=\"display:none;\">\n",
              "        \n",
              "  <svg xmlns=\"http://www.w3.org/2000/svg\" height=\"24px\"viewBox=\"0 0 24 24\"\n",
              "       width=\"24px\">\n",
              "    <path d=\"M0 0h24v24H0V0z\" fill=\"none\"/>\n",
              "    <path d=\"M18.56 5.44l.94 2.06.94-2.06 2.06-.94-2.06-.94-.94-2.06-.94 2.06-2.06.94zm-11 1L8.5 8.5l.94-2.06 2.06-.94-2.06-.94L8.5 2.5l-.94 2.06-2.06.94zm10 10l.94 2.06.94-2.06 2.06-.94-2.06-.94-.94-2.06-.94 2.06-2.06.94z\"/><path d=\"M17.41 7.96l-1.37-1.37c-.4-.4-.92-.59-1.43-.59-.52 0-1.04.2-1.43.59L10.3 9.45l-7.72 7.72c-.78.78-.78 2.05 0 2.83L4 21.41c.39.39.9.59 1.41.59.51 0 1.02-.2 1.41-.59l7.78-7.78 2.81-2.81c.8-.78.8-2.07 0-2.86zM5.41 20L4 18.59l7.72-7.72 1.47 1.35L5.41 20z\"/>\n",
              "  </svg>\n",
              "      </button>\n",
              "      \n",
              "  <style>\n",
              "    .colab-df-container {\n",
              "      display:flex;\n",
              "      flex-wrap:wrap;\n",
              "      gap: 12px;\n",
              "    }\n",
              "\n",
              "    .colab-df-convert {\n",
              "      background-color: #E8F0FE;\n",
              "      border: none;\n",
              "      border-radius: 50%;\n",
              "      cursor: pointer;\n",
              "      display: none;\n",
              "      fill: #1967D2;\n",
              "      height: 32px;\n",
              "      padding: 0 0 0 0;\n",
              "      width: 32px;\n",
              "    }\n",
              "\n",
              "    .colab-df-convert:hover {\n",
              "      background-color: #E2EBFA;\n",
              "      box-shadow: 0px 1px 2px rgba(60, 64, 67, 0.3), 0px 1px 3px 1px rgba(60, 64, 67, 0.15);\n",
              "      fill: #174EA6;\n",
              "    }\n",
              "\n",
              "    [theme=dark] .colab-df-convert {\n",
              "      background-color: #3B4455;\n",
              "      fill: #D2E3FC;\n",
              "    }\n",
              "\n",
              "    [theme=dark] .colab-df-convert:hover {\n",
              "      background-color: #434B5C;\n",
              "      box-shadow: 0px 1px 3px 1px rgba(0, 0, 0, 0.15);\n",
              "      filter: drop-shadow(0px 1px 2px rgba(0, 0, 0, 0.3));\n",
              "      fill: #FFFFFF;\n",
              "    }\n",
              "  </style>\n",
              "\n",
              "      <script>\n",
              "        const buttonEl =\n",
              "          document.querySelector('#df-5cfa8f6f-5bf6-4bdc-8b6f-f53092d60e3f button.colab-df-convert');\n",
              "        buttonEl.style.display =\n",
              "          google.colab.kernel.accessAllowed ? 'block' : 'none';\n",
              "\n",
              "        async function convertToInteractive(key) {\n",
              "          const element = document.querySelector('#df-5cfa8f6f-5bf6-4bdc-8b6f-f53092d60e3f');\n",
              "          const dataTable =\n",
              "            await google.colab.kernel.invokeFunction('convertToInteractive',\n",
              "                                                     [key], {});\n",
              "          if (!dataTable) return;\n",
              "\n",
              "          const docLinkHtml = 'Like what you see? Visit the ' +\n",
              "            '<a target=\"_blank\" href=https://colab.research.google.com/notebooks/data_table.ipynb>data table notebook</a>'\n",
              "            + ' to learn more about interactive tables.';\n",
              "          element.innerHTML = '';\n",
              "          dataTable['output_type'] = 'display_data';\n",
              "          await google.colab.output.renderOutput(dataTable, element);\n",
              "          const docLink = document.createElement('div');\n",
              "          docLink.innerHTML = docLinkHtml;\n",
              "          element.appendChild(docLink);\n",
              "        }\n",
              "      </script>\n",
              "    </div>\n",
              "  </div>\n",
              "  "
            ]
          },
          "metadata": {}
        },
        {
          "output_type": "stream",
          "name": "stdout",
          "text": [
            "<class 'pandas.core.frame.DataFrame'>\n",
            "Int64Index: 9909 entries, 0 to 9999\n",
            "Data columns (total 9 columns):\n",
            " #   Column       Non-Null Count  Dtype  \n",
            "---  ------       --------------  -----  \n",
            " 0   diabetes     9909 non-null   int64  \n",
            " 1   sex          9909 non-null   int64  \n",
            " 2   연령대코드(5세단위)  9909 non-null   int64  \n",
            " 3   BMI          9909 non-null   float64\n",
            " 4   (혈청지오티)AST   9909 non-null   float64\n",
            " 5   (혈청지오티)ALT   9909 non-null   float64\n",
            " 6   감마지티피        9909 non-null   float64\n",
            " 7   smoking      9909 non-null   int64  \n",
            " 8   drinking     9909 non-null   int64  \n",
            "dtypes: float64(4), int64(5)\n",
            "memory usage: 1.0 MB\n",
            "None\n"
          ]
        }
      ]
    },
    {
      "cell_type": "markdown",
      "source": [
        "## 모델 만들기"
      ],
      "metadata": {
        "id": "GLyiIUQykPw-"
      }
    },
    {
      "cell_type": "markdown",
      "source": [
        "### 의사결정나무"
      ],
      "metadata": {
        "id": "B6plEcqokt17"
      }
    },
    {
      "cell_type": "code",
      "source": [
        "from sklearn.tree import DecisionTreeClassifier\n",
        "from sklearn.model_selection import train_test_split\n",
        "\n",
        "X = df_dia.iloc[:, 1:]  # 첫 번째 변수를 제외한 모든 변수 - 독립변수\n",
        "y = df_dia.iloc[:, 0]   # target 변수 diabetes - 종속변수\n",
        "\n",
        "# 데이터셋을 학습(train)과 테스트(test) 세트로 분할\n",
        "# random_state : random 으로 분할시 사용되는 난수 seed 숫자\n",
        "#X_train, X_test, y_train, y_test = train_test_split(X, y, test_size = 0.25, stratify=y, random_state=42)\n",
        "\n",
        "#test_size : 몇퍼센트를 훈련용으로 쓸지 결정 -> 나머지는 훈련용으로 들어감\n",
        "\n",
        "X_train, X_test, y_train, y_test = train_test_split(X, y, test_size = 0.25, random_state=42)\n",
        "\n",
        "tree = DecisionTreeClassifier(max_depth=3, random_state=0)  \n",
        "tree.fit(X_train, y_train)\n",
        "print(\"학습용 데이터 정확도: {:.3f}\".format(tree.score(X_train, y_train)))\n",
        "print(\"시험용 데이터 정확도: {:.3f}\".format(tree.score(X_test, y_test)))"
      ],
      "metadata": {
        "colab": {
          "base_uri": "https://localhost:8080/"
        },
        "id": "m0rpaBygkCav",
        "outputId": "74c95e84-7c46-413f-cf98-62849cc084af"
      },
      "execution_count": 39,
      "outputs": [
        {
          "output_type": "stream",
          "name": "stdout",
          "text": [
            "학습용 데이터 정확도: 0.897\n",
            "시험용 데이터 정확도: 0.880\n"
          ]
        }
      ]
    },
    {
      "cell_type": "code",
      "source": [
        "tree = DecisionTreeClassifier(max_depth=4, random_state=0)  \n",
        "tree.fit(X_train, y_train)\n",
        "print(\"학습용 데이터 정확도: {:.3f}\".format(tree.score(X_train, y_train)))\n",
        "print(\"시험용 데이터 정확도: {:.3f}\".format(tree.score(X_test, y_test)))"
      ],
      "metadata": {
        "colab": {
          "base_uri": "https://localhost:8080/"
        },
        "id": "Bk4pVTEZ1Ef0",
        "outputId": "d8081941-38bc-41f9-92f2-10b236f60b15"
      },
      "execution_count": 40,
      "outputs": [
        {
          "output_type": "stream",
          "name": "stdout",
          "text": [
            "학습용 데이터 정확도: 0.899\n",
            "시험용 데이터 정확도: 0.879\n"
          ]
        }
      ]
    },
    {
      "cell_type": "code",
      "source": [
        "tree = DecisionTreeClassifier(max_depth=5, random_state=0)  \n",
        "tree.fit(X_train, y_train)\n",
        "print(\"학습용 데이터 정확도: {:.3f}\".format(tree.score(X_train, y_train)))\n",
        "print(\"시험용 데이터 정확도: {:.3f}\".format(tree.score(X_test, y_test)))"
      ],
      "metadata": {
        "colab": {
          "base_uri": "https://localhost:8080/"
        },
        "id": "YzdMo_kn1F06",
        "outputId": "bf904393-19ac-48a8-dd3d-1c06aa6450c8"
      },
      "execution_count": 41,
      "outputs": [
        {
          "output_type": "stream",
          "name": "stdout",
          "text": [
            "학습용 데이터 정확도: 0.899\n",
            "시험용 데이터 정확도: 0.879\n"
          ]
        }
      ]
    },
    {
      "cell_type": "markdown",
      "source": [
        "시험용 데이터 정확도가 가장 높은 깊이가 3인 의사결정나무를 일단 선택"
      ],
      "metadata": {
        "id": "LdsDSo7S1Th0"
      }
    },
    {
      "cell_type": "code",
      "source": [
        "tree = DecisionTreeClassifier(max_depth=3, random_state=0)  \n",
        "tree.fit(X_train, y_train)\n",
        "print(\"학습용 데이터 정확도: {:.3f}\".format(tree.score(X_train, y_train)))\n",
        "print(\"시험용 데이터 정확도: {:.3f}\".format(tree.score(X_test, y_test)))"
      ],
      "metadata": {
        "colab": {
          "base_uri": "https://localhost:8080/"
        },
        "id": "99ZwgSSw1Ypa",
        "outputId": "fb6c5353-2da6-46e6-ea51-2a6b6c8ddc2e"
      },
      "execution_count": 42,
      "outputs": [
        {
          "output_type": "stream",
          "name": "stdout",
          "text": [
            "학습용 데이터 정확도: 0.897\n",
            "시험용 데이터 정확도: 0.880\n"
          ]
        }
      ]
    },
    {
      "cell_type": "code",
      "source": [
        "#graphviz 라이브러리를 이용하여 의사결정나무 그리기 \n",
        "from sklearn.tree import export_graphviz\n",
        "import graphviz\n",
        "\n",
        "# filled = True: 색상의 진하기로 클래스를 나타냄, impurity: 불순도 계산값 보여주기 옵션\n",
        "export_graphviz(tree, out_file=\"tree.dot\", class_names=[ \"정상\", \"당뇨\"],\n",
        "                feature_names=df_dia.columns[1:], impurity=False, filled=True)\n",
        "\n",
        "with open(\"tree.dot\") as f:\n",
        "    dot_graph = f.read()\n",
        "\n",
        "display(graphviz.Source(dot_graph))"
      ],
      "metadata": {
        "colab": {
          "base_uri": "https://localhost:8080/",
          "height": 537
        },
        "id": "O9r0qMii1SMI",
        "outputId": "ef2e866e-1b96-42c2-cf00-186a92d1b5ce"
      },
      "execution_count": 43,
      "outputs": [
        {
          "output_type": "display_data",
          "data": {
            "text/plain": [
              "<graphviz.files.Source at 0x7ffbb2969990>"
            ],
            "image/svg+xml": "<?xml version=\"1.0\" encoding=\"UTF-8\" standalone=\"no\"?>\n<!DOCTYPE svg PUBLIC \"-//W3C//DTD SVG 1.1//EN\"\n \"http://www.w3.org/Graphics/SVG/1.1/DTD/svg11.dtd\">\n<!-- Generated by graphviz version 2.40.1 (20161225.0304)\n -->\n<!-- Title: Tree Pages: 1 -->\n<svg width=\"1150pt\" height=\"373pt\"\n viewBox=\"0.00 0.00 1150.00 373.00\" xmlns=\"http://www.w3.org/2000/svg\" xmlns:xlink=\"http://www.w3.org/1999/xlink\">\n<g id=\"graph0\" class=\"graph\" transform=\"scale(1 1) rotate(0) translate(4 369)\">\n<title>Tree</title>\n<polygon fill=\"#ffffff\" stroke=\"transparent\" points=\"-4,4 -4,-369 1146,-369 1146,4 -4,4\"/>\n<!-- 0 -->\n<g id=\"node1\" class=\"node\">\n<title>0</title>\n<polygon fill=\"#e88f50\" stroke=\"#000000\" points=\"652,-365 512,-365 512,-297 652,-297 652,-365\"/>\n<text text-anchor=\"middle\" x=\"582\" y=\"-349.8\" font-family=\"Helvetica,sans-Serif\" font-size=\"14.00\" fill=\"#000000\">감마지티피 &lt;= 35.5</text>\n<text text-anchor=\"middle\" x=\"582\" y=\"-334.8\" font-family=\"Helvetica,sans-Serif\" font-size=\"14.00\" fill=\"#000000\">samples = 7431</text>\n<text text-anchor=\"middle\" x=\"582\" y=\"-319.8\" font-family=\"Helvetica,sans-Serif\" font-size=\"14.00\" fill=\"#000000\">value = [6669, 762]</text>\n<text text-anchor=\"middle\" x=\"582\" y=\"-304.8\" font-family=\"Helvetica,sans-Serif\" font-size=\"14.00\" fill=\"#000000\">class = 정상</text>\n</g>\n<!-- 1 -->\n<g id=\"node2\" class=\"node\">\n<title>1</title>\n<polygon fill=\"#e78b48\" stroke=\"#000000\" points=\"562,-261 390,-261 390,-193 562,-193 562,-261\"/>\n<text text-anchor=\"middle\" x=\"476\" y=\"-245.8\" font-family=\"Helvetica,sans-Serif\" font-size=\"14.00\" fill=\"#000000\">(혈청지오티)ALT &lt;= 25.5</text>\n<text text-anchor=\"middle\" x=\"476\" y=\"-230.8\" font-family=\"Helvetica,sans-Serif\" font-size=\"14.00\" fill=\"#000000\">samples = 5283</text>\n<text text-anchor=\"middle\" x=\"476\" y=\"-215.8\" font-family=\"Helvetica,sans-Serif\" font-size=\"14.00\" fill=\"#000000\">value = [4901, 382]</text>\n<text text-anchor=\"middle\" x=\"476\" y=\"-200.8\" font-family=\"Helvetica,sans-Serif\" font-size=\"14.00\" fill=\"#000000\">class = 정상</text>\n</g>\n<!-- 0&#45;&gt;1 -->\n<g id=\"edge1\" class=\"edge\">\n<title>0&#45;&gt;1</title>\n<path fill=\"none\" stroke=\"#000000\" d=\"M547.2916,-296.9465C537.9574,-287.7884 527.7604,-277.7838 518.0727,-268.2788\"/>\n<polygon fill=\"#000000\" stroke=\"#000000\" points=\"520.3757,-265.6351 510.7863,-261.13 515.4733,-270.6318 520.3757,-265.6351\"/>\n<text text-anchor=\"middle\" x=\"511.0244\" y=\"-282.4289\" font-family=\"Helvetica,sans-Serif\" font-size=\"14.00\" fill=\"#000000\">True</text>\n</g>\n<!-- 8 -->\n<g id=\"node9\" class=\"node\">\n<title>8</title>\n<polygon fill=\"#eb9c64\" stroke=\"#000000\" points=\"780,-261 606,-261 606,-193 780,-193 780,-261\"/>\n<text text-anchor=\"middle\" x=\"693\" y=\"-245.8\" font-family=\"Helvetica,sans-Serif\" font-size=\"14.00\" fill=\"#000000\">(혈청지오티)AST &lt;= 43.5</text>\n<text text-anchor=\"middle\" x=\"693\" y=\"-230.8\" font-family=\"Helvetica,sans-Serif\" font-size=\"14.00\" fill=\"#000000\">samples = 2148</text>\n<text text-anchor=\"middle\" x=\"693\" y=\"-215.8\" font-family=\"Helvetica,sans-Serif\" font-size=\"14.00\" fill=\"#000000\">value = [1768, 380]</text>\n<text text-anchor=\"middle\" x=\"693\" y=\"-200.8\" font-family=\"Helvetica,sans-Serif\" font-size=\"14.00\" fill=\"#000000\">class = 정상</text>\n</g>\n<!-- 0&#45;&gt;8 -->\n<g id=\"edge8\" class=\"edge\">\n<title>0&#45;&gt;8</title>\n<path fill=\"none\" stroke=\"#000000\" d=\"M618.3456,-296.9465C628.2159,-287.6986 639.0075,-277.5876 649.241,-267.9994\"/>\n<polygon fill=\"#000000\" stroke=\"#000000\" points=\"651.6684,-270.5214 656.5728,-261.13 646.8823,-265.4131 651.6684,-270.5214\"/>\n<text text-anchor=\"middle\" x=\"655.7593\" y=\"-282.4168\" font-family=\"Helvetica,sans-Serif\" font-size=\"14.00\" fill=\"#000000\">False</text>\n</g>\n<!-- 2 -->\n<g id=\"node3\" class=\"node\">\n<title>2</title>\n<polygon fill=\"#e78845\" stroke=\"#000000\" points=\"321,-157 127,-157 127,-89 321,-89 321,-157\"/>\n<text text-anchor=\"middle\" x=\"224\" y=\"-141.8\" font-family=\"Helvetica,sans-Serif\" font-size=\"14.00\" fill=\"#000000\">연령대코드(5세단위) &lt;= 13.5</text>\n<text text-anchor=\"middle\" x=\"224\" y=\"-126.8\" font-family=\"Helvetica,sans-Serif\" font-size=\"14.00\" fill=\"#000000\">samples = 4074</text>\n<text text-anchor=\"middle\" x=\"224\" y=\"-111.8\" font-family=\"Helvetica,sans-Serif\" font-size=\"14.00\" fill=\"#000000\">value = [3848, 226]</text>\n<text text-anchor=\"middle\" x=\"224\" y=\"-96.8\" font-family=\"Helvetica,sans-Serif\" font-size=\"14.00\" fill=\"#000000\">class = 정상</text>\n</g>\n<!-- 1&#45;&gt;2 -->\n<g id=\"edge2\" class=\"edge\">\n<title>1&#45;&gt;2</title>\n<path fill=\"none\" stroke=\"#000000\" d=\"M393.4858,-192.9465C368.6843,-182.711 341.3207,-171.4181 315.9487,-160.9471\"/>\n<polygon fill=\"#000000\" stroke=\"#000000\" points=\"317.2786,-157.7096 306.6996,-157.13 314.6081,-164.1802 317.2786,-157.7096\"/>\n</g>\n<!-- 5 -->\n<g id=\"node6\" class=\"node\">\n<title>5</title>\n<polygon fill=\"#e99456\" stroke=\"#000000\" points=\"573,-157 379,-157 379,-89 573,-89 573,-157\"/>\n<text text-anchor=\"middle\" x=\"476\" y=\"-141.8\" font-family=\"Helvetica,sans-Serif\" font-size=\"14.00\" fill=\"#000000\">연령대코드(5세단위) &lt;= 12.5</text>\n<text text-anchor=\"middle\" x=\"476\" y=\"-126.8\" font-family=\"Helvetica,sans-Serif\" font-size=\"14.00\" fill=\"#000000\">samples = 1209</text>\n<text text-anchor=\"middle\" x=\"476\" y=\"-111.8\" font-family=\"Helvetica,sans-Serif\" font-size=\"14.00\" fill=\"#000000\">value = [1053, 156]</text>\n<text text-anchor=\"middle\" x=\"476\" y=\"-96.8\" font-family=\"Helvetica,sans-Serif\" font-size=\"14.00\" fill=\"#000000\">class = 정상</text>\n</g>\n<!-- 1&#45;&gt;5 -->\n<g id=\"edge5\" class=\"edge\">\n<title>1&#45;&gt;5</title>\n<path fill=\"none\" stroke=\"#000000\" d=\"M476,-192.9465C476,-184.776 476,-175.9318 476,-167.3697\"/>\n<polygon fill=\"#000000\" stroke=\"#000000\" points=\"479.5001,-167.13 476,-157.13 472.5001,-167.13 479.5001,-167.13\"/>\n</g>\n<!-- 3 -->\n<g id=\"node4\" class=\"node\">\n<title>3</title>\n<polygon fill=\"#e68641\" stroke=\"#000000\" points=\"140,-53 0,-53 0,0 140,0 140,-53\"/>\n<text text-anchor=\"middle\" x=\"70\" y=\"-37.8\" font-family=\"Helvetica,sans-Serif\" font-size=\"14.00\" fill=\"#000000\">samples = 3069</text>\n<text text-anchor=\"middle\" x=\"70\" y=\"-22.8\" font-family=\"Helvetica,sans-Serif\" font-size=\"14.00\" fill=\"#000000\">value = [2946, 123]</text>\n<text text-anchor=\"middle\" x=\"70\" y=\"-7.8\" font-family=\"Helvetica,sans-Serif\" font-size=\"14.00\" fill=\"#000000\">class = 정상</text>\n</g>\n<!-- 2&#45;&gt;3 -->\n<g id=\"edge3\" class=\"edge\">\n<title>2&#45;&gt;3</title>\n<path fill=\"none\" stroke=\"#000000\" d=\"M169.7054,-88.9777C154.0692,-79.1798 137.0613,-68.5222 121.5937,-58.8298\"/>\n<polygon fill=\"#000000\" stroke=\"#000000\" points=\"123.019,-55.5926 112.6867,-53.2485 119.302,-61.5242 123.019,-55.5926\"/>\n</g>\n<!-- 4 -->\n<g id=\"node5\" class=\"node\">\n<title>4</title>\n<polygon fill=\"#e88f50\" stroke=\"#000000\" points=\"290,-53 158,-53 158,0 290,0 290,-53\"/>\n<text text-anchor=\"middle\" x=\"224\" y=\"-37.8\" font-family=\"Helvetica,sans-Serif\" font-size=\"14.00\" fill=\"#000000\">samples = 1005</text>\n<text text-anchor=\"middle\" x=\"224\" y=\"-22.8\" font-family=\"Helvetica,sans-Serif\" font-size=\"14.00\" fill=\"#000000\">value = [902, 103]</text>\n<text text-anchor=\"middle\" x=\"224\" y=\"-7.8\" font-family=\"Helvetica,sans-Serif\" font-size=\"14.00\" fill=\"#000000\">class = 정상</text>\n</g>\n<!-- 2&#45;&gt;4 -->\n<g id=\"edge4\" class=\"edge\">\n<title>2&#45;&gt;4</title>\n<path fill=\"none\" stroke=\"#000000\" d=\"M224,-88.9777C224,-80.7364 224,-71.887 224,-63.5153\"/>\n<polygon fill=\"#000000\" stroke=\"#000000\" points=\"227.5001,-63.2484 224,-53.2485 220.5001,-63.2485 227.5001,-63.2484\"/>\n</g>\n<!-- 6 -->\n<g id=\"node7\" class=\"node\">\n<title>6</title>\n<polygon fill=\"#e88d4c\" stroke=\"#000000\" points=\"432,-53 308,-53 308,0 432,0 432,-53\"/>\n<text text-anchor=\"middle\" x=\"370\" y=\"-37.8\" font-family=\"Helvetica,sans-Serif\" font-size=\"14.00\" fill=\"#000000\">samples = 728</text>\n<text text-anchor=\"middle\" x=\"370\" y=\"-22.8\" font-family=\"Helvetica,sans-Serif\" font-size=\"14.00\" fill=\"#000000\">value = [663, 65]</text>\n<text text-anchor=\"middle\" x=\"370\" y=\"-7.8\" font-family=\"Helvetica,sans-Serif\" font-size=\"14.00\" fill=\"#000000\">class = 정상</text>\n</g>\n<!-- 5&#45;&gt;6 -->\n<g id=\"edge6\" class=\"edge\">\n<title>5&#45;&gt;6</title>\n<path fill=\"none\" stroke=\"#000000\" d=\"M438.6284,-88.9777C428.3688,-79.6376 417.2511,-69.5163 407.0118,-60.1947\"/>\n<polygon fill=\"#000000\" stroke=\"#000000\" points=\"409.1326,-57.3923 399.3817,-53.2485 404.4202,-62.5686 409.1326,-57.3923\"/>\n</g>\n<!-- 7 -->\n<g id=\"node8\" class=\"node\">\n<title>7</title>\n<polygon fill=\"#eb9e67\" stroke=\"#000000\" points=\"574,-53 450,-53 450,0 574,0 574,-53\"/>\n<text text-anchor=\"middle\" x=\"512\" y=\"-37.8\" font-family=\"Helvetica,sans-Serif\" font-size=\"14.00\" fill=\"#000000\">samples = 481</text>\n<text text-anchor=\"middle\" x=\"512\" y=\"-22.8\" font-family=\"Helvetica,sans-Serif\" font-size=\"14.00\" fill=\"#000000\">value = [390, 91]</text>\n<text text-anchor=\"middle\" x=\"512\" y=\"-7.8\" font-family=\"Helvetica,sans-Serif\" font-size=\"14.00\" fill=\"#000000\">class = 정상</text>\n</g>\n<!-- 5&#45;&gt;7 -->\n<g id=\"edge7\" class=\"edge\">\n<title>5&#45;&gt;7</title>\n<path fill=\"none\" stroke=\"#000000\" d=\"M488.6923,-88.9777C491.8692,-80.4617 495.2884,-71.2963 498.5029,-62.6798\"/>\n<polygon fill=\"#000000\" stroke=\"#000000\" points=\"501.8052,-63.8411 502.0213,-53.2485 495.2467,-61.3944 501.8052,-63.8411\"/>\n</g>\n<!-- 9 -->\n<g id=\"node10\" class=\"node\">\n<title>9</title>\n<polygon fill=\"#ea985e\" stroke=\"#000000\" points=\"790,-157 596,-157 596,-89 790,-89 790,-157\"/>\n<text text-anchor=\"middle\" x=\"693\" y=\"-141.8\" font-family=\"Helvetica,sans-Serif\" font-size=\"14.00\" fill=\"#000000\">연령대코드(5세단위) &lt;= 11.5</text>\n<text text-anchor=\"middle\" x=\"693\" y=\"-126.8\" font-family=\"Helvetica,sans-Serif\" font-size=\"14.00\" fill=\"#000000\">samples = 1738</text>\n<text text-anchor=\"middle\" x=\"693\" y=\"-111.8\" font-family=\"Helvetica,sans-Serif\" font-size=\"14.00\" fill=\"#000000\">value = [1466, 272]</text>\n<text text-anchor=\"middle\" x=\"693\" y=\"-96.8\" font-family=\"Helvetica,sans-Serif\" font-size=\"14.00\" fill=\"#000000\">class = 정상</text>\n</g>\n<!-- 8&#45;&gt;9 -->\n<g id=\"edge9\" class=\"edge\">\n<title>8&#45;&gt;9</title>\n<path fill=\"none\" stroke=\"#000000\" d=\"M693,-192.9465C693,-184.776 693,-175.9318 693,-167.3697\"/>\n<polygon fill=\"#000000\" stroke=\"#000000\" points=\"696.5001,-167.13 693,-157.13 689.5001,-167.13 696.5001,-167.13\"/>\n</g>\n<!-- 12 -->\n<g id=\"node13\" class=\"node\">\n<title>12</title>\n<polygon fill=\"#eeae80\" stroke=\"#000000\" points=\"1012,-157 880,-157 880,-89 1012,-89 1012,-157\"/>\n<text text-anchor=\"middle\" x=\"946\" y=\"-141.8\" font-family=\"Helvetica,sans-Serif\" font-size=\"14.00\" fill=\"#000000\">BMI &lt;= 22.674</text>\n<text text-anchor=\"middle\" x=\"946\" y=\"-126.8\" font-family=\"Helvetica,sans-Serif\" font-size=\"14.00\" fill=\"#000000\">samples = 410</text>\n<text text-anchor=\"middle\" x=\"946\" y=\"-111.8\" font-family=\"Helvetica,sans-Serif\" font-size=\"14.00\" fill=\"#000000\">value = [302, 108]</text>\n<text text-anchor=\"middle\" x=\"946\" y=\"-96.8\" font-family=\"Helvetica,sans-Serif\" font-size=\"14.00\" fill=\"#000000\">class = 정상</text>\n</g>\n<!-- 8&#45;&gt;12 -->\n<g id=\"edge12\" class=\"edge\">\n<title>8&#45;&gt;12</title>\n<path fill=\"none\" stroke=\"#000000\" d=\"M775.8417,-192.9465C806.2707,-180.4381 840.5413,-166.3506 870.3098,-154.1138\"/>\n<polygon fill=\"#000000\" stroke=\"#000000\" points=\"871.8877,-157.2494 879.8061,-150.2101 869.2263,-150.775 871.8877,-157.2494\"/>\n</g>\n<!-- 10 -->\n<g id=\"node11\" class=\"node\">\n<title>10</title>\n<polygon fill=\"#e99355\" stroke=\"#000000\" points=\"724,-53 592,-53 592,0 724,0 724,-53\"/>\n<text text-anchor=\"middle\" x=\"658\" y=\"-37.8\" font-family=\"Helvetica,sans-Serif\" font-size=\"14.00\" fill=\"#000000\">samples = 939</text>\n<text text-anchor=\"middle\" x=\"658\" y=\"-22.8\" font-family=\"Helvetica,sans-Serif\" font-size=\"14.00\" fill=\"#000000\">value = [824, 115]</text>\n<text text-anchor=\"middle\" x=\"658\" y=\"-7.8\" font-family=\"Helvetica,sans-Serif\" font-size=\"14.00\" fill=\"#000000\">class = 정상</text>\n</g>\n<!-- 9&#45;&gt;10 -->\n<g id=\"edge10\" class=\"edge\">\n<title>9&#45;&gt;10</title>\n<path fill=\"none\" stroke=\"#000000\" d=\"M680.6603,-88.9777C677.5716,-80.4617 674.2474,-71.2963 671.1222,-62.6798\"/>\n<polygon fill=\"#000000\" stroke=\"#000000\" points=\"674.4015,-61.4559 667.7015,-53.2485 667.8209,-63.8426 674.4015,-61.4559\"/>\n</g>\n<!-- 11 -->\n<g id=\"node12\" class=\"node\">\n<title>11</title>\n<polygon fill=\"#eba069\" stroke=\"#000000\" points=\"874,-53 742,-53 742,0 874,0 874,-53\"/>\n<text text-anchor=\"middle\" x=\"808\" y=\"-37.8\" font-family=\"Helvetica,sans-Serif\" font-size=\"14.00\" fill=\"#000000\">samples = 799</text>\n<text text-anchor=\"middle\" x=\"808\" y=\"-22.8\" font-family=\"Helvetica,sans-Serif\" font-size=\"14.00\" fill=\"#000000\">value = [642, 157]</text>\n<text text-anchor=\"middle\" x=\"808\" y=\"-7.8\" font-family=\"Helvetica,sans-Serif\" font-size=\"14.00\" fill=\"#000000\">class = 정상</text>\n</g>\n<!-- 9&#45;&gt;11 -->\n<g id=\"edge11\" class=\"edge\">\n<title>9&#45;&gt;11</title>\n<path fill=\"none\" stroke=\"#000000\" d=\"M733.5447,-88.9777C744.7845,-79.546 756.9736,-69.3178 768.1721,-59.9208\"/>\n<polygon fill=\"#000000\" stroke=\"#000000\" points=\"770.713,-62.3576 776.1236,-53.2485 766.2134,-56.9954 770.713,-62.3576\"/>\n</g>\n<!-- 13 -->\n<g id=\"node14\" class=\"node\">\n<title>13</title>\n<polygon fill=\"#e99254\" stroke=\"#000000\" points=\"999.5,-53 892.5,-53 892.5,0 999.5,0 999.5,-53\"/>\n<text text-anchor=\"middle\" x=\"946\" y=\"-37.8\" font-family=\"Helvetica,sans-Serif\" font-size=\"14.00\" fill=\"#000000\">samples = 74</text>\n<text text-anchor=\"middle\" x=\"946\" y=\"-22.8\" font-family=\"Helvetica,sans-Serif\" font-size=\"14.00\" fill=\"#000000\">value = [65, 9]</text>\n<text text-anchor=\"middle\" x=\"946\" y=\"-7.8\" font-family=\"Helvetica,sans-Serif\" font-size=\"14.00\" fill=\"#000000\">class = 정상</text>\n</g>\n<!-- 12&#45;&gt;13 -->\n<g id=\"edge13\" class=\"edge\">\n<title>12&#45;&gt;13</title>\n<path fill=\"none\" stroke=\"#000000\" d=\"M946,-88.9777C946,-80.7364 946,-71.887 946,-63.5153\"/>\n<polygon fill=\"#000000\" stroke=\"#000000\" points=\"949.5001,-63.2484 946,-53.2485 942.5001,-63.2485 949.5001,-63.2484\"/>\n</g>\n<!-- 14 -->\n<g id=\"node15\" class=\"node\">\n<title>14</title>\n<polygon fill=\"#f0b68c\" stroke=\"#000000\" points=\"1142,-53 1018,-53 1018,0 1142,0 1142,-53\"/>\n<text text-anchor=\"middle\" x=\"1080\" y=\"-37.8\" font-family=\"Helvetica,sans-Serif\" font-size=\"14.00\" fill=\"#000000\">samples = 336</text>\n<text text-anchor=\"middle\" x=\"1080\" y=\"-22.8\" font-family=\"Helvetica,sans-Serif\" font-size=\"14.00\" fill=\"#000000\">value = [237, 99]</text>\n<text text-anchor=\"middle\" x=\"1080\" y=\"-7.8\" font-family=\"Helvetica,sans-Serif\" font-size=\"14.00\" fill=\"#000000\">class = 정상</text>\n</g>\n<!-- 12&#45;&gt;14 -->\n<g id=\"edge14\" class=\"edge\">\n<title>12&#45;&gt;14</title>\n<path fill=\"none\" stroke=\"#000000\" d=\"M993.2434,-88.9777C1006.7217,-79.2713 1021.3715,-68.7213 1034.7291,-59.1018\"/>\n<polygon fill=\"#000000\" stroke=\"#000000\" points=\"1036.7876,-61.9325 1042.857,-53.2485 1032.6969,-56.2522 1036.7876,-61.9325\"/>\n</g>\n</g>\n</svg>\n"
          },
          "metadata": {}
        }
      ]
    },
    {
      "cell_type": "markdown",
      "source": [
        "#### 불균형 데이터 처리\n",
        "당뇨인 사람과 그렇지 않은 사람의 수가 크게 차이가 나기 때문에 적절한 결과가 나오지 않는다. 이를 해결하기 위해 불균형 데이터 처리가 필요하다.  "
      ],
      "metadata": {
        "id": "l3Hk1bvw2gY7"
      }
    },
    {
      "cell_type": "code",
      "source": [
        "tree = DecisionTreeClassifier(class_weight=\"balanced\", max_depth=3, random_state=0)  \n",
        "tree.fit(X_train, y_train)\n",
        "print(\"학습용 데이터 정확도: {:.3f}\".format(tree.score(X_train, y_train)))\n",
        "print(\"시험용 데이터 정확도: {:.3f}\".format(tree.score(X_test, y_test)))"
      ],
      "metadata": {
        "colab": {
          "base_uri": "https://localhost:8080/"
        },
        "id": "wmAFsHHX2wxh",
        "outputId": "54e14871-a677-4ffb-dc1a-571ca4b89ab9"
      },
      "execution_count": 44,
      "outputs": [
        {
          "output_type": "stream",
          "name": "stdout",
          "text": [
            "학습용 데이터 정확도: 0.520\n",
            "시험용 데이터 정확도: 0.509\n"
          ]
        }
      ]
    },
    {
      "cell_type": "code",
      "source": [
        "tree = DecisionTreeClassifier(class_weight=\"balanced\", max_depth=4, random_state=0)  \n",
        "tree.fit(X_train, y_train)\n",
        "print(\"학습용 데이터 정확도: {:.3f}\".format(tree.score(X_train, y_train)))\n",
        "print(\"시험용 데이터 정확도: {:.3f}\".format(tree.score(X_test, y_test)))"
      ],
      "metadata": {
        "colab": {
          "base_uri": "https://localhost:8080/"
        },
        "id": "6n3wKclR4RcR",
        "outputId": "33a42feb-4ff9-46f0-cd1f-81cf55b3d37b"
      },
      "execution_count": 45,
      "outputs": [
        {
          "output_type": "stream",
          "name": "stdout",
          "text": [
            "학습용 데이터 정확도: 0.679\n",
            "시험용 데이터 정확도: 0.649\n"
          ]
        }
      ]
    },
    {
      "cell_type": "code",
      "source": [
        "tree = DecisionTreeClassifier(class_weight=\"balanced\", max_depth=5, random_state=0)  \n",
        "tree.fit(X_train, y_train)\n",
        "print(\"학습용 데이터 정확도: {:.3f}\".format(tree.score(X_train, y_train)))\n",
        "print(\"시험용 데이터 정확도: {:.3f}\".format(tree.score(X_test, y_test)))"
      ],
      "metadata": {
        "colab": {
          "base_uri": "https://localhost:8080/"
        },
        "id": "AG7Z9rdP4S3H",
        "outputId": "29a1ce83-d5dc-490a-a16f-b14459c4a9c8"
      },
      "execution_count": 46,
      "outputs": [
        {
          "output_type": "stream",
          "name": "stdout",
          "text": [
            "학습용 데이터 정확도: 0.619\n",
            "시험용 데이터 정확도: 0.592\n"
          ]
        }
      ]
    },
    {
      "cell_type": "markdown",
      "source": [
        "시험용 데이터 정확도가 가장 높은 깊이가 3인 의사결정나무를 일단 선택"
      ],
      "metadata": {
        "id": "zq6u9lSG4YlB"
      }
    },
    {
      "cell_type": "markdown",
      "source": [
        "#### 의사결정나무"
      ],
      "metadata": {
        "id": "2facBPUi9Mni"
      }
    },
    {
      "cell_type": "code",
      "source": [
        "tree = DecisionTreeClassifier(class_weight=\"balanced\", max_depth=4, random_state=0)  \n",
        "tree.fit(X_train, y_train)\n",
        "print(\"학습용 데이터 정확도: {:.3f}\".format(tree.score(X_train, y_train)))\n",
        "print(\"시험용 데이터 정확도: {:.3f}\".format(tree.score(X_test, y_test)))"
      ],
      "metadata": {
        "colab": {
          "base_uri": "https://localhost:8080/"
        },
        "id": "h5MlXY_R4Vj1",
        "outputId": "f72c803e-ce68-40fc-c816-d3677be71205"
      },
      "execution_count": 47,
      "outputs": [
        {
          "output_type": "stream",
          "name": "stdout",
          "text": [
            "학습용 데이터 정확도: 0.679\n",
            "시험용 데이터 정확도: 0.649\n"
          ]
        }
      ]
    },
    {
      "cell_type": "code",
      "source": [
        "# filled = True: 색상의 진하기로 클래스를 나타냄, impurity: 불순도 계산값 보여주기 옵션\n",
        "export_graphviz(tree, out_file=\"tree.dot\", class_names=[ \"정상\", \"당뇨\"],\n",
        "                feature_names=df_dia.columns[1:], impurity=False, filled=True)\n",
        "\n",
        "with open(\"tree.dot\") as f:\n",
        "    dot_graph = f.read()\n",
        "\n",
        "display(graphviz.Source(dot_graph))"
      ],
      "metadata": {
        "colab": {
          "base_uri": "https://localhost:8080/",
          "height": 676
        },
        "id": "Rl1S_7EW4bTr",
        "outputId": "d65d09e4-f0d0-40ed-a5a1-d873aadc2435"
      },
      "execution_count": 48,
      "outputs": [
        {
          "output_type": "display_data",
          "data": {
            "text/plain": [
              "<graphviz.files.Source at 0x7ffbb29da050>"
            ],
            "image/svg+xml": "<?xml version=\"1.0\" encoding=\"UTF-8\" standalone=\"no\"?>\n<!DOCTYPE svg PUBLIC \"-//W3C//DTD SVG 1.1//EN\"\n \"http://www.w3.org/Graphics/SVG/1.1/DTD/svg11.dtd\">\n<!-- Generated by graphviz version 2.40.1 (20161225.0304)\n -->\n<!-- Title: Tree Pages: 1 -->\n<svg width=\"3158pt\" height=\"477pt\"\n viewBox=\"0.00 0.00 3158.00 477.00\" xmlns=\"http://www.w3.org/2000/svg\" xmlns:xlink=\"http://www.w3.org/1999/xlink\">\n<g id=\"graph0\" class=\"graph\" transform=\"scale(1 1) rotate(0) translate(4 473)\">\n<title>Tree</title>\n<polygon fill=\"#ffffff\" stroke=\"transparent\" points=\"-4,4 -4,-473 3154,-473 3154,4 -4,4\"/>\n<!-- 0 -->\n<g id=\"node1\" class=\"node\">\n<title>0</title>\n<polygon fill=\"#ffffff\" stroke=\"#000000\" points=\"1609,-469 1436,-469 1436,-401 1609,-401 1609,-469\"/>\n<text text-anchor=\"middle\" x=\"1522.5\" y=\"-453.8\" font-family=\"Helvetica,sans-Serif\" font-size=\"14.00\" fill=\"#000000\">감마지티피 &lt;= 17.5</text>\n<text text-anchor=\"middle\" x=\"1522.5\" y=\"-438.8\" font-family=\"Helvetica,sans-Serif\" font-size=\"14.00\" fill=\"#000000\">samples = 7431</text>\n<text text-anchor=\"middle\" x=\"1522.5\" y=\"-423.8\" font-family=\"Helvetica,sans-Serif\" font-size=\"14.00\" fill=\"#000000\">value = [3715.5, 3715.5]</text>\n<text text-anchor=\"middle\" x=\"1522.5\" y=\"-408.8\" font-family=\"Helvetica,sans-Serif\" font-size=\"14.00\" fill=\"#000000\">class = 정상</text>\n</g>\n<!-- 1 -->\n<g id=\"node2\" class=\"node\">\n<title>1</title>\n<polygon fill=\"#eead7e\" stroke=\"#000000\" points=\"1223,-365 1026,-365 1026,-297 1223,-297 1223,-365\"/>\n<text text-anchor=\"middle\" x=\"1124.5\" y=\"-349.8\" font-family=\"Helvetica,sans-Serif\" font-size=\"14.00\" fill=\"#000000\">연령대코드(5세단위) &lt;= 13.5</text>\n<text text-anchor=\"middle\" x=\"1124.5\" y=\"-334.8\" font-family=\"Helvetica,sans-Serif\" font-size=\"14.00\" fill=\"#000000\">samples = 2220</text>\n<text text-anchor=\"middle\" x=\"1124.5\" y=\"-319.8\" font-family=\"Helvetica,sans-Serif\" font-size=\"14.00\" fill=\"#000000\">value = [1189.473, 414.459]</text>\n<text text-anchor=\"middle\" x=\"1124.5\" y=\"-304.8\" font-family=\"Helvetica,sans-Serif\" font-size=\"14.00\" fill=\"#000000\">class = 정상</text>\n</g>\n<!-- 0&#45;&gt;1 -->\n<g id=\"edge1\" class=\"edge\">\n<title>0&#45;&gt;1</title>\n<path fill=\"none\" stroke=\"#000000\" d=\"M1435.649,-412.3053C1376.0384,-396.7286 1296.4936,-375.943 1232.7541,-359.2875\"/>\n<polygon fill=\"#000000\" stroke=\"#000000\" points=\"1233.6277,-355.8983 1223.0677,-356.7564 1231.858,-362.6709 1233.6277,-355.8983\"/>\n<text text-anchor=\"middle\" x=\"1235.7019\" y=\"-374.629\" font-family=\"Helvetica,sans-Serif\" font-size=\"14.00\" fill=\"#000000\">True</text>\n</g>\n<!-- 16 -->\n<g id=\"node17\" class=\"node\">\n<title>16</title>\n<polygon fill=\"#d1e8f9\" stroke=\"#000000\" points=\"2029.5,-365 1823.5,-365 1823.5,-297 2029.5,-297 2029.5,-365\"/>\n<text text-anchor=\"middle\" x=\"1926.5\" y=\"-349.8\" font-family=\"Helvetica,sans-Serif\" font-size=\"14.00\" fill=\"#000000\">(혈청지오티)ALT &lt;= 25.5</text>\n<text text-anchor=\"middle\" x=\"1926.5\" y=\"-334.8\" font-family=\"Helvetica,sans-Serif\" font-size=\"14.00\" fill=\"#000000\">samples = 5211</text>\n<text text-anchor=\"middle\" x=\"1926.5\" y=\"-319.8\" font-family=\"Helvetica,sans-Serif\" font-size=\"14.00\" fill=\"#000000\">value = [2526.027, 3301.041]</text>\n<text text-anchor=\"middle\" x=\"1926.5\" y=\"-304.8\" font-family=\"Helvetica,sans-Serif\" font-size=\"14.00\" fill=\"#000000\">class = 당뇨</text>\n</g>\n<!-- 0&#45;&gt;16 -->\n<g id=\"edge16\" class=\"edge\">\n<title>0&#45;&gt;16</title>\n<path fill=\"none\" stroke=\"#000000\" d=\"M1609.1681,-412.6894C1668.8219,-397.333 1748.6566,-376.7815 1813.3251,-360.1341\"/>\n<polygon fill=\"#000000\" stroke=\"#000000\" points=\"1814.3479,-363.485 1823.1596,-357.6025 1812.6028,-356.706 1814.3479,-363.485\"/>\n<text text-anchor=\"middle\" x=\"1810.4471\" y=\"-375.429\" font-family=\"Helvetica,sans-Serif\" font-size=\"14.00\" fill=\"#000000\">False</text>\n</g>\n<!-- 2 -->\n<g id=\"node3\" class=\"node\">\n<title>2</title>\n<polygon fill=\"#ea9b62\" stroke=\"#000000\" points=\"671,-261 490,-261 490,-193 671,-193 671,-261\"/>\n<text text-anchor=\"middle\" x=\"580.5\" y=\"-245.8\" font-family=\"Helvetica,sans-Serif\" font-size=\"14.00\" fill=\"#000000\">smoking &lt;= 1.5</text>\n<text text-anchor=\"middle\" x=\"580.5\" y=\"-230.8\" font-family=\"Helvetica,sans-Serif\" font-size=\"14.00\" fill=\"#000000\">samples = 1680</text>\n<text text-anchor=\"middle\" x=\"580.5\" y=\"-215.8\" font-family=\"Helvetica,sans-Serif\" font-size=\"14.00\" fill=\"#000000\">value = [914.25, 190.163]</text>\n<text text-anchor=\"middle\" x=\"580.5\" y=\"-200.8\" font-family=\"Helvetica,sans-Serif\" font-size=\"14.00\" fill=\"#000000\">class = 정상</text>\n</g>\n<!-- 1&#45;&gt;2 -->\n<g id=\"edge2\" class=\"edge\">\n<title>1&#45;&gt;2</title>\n<path fill=\"none\" stroke=\"#000000\" d=\"M1025.9857,-312.1664C928.3001,-293.4912 779.3778,-265.0207 681.0036,-246.2139\"/>\n<polygon fill=\"#000000\" stroke=\"#000000\" points=\"681.5305,-242.7513 671.0511,-244.3112 680.216,-249.6268 681.5305,-242.7513\"/>\n</g>\n<!-- 9 -->\n<g id=\"node10\" class=\"node\">\n<title>9</title>\n<polygon fill=\"#fae8da\" stroke=\"#000000\" points=\"1219,-261 1030,-261 1030,-193 1219,-193 1219,-261\"/>\n<text text-anchor=\"middle\" x=\"1124.5\" y=\"-245.8\" font-family=\"Helvetica,sans-Serif\" font-size=\"14.00\" fill=\"#000000\">(혈청지오티)AST &lt;= 17.5</text>\n<text text-anchor=\"middle\" x=\"1124.5\" y=\"-230.8\" font-family=\"Helvetica,sans-Serif\" font-size=\"14.00\" fill=\"#000000\">samples = 540</text>\n<text text-anchor=\"middle\" x=\"1124.5\" y=\"-215.8\" font-family=\"Helvetica,sans-Serif\" font-size=\"14.00\" fill=\"#000000\">value = [275.222, 224.295]</text>\n<text text-anchor=\"middle\" x=\"1124.5\" y=\"-200.8\" font-family=\"Helvetica,sans-Serif\" font-size=\"14.00\" fill=\"#000000\">class = 정상</text>\n</g>\n<!-- 1&#45;&gt;9 -->\n<g id=\"edge9\" class=\"edge\">\n<title>1&#45;&gt;9</title>\n<path fill=\"none\" stroke=\"#000000\" d=\"M1124.5,-296.9465C1124.5,-288.776 1124.5,-279.9318 1124.5,-271.3697\"/>\n<polygon fill=\"#000000\" stroke=\"#000000\" points=\"1128.0001,-271.13 1124.5,-261.13 1121.0001,-271.13 1128.0001,-271.13\"/>\n</g>\n<!-- 3 -->\n<g id=\"node4\" class=\"node\">\n<title>3</title>\n<polygon fill=\"#e99458\" stroke=\"#000000\" points=\"380,-157 191,-157 191,-89 380,-89 380,-157\"/>\n<text text-anchor=\"middle\" x=\"285.5\" y=\"-141.8\" font-family=\"Helvetica,sans-Serif\" font-size=\"14.00\" fill=\"#000000\">감마지티피 &lt;= 7.5</text>\n<text text-anchor=\"middle\" x=\"285.5\" y=\"-126.8\" font-family=\"Helvetica,sans-Serif\" font-size=\"14.00\" fill=\"#000000\">samples = 1554</text>\n<text text-anchor=\"middle\" x=\"285.5\" y=\"-111.8\" font-family=\"Helvetica,sans-Serif\" font-size=\"14.00\" fill=\"#000000\">value = [850.738, 131.652]</text>\n<text text-anchor=\"middle\" x=\"285.5\" y=\"-96.8\" font-family=\"Helvetica,sans-Serif\" font-size=\"14.00\" fill=\"#000000\">class = 정상</text>\n</g>\n<!-- 2&#45;&gt;3 -->\n<g id=\"edge3\" class=\"edge\">\n<title>2&#45;&gt;3</title>\n<path fill=\"none\" stroke=\"#000000\" d=\"M489.9855,-195.0898C458.3073,-183.9219 422.4853,-171.2931 389.7743,-159.7611\"/>\n<polygon fill=\"#000000\" stroke=\"#000000\" points=\"390.7801,-156.4046 380.1853,-156.3806 388.4527,-163.0064 390.7801,-156.4046\"/>\n</g>\n<!-- 6 -->\n<g id=\"node7\" class=\"node\">\n<title>6</title>\n<polygon fill=\"#fdf5ef\" stroke=\"#000000\" points=\"667,-157 494,-157 494,-89 667,-89 667,-157\"/>\n<text text-anchor=\"middle\" x=\"580.5\" y=\"-141.8\" font-family=\"Helvetica,sans-Serif\" font-size=\"14.00\" fill=\"#000000\">drinking &lt;= 0.5</text>\n<text text-anchor=\"middle\" x=\"580.5\" y=\"-126.8\" font-family=\"Helvetica,sans-Serif\" font-size=\"14.00\" fill=\"#000000\">samples = 126</text>\n<text text-anchor=\"middle\" x=\"580.5\" y=\"-111.8\" font-family=\"Helvetica,sans-Serif\" font-size=\"14.00\" fill=\"#000000\">value = [63.513, 58.512]</text>\n<text text-anchor=\"middle\" x=\"580.5\" y=\"-96.8\" font-family=\"Helvetica,sans-Serif\" font-size=\"14.00\" fill=\"#000000\">class = 정상</text>\n</g>\n<!-- 2&#45;&gt;6 -->\n<g id=\"edge6\" class=\"edge\">\n<title>2&#45;&gt;6</title>\n<path fill=\"none\" stroke=\"#000000\" d=\"M580.5,-192.9465C580.5,-184.776 580.5,-175.9318 580.5,-167.3697\"/>\n<polygon fill=\"#000000\" stroke=\"#000000\" points=\"584.0001,-167.13 580.5,-157.13 577.0001,-167.13 584.0001,-167.13\"/>\n</g>\n<!-- 4 -->\n<g id=\"node5\" class=\"node\">\n<title>4</title>\n<polygon fill=\"#eef7fd\" stroke=\"#000000\" points=\"173,-53 0,-53 0,0 173,0 173,-53\"/>\n<text text-anchor=\"middle\" x=\"86.5\" y=\"-37.8\" font-family=\"Helvetica,sans-Serif\" font-size=\"14.00\" fill=\"#000000\">samples = 36</text>\n<text text-anchor=\"middle\" x=\"86.5\" y=\"-22.8\" font-family=\"Helvetica,sans-Serif\" font-size=\"14.00\" fill=\"#000000\">value = [17.828, 19.504]</text>\n<text text-anchor=\"middle\" x=\"86.5\" y=\"-7.8\" font-family=\"Helvetica,sans-Serif\" font-size=\"14.00\" fill=\"#000000\">class = 당뇨</text>\n</g>\n<!-- 3&#45;&gt;4 -->\n<g id=\"edge4\" class=\"edge\">\n<title>3&#45;&gt;4</title>\n<path fill=\"none\" stroke=\"#000000\" d=\"M215.34,-88.9777C194.1877,-78.7204 171.0926,-67.521 150.3723,-57.4732\"/>\n<polygon fill=\"#000000\" stroke=\"#000000\" points=\"151.8687,-54.3091 141.3436,-53.095 148.8143,-60.6076 151.8687,-54.3091\"/>\n</g>\n<!-- 5 -->\n<g id=\"node6\" class=\"node\">\n<title>5</title>\n<polygon fill=\"#e99254\" stroke=\"#000000\" points=\"380,-53 191,-53 191,0 380,0 380,-53\"/>\n<text text-anchor=\"middle\" x=\"285.5\" y=\"-37.8\" font-family=\"Helvetica,sans-Serif\" font-size=\"14.00\" fill=\"#000000\">samples = 1518</text>\n<text text-anchor=\"middle\" x=\"285.5\" y=\"-22.8\" font-family=\"Helvetica,sans-Serif\" font-size=\"14.00\" fill=\"#000000\">value = [832.909, 112.148]</text>\n<text text-anchor=\"middle\" x=\"285.5\" y=\"-7.8\" font-family=\"Helvetica,sans-Serif\" font-size=\"14.00\" fill=\"#000000\">class = 정상</text>\n</g>\n<!-- 3&#45;&gt;5 -->\n<g id=\"edge5\" class=\"edge\">\n<title>3&#45;&gt;5</title>\n<path fill=\"none\" stroke=\"#000000\" d=\"M285.5,-88.9777C285.5,-80.7364 285.5,-71.887 285.5,-63.5153\"/>\n<polygon fill=\"#000000\" stroke=\"#000000\" points=\"289.0001,-63.2484 285.5,-53.2485 282.0001,-63.2485 289.0001,-63.2484\"/>\n</g>\n<!-- 7 -->\n<g id=\"node8\" class=\"node\">\n<title>7</title>\n<polygon fill=\"#a5d2f3\" stroke=\"#000000\" points=\"571,-53 398,-53 398,0 571,0 571,-53\"/>\n<text text-anchor=\"middle\" x=\"484.5\" y=\"-37.8\" font-family=\"Helvetica,sans-Serif\" font-size=\"14.00\" fill=\"#000000\">samples = 52</text>\n<text text-anchor=\"middle\" x=\"484.5\" y=\"-22.8\" font-family=\"Helvetica,sans-Serif\" font-size=\"14.00\" fill=\"#000000\">value = [23.957, 43.884]</text>\n<text text-anchor=\"middle\" x=\"484.5\" y=\"-7.8\" font-family=\"Helvetica,sans-Serif\" font-size=\"14.00\" fill=\"#000000\">class = 당뇨</text>\n</g>\n<!-- 6&#45;&gt;7 -->\n<g id=\"edge7\" class=\"edge\">\n<title>6&#45;&gt;7</title>\n<path fill=\"none\" stroke=\"#000000\" d=\"M546.654,-88.9777C537.4534,-79.7292 527.4908,-69.7147 518.2931,-60.4691\"/>\n<polygon fill=\"#000000\" stroke=\"#000000\" points=\"520.6439,-57.8695 511.1099,-53.2485 515.6813,-62.8064 520.6439,-57.8695\"/>\n</g>\n<!-- 8 -->\n<g id=\"node9\" class=\"node\">\n<title>8</title>\n<polygon fill=\"#efb082\" stroke=\"#000000\" points=\"762,-53 589,-53 589,0 762,0 762,-53\"/>\n<text text-anchor=\"middle\" x=\"675.5\" y=\"-37.8\" font-family=\"Helvetica,sans-Serif\" font-size=\"14.00\" fill=\"#000000\">samples = 74</text>\n<text text-anchor=\"middle\" x=\"675.5\" y=\"-22.8\" font-family=\"Helvetica,sans-Serif\" font-size=\"14.00\" fill=\"#000000\">value = [39.556, 14.628]</text>\n<text text-anchor=\"middle\" x=\"675.5\" y=\"-7.8\" font-family=\"Helvetica,sans-Serif\" font-size=\"14.00\" fill=\"#000000\">class = 정상</text>\n</g>\n<!-- 6&#45;&gt;8 -->\n<g id=\"edge8\" class=\"edge\">\n<title>6&#45;&gt;8</title>\n<path fill=\"none\" stroke=\"#000000\" d=\"M613.9934,-88.9777C623.0982,-79.7292 632.957,-69.7147 642.0589,-60.4691\"/>\n<polygon fill=\"#000000\" stroke=\"#000000\" points=\"644.646,-62.8302 649.1673,-53.2485 639.6576,-57.9193 644.646,-62.8302\"/>\n</g>\n<!-- 10 -->\n<g id=\"node11\" class=\"node\">\n<title>10</title>\n<polygon fill=\"#87c4ef\" stroke=\"#000000\" points=\"1112,-157 939,-157 939,-89 1112,-89 1112,-157\"/>\n<text text-anchor=\"middle\" x=\"1025.5\" y=\"-141.8\" font-family=\"Helvetica,sans-Serif\" font-size=\"14.00\" fill=\"#000000\">(혈청지오티)ALT &lt;= 11.5</text>\n<text text-anchor=\"middle\" x=\"1025.5\" y=\"-126.8\" font-family=\"Helvetica,sans-Serif\" font-size=\"14.00\" fill=\"#000000\">samples = 49</text>\n<text text-anchor=\"middle\" x=\"1025.5\" y=\"-111.8\" font-family=\"Helvetica,sans-Serif\" font-size=\"14.00\" fill=\"#000000\">value = [21.171, 53.636]</text>\n<text text-anchor=\"middle\" x=\"1025.5\" y=\"-96.8\" font-family=\"Helvetica,sans-Serif\" font-size=\"14.00\" fill=\"#000000\">class = 당뇨</text>\n</g>\n<!-- 9&#45;&gt;10 -->\n<g id=\"edge10\" class=\"edge\">\n<title>9&#45;&gt;10</title>\n<path fill=\"none\" stroke=\"#000000\" d=\"M1092.0837,-192.9465C1083.4514,-183.8782 1074.0289,-173.9799 1065.0605,-164.5585\"/>\n<polygon fill=\"#000000\" stroke=\"#000000\" points=\"1067.419,-161.9599 1057.9891,-157.13 1062.3489,-166.7863 1067.419,-161.9599\"/>\n</g>\n<!-- 13 -->\n<g id=\"node14\" class=\"node\">\n<title>13</title>\n<polygon fill=\"#f6d6be\" stroke=\"#000000\" points=\"1319,-157 1130,-157 1130,-89 1319,-89 1319,-157\"/>\n<text text-anchor=\"middle\" x=\"1224.5\" y=\"-141.8\" font-family=\"Helvetica,sans-Serif\" font-size=\"14.00\" fill=\"#000000\">(혈청지오티)ALT &lt;= 28.5</text>\n<text text-anchor=\"middle\" x=\"1224.5\" y=\"-126.8\" font-family=\"Helvetica,sans-Serif\" font-size=\"14.00\" fill=\"#000000\">samples = 491</text>\n<text text-anchor=\"middle\" x=\"1224.5\" y=\"-111.8\" font-family=\"Helvetica,sans-Serif\" font-size=\"14.00\" fill=\"#000000\">value = [254.051, 170.659]</text>\n<text text-anchor=\"middle\" x=\"1224.5\" y=\"-96.8\" font-family=\"Helvetica,sans-Serif\" font-size=\"14.00\" fill=\"#000000\">class = 정상</text>\n</g>\n<!-- 9&#45;&gt;13 -->\n<g id=\"edge13\" class=\"edge\">\n<title>9&#45;&gt;13</title>\n<path fill=\"none\" stroke=\"#000000\" d=\"M1157.2437,-192.9465C1165.9633,-183.8782 1175.4809,-173.9799 1184.5399,-164.5585\"/>\n<polygon fill=\"#000000\" stroke=\"#000000\" points=\"1187.2745,-166.7642 1191.6827,-157.13 1182.2287,-161.9125 1187.2745,-166.7642\"/>\n</g>\n<!-- 11 -->\n<g id=\"node12\" class=\"node\">\n<title>11</title>\n<polygon fill=\"#e58139\" stroke=\"#000000\" points=\"920.5,-53 780.5,-53 780.5,0 920.5,0 920.5,-53\"/>\n<text text-anchor=\"middle\" x=\"850.5\" y=\"-37.8\" font-family=\"Helvetica,sans-Serif\" font-size=\"14.00\" fill=\"#000000\">samples = 16</text>\n<text text-anchor=\"middle\" x=\"850.5\" y=\"-22.8\" font-family=\"Helvetica,sans-Serif\" font-size=\"14.00\" fill=\"#000000\">value = [8.914, 0.0]</text>\n<text text-anchor=\"middle\" x=\"850.5\" y=\"-7.8\" font-family=\"Helvetica,sans-Serif\" font-size=\"14.00\" fill=\"#000000\">class = 정상</text>\n</g>\n<!-- 10&#45;&gt;11 -->\n<g id=\"edge11\" class=\"edge\">\n<title>10&#45;&gt;11</title>\n<path fill=\"none\" stroke=\"#000000\" d=\"M963.8015,-88.9777C945.6173,-78.9504 925.8003,-68.0228 907.8979,-58.1508\"/>\n<polygon fill=\"#000000\" stroke=\"#000000\" points=\"909.1763,-54.859 898.7293,-53.095 905.7961,-60.9888 909.1763,-54.859\"/>\n</g>\n<!-- 12 -->\n<g id=\"node13\" class=\"node\">\n<title>12</title>\n<polygon fill=\"#66b3eb\" stroke=\"#000000\" points=\"1112,-53 939,-53 939,0 1112,0 1112,-53\"/>\n<text text-anchor=\"middle\" x=\"1025.5\" y=\"-37.8\" font-family=\"Helvetica,sans-Serif\" font-size=\"14.00\" fill=\"#000000\">samples = 33</text>\n<text text-anchor=\"middle\" x=\"1025.5\" y=\"-22.8\" font-family=\"Helvetica,sans-Serif\" font-size=\"14.00\" fill=\"#000000\">value = [12.257, 53.636]</text>\n<text text-anchor=\"middle\" x=\"1025.5\" y=\"-7.8\" font-family=\"Helvetica,sans-Serif\" font-size=\"14.00\" fill=\"#000000\">class = 당뇨</text>\n</g>\n<!-- 10&#45;&gt;12 -->\n<g id=\"edge12\" class=\"edge\">\n<title>10&#45;&gt;12</title>\n<path fill=\"none\" stroke=\"#000000\" d=\"M1025.5,-88.9777C1025.5,-80.7364 1025.5,-71.887 1025.5,-63.5153\"/>\n<polygon fill=\"#000000\" stroke=\"#000000\" points=\"1029.0001,-63.2484 1025.5,-53.2485 1022.0001,-63.2485 1029.0001,-63.2484\"/>\n</g>\n<!-- 14 -->\n<g id=\"node15\" class=\"node\">\n<title>14</title>\n<polygon fill=\"#f4caab\" stroke=\"#000000\" points=\"1319,-53 1130,-53 1130,0 1319,0 1319,-53\"/>\n<text text-anchor=\"middle\" x=\"1224.5\" y=\"-37.8\" font-family=\"Helvetica,sans-Serif\" font-size=\"14.00\" fill=\"#000000\">samples = 452</text>\n<text text-anchor=\"middle\" x=\"1224.5\" y=\"-22.8\" font-family=\"Helvetica,sans-Serif\" font-size=\"14.00\" fill=\"#000000\">value = [236.223, 136.528]</text>\n<text text-anchor=\"middle\" x=\"1224.5\" y=\"-7.8\" font-family=\"Helvetica,sans-Serif\" font-size=\"14.00\" fill=\"#000000\">class = 정상</text>\n</g>\n<!-- 13&#45;&gt;14 -->\n<g id=\"edge14\" class=\"edge\">\n<title>13&#45;&gt;14</title>\n<path fill=\"none\" stroke=\"#000000\" d=\"M1224.5,-88.9777C1224.5,-80.7364 1224.5,-71.887 1224.5,-63.5153\"/>\n<polygon fill=\"#000000\" stroke=\"#000000\" points=\"1228.0001,-63.2484 1224.5,-53.2485 1221.0001,-63.2485 1228.0001,-63.2484\"/>\n</g>\n<!-- 15 -->\n<g id=\"node16\" class=\"node\">\n<title>15</title>\n<polygon fill=\"#a0d0f3\" stroke=\"#000000\" points=\"1510,-53 1337,-53 1337,0 1510,0 1510,-53\"/>\n<text text-anchor=\"middle\" x=\"1423.5\" y=\"-37.8\" font-family=\"Helvetica,sans-Serif\" font-size=\"14.00\" fill=\"#000000\">samples = 39</text>\n<text text-anchor=\"middle\" x=\"1423.5\" y=\"-22.8\" font-family=\"Helvetica,sans-Serif\" font-size=\"14.00\" fill=\"#000000\">value = [17.828, 34.132]</text>\n<text text-anchor=\"middle\" x=\"1423.5\" y=\"-7.8\" font-family=\"Helvetica,sans-Serif\" font-size=\"14.00\" fill=\"#000000\">class = 당뇨</text>\n</g>\n<!-- 13&#45;&gt;15 -->\n<g id=\"edge15\" class=\"edge\">\n<title>13&#45;&gt;15</title>\n<path fill=\"none\" stroke=\"#000000\" d=\"M1294.66,-88.9777C1315.8123,-78.7204 1338.9074,-67.521 1359.6277,-57.4732\"/>\n<polygon fill=\"#000000\" stroke=\"#000000\" points=\"1361.1857,-60.6076 1368.6564,-53.095 1358.1313,-54.3091 1361.1857,-60.6076\"/>\n</g>\n<!-- 17 -->\n<g id=\"node18\" class=\"node\">\n<title>17</title>\n<polygon fill=\"#fcf2eb\" stroke=\"#000000\" points=\"2025,-261 1828,-261 1828,-193 2025,-193 2025,-261\"/>\n<text text-anchor=\"middle\" x=\"1926.5\" y=\"-245.8\" font-family=\"Helvetica,sans-Serif\" font-size=\"14.00\" fill=\"#000000\">연령대코드(5세단위) &lt;= 11.5</text>\n<text text-anchor=\"middle\" x=\"1926.5\" y=\"-230.8\" font-family=\"Helvetica,sans-Serif\" font-size=\"14.00\" fill=\"#000000\">samples = 2780</text>\n<text text-anchor=\"middle\" x=\"1926.5\" y=\"-215.8\" font-family=\"Helvetica,sans-Serif\" font-size=\"14.00\" fill=\"#000000\">value = [1404.525, 1262.88]</text>\n<text text-anchor=\"middle\" x=\"1926.5\" y=\"-200.8\" font-family=\"Helvetica,sans-Serif\" font-size=\"14.00\" fill=\"#000000\">class = 정상</text>\n</g>\n<!-- 16&#45;&gt;17 -->\n<g id=\"edge17\" class=\"edge\">\n<title>16&#45;&gt;17</title>\n<path fill=\"none\" stroke=\"#000000\" d=\"M1926.5,-296.9465C1926.5,-288.776 1926.5,-279.9318 1926.5,-271.3697\"/>\n<polygon fill=\"#000000\" stroke=\"#000000\" points=\"1930.0001,-271.13 1926.5,-261.13 1923.0001,-271.13 1930.0001,-271.13\"/>\n</g>\n<!-- 24 -->\n<g id=\"node25\" class=\"node\">\n<title>24</title>\n<polygon fill=\"#a6d3f3\" stroke=\"#000000\" points=\"2634.5,-261 2428.5,-261 2428.5,-193 2634.5,-193 2634.5,-261\"/>\n<text text-anchor=\"middle\" x=\"2531.5\" y=\"-245.8\" font-family=\"Helvetica,sans-Serif\" font-size=\"14.00\" fill=\"#000000\">연령대코드(5세단위) &lt;= 10.5</text>\n<text text-anchor=\"middle\" x=\"2531.5\" y=\"-230.8\" font-family=\"Helvetica,sans-Serif\" font-size=\"14.00\" fill=\"#000000\">samples = 2431</text>\n<text text-anchor=\"middle\" x=\"2531.5\" y=\"-215.8\" font-family=\"Helvetica,sans-Serif\" font-size=\"14.00\" fill=\"#000000\">value = [1121.503, 2038.161]</text>\n<text text-anchor=\"middle\" x=\"2531.5\" y=\"-200.8\" font-family=\"Helvetica,sans-Serif\" font-size=\"14.00\" fill=\"#000000\">class = 당뇨</text>\n</g>\n<!-- 16&#45;&gt;24 -->\n<g id=\"edge24\" class=\"edge\">\n<title>16&#45;&gt;24</title>\n<path fill=\"none\" stroke=\"#000000\" d=\"M2029.8158,-313.2399C2137.8429,-294.67 2306.8783,-265.6127 2418.4186,-246.4388\"/>\n<polygon fill=\"#000000\" stroke=\"#000000\" points=\"2419.095,-249.8739 2428.3575,-244.7303 2417.9091,-242.9751 2419.095,-249.8739\"/>\n</g>\n<!-- 18 -->\n<g id=\"node19\" class=\"node\">\n<title>18</title>\n<polygon fill=\"#f4c8a8\" stroke=\"#000000\" points=\"1918,-157 1729,-157 1729,-89 1918,-89 1918,-157\"/>\n<text text-anchor=\"middle\" x=\"1823.5\" y=\"-141.8\" font-family=\"Helvetica,sans-Serif\" font-size=\"14.00\" fill=\"#000000\">감마지티피 &lt;= 50.5</text>\n<text text-anchor=\"middle\" x=\"1823.5\" y=\"-126.8\" font-family=\"Helvetica,sans-Serif\" font-size=\"14.00\" fill=\"#000000\">samples = 1228</text>\n<text text-anchor=\"middle\" x=\"1823.5\" y=\"-111.8\" font-family=\"Helvetica,sans-Serif\" font-size=\"14.00\" fill=\"#000000\">value = [642.928, 360.823]</text>\n<text text-anchor=\"middle\" x=\"1823.5\" y=\"-96.8\" font-family=\"Helvetica,sans-Serif\" font-size=\"14.00\" fill=\"#000000\">class = 정상</text>\n</g>\n<!-- 17&#45;&gt;18 -->\n<g id=\"edge18\" class=\"edge\">\n<title>17&#45;&gt;18</title>\n<path fill=\"none\" stroke=\"#000000\" d=\"M1892.7739,-192.9465C1883.7039,-183.7884 1873.7955,-173.7838 1864.3819,-164.2788\"/>\n<polygon fill=\"#000000\" stroke=\"#000000\" points=\"1866.8255,-161.7723 1857.3018,-157.13 1861.8519,-166.6981 1866.8255,-161.7723\"/>\n</g>\n<!-- 21 -->\n<g id=\"node22\" class=\"node\">\n<title>21</title>\n<polygon fill=\"#e0f0fb\" stroke=\"#000000\" points=\"2125,-157 1936,-157 1936,-89 2125,-89 2125,-157\"/>\n<text text-anchor=\"middle\" x=\"2030.5\" y=\"-141.8\" font-family=\"Helvetica,sans-Serif\" font-size=\"14.00\" fill=\"#000000\">감마지티피 &lt;= 35.5</text>\n<text text-anchor=\"middle\" x=\"2030.5\" y=\"-126.8\" font-family=\"Helvetica,sans-Serif\" font-size=\"14.00\" fill=\"#000000\">samples = 1552</text>\n<text text-anchor=\"middle\" x=\"2030.5\" y=\"-111.8\" font-family=\"Helvetica,sans-Serif\" font-size=\"14.00\" fill=\"#000000\">value = [761.597, 902.057]</text>\n<text text-anchor=\"middle\" x=\"2030.5\" y=\"-96.8\" font-family=\"Helvetica,sans-Serif\" font-size=\"14.00\" fill=\"#000000\">class = 당뇨</text>\n</g>\n<!-- 17&#45;&gt;21 -->\n<g id=\"edge21\" class=\"edge\">\n<title>17&#45;&gt;21</title>\n<path fill=\"none\" stroke=\"#000000\" d=\"M1960.5535,-192.9465C1969.7116,-183.7884 1979.7162,-173.7838 1989.2212,-164.2788\"/>\n<polygon fill=\"#000000\" stroke=\"#000000\" points=\"1991.7738,-166.676 1996.37,-157.13 1986.824,-161.7262 1991.7738,-166.676\"/>\n</g>\n<!-- 19 -->\n<g id=\"node20\" class=\"node\">\n<title>19</title>\n<polygon fill=\"#f0b78e\" stroke=\"#000000\" points=\"1717,-53 1528,-53 1528,0 1717,0 1717,-53\"/>\n<text text-anchor=\"middle\" x=\"1622.5\" y=\"-37.8\" font-family=\"Helvetica,sans-Serif\" font-size=\"14.00\" fill=\"#000000\">samples = 1067</text>\n<text text-anchor=\"middle\" x=\"1622.5\" y=\"-22.8\" font-family=\"Helvetica,sans-Serif\" font-size=\"14.00\" fill=\"#000000\">value = [566.601, 243.799]</text>\n<text text-anchor=\"middle\" x=\"1622.5\" y=\"-7.8\" font-family=\"Helvetica,sans-Serif\" font-size=\"14.00\" fill=\"#000000\">class = 정상</text>\n</g>\n<!-- 18&#45;&gt;19 -->\n<g id=\"edge19\" class=\"edge\">\n<title>18&#45;&gt;19</title>\n<path fill=\"none\" stroke=\"#000000\" d=\"M1752.6349,-88.9777C1731.27,-78.7204 1707.9427,-67.521 1687.0142,-57.4732\"/>\n<polygon fill=\"#000000\" stroke=\"#000000\" points=\"1688.4245,-54.2679 1677.8948,-53.095 1685.3949,-60.5783 1688.4245,-54.2679\"/>\n</g>\n<!-- 20 -->\n<g id=\"node21\" class=\"node\">\n<title>20</title>\n<polygon fill=\"#baddf6\" stroke=\"#000000\" points=\"1916,-53 1735,-53 1735,0 1916,0 1916,-53\"/>\n<text text-anchor=\"middle\" x=\"1825.5\" y=\"-37.8\" font-family=\"Helvetica,sans-Serif\" font-size=\"14.00\" fill=\"#000000\">samples = 161</text>\n<text text-anchor=\"middle\" x=\"1825.5\" y=\"-22.8\" font-family=\"Helvetica,sans-Serif\" font-size=\"14.00\" fill=\"#000000\">value = [76.327, 117.024]</text>\n<text text-anchor=\"middle\" x=\"1825.5\" y=\"-7.8\" font-family=\"Helvetica,sans-Serif\" font-size=\"14.00\" fill=\"#000000\">class = 당뇨</text>\n</g>\n<!-- 18&#45;&gt;20 -->\n<g id=\"edge20\" class=\"edge\">\n<title>18&#45;&gt;20</title>\n<path fill=\"none\" stroke=\"#000000\" d=\"M1824.2051,-88.9777C1824.3759,-80.7364 1824.5593,-71.887 1824.7328,-63.5153\"/>\n<polygon fill=\"#000000\" stroke=\"#000000\" points=\"1828.2376,-63.3189 1824.9456,-53.2485 1821.2391,-63.1738 1828.2376,-63.3189\"/>\n</g>\n<!-- 22 -->\n<g id=\"node23\" class=\"node\">\n<title>22</title>\n<polygon fill=\"#fef9f6\" stroke=\"#000000\" points=\"2123,-53 1934,-53 1934,0 2123,0 2123,-53\"/>\n<text text-anchor=\"middle\" x=\"2028.5\" y=\"-37.8\" font-family=\"Helvetica,sans-Serif\" font-size=\"14.00\" fill=\"#000000\">samples = 1180</text>\n<text text-anchor=\"middle\" x=\"2028.5\" y=\"-22.8\" font-family=\"Helvetica,sans-Serif\" font-size=\"14.00\" fill=\"#000000\">value = [592.786, 565.614]</text>\n<text text-anchor=\"middle\" x=\"2028.5\" y=\"-7.8\" font-family=\"Helvetica,sans-Serif\" font-size=\"14.00\" fill=\"#000000\">class = 정상</text>\n</g>\n<!-- 21&#45;&gt;22 -->\n<g id=\"edge22\" class=\"edge\">\n<title>21&#45;&gt;22</title>\n<path fill=\"none\" stroke=\"#000000\" d=\"M2029.7949,-88.9777C2029.6241,-80.7364 2029.4407,-71.887 2029.2672,-63.5153\"/>\n<polygon fill=\"#000000\" stroke=\"#000000\" points=\"2032.7609,-63.1738 2029.0544,-53.2485 2025.7624,-63.3189 2032.7609,-63.1738\"/>\n</g>\n<!-- 23 -->\n<g id=\"node24\" class=\"node\">\n<title>23</title>\n<polygon fill=\"#9ccef2\" stroke=\"#000000\" points=\"2322,-53 2141,-53 2141,0 2322,0 2322,-53\"/>\n<text text-anchor=\"middle\" x=\"2231.5\" y=\"-37.8\" font-family=\"Helvetica,sans-Serif\" font-size=\"14.00\" fill=\"#000000\">samples = 372</text>\n<text text-anchor=\"middle\" x=\"2231.5\" y=\"-22.8\" font-family=\"Helvetica,sans-Serif\" font-size=\"14.00\" fill=\"#000000\">value = [168.81, 336.443]</text>\n<text text-anchor=\"middle\" x=\"2231.5\" y=\"-7.8\" font-family=\"Helvetica,sans-Serif\" font-size=\"14.00\" fill=\"#000000\">class = 당뇨</text>\n</g>\n<!-- 21&#45;&gt;23 -->\n<g id=\"edge23\" class=\"edge\">\n<title>21&#45;&gt;23</title>\n<path fill=\"none\" stroke=\"#000000\" d=\"M2101.3651,-88.9777C2122.73,-78.7204 2146.0573,-67.521 2166.9858,-57.4732\"/>\n<polygon fill=\"#000000\" stroke=\"#000000\" points=\"2168.6051,-60.5783 2176.1052,-53.095 2165.5755,-54.2679 2168.6051,-60.5783\"/>\n</g>\n<!-- 25 -->\n<g id=\"node26\" class=\"node\">\n<title>25</title>\n<polygon fill=\"#e6f2fc\" stroke=\"#000000\" points=\"2626,-157 2437,-157 2437,-89 2626,-89 2626,-157\"/>\n<text text-anchor=\"middle\" x=\"2531.5\" y=\"-141.8\" font-family=\"Helvetica,sans-Serif\" font-size=\"14.00\" fill=\"#000000\">(혈청지오티)ALT &lt;= 42.5</text>\n<text text-anchor=\"middle\" x=\"2531.5\" y=\"-126.8\" font-family=\"Helvetica,sans-Serif\" font-size=\"14.00\" fill=\"#000000\">samples = 811</text>\n<text text-anchor=\"middle\" x=\"2531.5\" y=\"-111.8\" font-family=\"Helvetica,sans-Serif\" font-size=\"14.00\" fill=\"#000000\">value = [399.462, 458.343]</text>\n<text text-anchor=\"middle\" x=\"2531.5\" y=\"-96.8\" font-family=\"Helvetica,sans-Serif\" font-size=\"14.00\" fill=\"#000000\">class = 당뇨</text>\n</g>\n<!-- 24&#45;&gt;25 -->\n<g id=\"edge25\" class=\"edge\">\n<title>24&#45;&gt;25</title>\n<path fill=\"none\" stroke=\"#000000\" d=\"M2531.5,-192.9465C2531.5,-184.776 2531.5,-175.9318 2531.5,-167.3697\"/>\n<polygon fill=\"#000000\" stroke=\"#000000\" points=\"2535.0001,-167.13 2531.5,-157.13 2528.0001,-167.13 2535.0001,-167.13\"/>\n</g>\n<!-- 28 -->\n<g id=\"node29\" class=\"node\">\n<title>28</title>\n<polygon fill=\"#93caf1\" stroke=\"#000000\" points=\"2939,-157 2750,-157 2750,-89 2939,-89 2939,-157\"/>\n<text text-anchor=\"middle\" x=\"2844.5\" y=\"-141.8\" font-family=\"Helvetica,sans-Serif\" font-size=\"14.00\" fill=\"#000000\">smoking &lt;= 1.5</text>\n<text text-anchor=\"middle\" x=\"2844.5\" y=\"-126.8\" font-family=\"Helvetica,sans-Serif\" font-size=\"14.00\" fill=\"#000000\">samples = 1620</text>\n<text text-anchor=\"middle\" x=\"2844.5\" y=\"-111.8\" font-family=\"Helvetica,sans-Serif\" font-size=\"14.00\" fill=\"#000000\">value = [722.04, 1579.819]</text>\n<text text-anchor=\"middle\" x=\"2844.5\" y=\"-96.8\" font-family=\"Helvetica,sans-Serif\" font-size=\"14.00\" fill=\"#000000\">class = 당뇨</text>\n</g>\n<!-- 24&#45;&gt;28 -->\n<g id=\"edge28\" class=\"edge\">\n<title>24&#45;&gt;28</title>\n<path fill=\"none\" stroke=\"#000000\" d=\"M2633.9879,-192.9465C2668.1296,-181.6023 2706.1803,-168.9593 2740.4399,-157.5759\"/>\n<polygon fill=\"#000000\" stroke=\"#000000\" points=\"2741.6097,-160.8754 2749.996,-154.4007 2739.4025,-154.2325 2741.6097,-160.8754\"/>\n</g>\n<!-- 26 -->\n<g id=\"node27\" class=\"node\">\n<title>26</title>\n<polygon fill=\"#f7d9c3\" stroke=\"#000000\" points=\"2521,-53 2340,-53 2340,0 2521,0 2521,-53\"/>\n<text text-anchor=\"middle\" x=\"2430.5\" y=\"-37.8\" font-family=\"Helvetica,sans-Serif\" font-size=\"14.00\" fill=\"#000000\">samples = 489</text>\n<text text-anchor=\"middle\" x=\"2430.5\" y=\"-22.8\" font-family=\"Helvetica,sans-Serif\" font-size=\"14.00\" fill=\"#000000\">value = [252.38, 175.535]</text>\n<text text-anchor=\"middle\" x=\"2430.5\" y=\"-7.8\" font-family=\"Helvetica,sans-Serif\" font-size=\"14.00\" fill=\"#000000\">class = 정상</text>\n</g>\n<!-- 25&#45;&gt;26 -->\n<g id=\"edge26\" class=\"edge\">\n<title>25&#45;&gt;26</title>\n<path fill=\"none\" stroke=\"#000000\" d=\"M2495.8912,-88.9777C2486.1155,-79.6376 2475.5223,-69.5163 2465.766,-60.1947\"/>\n<polygon fill=\"#000000\" stroke=\"#000000\" points=\"2468.144,-57.6261 2458.4958,-53.2485 2463.3083,-62.6873 2468.144,-57.6261\"/>\n</g>\n<!-- 27 -->\n<g id=\"node28\" class=\"node\">\n<title>27</title>\n<polygon fill=\"#a0d0f3\" stroke=\"#000000\" points=\"2728,-53 2539,-53 2539,0 2728,0 2728,-53\"/>\n<text text-anchor=\"middle\" x=\"2633.5\" y=\"-37.8\" font-family=\"Helvetica,sans-Serif\" font-size=\"14.00\" fill=\"#000000\">samples = 322</text>\n<text text-anchor=\"middle\" x=\"2633.5\" y=\"-22.8\" font-family=\"Helvetica,sans-Serif\" font-size=\"14.00\" fill=\"#000000\">value = [147.082, 282.807]</text>\n<text text-anchor=\"middle\" x=\"2633.5\" y=\"-7.8\" font-family=\"Helvetica,sans-Serif\" font-size=\"14.00\" fill=\"#000000\">class = 당뇨</text>\n</g>\n<!-- 25&#45;&gt;27 -->\n<g id=\"edge27\" class=\"edge\">\n<title>25&#45;&gt;27</title>\n<path fill=\"none\" stroke=\"#000000\" d=\"M2567.4614,-88.9777C2577.3338,-79.6376 2588.032,-69.5163 2597.8849,-60.1947\"/>\n<polygon fill=\"#000000\" stroke=\"#000000\" points=\"2600.3682,-62.6635 2605.227,-53.2485 2595.5574,-57.5785 2600.3682,-62.6635\"/>\n</g>\n<!-- 29 -->\n<g id=\"node30\" class=\"node\">\n<title>29</title>\n<polygon fill=\"#9fcff2\" stroke=\"#000000\" points=\"2943,-53 2746,-53 2746,0 2943,0 2943,-53\"/>\n<text text-anchor=\"middle\" x=\"2844.5\" y=\"-37.8\" font-family=\"Helvetica,sans-Serif\" font-size=\"14.00\" fill=\"#000000\">samples = 1293</text>\n<text text-anchor=\"middle\" x=\"2844.5\" y=\"-22.8\" font-family=\"Helvetica,sans-Serif\" font-size=\"14.00\" fill=\"#000000\">value = [589.444, 1145.856]</text>\n<text text-anchor=\"middle\" x=\"2844.5\" y=\"-7.8\" font-family=\"Helvetica,sans-Serif\" font-size=\"14.00\" fill=\"#000000\">class = 당뇨</text>\n</g>\n<!-- 28&#45;&gt;29 -->\n<g id=\"edge29\" class=\"edge\">\n<title>28&#45;&gt;29</title>\n<path fill=\"none\" stroke=\"#000000\" d=\"M2844.5,-88.9777C2844.5,-80.7364 2844.5,-71.887 2844.5,-63.5153\"/>\n<polygon fill=\"#000000\" stroke=\"#000000\" points=\"2848.0001,-63.2484 2844.5,-53.2485 2841.0001,-63.2485 2848.0001,-63.2484\"/>\n</g>\n<!-- 30 -->\n<g id=\"node31\" class=\"node\">\n<title>30</title>\n<polygon fill=\"#75bbed\" stroke=\"#000000\" points=\"3150,-53 2961,-53 2961,0 3150,0 3150,-53\"/>\n<text text-anchor=\"middle\" x=\"3055.5\" y=\"-37.8\" font-family=\"Helvetica,sans-Serif\" font-size=\"14.00\" fill=\"#000000\">samples = 327</text>\n<text text-anchor=\"middle\" x=\"3055.5\" y=\"-22.8\" font-family=\"Helvetica,sans-Serif\" font-size=\"14.00\" fill=\"#000000\">value = [132.597, 433.963]</text>\n<text text-anchor=\"middle\" x=\"3055.5\" y=\"-7.8\" font-family=\"Helvetica,sans-Serif\" font-size=\"14.00\" fill=\"#000000\">class = 당뇨</text>\n</g>\n<!-- 28&#45;&gt;30 -->\n<g id=\"edge30\" class=\"edge\">\n<title>28&#45;&gt;30</title>\n<path fill=\"none\" stroke=\"#000000\" d=\"M2918.8907,-88.9777C2941.4191,-78.6744 2966.0261,-67.4205 2988.0715,-57.3381\"/>\n<polygon fill=\"#000000\" stroke=\"#000000\" points=\"2989.7109,-60.4371 2997.3492,-53.095 2986.7994,-54.0713 2989.7109,-60.4371\"/>\n</g>\n</g>\n</svg>\n"
          },
          "metadata": {}
        }
      ]
    },
    {
      "cell_type": "code",
      "source": [
        "result = tree.feature_importances_\n",
        "print(\"변수의 중요도:\\n\", result)"
      ],
      "metadata": {
        "colab": {
          "base_uri": "https://localhost:8080/"
        },
        "id": "84TBSP3KTeXk",
        "outputId": "12e73837-d629-4490-b547-4e001a8bcf0a"
      },
      "execution_count": 49,
      "outputs": [
        {
          "output_type": "stream",
          "name": "stdout",
          "text": [
            "변수의 중요도:\n",
            " [0.         0.20189066 0.         0.02067095 0.21201957 0.49343048\n",
            " 0.05798712 0.01400123]\n"
          ]
        }
      ]
    },
    {
      "cell_type": "code",
      "source": [
        "import numpy as np"
      ],
      "metadata": {
        "id": "n-se01cNjCEE"
      },
      "execution_count": 51,
      "outputs": []
    },
    {
      "cell_type": "code",
      "source": [
        "def plot_feature_importances(model):\n",
        "    plt.rcParams[\"figure.figsize\"] = (9,6)\n",
        "    n_features = len(df_dia.columns[1:])  # 30개 \n",
        "    plt.barh(np.arange(n_features), model.feature_importances_, align='center') \n",
        "    plt.yticks(np.arange(n_features), df_dia.columns[1:])   # 30개의 눈금을 표시하고 눈금 레이블을 변수 이름으로 지정\n",
        "    plt.xlabel(\"feature importance\")\n",
        "    plt.ylabel(\"feature\")\n",
        "    plt.ylim(-1, n_features) #Y 축 범위 지정 (-1 ~ 30)\n",
        "\n",
        "plot_feature_importances(tree)"
      ],
      "metadata": {
        "colab": {
          "base_uri": "https://localhost:8080/",
          "height": 389
        },
        "id": "8MZTIKN6iwFJ",
        "outputId": "019cbf84-5ce2-4bba-ed92-08aa66f07a54"
      },
      "execution_count": 52,
      "outputs": [
        {
          "output_type": "display_data",
          "data": {
            "text/plain": [
              "<Figure size 648x432 with 1 Axes>"
            ],
            "image/png": "[encoded data removed]"
          },
          "metadata": {
            "needs_background": "light"
          }
        }
      ]
    },
    {
      "cell_type": "markdown",
      "source": [
        "변수의 중요도\n",
        "* sex : 0\n",
        "* 연령대코드(5세단위) : 0.20189066\n",
        "* BMI : 0.\n",
        "* (혈청지오티)AST : 0.02067095\n",
        "* (혈청지오티)ALT : 0.21201957\n",
        "* 감마지티피 : 0.49343048\n",
        "* smoking : 0.05798712\n",
        "* drinking : 0.01400123\n",
        "\n",
        "**간 상태를 나타내는 지표인 감마지티피, (혈청지오티)ALT의 중요도가 가장 높고, 나이, 흡연상태(smoking), (혈청지오티)AST, 음주 여부(drinking) 순으로 중요도가 높은 것을 확인할 수 있다.**\n",
        "**시험용 데이터의 정확도가 0.649로 매우 높은 편은 아니지만 간 건강으로 당뇨 여부를 예측할만한 것으로 보인다**"
      ],
      "metadata": {
        "id": "_Bl3KmxnTlN4"
      }
    },
    {
      "cell_type": "markdown",
      "source": [
        "## 앙상블\n",
        "간 건강으로 당뇨 여부를 더 정확하게 예측할 수 있는 모델을 찾기 위해 앙상블 기법을 이용하기로 한다"
      ],
      "metadata": {
        "id": "EhNqJ_212qGu"
      }
    },
    {
      "cell_type": "markdown",
      "source": [
        "### 배깅-랜덤포레스트"
      ],
      "metadata": {
        "id": "SwJwXBmDA0UP"
      }
    },
    {
      "cell_type": "code",
      "source": [
        "from sklearn.ensemble import RandomForestClassifier\n",
        "\n",
        "# radius_mean, texture_mean 변수만 이용하여 \n",
        "# 5개의 나무를 만드는 예 (n_estimators = 5, 실제는 수백개의 트리를 만든다)\n",
        "forest = RandomForestClassifier(class_weight=\"balanced\", n_estimators=5, random_state=2)\n",
        "forest.fit(X_train.iloc[:, 0:2], y_train)"
      ],
      "metadata": {
        "colab": {
          "base_uri": "https://localhost:8080/"
        },
        "id": "ui2eV6wTlIZF",
        "outputId": "9bc03612-d2fe-47fa-df3a-aa02e26e1178"
      },
      "execution_count": 69,
      "outputs": [
        {
          "output_type": "execute_result",
          "data": {
            "text/plain": [
              "RandomForestClassifier(class_weight='balanced', n_estimators=5, random_state=2)"
            ]
          },
          "metadata": {},
          "execution_count": 69
        }
      ]
    },
    {
      "cell_type": "code",
      "source": [
        "print(X)"
      ],
      "metadata": {
        "colab": {
          "base_uri": "https://localhost:8080/"
        },
        "id": "XSORQbvVlt-2",
        "outputId": "fb015245-b79d-4b3f-9b90-c50a5bcf8683"
      },
      "execution_count": 61,
      "outputs": [
        {
          "output_type": "stream",
          "name": "stdout",
          "text": [
            "      sex  연령대코드(5세단위)        BMI  (혈청지오티)AST  (혈청지오티)ALT  감마지티피  smoking  \\\n",
            "0       1            9  22.038567        21.0        27.0   21.0        0   \n",
            "1       0           13  28.888889        18.0        15.0   15.0        0   \n",
            "2       0           12  22.892820        27.0        25.0    7.0        0   \n",
            "3       1           13  27.343750        65.0        97.0   72.0        0   \n",
            "4       0           12  20.811655        18.0        17.0   14.0        0   \n",
            "...   ...          ...        ...         ...         ...    ...      ...   \n",
            "9995    0           13  22.892820        20.0        21.0   20.0        0   \n",
            "9996    0           11  21.484375        24.0        22.0   21.0        0   \n",
            "9997    1           12  31.250000        22.0        27.0   35.0        0   \n",
            "9998    0           15  22.892820        26.0        24.0   21.0        0   \n",
            "9999    0           13  29.296875        32.0        24.0   30.0        1   \n",
            "\n",
            "      drinking  \n",
            "0            0  \n",
            "1            0  \n",
            "2            0  \n",
            "3            0  \n",
            "4            0  \n",
            "...        ...  \n",
            "9995         1  \n",
            "9996         1  \n",
            "9997         0  \n",
            "9998         0  \n",
            "9999         1  \n",
            "\n",
            "[9909 rows x 8 columns]\n"
          ]
        }
      ]
    },
    {
      "cell_type": "code",
      "source": [
        "# 5개 나무 각각의 분류 경계를 그림 (서로 모양이 많이 다르다)\n",
        "# 2차원으로 나무의 결과를 보여주기 위한 코드로 mglearn의 함수들을 이용\n",
        "fig, axes = plt.subplots(2, 3, figsize=(20, 10))\n",
        "for i, (ax, tree) in enumerate(zip(axes.ravel(), forest.estimators_)):\n",
        "    ax.set_title(\"Tree {}\".format(i))\n",
        "    mglearn.plots.plot_tree_partition(X.iloc[:, 0:2].values, y, tree, ax=ax)"
      ],
      "metadata": {
        "colab": {
          "base_uri": "https://localhost:8080/",
          "height": 592
        },
        "id": "xWq0Jfv3lRrD",
        "outputId": "b29771a1-ffd2-43a1-aec7-6307062999d2"
      },
      "execution_count": 70,
      "outputs": [
        {
          "output_type": "display_data",
          "data": {
            "text/plain": [
              "<Figure size 1440x720 with 6 Axes>"
            ],
            "image/png": "[encoded data removed]"
          },
          "metadata": {
            "needs_background": "light"
          }
        }
      ]
    },
    {
      "cell_type": "code",
      "source": [
        "mglearn.plots.plot_2d_separator(forest, X.iloc[:, 0:2].values, fill=True, ax=axes[-1, -1], alpha=.4)\n",
        "axes[-1, -1].set_title(\"Random forest\")\n",
        "mglearn.discrete_scatter(X.iloc[:, 0], X.iloc[:, 1], y)\n",
        "plt.show()"
      ],
      "metadata": {
        "colab": {
          "base_uri": "https://localhost:8080/",
          "height": 430
        },
        "id": "9FLSElyrA1iG",
        "outputId": "51559f61-61b0-4236-8276-df90efb2d3b0"
      },
      "execution_count": 71,
      "outputs": [
        {
          "output_type": "stream",
          "name": "stderr",
          "text": [
            "/usr/local/lib/python3.7/dist-packages/sklearn/base.py:451: UserWarning: X does not have valid feature names, but RandomForestClassifier was fitted with feature names\n",
            "  \"X does not have valid feature names, but\"\n"
          ]
        },
        {
          "output_type": "display_data",
          "data": {
            "text/plain": [
              "<Figure size 648x432 with 1 Axes>"
            ],
            "image/png": "[encoded data removed]"
          },
          "metadata": {
            "needs_background": "light"
          }
        }
      ]
    },
    {
      "cell_type": "code",
      "source": [
        "# 100개의 나무 생성 (정확도가 높아짐)\n",
        "\n",
        "forest = RandomForestClassifier(class_weight=\"balanced\", n_estimators=100, random_state=0)\n",
        "forest.fit(X_train, y_train)\n",
        "\n",
        "print(\"학습용 데이터 세트 정확도: {:.3f}\".format(forest.score(X_train, y_train)))\n",
        "print(\"시험용 데이터 세트 정확도: {:.3f}\".format(forest.score(X_test, y_test)))"
      ],
      "metadata": {
        "id": "ZDjr2XtzRf_R",
        "colab": {
          "base_uri": "https://localhost:8080/"
        },
        "outputId": "58dc0647-8e06-4699-ee0c-4a7eb29907d3"
      },
      "execution_count": 101,
      "outputs": [
        {
          "output_type": "stream",
          "name": "stdout",
          "text": [
            "학습용 데이터 세트 정확도: 1.000\n",
            "시험용 데이터 세트 정확도: 0.877\n"
          ]
        }
      ]
    },
    {
      "cell_type": "code",
      "source": [
        "# 50개의 나무 생성 (정확도가 높아짐)\n",
        "\n",
        "forest = RandomForestClassifier(class_weight=\"balanced\", n_estimators=50, random_state=0)\n",
        "forest.fit(X_train, y_train)\n",
        "\n",
        "print(\"학습용 데이터 세트 정확도: {:.3f}\".format(forest.score(X_train, y_train)))\n",
        "print(\"시험용 데이터 세트 정확도: {:.3f}\".format(forest.score(X_test, y_test)))"
      ],
      "metadata": {
        "colab": {
          "base_uri": "https://localhost:8080/"
        },
        "id": "n8e49IhVotjc",
        "outputId": "f81426d9-5054-49b5-ae6f-3369a110e412"
      },
      "execution_count": 102,
      "outputs": [
        {
          "output_type": "stream",
          "name": "stdout",
          "text": [
            "학습용 데이터 세트 정확도: 0.999\n",
            "시험용 데이터 세트 정확도: 0.875\n"
          ]
        }
      ]
    },
    {
      "cell_type": "code",
      "source": [
        "# 200개의 나무 생성 (정확도가 높아짐)\n",
        "\n",
        "forest = RandomForestClassifier(class_weight=\"balanced\", n_estimators=200, random_state=1)\n",
        "forest.fit(X_train, y_train)\n",
        "\n",
        "print(\"학습용 데이터 세트 정확도: {:.3f}\".format(forest.score(X_train, y_train)))\n",
        "print(\"시험용 데이터 세트 정확도: {:.3f}\".format(forest.score(X_test, y_test)))"
      ],
      "metadata": {
        "colab": {
          "base_uri": "https://localhost:8080/"
        },
        "id": "Fe9o1pIyo1JZ",
        "outputId": "0e93df6f-19b9-4f85-8432-0443423b04d1"
      },
      "execution_count": 103,
      "outputs": [
        {
          "output_type": "stream",
          "name": "stdout",
          "text": [
            "학습용 데이터 세트 정확도: 1.000\n",
            "시험용 데이터 세트 정확도: 0.878\n"
          ]
        }
      ]
    },
    {
      "cell_type": "code",
      "source": [
        "# 500개의 나무 생성 (정확도가 높아짐)\n",
        "\n",
        "forest = RandomForestClassifier(class_weight=\"balanced\", n_estimators=500, random_state=1)\n",
        "forest.fit(X_train, y_train)\n",
        "\n",
        "print(\"학습용 데이터 세트 정확도: {:.3f}\".format(forest.score(X_train, y_train)))\n",
        "print(\"시험용 데이터 세트 정확도: {:.3f}\".format(forest.score(X_test, y_test)))"
      ],
      "metadata": {
        "colab": {
          "base_uri": "https://localhost:8080/"
        },
        "id": "Mv4iu14Xo4IV",
        "outputId": "9e152c4c-4e57-476a-b4c6-2f96f23a7ba1"
      },
      "execution_count": 104,
      "outputs": [
        {
          "output_type": "stream",
          "name": "stdout",
          "text": [
            "학습용 데이터 세트 정확도: 1.000\n",
            "시험용 데이터 세트 정확도: 0.878\n"
          ]
        }
      ]
    },
    {
      "cell_type": "markdown",
      "source": [
        "학습용 데이터 세트 정확도가 1이라서 과적합이 우려됨. 이를 해결하기 위해 나무의 깊이를 제한한다"
      ],
      "metadata": {
        "id": "_ogdhaeEp3HR"
      }
    },
    {
      "cell_type": "code",
      "source": [
        "forest = RandomForestClassifier(class_weight=\"balanced\", n_estimators=100, max_depth = 3, random_state=0)\n",
        "forest.fit(X_train, y_train)\n",
        "\n",
        "print(\"학습용 데이터 세트 정확도: {:.3f}\".format(forest.score(X_train, y_train)))\n",
        "print(\"시험용 데이터 세트 정확도: {:.3f}\".format(forest.score(X_test, y_test)))"
      ],
      "metadata": {
        "colab": {
          "base_uri": "https://localhost:8080/"
        },
        "id": "e-7bKSJDprhx",
        "outputId": "f8c9b460-bf91-49b1-f722-2ebfe7225601"
      },
      "execution_count": 105,
      "outputs": [
        {
          "output_type": "stream",
          "name": "stdout",
          "text": [
            "학습용 데이터 세트 정확도: 0.637\n",
            "시험용 데이터 세트 정확도: 0.611\n"
          ]
        }
      ]
    },
    {
      "cell_type": "code",
      "source": [
        "forest = RandomForestClassifier(class_weight=\"balanced\", n_estimators=300, max_depth = 3, random_state=0)\n",
        "forest.fit(X_train, y_train)\n",
        "\n",
        "print(\"학습용 데이터 세트 정확도: {:.3f}\".format(forest.score(X_train, y_train)))\n",
        "print(\"시험용 데이터 세트 정확도: {:.3f}\".format(forest.score(X_test, y_test)))"
      ],
      "metadata": {
        "colab": {
          "base_uri": "https://localhost:8080/"
        },
        "id": "Wy22qD6Up-jU",
        "outputId": "71a2f884-2e33-47ca-80ad-18a8b3917e0f"
      },
      "execution_count": 106,
      "outputs": [
        {
          "output_type": "stream",
          "name": "stdout",
          "text": [
            "학습용 데이터 세트 정확도: 0.638\n",
            "시험용 데이터 세트 정확도: 0.617\n"
          ]
        }
      ]
    },
    {
      "cell_type": "code",
      "source": [
        "forest = RandomForestClassifier(class_weight=\"balanced\", n_estimators=100, max_depth = 2, random_state=0)\n",
        "forest.fit(X_train, y_train)\n",
        "\n",
        "print(\"학습용 데이터 세트 정확도: {:.3f}\".format(forest.score(X_train, y_train)))\n",
        "print(\"시험용 데이터 세트 정확도: {:.3f}\".format(forest.score(X_test, y_test)))"
      ],
      "metadata": {
        "colab": {
          "base_uri": "https://localhost:8080/"
        },
        "id": "vkXkVjnZqCZL",
        "outputId": "fe6ddaaf-8a29-4b09-cf08-5e134a8ef8bc"
      },
      "execution_count": 107,
      "outputs": [
        {
          "output_type": "stream",
          "name": "stdout",
          "text": [
            "학습용 데이터 세트 정확도: 0.634\n",
            "시험용 데이터 세트 정확도: 0.611\n"
          ]
        }
      ]
    },
    {
      "cell_type": "code",
      "source": [
        "forest = RandomForestClassifier(class_weight=\"balanced\", n_estimators=100, max_depth = 4, random_state=0)\n",
        "forest.fit(X_train, y_train)\n",
        "\n",
        "print(\"학습용 데이터 세트 정확도: {:.3f}\".format(forest.score(X_train, y_train)))\n",
        "print(\"시험용 데이터 세트 정확도: {:.3f}\".format(forest.score(X_test, y_test)))"
      ],
      "metadata": {
        "colab": {
          "base_uri": "https://localhost:8080/"
        },
        "id": "CZ54-_12qFo3",
        "outputId": "b00f467e-0ded-4c30-b6cd-05032c82f525"
      },
      "execution_count": 108,
      "outputs": [
        {
          "output_type": "stream",
          "name": "stdout",
          "text": [
            "학습용 데이터 세트 정확도: 0.661\n",
            "시험용 데이터 세트 정확도: 0.633\n"
          ]
        }
      ]
    },
    {
      "cell_type": "code",
      "source": [
        "forest = RandomForestClassifier(class_weight=\"balanced\", n_estimators=100, max_depth = 5, random_state=0)\n",
        "forest.fit(X_train, y_train)\n",
        "\n",
        "print(\"학습용 데이터 세트 정확도: {:.3f}\".format(forest.score(X_train, y_train)))\n",
        "print(\"시험용 데이터 세트 정확도: {:.3f}\".format(forest.score(X_test, y_test)))"
      ],
      "metadata": {
        "colab": {
          "base_uri": "https://localhost:8080/"
        },
        "id": "3EJE4nIQqIur",
        "outputId": "01532c06-b9d6-48dc-8770-4ef185bba0de"
      },
      "execution_count": 109,
      "outputs": [
        {
          "output_type": "stream",
          "name": "stdout",
          "text": [
            "학습용 데이터 세트 정확도: 0.677\n",
            "시험용 데이터 세트 정확도: 0.647\n"
          ]
        }
      ]
    },
    {
      "cell_type": "code",
      "source": [
        "forest = RandomForestClassifier(class_weight=\"balanced\", n_estimators=300, max_depth = 2, random_state=0)\n",
        "forest.fit(X_train, y_train)\n",
        "\n",
        "print(\"학습용 데이터 세트 정확도: {:.3f}\".format(forest.score(X_train, y_train)))\n",
        "print(\"시험용 데이터 세트 정확도: {:.3f}\".format(forest.score(X_test, y_test)))"
      ],
      "metadata": {
        "colab": {
          "base_uri": "https://localhost:8080/"
        },
        "id": "4xOj-awkqdT4",
        "outputId": "7f2f9c78-1ee3-4884-c744-ae1eb1e59230"
      },
      "execution_count": 110,
      "outputs": [
        {
          "output_type": "stream",
          "name": "stdout",
          "text": [
            "학습용 데이터 세트 정확도: 0.639\n",
            "시험용 데이터 세트 정확도: 0.617\n"
          ]
        }
      ]
    },
    {
      "cell_type": "code",
      "source": [
        "forest = RandomForestClassifier(class_weight=\"balanced\", n_estimators=500, max_depth = 2, random_state=0)\n",
        "forest.fit(X_train, y_train)\n",
        "\n",
        "print(\"학습용 데이터 세트 정확도: {:.3f}\".format(forest.score(X_train, y_train)))\n",
        "print(\"시험용 데이터 세트 정확도: {:.3f}\".format(forest.score(X_test, y_test)))"
      ],
      "metadata": {
        "colab": {
          "base_uri": "https://localhost:8080/"
        },
        "id": "ETZTok-bqtca",
        "outputId": "1de01533-4b3b-42a1-e2db-2728f75ba1fc"
      },
      "execution_count": 111,
      "outputs": [
        {
          "output_type": "stream",
          "name": "stdout",
          "text": [
            "학습용 데이터 세트 정확도: 0.632\n",
            "시험용 데이터 세트 정확도: 0.610\n"
          ]
        }
      ]
    },
    {
      "cell_type": "code",
      "source": [
        "forest = RandomForestClassifier(class_weight=\"balanced\", n_estimators=100, max_depth = 6, random_state=0)\n",
        "forest.fit(X_train, y_train)\n",
        "\n",
        "print(\"학습용 데이터 세트 정확도: {:.3f}\".format(forest.score(X_train, y_train)))\n",
        "print(\"시험용 데이터 세트 정확도: {:.3f}\".format(forest.score(X_test, y_test)))"
      ],
      "metadata": {
        "colab": {
          "base_uri": "https://localhost:8080/"
        },
        "id": "uwynYkOwuRgS",
        "outputId": "ccabdffa-6ff4-4972-e996-e31ed371044a"
      },
      "execution_count": 112,
      "outputs": [
        {
          "output_type": "stream",
          "name": "stdout",
          "text": [
            "학습용 데이터 세트 정확도: 0.718\n",
            "시험용 데이터 세트 정확도: 0.666\n"
          ]
        }
      ]
    },
    {
      "cell_type": "code",
      "source": [
        "forest = RandomForestClassifier(class_weight=\"balanced\", n_estimators=100, max_depth = 10, random_state=0)\n",
        "forest.fit(X_train, y_train)\n",
        "\n",
        "print(\"학습용 데이터 세트 정확도: {:.3f}\".format(forest.score(X_train, y_train)))\n",
        "print(\"시험용 데이터 세트 정확도: {:.3f}\".format(forest.score(X_test, y_test)))"
      ],
      "metadata": {
        "colab": {
          "base_uri": "https://localhost:8080/"
        },
        "id": "Q83aSlXTuWJ8",
        "outputId": "a70ec3d4-262b-46f5-ec3a-5a564caaf051"
      },
      "execution_count": 113,
      "outputs": [
        {
          "output_type": "stream",
          "name": "stdout",
          "text": [
            "학습용 데이터 세트 정확도: 0.895\n",
            "시험용 데이터 세트 정확도: 0.795\n"
          ]
        }
      ]
    },
    {
      "cell_type": "code",
      "source": [
        "forest = RandomForestClassifier(class_weight=\"balanced\", n_estimators=500, max_depth = 5, random_state=0)\n",
        "forest.fit(X_train, y_train)\n",
        "\n",
        "print(\"학습용 데이터 세트 정확도: {:.3f}\".format(forest.score(X_train, y_train)))\n",
        "print(\"시험용 데이터 세트 정확도: {:.3f}\".format(forest.score(X_test, y_test)))"
      ],
      "metadata": {
        "colab": {
          "base_uri": "https://localhost:8080/"
        },
        "id": "R1AE2Y_wuaPs",
        "outputId": "8ce6e806-c23f-43f4-c16c-797152ad8898"
      },
      "execution_count": 114,
      "outputs": [
        {
          "output_type": "stream",
          "name": "stdout",
          "text": [
            "학습용 데이터 세트 정확도: 0.681\n",
            "시험용 데이터 세트 정확도: 0.651\n"
          ]
        }
      ]
    },
    {
      "cell_type": "markdown",
      "source": [
        "나무의 깊이를 제한하자 시험용 데이터 세트 정확도가 0.6으로 떨어졌다. \n",
        "깊이를 제한하지 않은 경우 과적합이 우려되지만 시험용 데이터 세트 정확도가 훨씬 더 높기 때문에 깊이를 제한하지 않은 모델을 선택하기로 한다"
      ],
      "metadata": {
        "id": "YDV2t4sKo8WO"
      }
    },
    {
      "cell_type": "code",
      "source": [
        "# 200개의 나무 생성하는 경우로 모델을 선택했다. 100개의 나무보다 시험용 데이터 세트 정확도가 높고,  300개의 나무와 동일하기 때문이다\n",
        "\n",
        "forest = RandomForestClassifier(class_weight=\"balanced\", n_estimators=200, random_state=1)\n",
        "forest.fit(X_train, y_train)\n",
        "\n",
        "print(\"학습용 데이터 세트 정확도: {:.3f}\".format(forest.score(X_train, y_train)))\n",
        "print(\"시험용 데이터 세트 정확도: {:.3f}\".format(forest.score(X_test, y_test)))"
      ],
      "metadata": {
        "colab": {
          "base_uri": "https://localhost:8080/"
        },
        "id": "2KwD0xMKvIu9",
        "outputId": "194330cb-304a-4565-9ba9-800f976c0176"
      },
      "execution_count": 116,
      "outputs": [
        {
          "output_type": "stream",
          "name": "stdout",
          "text": [
            "학습용 데이터 세트 정확도: 1.000\n",
            "시험용 데이터 세트 정확도: 0.878\n"
          ]
        }
      ]
    },
    {
      "cell_type": "code",
      "source": [
        "# 단일 의사결정나무의 경우보다 많은 변수(feature)들이 사용됨\n",
        "plot_feature_importances(forest)"
      ],
      "metadata": {
        "id": "3INvKLeKRkIn",
        "colab": {
          "base_uri": "https://localhost:8080/",
          "height": 389
        },
        "outputId": "13b01254-1adf-42ea-b8ea-2359fa107c40"
      },
      "execution_count": 117,
      "outputs": [
        {
          "output_type": "display_data",
          "data": {
            "text/plain": [
              "<Figure size 648x432 with 1 Axes>"
            ],
            "image/png": "[encoded data removed]"
          },
          "metadata": {
            "needs_background": "light"
          }
        }
      ]
    },
    {
      "cell_type": "markdown",
      "source": [
        "의사결정나무와 비교했을 때, 간 상태를 나타내는 지표인 감마지티피, (혈청지오티)ALT의 중요도가 가장 높은 것은 동일하지만, 세 번째로 중요한 변수는 BMI, 네 번째로 중요한 변수는 (혈청지오티)AST가 되었다. 이를 통해 랜덤포레스트로 당뇨 예측 시 간 건강 관련 변수(감마지티피, (혈청지오티)ALT, (혈청지오티)AST)가 비교적 중요하게 사용된 것을 알 수 있다.  \n",
        "랜덤포레스트를 사용 할 때 시험용 데이터의 정확도가 의사결정나무의 시험용 데이터의 정확도인 0.649에서 0.878로 더 높아졌음을 확인할 수 있다.  \n",
        "랜덤포레스트를 통해 간 건강으로 당뇨 여부를 예측할 수 있다는 것이 조금 더 확실해졌다."
      ],
      "metadata": {
        "id": "bGfJ4i32m6be"
      }
    },
    {
      "cell_type": "markdown",
      "source": [
        "### 부스팅-그래디언트부스팅"
      ],
      "metadata": {
        "id": "Vyrbrt-_nnOP"
      }
    },
    {
      "cell_type": "code",
      "source": [
        "from sklearn.ensemble import GradientBoostingClassifier\n",
        "# 기본값은 max_depth= 3, n_estimators=100, learning_rate = 0.1\n",
        "\n",
        "gbrt = GradientBoostingClassifier(random_state=0)\n",
        "gbrt.fit(X_train, y_train)"
      ],
      "metadata": {
        "colab": {
          "base_uri": "https://localhost:8080/"
        },
        "id": "cW75cyCVn1v4",
        "outputId": "17db91c4-85a7-4e1c-be3d-3c5d48d15b3b"
      },
      "execution_count": 75,
      "outputs": [
        {
          "output_type": "execute_result",
          "data": {
            "text/plain": [
              "GradientBoostingClassifier(random_state=0)"
            ]
          },
          "metadata": {},
          "execution_count": 75
        }
      ]
    },
    {
      "cell_type": "code",
      "source": [
        "print(\"학습용 데이터 세트 정확도: {:.3f}\".format(gbrt.score(X_train, y_train)))\n",
        "print(\"시험용 데이터 세트 정확도: {:.3f}\".format(gbrt.score(X_test, y_test)))"
      ],
      "metadata": {
        "colab": {
          "base_uri": "https://localhost:8080/"
        },
        "id": "cOOVdkjZobEK",
        "outputId": "a07db230-9da2-43fd-fd52-68a88c59e7b7"
      },
      "execution_count": 118,
      "outputs": [
        {
          "output_type": "stream",
          "name": "stdout",
          "text": [
            "학습용 데이터 세트 정확도: 0.903\n",
            "시험용 데이터 세트 정확도: 0.879\n"
          ]
        }
      ]
    },
    {
      "cell_type": "code",
      "source": [
        "plot_feature_importances(gbrt)"
      ],
      "metadata": {
        "colab": {
          "base_uri": "https://localhost:8080/",
          "height": 389
        },
        "id": "nhqNfmnVoeFn",
        "outputId": "47f7a4fb-689f-4a92-9fc2-18dd97364879"
      },
      "execution_count": 119,
      "outputs": [
        {
          "output_type": "display_data",
          "data": {
            "text/plain": [
              "<Figure size 648x432 with 1 Axes>"
            ],
            "image/png": "[encoded data removed]"
          },
          "metadata": {
            "needs_background": "light"
          }
        }
      ]
    },
    {
      "cell_type": "markdown",
      "source": [
        "간 상태를 나타내는 지표인 감마지티피, (혈청지오티)ALT, (혈청지오티)AST가 가장 중요한 지표로 선택되었다. 이를 통해 그레디언트 부스팅으로 당뇨 예측 시 간 건강 관련 변수가 의사결정나무보다 더 중요하게 사용된 것을 알 수 있고, 시험용 데이터의 정확도가 0.649에서 0.879로 더 높아졌음을 확인할 수 있다.\n",
        "그레디언트부스팅을 통해 간 건강으로 당뇨 여부를 예측할 수 있다는 것이 더 확실해졌다."
      ],
      "metadata": {
        "id": "SJtz1NkGr6DL"
      }
    },
    {
      "cell_type": "markdown",
      "source": [
        "## 모델 평가"
      ],
      "metadata": {
        "id": "a5pMOtv6Rq9y"
      }
    },
    {
      "cell_type": "code",
      "source": [
        "from sklearn.model_selection import cross_val_score\n",
        "\n",
        "# 교차 검증을 10번 수행하여 10번의 교차 검증 평균 정확도를 비교 (10-fold cross validation)\n",
        "# default cv=5\n",
        "\n",
        "dt_scores = cross_val_score(tree, X_train, y_train, cv=10, scoring='accuracy')  \n",
        "rf_scores = cross_val_score(forest, X_train, y_train, cv=10, scoring='accuracy')\n",
        "gbrt_scores = cross_val_score(gbrt, X_train, y_train, cv=10, scoring='accuracy')\n",
        "\n",
        "print(\"Accuracy\")\n",
        "print(\"Decision tree: \", dt_scores) \n",
        "print(\"Random forest: \", rf_scores) \n",
        "print(\"Gradient boosting: \", gbrt_scores) \n",
        "\n",
        "print(\"Accuracy mean\")\n",
        "print(\"Decision tree :{:.3f}\".format(dt_scores.mean())) \n",
        "print(\"Random forest :{:.3f}\".format(rf_scores.mean())) \n",
        "print(\"Gradient boosting :{:.3f}\".format(gbrt_scores.mean())) "
      ],
      "metadata": {
        "id": "qu-DJSFZRmdD",
        "colab": {
          "base_uri": "https://localhost:8080/"
        },
        "outputId": "073aaef5-d19b-4d55-e540-523217ae6ba1"
      },
      "execution_count": 121,
      "outputs": [
        {
          "output_type": "stream",
          "name": "stdout",
          "text": [
            "Accuracy\n",
            "Decision tree:  [0.83064516 0.82503365 0.84118439 0.82099596 0.82234186 0.82637954\n",
            " 0.81830417 0.82772544 0.8371467  0.81965007]\n",
            "Random forest:  [0.89112903 0.89636608 0.89636608 0.89502019 0.89636608 0.89502019\n",
            " 0.89636608 0.89636608 0.89636608 0.89771198]\n",
            "Gradient boosting:  [0.89247312 0.89502019 0.89771198 0.89367429 0.89905787 0.89905787\n",
            " 0.90174966 0.8923284  0.89367429 0.89502019]\n",
            "Accuracy mean\n",
            "Decision tree :0.827\n",
            "Random forest :0.896\n",
            "Gradient boosting :0.896\n"
          ]
        }
      ]
    },
    {
      "cell_type": "markdown",
      "source": [
        "K-fold 교차검증 결과 평균적인 정확도는 랜덤 포레스트와 그레디언트부스팅, 마지막으로 의사결정나무 순서대로 정확도가 좋다"
      ],
      "metadata": {
        "id": "_Ddyt7vKs0Z7"
      }
    },
    {
      "cell_type": "code",
      "source": [
        "from sklearn.model_selection import GridSearchCV\n",
        "\n",
        "parameters = {'max_depth':[2,3,4,5,6], 'max_features':[2,3,4,5,6,7,8]}"
      ],
      "metadata": {
        "id": "4V2zybOgtO3Y"
      },
      "execution_count": 100,
      "outputs": []
    },
    {
      "cell_type": "code",
      "source": [
        "rf_tree = RandomForestClassifier(class_weight=\"balanced\", n_estimators = 100, random_state=0)\n",
        "grid = GridSearchCV(rf_tree, param_grid = parameters, cv=10, n_jobs=-1)\n",
        "print(grid)"
      ],
      "metadata": {
        "colab": {
          "base_uri": "https://localhost:8080/"
        },
        "id": "jQikvesYtmKF",
        "outputId": "9b1b587b-26ef-403d-e47a-08b4db6df37e"
      },
      "execution_count": 123,
      "outputs": [
        {
          "output_type": "stream",
          "name": "stdout",
          "text": [
            "GridSearchCV(cv=10,\n",
            "             estimator=RandomForestClassifier(class_weight='balanced',\n",
            "                                              random_state=0),\n",
            "             n_jobs=-1,\n",
            "             param_grid={'max_depth': [2, 3, 4, 5, 6],\n",
            "                         'max_features': [2, 3, 4, 5, 6, 7, 8]})\n"
          ]
        }
      ]
    },
    {
      "cell_type": "code",
      "source": [
        "grid.fit(X_train, y_train)\n",
        "print('GridSearchCV 최적 파라미터 :', grid.best_params_)\n",
        "print('GridSearchCV 최고 정확도 : {0:.4f}'.format(grid.best_score_))"
      ],
      "metadata": {
        "colab": {
          "base_uri": "https://localhost:8080/"
        },
        "id": "0scPYJWkwhLZ",
        "outputId": "2ee70250-1b07-48c2-823b-b6e9b6231856"
      },
      "execution_count": 124,
      "outputs": [
        {
          "output_type": "stream",
          "name": "stdout",
          "text": [
            "GridSearchCV 최적 파라미터 : {'max_depth': 6, 'max_features': 2}\n",
            "GridSearchCV 최고 정확도 : 0.6978\n"
          ]
        }
      ]
    },
    {
      "cell_type": "markdown",
      "source": [
        "아마 교차 검증 시에는 당뇨병 환자의 비율이 포함되지 않아서 정확도가 더 높게 나왔을 것 같다"
      ],
      "metadata": {
        "id": "BqKgrzcNxsxu"
      }
    },
    {
      "cell_type": "code",
      "source": [
        "#비율을 포함하지 않는 경우"
      ],
      "metadata": {
        "id": "jYithC4zxRly"
      },
      "execution_count": null,
      "outputs": []
    },
    {
      "cell_type": "code",
      "source": [
        "rf_tree_no_balance = RandomForestClassifier(n_estimators = 100, random_state=0)\n",
        "grid = GridSearchCV(rf_tree_no_balance, param_grid = parameters, cv=10, n_jobs=-1)\n",
        "print(grid)\n",
        "grid.fit(X_train, y_train)\n",
        "print('GridSearchCV 최적 파라미터 :', grid.best_params_)\n",
        "print('GridSearchCV 최고 정확도 : {0:.4f}'.format(grid.best_score_))"
      ],
      "metadata": {
        "colab": {
          "base_uri": "https://localhost:8080/"
        },
        "id": "FtarKOuMyiGl",
        "outputId": "8706dde3-b139-46f6-c613-13b8879d45e5"
      },
      "execution_count": 129,
      "outputs": [
        {
          "output_type": "stream",
          "name": "stdout",
          "text": [
            "GridSearchCV(cv=10, estimator=RandomForestClassifier(random_state=0), n_jobs=-1,\n",
            "             param_grid={'max_depth': [2, 3, 4, 5, 6],\n",
            "                         'max_features': [2, 3, 4, 5, 6, 7, 8]})\n",
            "GridSearchCV 최적 파라미터 : {'max_depth': 6, 'max_features': 6}\n",
            "GridSearchCV 최고 정확도 : 0.8975\n"
          ]
        }
      ]
    },
    {
      "cell_type": "markdown",
      "source": [
        "그레디언트부스팅의 그리드 서치"
      ],
      "metadata": {
        "id": "2YKGR67gxR-8"
      }
    },
    {
      "cell_type": "code",
      "source": [
        "# 파라미터를 dictionary 형태로 설정\n",
        "parameters_boosting = {'max_depth':[1,2,3], 'learning_rate':[0.1,0.08, 0.06, 0.04, 0.02]}"
      ],
      "metadata": {
        "id": "alqjCYjcw2h_"
      },
      "execution_count": 125,
      "outputs": []
    },
    {
      "cell_type": "code",
      "source": [
        "# param_grid의 파라미터들을 3개의 fold 로 나누어 검증\n",
        "# refit=True (기본값): 가장 좋은 파라미터 설정으로 재학습  \n",
        "init_gbrt = GradientBoostingClassifier(random_state=0)\n",
        "grid_gbrt = GridSearchCV(init_gbrt, param_grid=parameters_boosting, cv=3, refit=True)\n",
        "print(grid_gbrt)\n",
        "# 파라미터들을 순차적으로 학습, 검증\n",
        "grid_gbrt.fit(X_train, y_train)\n",
        "\n",
        "# GridSearchCV 결과 추출하여 DataFrame으로 변환\n",
        "scores_df = pd.DataFrame(grid_gbrt.cv_results_)\n",
        "scores_df[['params', 'mean_test_score', 'rank_test_score', 'split0_test_score', 'split1_test_score', 'split2_test_score']]"
      ],
      "metadata": {
        "colab": {
          "base_uri": "https://localhost:8080/",
          "height": 574
        },
        "id": "hbaT14BKxCxi",
        "outputId": "ba7c8366-0b33-4bcf-e3fc-72e1eec2f42e"
      },
      "execution_count": 126,
      "outputs": [
        {
          "output_type": "stream",
          "name": "stdout",
          "text": [
            "GridSearchCV(cv=3, estimator=GradientBoostingClassifier(random_state=0),\n",
            "             param_grid={'learning_rate': [0.1, 0.08, 0.06, 0.04, 0.02],\n",
            "                         'max_depth': [1, 2, 3]})\n"
          ]
        },
        {
          "output_type": "execute_result",
          "data": {
            "text/plain": [
              "                                     params  mean_test_score  rank_test_score  \\\n",
              "0    {'learning_rate': 0.1, 'max_depth': 1}         0.897187                7   \n",
              "1    {'learning_rate': 0.1, 'max_depth': 2}         0.895707               13   \n",
              "2    {'learning_rate': 0.1, 'max_depth': 3}         0.895303               15   \n",
              "3   {'learning_rate': 0.08, 'max_depth': 1}         0.897457                1   \n",
              "4   {'learning_rate': 0.08, 'max_depth': 2}         0.895707               14   \n",
              "5   {'learning_rate': 0.08, 'max_depth': 3}         0.895842               12   \n",
              "6   {'learning_rate': 0.06, 'max_depth': 1}         0.897322                5   \n",
              "7   {'learning_rate': 0.06, 'max_depth': 2}         0.896649                9   \n",
              "8   {'learning_rate': 0.06, 'max_depth': 3}         0.895976               11   \n",
              "9   {'learning_rate': 0.04, 'max_depth': 1}         0.897457                1   \n",
              "10  {'learning_rate': 0.04, 'max_depth': 2}         0.896918                8   \n",
              "11  {'learning_rate': 0.04, 'max_depth': 3}         0.896245               10   \n",
              "12  {'learning_rate': 0.02, 'max_depth': 1}         0.897457                1   \n",
              "13  {'learning_rate': 0.02, 'max_depth': 2}         0.897457                1   \n",
              "14  {'learning_rate': 0.02, 'max_depth': 3}         0.897322                5   \n",
              "\n",
              "    split0_test_score  split1_test_score  split2_test_score  \n",
              "0            0.897457           0.896649           0.897457  \n",
              "1            0.896649           0.895438           0.895034  \n",
              "2            0.898668           0.894227           0.893016  \n",
              "3            0.897457           0.897457           0.897457  \n",
              "4            0.896245           0.895842           0.895034  \n",
              "5            0.896649           0.895438           0.895438  \n",
              "6            0.897457           0.897053           0.897457  \n",
              "7            0.897457           0.895842           0.896649  \n",
              "8            0.896245           0.895842           0.895842  \n",
              "9            0.897457           0.897457           0.897457  \n",
              "10           0.897457           0.895842           0.897457  \n",
              "11           0.896649           0.895842           0.896245  \n",
              "12           0.897457           0.897457           0.897457  \n",
              "13           0.897457           0.897457           0.897457  \n",
              "14           0.897457           0.897053           0.897457  "
            ],
            "text/html": [
              "\n",
              "  <div id=\"df-d17eb3b6-a227-452e-b17a-40baf1a4c689\">\n",
              "    <div class=\"colab-df-container\">\n",
              "      <div>\n",
              "<style scoped>\n",
              "    .dataframe tbody tr th:only-of-type {\n",
              "        vertical-align: middle;\n",
              "    }\n",
              "\n",
              "    .dataframe tbody tr th {\n",
              "        vertical-align: top;\n",
              "    }\n",
              "\n",
              "    .dataframe thead th {\n",
              "        text-align: right;\n",
              "    }\n",
              "</style>\n",
              "<table border=\"1\" class=\"dataframe\">\n",
              "  <thead>\n",
              "    <tr style=\"text-align: right;\">\n",
              "      <th></th>\n",
              "      <th>params</th>\n",
              "      <th>mean_test_score</th>\n",
              "      <th>rank_test_score</th>\n",
              "      <th>split0_test_score</th>\n",
              "      <th>split1_test_score</th>\n",
              "      <th>split2_test_score</th>\n",
              "    </tr>\n",
              "  </thead>\n",
              "  <tbody>\n",
              "    <tr>\n",
              "      <th>0</th>\n",
              "      <td>{'learning_rate': 0.1, 'max_depth': 1}</td>\n",
              "      <td>0.897187</td>\n",
              "      <td>7</td>\n",
              "      <td>0.897457</td>\n",
              "      <td>0.896649</td>\n",
              "      <td>0.897457</td>\n",
              "    </tr>\n",
              "    <tr>\n",
              "      <th>1</th>\n",
              "      <td>{'learning_rate': 0.1, 'max_depth': 2}</td>\n",
              "      <td>0.895707</td>\n",
              "      <td>13</td>\n",
              "      <td>0.896649</td>\n",
              "      <td>0.895438</td>\n",
              "      <td>0.895034</td>\n",
              "    </tr>\n",
              "    <tr>\n",
              "      <th>2</th>\n",
              "      <td>{'learning_rate': 0.1, 'max_depth': 3}</td>\n",
              "      <td>0.895303</td>\n",
              "      <td>15</td>\n",
              "      <td>0.898668</td>\n",
              "      <td>0.894227</td>\n",
              "      <td>0.893016</td>\n",
              "    </tr>\n",
              "    <tr>\n",
              "      <th>3</th>\n",
              "      <td>{'learning_rate': 0.08, 'max_depth': 1}</td>\n",
              "      <td>0.897457</td>\n",
              "      <td>1</td>\n",
              "      <td>0.897457</td>\n",
              "      <td>0.897457</td>\n",
              "      <td>0.897457</td>\n",
              "    </tr>\n",
              "    <tr>\n",
              "      <th>4</th>\n",
              "      <td>{'learning_rate': 0.08, 'max_depth': 2}</td>\n",
              "      <td>0.895707</td>\n",
              "      <td>14</td>\n",
              "      <td>0.896245</td>\n",
              "      <td>0.895842</td>\n",
              "      <td>0.895034</td>\n",
              "    </tr>\n",
              "    <tr>\n",
              "      <th>5</th>\n",
              "      <td>{'learning_rate': 0.08, 'max_depth': 3}</td>\n",
              "      <td>0.895842</td>\n",
              "      <td>12</td>\n",
              "      <td>0.896649</td>\n",
              "      <td>0.895438</td>\n",
              "      <td>0.895438</td>\n",
              "    </tr>\n",
              "    <tr>\n",
              "      <th>6</th>\n",
              "      <td>{'learning_rate': 0.06, 'max_depth': 1}</td>\n",
              "      <td>0.897322</td>\n",
              "      <td>5</td>\n",
              "      <td>0.897457</td>\n",
              "      <td>0.897053</td>\n",
              "      <td>0.897457</td>\n",
              "    </tr>\n",
              "    <tr>\n",
              "      <th>7</th>\n",
              "      <td>{'learning_rate': 0.06, 'max_depth': 2}</td>\n",
              "      <td>0.896649</td>\n",
              "      <td>9</td>\n",
              "      <td>0.897457</td>\n",
              "      <td>0.895842</td>\n",
              "      <td>0.896649</td>\n",
              "    </tr>\n",
              "    <tr>\n",
              "      <th>8</th>\n",
              "      <td>{'learning_rate': 0.06, 'max_depth': 3}</td>\n",
              "      <td>0.895976</td>\n",
              "      <td>11</td>\n",
              "      <td>0.896245</td>\n",
              "      <td>0.895842</td>\n",
              "      <td>0.895842</td>\n",
              "    </tr>\n",
              "    <tr>\n",
              "      <th>9</th>\n",
              "      <td>{'learning_rate': 0.04, 'max_depth': 1}</td>\n",
              "      <td>0.897457</td>\n",
              "      <td>1</td>\n",
              "      <td>0.897457</td>\n",
              "      <td>0.897457</td>\n",
              "      <td>0.897457</td>\n",
              "    </tr>\n",
              "    <tr>\n",
              "      <th>10</th>\n",
              "      <td>{'learning_rate': 0.04, 'max_depth': 2}</td>\n",
              "      <td>0.896918</td>\n",
              "      <td>8</td>\n",
              "      <td>0.897457</td>\n",
              "      <td>0.895842</td>\n",
              "      <td>0.897457</td>\n",
              "    </tr>\n",
              "    <tr>\n",
              "      <th>11</th>\n",
              "      <td>{'learning_rate': 0.04, 'max_depth': 3}</td>\n",
              "      <td>0.896245</td>\n",
              "      <td>10</td>\n",
              "      <td>0.896649</td>\n",
              "      <td>0.895842</td>\n",
              "      <td>0.896245</td>\n",
              "    </tr>\n",
              "    <tr>\n",
              "      <th>12</th>\n",
              "      <td>{'learning_rate': 0.02, 'max_depth': 1}</td>\n",
              "      <td>0.897457</td>\n",
              "      <td>1</td>\n",
              "      <td>0.897457</td>\n",
              "      <td>0.897457</td>\n",
              "      <td>0.897457</td>\n",
              "    </tr>\n",
              "    <tr>\n",
              "      <th>13</th>\n",
              "      <td>{'learning_rate': 0.02, 'max_depth': 2}</td>\n",
              "      <td>0.897457</td>\n",
              "      <td>1</td>\n",
              "      <td>0.897457</td>\n",
              "      <td>0.897457</td>\n",
              "      <td>0.897457</td>\n",
              "    </tr>\n",
              "    <tr>\n",
              "      <th>14</th>\n",
              "      <td>{'learning_rate': 0.02, 'max_depth': 3}</td>\n",
              "      <td>0.897322</td>\n",
              "      <td>5</td>\n",
              "      <td>0.897457</td>\n",
              "      <td>0.897053</td>\n",
              "      <td>0.897457</td>\n",
              "    </tr>\n",
              "  </tbody>\n",
              "</table>\n",
              "</div>\n",
              "      <button class=\"colab-df-convert\" onclick=\"convertToInteractive('df-d17eb3b6-a227-452e-b17a-40baf1a4c689')\"\n",
              "              title=\"Convert this dataframe to an interactive table.\"\n",
              "              style=\"display:none;\">\n",
              "        \n",
              "  <svg xmlns=\"http://www.w3.org/2000/svg\" height=\"24px\"viewBox=\"0 0 24 24\"\n",
              "       width=\"24px\">\n",
              "    <path d=\"M0 0h24v24H0V0z\" fill=\"none\"/>\n",
              "    <path d=\"M18.56 5.44l.94 2.06.94-2.06 2.06-.94-2.06-.94-.94-2.06-.94 2.06-2.06.94zm-11 1L8.5 8.5l.94-2.06 2.06-.94-2.06-.94L8.5 2.5l-.94 2.06-2.06.94zm10 10l.94 2.06.94-2.06 2.06-.94-2.06-.94-.94-2.06-.94 2.06-2.06.94z\"/><path d=\"M17.41 7.96l-1.37-1.37c-.4-.4-.92-.59-1.43-.59-.52 0-1.04.2-1.43.59L10.3 9.45l-7.72 7.72c-.78.78-.78 2.05 0 2.83L4 21.41c.39.39.9.59 1.41.59.51 0 1.02-.2 1.41-.59l7.78-7.78 2.81-2.81c.8-.78.8-2.07 0-2.86zM5.41 20L4 18.59l7.72-7.72 1.47 1.35L5.41 20z\"/>\n",
              "  </svg>\n",
              "      </button>\n",
              "      \n",
              "  <style>\n",
              "    .colab-df-container {\n",
              "      display:flex;\n",
              "      flex-wrap:wrap;\n",
              "      gap: 12px;\n",
              "    }\n",
              "\n",
              "    .colab-df-convert {\n",
              "      background-color: #E8F0FE;\n",
              "      border: none;\n",
              "      border-radius: 50%;\n",
              "      cursor: pointer;\n",
              "      display: none;\n",
              "      fill: #1967D2;\n",
              "      height: 32px;\n",
              "      padding: 0 0 0 0;\n",
              "      width: 32px;\n",
              "    }\n",
              "\n",
              "    .colab-df-convert:hover {\n",
              "      background-color: #E2EBFA;\n",
              "      box-shadow: 0px 1px 2px rgba(60, 64, 67, 0.3), 0px 1px 3px 1px rgba(60, 64, 67, 0.15);\n",
              "      fill: #174EA6;\n",
              "    }\n",
              "\n",
              "    [theme=dark] .colab-df-convert {\n",
              "      background-color: #3B4455;\n",
              "      fill: #D2E3FC;\n",
              "    }\n",
              "\n",
              "    [theme=dark] .colab-df-convert:hover {\n",
              "      background-color: #434B5C;\n",
              "      box-shadow: 0px 1px 3px 1px rgba(0, 0, 0, 0.15);\n",
              "      filter: drop-shadow(0px 1px 2px rgba(0, 0, 0, 0.3));\n",
              "      fill: #FFFFFF;\n",
              "    }\n",
              "  </style>\n",
              "\n",
              "      <script>\n",
              "        const buttonEl =\n",
              "          document.querySelector('#df-d17eb3b6-a227-452e-b17a-40baf1a4c689 button.colab-df-convert');\n",
              "        buttonEl.style.display =\n",
              "          google.colab.kernel.accessAllowed ? 'block' : 'none';\n",
              "\n",
              "        async function convertToInteractive(key) {\n",
              "          const element = document.querySelector('#df-d17eb3b6-a227-452e-b17a-40baf1a4c689');\n",
              "          const dataTable =\n",
              "            await google.colab.kernel.invokeFunction('convertToInteractive',\n",
              "                                                     [key], {});\n",
              "          if (!dataTable) return;\n",
              "\n",
              "          const docLinkHtml = 'Like what you see? Visit the ' +\n",
              "            '<a target=\"_blank\" href=https://colab.research.google.com/notebooks/data_table.ipynb>data table notebook</a>'\n",
              "            + ' to learn more about interactive tables.';\n",
              "          element.innerHTML = '';\n",
              "          dataTable['output_type'] = 'display_data';\n",
              "          await google.colab.output.renderOutput(dataTable, element);\n",
              "          const docLink = document.createElement('div');\n",
              "          docLink.innerHTML = docLinkHtml;\n",
              "          element.appendChild(docLink);\n",
              "        }\n",
              "      </script>\n",
              "    </div>\n",
              "  </div>\n",
              "  "
            ]
          },
          "metadata": {},
          "execution_count": 126
        }
      ]
    },
    {
      "cell_type": "code",
      "source": [
        "print('GridSearchCV 최적 파라미터:', grid_gbrt.best_params_)\n",
        "print('GridSearchCV 최고 정확도: {0:.4f}'.format(grid_gbrt.best_score_))"
      ],
      "metadata": {
        "colab": {
          "base_uri": "https://localhost:8080/"
        },
        "id": "l7c-quAUxOX3",
        "outputId": "62b0c9e6-b508-4027-edb2-5f464e51aa34"
      },
      "execution_count": 127,
      "outputs": [
        {
          "output_type": "stream",
          "name": "stdout",
          "text": [
            "GridSearchCV 최적 파라미터: {'learning_rate': 0.08, 'max_depth': 1}\n",
            "GridSearchCV 최고 정확도: 0.8975\n"
          ]
        }
      ]
    },
    {
      "cell_type": "code",
      "source": [
        "# 최적 파라미터로 학습이 된 모델을 이용하여 시험용 데이터 세트 분류\n",
        "print(\"시험용 데이터 세트 정확도: {:.3f}\".format(grid_gbrt.score(X_test, y_test)))"
      ],
      "metadata": {
        "colab": {
          "base_uri": "https://localhost:8080/"
        },
        "id": "oKS-vXI8xQV2",
        "outputId": "7ac98322-4ac6-4e6e-e774-c37fbc7b70ae"
      },
      "execution_count": 128,
      "outputs": [
        {
          "output_type": "stream",
          "name": "stdout",
          "text": [
            "시험용 데이터 세트 정확도: 0.880\n"
          ]
        }
      ]
    },
    {
      "cell_type": "markdown",
      "source": [
        "###모델 평가-AUC\n",
        "민감도와 특이도로 측정하는 모델의 정확도\n",
        "AUC값이 클수록 좋은 모델이라고 할 수 있음"
      ],
      "metadata": {
        "id": "IqBJtJKQyxl9"
      }
    },
    {
      "cell_type": "code",
      "source": [
        "auc_dt = roc_auc_score(y_test, tree.predict_proba(X_test.iloc[:, 0:2])[:, 1])\n",
        "auc_rf = roc_auc_score(y_test, forest.predict_proba(X_test)[:, 1])\n",
        "auc_gbrt = roc_auc_score(y_test, grid_gbrt.predict_proba(X_test)[:, 1])\n",
        "print(\"Decision Tree의 AUC: {:.3f}\".format(auc_dt))\n",
        "print(\"Random Forest의 AUC: {:.3f}\".format(auc_rf))\n",
        "print(\"Gradient Boosting의 AUC: {:.3f}\".format(auc_gbrt)) ## AUC 면적이 가장 큰 모델"
      ],
      "metadata": {
        "colab": {
          "base_uri": "https://localhost:8080/"
        },
        "id": "R9uqeNCh0UDE",
        "outputId": "e757f99f-f8bd-4866-e28a-f53f272e6a49"
      },
      "execution_count": 154,
      "outputs": [
        {
          "output_type": "stream",
          "name": "stdout",
          "text": [
            "Decision Tree의 AUC: 0.670\n",
            "Random Forest의 AUC: 0.663\n",
            "Gradient Boosting의 AUC: 0.707\n"
          ]
        },
        {
          "output_type": "stream",
          "name": "stderr",
          "text": [
            "/usr/local/lib/python3.7/dist-packages/sklearn/base.py:444: UserWarning: X has feature names, but DecisionTreeClassifier was fitted without feature names\n",
            "  f\"X has feature names, but {self.__class__.__name__} was fitted without\"\n"
          ]
        }
      ]
    },
    {
      "cell_type": "markdown",
      "source": [
        "##결론"
      ],
      "metadata": {
        "id": "zEAEASjd3r5o"
      }
    },
    {
      "cell_type": "markdown",
      "source": [
        "간 건강을 나타내는 지표, (혈청지오티)AST, (혈청지오티)ALT, 감마지티피를 바탕으로 당뇨병 여부를 예측할 수 있는 세 가지 모델을 만들었다. 당뇨를 예측하기 위해 도움이 될 수 있을만한 추가적인 독립변수, 성별, 연령대, BMI, 흡연상태, 음주 여부를 포함했다.  \n",
        "\n",
        "\n",
        "* (혈청지오티)AST : 간 기능을 나타내는 혈액검사상의 수치, 간, 심장 등의 세포가 손상을 받는 경우 농도가 증가함  \n",
        "* (혈청지오티)ALT : 간 기능을 나타내는 혈액검사상의 수치, ALT는 주로 간세포 안에 존재하는 효소로, 간세포가 손상 받는 경우 농도가 증가함\n",
        "* 감마지티피 : 간 기능을 나타내는 혈액검사상의 수치, 간세포 장애 발생 시 혈중에 증가하게 됨\n",
        "\n",
        "\n",
        "의사결정나무, 랜덤포레스트, 그래디언트부스팅 중 그래디언트 부스팅의 정확도가 제일 높았다.(AUC : 그래디언트부스팅0.707 > 의사결정나무0.670 > 랜덤포레스트0.663)\n"
      ],
      "metadata": {
        "id": "6kXCaUWG3yVx"
      }
    },
    {
      "cell_type": "markdown",
      "source": [
        "간 건강을 나타내는 지표로 당뇨를 예측하기 원했던 만큼 생성한 모델의 결과, 가장 중요하게 사용된 지표가 간 건강을 나타내는 지표 중에 있길 바랬고, 대부분의 모델에서 제일 중요한 두 지표가 감마지티피, ALT라는 점에서 간 건강을 통해 당뇨병을 예측할 수 있다는 것을 알 수 있었다.  \n",
        "**특히 가장 정확도 높은 예측이 가능한 모델인 그레디언트부스팅의 제일 중요한 세 지표가 모두 간 건강을 나타내는 지표인 (혈청지오티)AST, (혈청지오티)ALT, 감마지티피이기 때문에 이 모델을 활용하여 당뇨병 여부를 예측할 수 있다는 것을 알 수 있다.**  \n",
        "또, 의외로 모든 모델에서 흡연과 음주의 중요도가 상대적으로 낮았는데, 당뇨에 영향을 미치지 않는다는 것은 아니지만, 이 두가지가 당뇨에 미치는 영향이 크지 않다는 것을 알 수 있다."
      ],
      "metadata": {
        "id": "JndcX68j9dNV"
      }
    },
    {
      "cell_type": "markdown",
      "source": [
        "이는 당뇨병에 걸리는 것에 있어 간 건강이 영향을 미칠 수도 있다는 것을 의미할 수 있다고 본다. 따라서 당뇨를 예방하기 위해 공복혈당만 신경써야 하는 것이 아니라 간 건강도 함께 관리해야 할 것이다."
      ],
      "metadata": {
        "id": "P2XCEGR77jQn"
      }
    }
  ]
}