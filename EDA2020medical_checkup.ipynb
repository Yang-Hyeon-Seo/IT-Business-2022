{
  "nbformat": 4,
  "nbformat_minor": 0,
  "metadata": {
    "colab": {
      "provenance": [],
      "collapsed_sections": [],
      "authorship_tag": "ABX9TyMWWj08t0u7RidzmUHaP04N",
      "include_colab_link": true
    },
    "kernelspec": {
      "name": "python3",
      "display_name": "Python 3"
    },
    "language_info": {
      "name": "python"
    }
  },
  "cells": [
    {
      "cell_type": "markdown",
      "metadata": {
        "id": "view-in-github",
        "colab_type": "text"
      },
      "source": [
        "<a href=\"https://colab.research.google.com/github/Yang-Hyeon-Seo/IT-Business-2022/blob/main/EDA2020medical_checkup.ipynb\" target=\"_parent\"><img src=\"https://colab.research.google.com/assets/colab-badge.svg\" alt=\"Open In Colab\"/></a>"
      ]
    },
    {
      "cell_type": "markdown",
      "source": [
        "# 체중과 흡연, 음주가 당뇨에 미치는 영향 시각화\n",
        "* 전체 중 당뇨환자로 의심되는 사람(식전혈당(공복혈당) > 125)의 비율 확인\n",
        "* 체중과 식전혈당(공복혈당)의 연관성 확인  \n",
        "* 흡연 여부에 따른 당뇨 환자 수 비교  \n",
        "* 음주 여부에 따른 당뇨 환자 수 비교  "
      ],
      "metadata": {
        "id": "nB3xZlJyfX4l"
      }
    },
    {
      "cell_type": "markdown",
      "source": [
        "## 라이브러리 및 파일 불러오기"
      ],
      "metadata": {
        "id": "66_05U11gIKY"
      }
    },
    {
      "cell_type": "code",
      "execution_count": 1,
      "metadata": {
        "colab": {
          "base_uri": "https://localhost:8080/"
        },
        "id": "sgf0s64Ii7G9",
        "outputId": "85cd5f57-e24a-481c-9a51-4355f90ae41d"
      },
      "outputs": [
        {
          "output_type": "stream",
          "name": "stdout",
          "text": [
            "Drive already mounted at /content/drive; to attempt to forcibly remount, call drive.mount(\"/content/drive\", force_remount=True).\n"
          ]
        }
      ],
      "source": [
        "from google.colab import drive\n",
        "drive.mount('/content/drive')"
      ]
    },
    {
      "cell_type": "code",
      "source": [
        "import pandas as pd\n",
        "\n",
        "# health data 데이터 가져오기\n",
        "data = pd.read_csv(\"/content/drive/My Drive/Colab Notebooks/IT-Business/health_data.csv\")\n",
        "display(data.head()) \n",
        "print(data.info())  "
      ],
      "metadata": {
        "colab": {
          "base_uri": "https://localhost:8080/",
          "height": 1000
        },
        "id": "Ugy1cYc9jz3u",
        "outputId": "3b1c49f3-de4e-454b-c269-b721301f2323"
      },
      "execution_count": 2,
      "outputs": [
        {
          "output_type": "display_data",
          "data": {
            "text/plain": [
              "   기준년도  가입자일련번호  시도코드 성별코드  연령대코드(5세단위)  신장(5Cm단위)  체중(5Kg 단위)  허리둘레  시력(좌)  \\\n",
              "0  2020        1    36    M            9        165          60  72.1    1.2   \n",
              "1  2020        2    27    F           13        150          65  81.0    0.8   \n",
              "2  2020        3    11    F           12        155          55  70.0    0.6   \n",
              "3  2020        4    31    M           13        160          70  90.8    1.0   \n",
              "4  2020        5    41    F           12        155          50  75.2    1.5   \n",
              "\n",
              "   시력(우)  ...  혈청크레아티닌  (혈청지오티)AST  (혈청지오티)ALT  감마지티피  흡연상태  음주여부  구강검진수검여부  \\\n",
              "0    1.5  ...      1.1        21.0        27.0   21.0    No    No         0   \n",
              "1    0.8  ...      0.5        18.0        15.0   15.0    No    No         0   \n",
              "2    0.7  ...      0.7        27.0        25.0    7.0    No    No         0   \n",
              "3    1.0  ...      1.2        65.0        97.0   72.0    No    No         1   \n",
              "4    1.2  ...      0.7        18.0        17.0   14.0    No    No         0   \n",
              "\n",
              "   치아우식증유무   치석     데이터공개일자  \n",
              "0      NaN  NaN  12/29/2021  \n",
              "1      NaN  NaN  12/29/2021  \n",
              "2      NaN  NaN  12/29/2021  \n",
              "3      0.0  0.0  12/29/2021  \n",
              "4      NaN  NaN  12/29/2021  \n",
              "\n",
              "[5 rows x 31 columns]"
            ],
            "text/html": [
              "\n",
              "  <div id=\"df-b6cced6b-71bc-4fa9-9ccd-c5a07f191bef\">\n",
              "    <div class=\"colab-df-container\">\n",
              "      <div>\n",
              "<style scoped>\n",
              "    .dataframe tbody tr th:only-of-type {\n",
              "        vertical-align: middle;\n",
              "    }\n",
              "\n",
              "    .dataframe tbody tr th {\n",
              "        vertical-align: top;\n",
              "    }\n",
              "\n",
              "    .dataframe thead th {\n",
              "        text-align: right;\n",
              "    }\n",
              "</style>\n",
              "<table border=\"1\" class=\"dataframe\">\n",
              "  <thead>\n",
              "    <tr style=\"text-align: right;\">\n",
              "      <th></th>\n",
              "      <th>기준년도</th>\n",
              "      <th>가입자일련번호</th>\n",
              "      <th>시도코드</th>\n",
              "      <th>성별코드</th>\n",
              "      <th>연령대코드(5세단위)</th>\n",
              "      <th>신장(5Cm단위)</th>\n",
              "      <th>체중(5Kg 단위)</th>\n",
              "      <th>허리둘레</th>\n",
              "      <th>시력(좌)</th>\n",
              "      <th>시력(우)</th>\n",
              "      <th>...</th>\n",
              "      <th>혈청크레아티닌</th>\n",
              "      <th>(혈청지오티)AST</th>\n",
              "      <th>(혈청지오티)ALT</th>\n",
              "      <th>감마지티피</th>\n",
              "      <th>흡연상태</th>\n",
              "      <th>음주여부</th>\n",
              "      <th>구강검진수검여부</th>\n",
              "      <th>치아우식증유무</th>\n",
              "      <th>치석</th>\n",
              "      <th>데이터공개일자</th>\n",
              "    </tr>\n",
              "  </thead>\n",
              "  <tbody>\n",
              "    <tr>\n",
              "      <th>0</th>\n",
              "      <td>2020</td>\n",
              "      <td>1</td>\n",
              "      <td>36</td>\n",
              "      <td>M</td>\n",
              "      <td>9</td>\n",
              "      <td>165</td>\n",
              "      <td>60</td>\n",
              "      <td>72.1</td>\n",
              "      <td>1.2</td>\n",
              "      <td>1.5</td>\n",
              "      <td>...</td>\n",
              "      <td>1.1</td>\n",
              "      <td>21.0</td>\n",
              "      <td>27.0</td>\n",
              "      <td>21.0</td>\n",
              "      <td>No</td>\n",
              "      <td>No</td>\n",
              "      <td>0</td>\n",
              "      <td>NaN</td>\n",
              "      <td>NaN</td>\n",
              "      <td>12/29/2021</td>\n",
              "    </tr>\n",
              "    <tr>\n",
              "      <th>1</th>\n",
              "      <td>2020</td>\n",
              "      <td>2</td>\n",
              "      <td>27</td>\n",
              "      <td>F</td>\n",
              "      <td>13</td>\n",
              "      <td>150</td>\n",
              "      <td>65</td>\n",
              "      <td>81.0</td>\n",
              "      <td>0.8</td>\n",
              "      <td>0.8</td>\n",
              "      <td>...</td>\n",
              "      <td>0.5</td>\n",
              "      <td>18.0</td>\n",
              "      <td>15.0</td>\n",
              "      <td>15.0</td>\n",
              "      <td>No</td>\n",
              "      <td>No</td>\n",
              "      <td>0</td>\n",
              "      <td>NaN</td>\n",
              "      <td>NaN</td>\n",
              "      <td>12/29/2021</td>\n",
              "    </tr>\n",
              "    <tr>\n",
              "      <th>2</th>\n",
              "      <td>2020</td>\n",
              "      <td>3</td>\n",
              "      <td>11</td>\n",
              "      <td>F</td>\n",
              "      <td>12</td>\n",
              "      <td>155</td>\n",
              "      <td>55</td>\n",
              "      <td>70.0</td>\n",
              "      <td>0.6</td>\n",
              "      <td>0.7</td>\n",
              "      <td>...</td>\n",
              "      <td>0.7</td>\n",
              "      <td>27.0</td>\n",
              "      <td>25.0</td>\n",
              "      <td>7.0</td>\n",
              "      <td>No</td>\n",
              "      <td>No</td>\n",
              "      <td>0</td>\n",
              "      <td>NaN</td>\n",
              "      <td>NaN</td>\n",
              "      <td>12/29/2021</td>\n",
              "    </tr>\n",
              "    <tr>\n",
              "      <th>3</th>\n",
              "      <td>2020</td>\n",
              "      <td>4</td>\n",
              "      <td>31</td>\n",
              "      <td>M</td>\n",
              "      <td>13</td>\n",
              "      <td>160</td>\n",
              "      <td>70</td>\n",
              "      <td>90.8</td>\n",
              "      <td>1.0</td>\n",
              "      <td>1.0</td>\n",
              "      <td>...</td>\n",
              "      <td>1.2</td>\n",
              "      <td>65.0</td>\n",
              "      <td>97.0</td>\n",
              "      <td>72.0</td>\n",
              "      <td>No</td>\n",
              "      <td>No</td>\n",
              "      <td>1</td>\n",
              "      <td>0.0</td>\n",
              "      <td>0.0</td>\n",
              "      <td>12/29/2021</td>\n",
              "    </tr>\n",
              "    <tr>\n",
              "      <th>4</th>\n",
              "      <td>2020</td>\n",
              "      <td>5</td>\n",
              "      <td>41</td>\n",
              "      <td>F</td>\n",
              "      <td>12</td>\n",
              "      <td>155</td>\n",
              "      <td>50</td>\n",
              "      <td>75.2</td>\n",
              "      <td>1.5</td>\n",
              "      <td>1.2</td>\n",
              "      <td>...</td>\n",
              "      <td>0.7</td>\n",
              "      <td>18.0</td>\n",
              "      <td>17.0</td>\n",
              "      <td>14.0</td>\n",
              "      <td>No</td>\n",
              "      <td>No</td>\n",
              "      <td>0</td>\n",
              "      <td>NaN</td>\n",
              "      <td>NaN</td>\n",
              "      <td>12/29/2021</td>\n",
              "    </tr>\n",
              "  </tbody>\n",
              "</table>\n",
              "<p>5 rows × 31 columns</p>\n",
              "</div>\n",
              "      <button class=\"colab-df-convert\" onclick=\"convertToInteractive('df-b6cced6b-71bc-4fa9-9ccd-c5a07f191bef')\"\n",
              "              title=\"Convert this dataframe to an interactive table.\"\n",
              "              style=\"display:none;\">\n",
              "        \n",
              "  <svg xmlns=\"http://www.w3.org/2000/svg\" height=\"24px\"viewBox=\"0 0 24 24\"\n",
              "       width=\"24px\">\n",
              "    <path d=\"M0 0h24v24H0V0z\" fill=\"none\"/>\n",
              "    <path d=\"M18.56 5.44l.94 2.06.94-2.06 2.06-.94-2.06-.94-.94-2.06-.94 2.06-2.06.94zm-11 1L8.5 8.5l.94-2.06 2.06-.94-2.06-.94L8.5 2.5l-.94 2.06-2.06.94zm10 10l.94 2.06.94-2.06 2.06-.94-2.06-.94-.94-2.06-.94 2.06-2.06.94z\"/><path d=\"M17.41 7.96l-1.37-1.37c-.4-.4-.92-.59-1.43-.59-.52 0-1.04.2-1.43.59L10.3 9.45l-7.72 7.72c-.78.78-.78 2.05 0 2.83L4 21.41c.39.39.9.59 1.41.59.51 0 1.02-.2 1.41-.59l7.78-7.78 2.81-2.81c.8-.78.8-2.07 0-2.86zM5.41 20L4 18.59l7.72-7.72 1.47 1.35L5.41 20z\"/>\n",
              "  </svg>\n",
              "      </button>\n",
              "      \n",
              "  <style>\n",
              "    .colab-df-container {\n",
              "      display:flex;\n",
              "      flex-wrap:wrap;\n",
              "      gap: 12px;\n",
              "    }\n",
              "\n",
              "    .colab-df-convert {\n",
              "      background-color: #E8F0FE;\n",
              "      border: none;\n",
              "      border-radius: 50%;\n",
              "      cursor: pointer;\n",
              "      display: none;\n",
              "      fill: #1967D2;\n",
              "      height: 32px;\n",
              "      padding: 0 0 0 0;\n",
              "      width: 32px;\n",
              "    }\n",
              "\n",
              "    .colab-df-convert:hover {\n",
              "      background-color: #E2EBFA;\n",
              "      box-shadow: 0px 1px 2px rgba(60, 64, 67, 0.3), 0px 1px 3px 1px rgba(60, 64, 67, 0.15);\n",
              "      fill: #174EA6;\n",
              "    }\n",
              "\n",
              "    [theme=dark] .colab-df-convert {\n",
              "      background-color: #3B4455;\n",
              "      fill: #D2E3FC;\n",
              "    }\n",
              "\n",
              "    [theme=dark] .colab-df-convert:hover {\n",
              "      background-color: #434B5C;\n",
              "      box-shadow: 0px 1px 3px 1px rgba(0, 0, 0, 0.15);\n",
              "      filter: drop-shadow(0px 1px 2px rgba(0, 0, 0, 0.3));\n",
              "      fill: #FFFFFF;\n",
              "    }\n",
              "  </style>\n",
              "\n",
              "      <script>\n",
              "        const buttonEl =\n",
              "          document.querySelector('#df-b6cced6b-71bc-4fa9-9ccd-c5a07f191bef button.colab-df-convert');\n",
              "        buttonEl.style.display =\n",
              "          google.colab.kernel.accessAllowed ? 'block' : 'none';\n",
              "\n",
              "        async function convertToInteractive(key) {\n",
              "          const element = document.querySelector('#df-b6cced6b-71bc-4fa9-9ccd-c5a07f191bef');\n",
              "          const dataTable =\n",
              "            await google.colab.kernel.invokeFunction('convertToInteractive',\n",
              "                                                     [key], {});\n",
              "          if (!dataTable) return;\n",
              "\n",
              "          const docLinkHtml = 'Like what you see? Visit the ' +\n",
              "            '<a target=\"_blank\" href=https://colab.research.google.com/notebooks/data_table.ipynb>data table notebook</a>'\n",
              "            + ' to learn more about interactive tables.';\n",
              "          element.innerHTML = '';\n",
              "          dataTable['output_type'] = 'display_data';\n",
              "          await google.colab.output.renderOutput(dataTable, element);\n",
              "          const docLink = document.createElement('div');\n",
              "          docLink.innerHTML = docLinkHtml;\n",
              "          element.appendChild(docLink);\n",
              "        }\n",
              "      </script>\n",
              "    </div>\n",
              "  </div>\n",
              "  "
            ]
          },
          "metadata": {}
        },
        {
          "output_type": "stream",
          "name": "stdout",
          "text": [
            "<class 'pandas.core.frame.DataFrame'>\n",
            "RangeIndex: 10000 entries, 0 to 9999\n",
            "Data columns (total 31 columns):\n",
            " #   Column       Non-Null Count  Dtype  \n",
            "---  ------       --------------  -----  \n",
            " 0   기준년도         10000 non-null  int64  \n",
            " 1   가입자일련번호      10000 non-null  int64  \n",
            " 2   시도코드         10000 non-null  int64  \n",
            " 3   성별코드         10000 non-null  object \n",
            " 4   연령대코드(5세단위)  10000 non-null  int64  \n",
            " 5   신장(5Cm단위)    10000 non-null  int64  \n",
            " 6   체중(5Kg 단위)   10000 non-null  int64  \n",
            " 7   허리둘레         10000 non-null  float64\n",
            " 8   시력(좌)        10000 non-null  float64\n",
            " 9   시력(우)        10000 non-null  float64\n",
            " 10  청력(좌)        10000 non-null  int64  \n",
            " 11  청력(우)        10000 non-null  int64  \n",
            " 12  수축기혈압        9912 non-null   float64\n",
            " 13  이완기혈압        9912 non-null   float64\n",
            " 14  식전혈당(공복혈당)   9912 non-null   float64\n",
            " 15  총콜레스테롤       4044 non-null   float64\n",
            " 16  트리글리세라이드     4044 non-null   float64\n",
            " 17  HDL콜레스테롤     4044 non-null   float64\n",
            " 18  LDL콜레스테롤     3977 non-null   float64\n",
            " 19  혈색소          9912 non-null   float64\n",
            " 20  요단백          9861 non-null   float64\n",
            " 21  혈청크레아티닌      9912 non-null   float64\n",
            " 22  (혈청지오티)AST   9912 non-null   float64\n",
            " 23  (혈청지오티)ALT   9912 non-null   float64\n",
            " 24  감마지티피        9912 non-null   float64\n",
            " 25  흡연상태         9998 non-null   object \n",
            " 26  음주여부         9999 non-null   object \n",
            " 27  구강검진수검여부     10000 non-null  int64  \n",
            " 28  치아우식증유무      3251 non-null   float64\n",
            " 29  치석           3251 non-null   float64\n",
            " 30  데이터공개일자      10000 non-null  object \n",
            "dtypes: float64(18), int64(9), object(4)\n",
            "memory usage: 2.4+ MB\n",
            "None\n"
          ]
        }
      ]
    },
    {
      "cell_type": "code",
      "source": [
        "import seaborn as sns\n",
        "import matplotlib as mpl\n",
        "from matplotlib import pyplot as plt\n",
        "\n",
        "%matplotlib inline"
      ],
      "metadata": {
        "id": "3Yfj-ub_mK4c"
      },
      "execution_count": 3,
      "outputs": []
    },
    {
      "cell_type": "code",
      "source": [
        "#한글 깨지는 것 해결\n",
        "#!sudo apt-get install -y fonts-nanum\n",
        "#!sudo fc-cache -fv\n",
        "#!rm ~/.cache/matplotlib -rf"
      ],
      "metadata": {
        "id": "dSE_uMjskkoV"
      },
      "execution_count": 4,
      "outputs": []
    },
    {
      "cell_type": "code",
      "source": [
        "plt.rc('font', family='NanumBarunGothic') "
      ],
      "metadata": {
        "id": "TDgPpE6xk9qx"
      },
      "execution_count": 5,
      "outputs": []
    },
    {
      "cell_type": "markdown",
      "source": [
        "### 결측치 처리\n",
        "당뇨 여부를 확인하기 위해선 식전혈당(공복혈당)의 값이 있어야 하기 때문에 해당 값이 결측치인 사례를 제거한다"
      ],
      "metadata": {
        "id": "nEn6qvS1gznK"
      }
    },
    {
      "cell_type": "code",
      "source": [
        "data_dropNA = data.dropna(subset = ['식전혈당(공복혈당)'], axis=0)   #열삭제의 경우 axis =1  (또는 특정 개수 이상의 결측치가 있는 경우만 삭제 thresh = 갯수)\n",
        "print(\"결측행 모두 제거: \", data_dropNA.shape)    # 결측치 13행 모두 없어졌는지 확인"
      ],
      "metadata": {
        "colab": {
          "base_uri": "https://localhost:8080/"
        },
        "id": "IRfuoyQrhBLZ",
        "outputId": "dac881a1-42e7-44f5-820c-c79460aa5103"
      },
      "execution_count": 6,
      "outputs": [
        {
          "output_type": "stream",
          "name": "stdout",
          "text": [
            "결측행 모두 제거:  (9912, 31)\n"
          ]
        }
      ]
    },
    {
      "cell_type": "markdown",
      "source": [
        "### 새로운 변수 diabetes 생성하기\n",
        "식전혈당(공복혈당)을 이용해 당뇨 기준 수치인 125를 넘는 경우에는 당뇨 의심 사례로 1, 125 이하인 경우에는 0인 범주형 변수(diabetes)를 새로 만든다"
      ],
      "metadata": {
        "id": "7oQj5Mw8mwjv"
      }
    },
    {
      "cell_type": "code",
      "source": [
        "data_dropNA['diabetes'] = [1 if s >125 else 0 for s in data_dropNA['식전혈당(공복혈당)']] "
      ],
      "metadata": {
        "colab": {
          "base_uri": "https://localhost:8080/"
        },
        "id": "_AFvK0IHrr-L",
        "outputId": "8dd5a7fc-197f-4e3e-d71b-488761a537ff"
      },
      "execution_count": 7,
      "outputs": [
        {
          "output_type": "stream",
          "name": "stderr",
          "text": [
            "/usr/local/lib/python3.7/dist-packages/ipykernel_launcher.py:1: SettingWithCopyWarning: \n",
            "A value is trying to be set on a copy of a slice from a DataFrame.\n",
            "Try using .loc[row_indexer,col_indexer] = value instead\n",
            "\n",
            "See the caveats in the documentation: https://pandas.pydata.org/pandas-docs/stable/user_guide/indexing.html#returning-a-view-versus-a-copy\n",
            "  \"\"\"Entry point for launching an IPython kernel.\n"
          ]
        }
      ]
    },
    {
      "cell_type": "code",
      "source": [
        "display(data_dropNA.head()) \n",
        "print(data_dropNA.info())  "
      ],
      "metadata": {
        "colab": {
          "base_uri": "https://localhost:8080/",
          "height": 1000
        },
        "id": "J3L-rdCEsgQS",
        "outputId": "4758c4e4-5877-4623-8d9b-6e215b7172ee"
      },
      "execution_count": 8,
      "outputs": [
        {
          "output_type": "display_data",
          "data": {
            "text/plain": [
              "   기준년도  가입자일련번호  시도코드 성별코드  연령대코드(5세단위)  신장(5Cm단위)  체중(5Kg 단위)  허리둘레  시력(좌)  \\\n",
              "0  2020        1    36    M            9        165          60  72.1    1.2   \n",
              "1  2020        2    27    F           13        150          65  81.0    0.8   \n",
              "2  2020        3    11    F           12        155          55  70.0    0.6   \n",
              "3  2020        4    31    M           13        160          70  90.8    1.0   \n",
              "4  2020        5    41    F           12        155          50  75.2    1.5   \n",
              "\n",
              "   시력(우)  ...  (혈청지오티)AST  (혈청지오티)ALT  감마지티피  흡연상태  음주여부  구강검진수검여부  치아우식증유무  \\\n",
              "0    1.5  ...        21.0        27.0   21.0    No    No         0      NaN   \n",
              "1    0.8  ...        18.0        15.0   15.0    No    No         0      NaN   \n",
              "2    0.7  ...        27.0        25.0    7.0    No    No         0      NaN   \n",
              "3    1.0  ...        65.0        97.0   72.0    No    No         1      0.0   \n",
              "4    1.2  ...        18.0        17.0   14.0    No    No         0      NaN   \n",
              "\n",
              "    치석     데이터공개일자  diabetes  \n",
              "0  NaN  12/29/2021         0  \n",
              "1  NaN  12/29/2021         0  \n",
              "2  NaN  12/29/2021         0  \n",
              "3  0.0  12/29/2021         1  \n",
              "4  NaN  12/29/2021         0  \n",
              "\n",
              "[5 rows x 32 columns]"
            ],
            "text/html": [
              "\n",
              "  <div id=\"df-2da1f47d-fd07-4891-b362-6febe8cd82e0\">\n",
              "    <div class=\"colab-df-container\">\n",
              "      <div>\n",
              "<style scoped>\n",
              "    .dataframe tbody tr th:only-of-type {\n",
              "        vertical-align: middle;\n",
              "    }\n",
              "\n",
              "    .dataframe tbody tr th {\n",
              "        vertical-align: top;\n",
              "    }\n",
              "\n",
              "    .dataframe thead th {\n",
              "        text-align: right;\n",
              "    }\n",
              "</style>\n",
              "<table border=\"1\" class=\"dataframe\">\n",
              "  <thead>\n",
              "    <tr style=\"text-align: right;\">\n",
              "      <th></th>\n",
              "      <th>기준년도</th>\n",
              "      <th>가입자일련번호</th>\n",
              "      <th>시도코드</th>\n",
              "      <th>성별코드</th>\n",
              "      <th>연령대코드(5세단위)</th>\n",
              "      <th>신장(5Cm단위)</th>\n",
              "      <th>체중(5Kg 단위)</th>\n",
              "      <th>허리둘레</th>\n",
              "      <th>시력(좌)</th>\n",
              "      <th>시력(우)</th>\n",
              "      <th>...</th>\n",
              "      <th>(혈청지오티)AST</th>\n",
              "      <th>(혈청지오티)ALT</th>\n",
              "      <th>감마지티피</th>\n",
              "      <th>흡연상태</th>\n",
              "      <th>음주여부</th>\n",
              "      <th>구강검진수검여부</th>\n",
              "      <th>치아우식증유무</th>\n",
              "      <th>치석</th>\n",
              "      <th>데이터공개일자</th>\n",
              "      <th>diabetes</th>\n",
              "    </tr>\n",
              "  </thead>\n",
              "  <tbody>\n",
              "    <tr>\n",
              "      <th>0</th>\n",
              "      <td>2020</td>\n",
              "      <td>1</td>\n",
              "      <td>36</td>\n",
              "      <td>M</td>\n",
              "      <td>9</td>\n",
              "      <td>165</td>\n",
              "      <td>60</td>\n",
              "      <td>72.1</td>\n",
              "      <td>1.2</td>\n",
              "      <td>1.5</td>\n",
              "      <td>...</td>\n",
              "      <td>21.0</td>\n",
              "      <td>27.0</td>\n",
              "      <td>21.0</td>\n",
              "      <td>No</td>\n",
              "      <td>No</td>\n",
              "      <td>0</td>\n",
              "      <td>NaN</td>\n",
              "      <td>NaN</td>\n",
              "      <td>12/29/2021</td>\n",
              "      <td>0</td>\n",
              "    </tr>\n",
              "    <tr>\n",
              "      <th>1</th>\n",
              "      <td>2020</td>\n",
              "      <td>2</td>\n",
              "      <td>27</td>\n",
              "      <td>F</td>\n",
              "      <td>13</td>\n",
              "      <td>150</td>\n",
              "      <td>65</td>\n",
              "      <td>81.0</td>\n",
              "      <td>0.8</td>\n",
              "      <td>0.8</td>\n",
              "      <td>...</td>\n",
              "      <td>18.0</td>\n",
              "      <td>15.0</td>\n",
              "      <td>15.0</td>\n",
              "      <td>No</td>\n",
              "      <td>No</td>\n",
              "      <td>0</td>\n",
              "      <td>NaN</td>\n",
              "      <td>NaN</td>\n",
              "      <td>12/29/2021</td>\n",
              "      <td>0</td>\n",
              "    </tr>\n",
              "    <tr>\n",
              "      <th>2</th>\n",
              "      <td>2020</td>\n",
              "      <td>3</td>\n",
              "      <td>11</td>\n",
              "      <td>F</td>\n",
              "      <td>12</td>\n",
              "      <td>155</td>\n",
              "      <td>55</td>\n",
              "      <td>70.0</td>\n",
              "      <td>0.6</td>\n",
              "      <td>0.7</td>\n",
              "      <td>...</td>\n",
              "      <td>27.0</td>\n",
              "      <td>25.0</td>\n",
              "      <td>7.0</td>\n",
              "      <td>No</td>\n",
              "      <td>No</td>\n",
              "      <td>0</td>\n",
              "      <td>NaN</td>\n",
              "      <td>NaN</td>\n",
              "      <td>12/29/2021</td>\n",
              "      <td>0</td>\n",
              "    </tr>\n",
              "    <tr>\n",
              "      <th>3</th>\n",
              "      <td>2020</td>\n",
              "      <td>4</td>\n",
              "      <td>31</td>\n",
              "      <td>M</td>\n",
              "      <td>13</td>\n",
              "      <td>160</td>\n",
              "      <td>70</td>\n",
              "      <td>90.8</td>\n",
              "      <td>1.0</td>\n",
              "      <td>1.0</td>\n",
              "      <td>...</td>\n",
              "      <td>65.0</td>\n",
              "      <td>97.0</td>\n",
              "      <td>72.0</td>\n",
              "      <td>No</td>\n",
              "      <td>No</td>\n",
              "      <td>1</td>\n",
              "      <td>0.0</td>\n",
              "      <td>0.0</td>\n",
              "      <td>12/29/2021</td>\n",
              "      <td>1</td>\n",
              "    </tr>\n",
              "    <tr>\n",
              "      <th>4</th>\n",
              "      <td>2020</td>\n",
              "      <td>5</td>\n",
              "      <td>41</td>\n",
              "      <td>F</td>\n",
              "      <td>12</td>\n",
              "      <td>155</td>\n",
              "      <td>50</td>\n",
              "      <td>75.2</td>\n",
              "      <td>1.5</td>\n",
              "      <td>1.2</td>\n",
              "      <td>...</td>\n",
              "      <td>18.0</td>\n",
              "      <td>17.0</td>\n",
              "      <td>14.0</td>\n",
              "      <td>No</td>\n",
              "      <td>No</td>\n",
              "      <td>0</td>\n",
              "      <td>NaN</td>\n",
              "      <td>NaN</td>\n",
              "      <td>12/29/2021</td>\n",
              "      <td>0</td>\n",
              "    </tr>\n",
              "  </tbody>\n",
              "</table>\n",
              "<p>5 rows × 32 columns</p>\n",
              "</div>\n",
              "      <button class=\"colab-df-convert\" onclick=\"convertToInteractive('df-2da1f47d-fd07-4891-b362-6febe8cd82e0')\"\n",
              "              title=\"Convert this dataframe to an interactive table.\"\n",
              "              style=\"display:none;\">\n",
              "        \n",
              "  <svg xmlns=\"http://www.w3.org/2000/svg\" height=\"24px\"viewBox=\"0 0 24 24\"\n",
              "       width=\"24px\">\n",
              "    <path d=\"M0 0h24v24H0V0z\" fill=\"none\"/>\n",
              "    <path d=\"M18.56 5.44l.94 2.06.94-2.06 2.06-.94-2.06-.94-.94-2.06-.94 2.06-2.06.94zm-11 1L8.5 8.5l.94-2.06 2.06-.94-2.06-.94L8.5 2.5l-.94 2.06-2.06.94zm10 10l.94 2.06.94-2.06 2.06-.94-2.06-.94-.94-2.06-.94 2.06-2.06.94z\"/><path d=\"M17.41 7.96l-1.37-1.37c-.4-.4-.92-.59-1.43-.59-.52 0-1.04.2-1.43.59L10.3 9.45l-7.72 7.72c-.78.78-.78 2.05 0 2.83L4 21.41c.39.39.9.59 1.41.59.51 0 1.02-.2 1.41-.59l7.78-7.78 2.81-2.81c.8-.78.8-2.07 0-2.86zM5.41 20L4 18.59l7.72-7.72 1.47 1.35L5.41 20z\"/>\n",
              "  </svg>\n",
              "      </button>\n",
              "      \n",
              "  <style>\n",
              "    .colab-df-container {\n",
              "      display:flex;\n",
              "      flex-wrap:wrap;\n",
              "      gap: 12px;\n",
              "    }\n",
              "\n",
              "    .colab-df-convert {\n",
              "      background-color: #E8F0FE;\n",
              "      border: none;\n",
              "      border-radius: 50%;\n",
              "      cursor: pointer;\n",
              "      display: none;\n",
              "      fill: #1967D2;\n",
              "      height: 32px;\n",
              "      padding: 0 0 0 0;\n",
              "      width: 32px;\n",
              "    }\n",
              "\n",
              "    .colab-df-convert:hover {\n",
              "      background-color: #E2EBFA;\n",
              "      box-shadow: 0px 1px 2px rgba(60, 64, 67, 0.3), 0px 1px 3px 1px rgba(60, 64, 67, 0.15);\n",
              "      fill: #174EA6;\n",
              "    }\n",
              "\n",
              "    [theme=dark] .colab-df-convert {\n",
              "      background-color: #3B4455;\n",
              "      fill: #D2E3FC;\n",
              "    }\n",
              "\n",
              "    [theme=dark] .colab-df-convert:hover {\n",
              "      background-color: #434B5C;\n",
              "      box-shadow: 0px 1px 3px 1px rgba(0, 0, 0, 0.15);\n",
              "      filter: drop-shadow(0px 1px 2px rgba(0, 0, 0, 0.3));\n",
              "      fill: #FFFFFF;\n",
              "    }\n",
              "  </style>\n",
              "\n",
              "      <script>\n",
              "        const buttonEl =\n",
              "          document.querySelector('#df-2da1f47d-fd07-4891-b362-6febe8cd82e0 button.colab-df-convert');\n",
              "        buttonEl.style.display =\n",
              "          google.colab.kernel.accessAllowed ? 'block' : 'none';\n",
              "\n",
              "        async function convertToInteractive(key) {\n",
              "          const element = document.querySelector('#df-2da1f47d-fd07-4891-b362-6febe8cd82e0');\n",
              "          const dataTable =\n",
              "            await google.colab.kernel.invokeFunction('convertToInteractive',\n",
              "                                                     [key], {});\n",
              "          if (!dataTable) return;\n",
              "\n",
              "          const docLinkHtml = 'Like what you see? Visit the ' +\n",
              "            '<a target=\"_blank\" href=https://colab.research.google.com/notebooks/data_table.ipynb>data table notebook</a>'\n",
              "            + ' to learn more about interactive tables.';\n",
              "          element.innerHTML = '';\n",
              "          dataTable['output_type'] = 'display_data';\n",
              "          await google.colab.output.renderOutput(dataTable, element);\n",
              "          const docLink = document.createElement('div');\n",
              "          docLink.innerHTML = docLinkHtml;\n",
              "          element.appendChild(docLink);\n",
              "        }\n",
              "      </script>\n",
              "    </div>\n",
              "  </div>\n",
              "  "
            ]
          },
          "metadata": {}
        },
        {
          "output_type": "stream",
          "name": "stdout",
          "text": [
            "<class 'pandas.core.frame.DataFrame'>\n",
            "Int64Index: 9912 entries, 0 to 9999\n",
            "Data columns (total 32 columns):\n",
            " #   Column       Non-Null Count  Dtype  \n",
            "---  ------       --------------  -----  \n",
            " 0   기준년도         9912 non-null   int64  \n",
            " 1   가입자일련번호      9912 non-null   int64  \n",
            " 2   시도코드         9912 non-null   int64  \n",
            " 3   성별코드         9912 non-null   object \n",
            " 4   연령대코드(5세단위)  9912 non-null   int64  \n",
            " 5   신장(5Cm단위)    9912 non-null   int64  \n",
            " 6   체중(5Kg 단위)   9912 non-null   int64  \n",
            " 7   허리둘레         9912 non-null   float64\n",
            " 8   시력(좌)        9912 non-null   float64\n",
            " 9   시력(우)        9912 non-null   float64\n",
            " 10  청력(좌)        9912 non-null   int64  \n",
            " 11  청력(우)        9912 non-null   int64  \n",
            " 12  수축기혈압        9912 non-null   float64\n",
            " 13  이완기혈압        9912 non-null   float64\n",
            " 14  식전혈당(공복혈당)   9912 non-null   float64\n",
            " 15  총콜레스테롤       4044 non-null   float64\n",
            " 16  트리글리세라이드     4044 non-null   float64\n",
            " 17  HDL콜레스테롤     4044 non-null   float64\n",
            " 18  LDL콜레스테롤     3977 non-null   float64\n",
            " 19  혈색소          9912 non-null   float64\n",
            " 20  요단백          9861 non-null   float64\n",
            " 21  혈청크레아티닌      9912 non-null   float64\n",
            " 22  (혈청지오티)AST   9912 non-null   float64\n",
            " 23  (혈청지오티)ALT   9912 non-null   float64\n",
            " 24  감마지티피        9912 non-null   float64\n",
            " 25  흡연상태         9910 non-null   object \n",
            " 26  음주여부         9911 non-null   object \n",
            " 27  구강검진수검여부     9912 non-null   int64  \n",
            " 28  치아우식증유무      3251 non-null   float64\n",
            " 29  치석           3251 non-null   float64\n",
            " 30  데이터공개일자      9912 non-null   object \n",
            " 31  diabetes     9912 non-null   int64  \n",
            "dtypes: float64(18), int64(10), object(4)\n",
            "memory usage: 2.5+ MB\n",
            "None\n"
          ]
        }
      ]
    },
    {
      "cell_type": "code",
      "source": [
        "display(data_dropNA['diabetes'], data_dropNA['식전혈당(공복혈당)'])\n",
        "#display로 표현되는 행들 중 3번 행만 공복혈당이 125를 초과하기 때문에 1로 표현되어야 하고, 실제로 그렇다는 것을 확인가능"
      ],
      "metadata": {
        "colab": {
          "base_uri": "https://localhost:8080/",
          "height": 453
        },
        "id": "EkwTuGa0s94l",
        "outputId": "f3736723-13fd-43a0-f86a-3dfb5b420da4"
      },
      "execution_count": 9,
      "outputs": [
        {
          "output_type": "display_data",
          "data": {
            "text/plain": [
              "0       0\n",
              "1       0\n",
              "2       0\n",
              "3       1\n",
              "4       0\n",
              "       ..\n",
              "9995    0\n",
              "9996    0\n",
              "9997    0\n",
              "9998    0\n",
              "9999    0\n",
              "Name: diabetes, Length: 9912, dtype: int64"
            ]
          },
          "metadata": {}
        },
        {
          "output_type": "display_data",
          "data": {
            "text/plain": [
              "0        90.0\n",
              "1        87.0\n",
              "2       102.0\n",
              "3       146.0\n",
              "4       110.0\n",
              "        ...  \n",
              "9995    120.0\n",
              "9996    117.0\n",
              "9997     86.0\n",
              "9998    118.0\n",
              "9999    105.0\n",
              "Name: 식전혈당(공복혈당), Length: 9912, dtype: float64"
            ]
          },
          "metadata": {}
        }
      ]
    },
    {
      "cell_type": "markdown",
      "source": [
        "## 전체 중 당뇨병 환자로 추정되는 사람의 비율 분석하기"
      ],
      "metadata": {
        "id": "RffqpIKhgRiB"
      }
    },
    {
      "cell_type": "markdown",
      "source": [
        "### 박스플롯을 통해 식전혈당(공복혈당)의 분포 확인하기"
      ],
      "metadata": {
        "id": "RsdwQsSFl1l7"
      }
    },
    {
      "cell_type": "code",
      "source": [
        "sns.boxplot(data = data_dropNA, y = '식전혈당(공복혈당)')"
      ],
      "metadata": {
        "colab": {
          "base_uri": "https://localhost:8080/",
          "height": 270
        },
        "id": "FMQek9ldiJSj",
        "outputId": "0549b5d5-8341-494b-daff-ab250b5f1935"
      },
      "execution_count": 10,
      "outputs": [
        {
          "output_type": "execute_result",
          "data": {
            "text/plain": [
              "<matplotlib.axes._subplots.AxesSubplot at 0x7fd2d04ba6d0>"
            ]
          },
          "metadata": {},
          "execution_count": 10
        },
        {
          "output_type": "display_data",
          "data": {
            "text/plain": [
              "<Figure size 432x288 with 1 Axes>"
            ],
            "image/png": "[encoded data removed]"
          },
          "metadata": {
            "needs_background": "light"
          }
        }
      ]
    },
    {
      "cell_type": "markdown",
      "source": [
        "박스 플롯을 통해 식전혈당(공복혈당)의 데이터는 전체적으로 넓게 분포되어 있지만, 대부분의 값은 약 50과 150사이에 존재한다는 것을 확인할 수 있다.  \n",
        "상자 아래 가로선 (최솟값)과 상자 위 가로선 (최댓값)을 넘는 사례들이 굉장히 많이 퍼져있다는 것을 확인할 수 있고, 이들이 이상치가 아니라는 가정 하에 공복혈당은 편차가 매우 큰 변수라는 것을 알 수 있다.  \n",
        "당뇨병의 기준인 125를 훨씬 초과하는 사례도 꽤 많은 것으로 보인다"
      ],
      "metadata": {
        "id": "M2CGZgPIukQ_"
      }
    },
    {
      "cell_type": "markdown",
      "source": [
        "### 당뇨로 의심되는 사람 수(식전혈당(공복혈당)>125)와 의심되지 않는 사람 수 비교\n",
        "막대 그래프를 통해 시각적으로 비교"
      ],
      "metadata": {
        "id": "kJ9l5j_5l-gJ"
      }
    },
    {
      "cell_type": "code",
      "source": [
        "df_dia = data_dropNA.groupby('diabetes' , as_index = False).agg( count = ('diabetes', 'count'))\n",
        "df_dia #as_index = False를 하면 drv의 종류에 따라 범주를 구분한다"
      ],
      "metadata": {
        "colab": {
          "base_uri": "https://localhost:8080/",
          "height": 112
        },
        "id": "Tyoi3Wr4mJfy",
        "outputId": "0868e564-4874-4968-b84b-52e1dfffd667"
      },
      "execution_count": 11,
      "outputs": [
        {
          "output_type": "execute_result",
          "data": {
            "text/plain": [
              "   diabetes  count\n",
              "0         0   8905\n",
              "1         1   1007"
            ],
            "text/html": [
              "\n",
              "  <div id=\"df-f5a5e526-52ce-4c45-a283-b33d198a44f7\">\n",
              "    <div class=\"colab-df-container\">\n",
              "      <div>\n",
              "<style scoped>\n",
              "    .dataframe tbody tr th:only-of-type {\n",
              "        vertical-align: middle;\n",
              "    }\n",
              "\n",
              "    .dataframe tbody tr th {\n",
              "        vertical-align: top;\n",
              "    }\n",
              "\n",
              "    .dataframe thead th {\n",
              "        text-align: right;\n",
              "    }\n",
              "</style>\n",
              "<table border=\"1\" class=\"dataframe\">\n",
              "  <thead>\n",
              "    <tr style=\"text-align: right;\">\n",
              "      <th></th>\n",
              "      <th>diabetes</th>\n",
              "      <th>count</th>\n",
              "    </tr>\n",
              "  </thead>\n",
              "  <tbody>\n",
              "    <tr>\n",
              "      <th>0</th>\n",
              "      <td>0</td>\n",
              "      <td>8905</td>\n",
              "    </tr>\n",
              "    <tr>\n",
              "      <th>1</th>\n",
              "      <td>1</td>\n",
              "      <td>1007</td>\n",
              "    </tr>\n",
              "  </tbody>\n",
              "</table>\n",
              "</div>\n",
              "      <button class=\"colab-df-convert\" onclick=\"convertToInteractive('df-f5a5e526-52ce-4c45-a283-b33d198a44f7')\"\n",
              "              title=\"Convert this dataframe to an interactive table.\"\n",
              "              style=\"display:none;\">\n",
              "        \n",
              "  <svg xmlns=\"http://www.w3.org/2000/svg\" height=\"24px\"viewBox=\"0 0 24 24\"\n",
              "       width=\"24px\">\n",
              "    <path d=\"M0 0h24v24H0V0z\" fill=\"none\"/>\n",
              "    <path d=\"M18.56 5.44l.94 2.06.94-2.06 2.06-.94-2.06-.94-.94-2.06-.94 2.06-2.06.94zm-11 1L8.5 8.5l.94-2.06 2.06-.94-2.06-.94L8.5 2.5l-.94 2.06-2.06.94zm10 10l.94 2.06.94-2.06 2.06-.94-2.06-.94-.94-2.06-.94 2.06-2.06.94z\"/><path d=\"M17.41 7.96l-1.37-1.37c-.4-.4-.92-.59-1.43-.59-.52 0-1.04.2-1.43.59L10.3 9.45l-7.72 7.72c-.78.78-.78 2.05 0 2.83L4 21.41c.39.39.9.59 1.41.59.51 0 1.02-.2 1.41-.59l7.78-7.78 2.81-2.81c.8-.78.8-2.07 0-2.86zM5.41 20L4 18.59l7.72-7.72 1.47 1.35L5.41 20z\"/>\n",
              "  </svg>\n",
              "      </button>\n",
              "      \n",
              "  <style>\n",
              "    .colab-df-container {\n",
              "      display:flex;\n",
              "      flex-wrap:wrap;\n",
              "      gap: 12px;\n",
              "    }\n",
              "\n",
              "    .colab-df-convert {\n",
              "      background-color: #E8F0FE;\n",
              "      border: none;\n",
              "      border-radius: 50%;\n",
              "      cursor: pointer;\n",
              "      display: none;\n",
              "      fill: #1967D2;\n",
              "      height: 32px;\n",
              "      padding: 0 0 0 0;\n",
              "      width: 32px;\n",
              "    }\n",
              "\n",
              "    .colab-df-convert:hover {\n",
              "      background-color: #E2EBFA;\n",
              "      box-shadow: 0px 1px 2px rgba(60, 64, 67, 0.3), 0px 1px 3px 1px rgba(60, 64, 67, 0.15);\n",
              "      fill: #174EA6;\n",
              "    }\n",
              "\n",
              "    [theme=dark] .colab-df-convert {\n",
              "      background-color: #3B4455;\n",
              "      fill: #D2E3FC;\n",
              "    }\n",
              "\n",
              "    [theme=dark] .colab-df-convert:hover {\n",
              "      background-color: #434B5C;\n",
              "      box-shadow: 0px 1px 3px 1px rgba(0, 0, 0, 0.15);\n",
              "      filter: drop-shadow(0px 1px 2px rgba(0, 0, 0, 0.3));\n",
              "      fill: #FFFFFF;\n",
              "    }\n",
              "  </style>\n",
              "\n",
              "      <script>\n",
              "        const buttonEl =\n",
              "          document.querySelector('#df-f5a5e526-52ce-4c45-a283-b33d198a44f7 button.colab-df-convert');\n",
              "        buttonEl.style.display =\n",
              "          google.colab.kernel.accessAllowed ? 'block' : 'none';\n",
              "\n",
              "        async function convertToInteractive(key) {\n",
              "          const element = document.querySelector('#df-f5a5e526-52ce-4c45-a283-b33d198a44f7');\n",
              "          const dataTable =\n",
              "            await google.colab.kernel.invokeFunction('convertToInteractive',\n",
              "                                                     [key], {});\n",
              "          if (!dataTable) return;\n",
              "\n",
              "          const docLinkHtml = 'Like what you see? Visit the ' +\n",
              "            '<a target=\"_blank\" href=https://colab.research.google.com/notebooks/data_table.ipynb>data table notebook</a>'\n",
              "            + ' to learn more about interactive tables.';\n",
              "          element.innerHTML = '';\n",
              "          dataTable['output_type'] = 'display_data';\n",
              "          await google.colab.output.renderOutput(dataTable, element);\n",
              "          const docLink = document.createElement('div');\n",
              "          docLink.innerHTML = docLinkHtml;\n",
              "          element.appendChild(docLink);\n",
              "        }\n",
              "      </script>\n",
              "    </div>\n",
              "  </div>\n",
              "  "
            ]
          },
          "metadata": {},
          "execution_count": 11
        }
      ]
    },
    {
      "cell_type": "code",
      "source": [
        "sns.barplot(data = df_dia, x = 'diabetes', y = 'count')"
      ],
      "metadata": {
        "colab": {
          "base_uri": "https://localhost:8080/",
          "height": 297
        },
        "id": "w6PGmggrmPQU",
        "outputId": "7c59308d-2a75-4f74-892e-82ceed625d01"
      },
      "execution_count": 12,
      "outputs": [
        {
          "output_type": "execute_result",
          "data": {
            "text/plain": [
              "<matplotlib.axes._subplots.AxesSubplot at 0x7fd2d04bacd0>"
            ]
          },
          "metadata": {},
          "execution_count": 12
        },
        {
          "output_type": "display_data",
          "data": {
            "text/plain": [
              "<Figure size 432x288 with 1 Axes>"
            ],
            "image/png": "[encoded data removed]"
          },
          "metadata": {
            "needs_background": "light"
          }
        }
      ]
    },
    {
      "cell_type": "markdown",
      "source": [
        "당뇨가 아닐 것으로 보이는 사람 수(8905 명)가 당뇨로 의심되는 사람의 수(1007 명) 보다 훨씬 많음을 확인할 수 있다(약 8 배)\n"
      ],
      "metadata": {
        "id": "JsbcLyeRuSvY"
      }
    },
    {
      "cell_type": "markdown",
      "source": [
        "## 체중과 식전혈당(공복혈당)의 연관성 확인\n",
        "체중의 변화에 따른 공복혈당의 변화 시각화"
      ],
      "metadata": {
        "id": "AX2R4swcwGLy"
      }
    },
    {
      "cell_type": "code",
      "source": [
        "df_weight = data_dropNA.groupby('체중(5Kg 단위)' , as_index = False).agg( count = ('체중(5Kg 단위)', 'count'))\n",
        "df_weight"
      ],
      "metadata": {
        "colab": {
          "base_uri": "https://localhost:8080/",
          "height": 676
        },
        "id": "fCY2CDoZcnpV",
        "outputId": "4019f094-5fdf-47c2-eaab-94660cd78f81"
      },
      "execution_count": 13,
      "outputs": [
        {
          "output_type": "execute_result",
          "data": {
            "text/plain": [
              "    체중(5Kg 단위)  count\n",
              "0           30      5\n",
              "1           35     24\n",
              "2           40    170\n",
              "3           45    595\n",
              "4           50   1202\n",
              "5           55   1529\n",
              "6           60   1601\n",
              "7           65   1480\n",
              "8           70   1214\n",
              "9           75    895\n",
              "10          80    526\n",
              "11          85    350\n",
              "12          90    162\n",
              "13          95     84\n",
              "14         100     37\n",
              "15         105     20\n",
              "16         110      7\n",
              "17         115      7\n",
              "18         120      3\n",
              "19         130      1"
            ],
            "text/html": [
              "\n",
              "  <div id=\"df-41b7d128-f7ba-4105-8fe1-0c6e1b3bba5d\">\n",
              "    <div class=\"colab-df-container\">\n",
              "      <div>\n",
              "<style scoped>\n",
              "    .dataframe tbody tr th:only-of-type {\n",
              "        vertical-align: middle;\n",
              "    }\n",
              "\n",
              "    .dataframe tbody tr th {\n",
              "        vertical-align: top;\n",
              "    }\n",
              "\n",
              "    .dataframe thead th {\n",
              "        text-align: right;\n",
              "    }\n",
              "</style>\n",
              "<table border=\"1\" class=\"dataframe\">\n",
              "  <thead>\n",
              "    <tr style=\"text-align: right;\">\n",
              "      <th></th>\n",
              "      <th>체중(5Kg 단위)</th>\n",
              "      <th>count</th>\n",
              "    </tr>\n",
              "  </thead>\n",
              "  <tbody>\n",
              "    <tr>\n",
              "      <th>0</th>\n",
              "      <td>30</td>\n",
              "      <td>5</td>\n",
              "    </tr>\n",
              "    <tr>\n",
              "      <th>1</th>\n",
              "      <td>35</td>\n",
              "      <td>24</td>\n",
              "    </tr>\n",
              "    <tr>\n",
              "      <th>2</th>\n",
              "      <td>40</td>\n",
              "      <td>170</td>\n",
              "    </tr>\n",
              "    <tr>\n",
              "      <th>3</th>\n",
              "      <td>45</td>\n",
              "      <td>595</td>\n",
              "    </tr>\n",
              "    <tr>\n",
              "      <th>4</th>\n",
              "      <td>50</td>\n",
              "      <td>1202</td>\n",
              "    </tr>\n",
              "    <tr>\n",
              "      <th>5</th>\n",
              "      <td>55</td>\n",
              "      <td>1529</td>\n",
              "    </tr>\n",
              "    <tr>\n",
              "      <th>6</th>\n",
              "      <td>60</td>\n",
              "      <td>1601</td>\n",
              "    </tr>\n",
              "    <tr>\n",
              "      <th>7</th>\n",
              "      <td>65</td>\n",
              "      <td>1480</td>\n",
              "    </tr>\n",
              "    <tr>\n",
              "      <th>8</th>\n",
              "      <td>70</td>\n",
              "      <td>1214</td>\n",
              "    </tr>\n",
              "    <tr>\n",
              "      <th>9</th>\n",
              "      <td>75</td>\n",
              "      <td>895</td>\n",
              "    </tr>\n",
              "    <tr>\n",
              "      <th>10</th>\n",
              "      <td>80</td>\n",
              "      <td>526</td>\n",
              "    </tr>\n",
              "    <tr>\n",
              "      <th>11</th>\n",
              "      <td>85</td>\n",
              "      <td>350</td>\n",
              "    </tr>\n",
              "    <tr>\n",
              "      <th>12</th>\n",
              "      <td>90</td>\n",
              "      <td>162</td>\n",
              "    </tr>\n",
              "    <tr>\n",
              "      <th>13</th>\n",
              "      <td>95</td>\n",
              "      <td>84</td>\n",
              "    </tr>\n",
              "    <tr>\n",
              "      <th>14</th>\n",
              "      <td>100</td>\n",
              "      <td>37</td>\n",
              "    </tr>\n",
              "    <tr>\n",
              "      <th>15</th>\n",
              "      <td>105</td>\n",
              "      <td>20</td>\n",
              "    </tr>\n",
              "    <tr>\n",
              "      <th>16</th>\n",
              "      <td>110</td>\n",
              "      <td>7</td>\n",
              "    </tr>\n",
              "    <tr>\n",
              "      <th>17</th>\n",
              "      <td>115</td>\n",
              "      <td>7</td>\n",
              "    </tr>\n",
              "    <tr>\n",
              "      <th>18</th>\n",
              "      <td>120</td>\n",
              "      <td>3</td>\n",
              "    </tr>\n",
              "    <tr>\n",
              "      <th>19</th>\n",
              "      <td>130</td>\n",
              "      <td>1</td>\n",
              "    </tr>\n",
              "  </tbody>\n",
              "</table>\n",
              "</div>\n",
              "      <button class=\"colab-df-convert\" onclick=\"convertToInteractive('df-41b7d128-f7ba-4105-8fe1-0c6e1b3bba5d')\"\n",
              "              title=\"Convert this dataframe to an interactive table.\"\n",
              "              style=\"display:none;\">\n",
              "        \n",
              "  <svg xmlns=\"http://www.w3.org/2000/svg\" height=\"24px\"viewBox=\"0 0 24 24\"\n",
              "       width=\"24px\">\n",
              "    <path d=\"M0 0h24v24H0V0z\" fill=\"none\"/>\n",
              "    <path d=\"M18.56 5.44l.94 2.06.94-2.06 2.06-.94-2.06-.94-.94-2.06-.94 2.06-2.06.94zm-11 1L8.5 8.5l.94-2.06 2.06-.94-2.06-.94L8.5 2.5l-.94 2.06-2.06.94zm10 10l.94 2.06.94-2.06 2.06-.94-2.06-.94-.94-2.06-.94 2.06-2.06.94z\"/><path d=\"M17.41 7.96l-1.37-1.37c-.4-.4-.92-.59-1.43-.59-.52 0-1.04.2-1.43.59L10.3 9.45l-7.72 7.72c-.78.78-.78 2.05 0 2.83L4 21.41c.39.39.9.59 1.41.59.51 0 1.02-.2 1.41-.59l7.78-7.78 2.81-2.81c.8-.78.8-2.07 0-2.86zM5.41 20L4 18.59l7.72-7.72 1.47 1.35L5.41 20z\"/>\n",
              "  </svg>\n",
              "      </button>\n",
              "      \n",
              "  <style>\n",
              "    .colab-df-container {\n",
              "      display:flex;\n",
              "      flex-wrap:wrap;\n",
              "      gap: 12px;\n",
              "    }\n",
              "\n",
              "    .colab-df-convert {\n",
              "      background-color: #E8F0FE;\n",
              "      border: none;\n",
              "      border-radius: 50%;\n",
              "      cursor: pointer;\n",
              "      display: none;\n",
              "      fill: #1967D2;\n",
              "      height: 32px;\n",
              "      padding: 0 0 0 0;\n",
              "      width: 32px;\n",
              "    }\n",
              "\n",
              "    .colab-df-convert:hover {\n",
              "      background-color: #E2EBFA;\n",
              "      box-shadow: 0px 1px 2px rgba(60, 64, 67, 0.3), 0px 1px 3px 1px rgba(60, 64, 67, 0.15);\n",
              "      fill: #174EA6;\n",
              "    }\n",
              "\n",
              "    [theme=dark] .colab-df-convert {\n",
              "      background-color: #3B4455;\n",
              "      fill: #D2E3FC;\n",
              "    }\n",
              "\n",
              "    [theme=dark] .colab-df-convert:hover {\n",
              "      background-color: #434B5C;\n",
              "      box-shadow: 0px 1px 3px 1px rgba(0, 0, 0, 0.15);\n",
              "      filter: drop-shadow(0px 1px 2px rgba(0, 0, 0, 0.3));\n",
              "      fill: #FFFFFF;\n",
              "    }\n",
              "  </style>\n",
              "\n",
              "      <script>\n",
              "        const buttonEl =\n",
              "          document.querySelector('#df-41b7d128-f7ba-4105-8fe1-0c6e1b3bba5d button.colab-df-convert');\n",
              "        buttonEl.style.display =\n",
              "          google.colab.kernel.accessAllowed ? 'block' : 'none';\n",
              "\n",
              "        async function convertToInteractive(key) {\n",
              "          const element = document.querySelector('#df-41b7d128-f7ba-4105-8fe1-0c6e1b3bba5d');\n",
              "          const dataTable =\n",
              "            await google.colab.kernel.invokeFunction('convertToInteractive',\n",
              "                                                     [key], {});\n",
              "          if (!dataTable) return;\n",
              "\n",
              "          const docLinkHtml = 'Like what you see? Visit the ' +\n",
              "            '<a target=\"_blank\" href=https://colab.research.google.com/notebooks/data_table.ipynb>data table notebook</a>'\n",
              "            + ' to learn more about interactive tables.';\n",
              "          element.innerHTML = '';\n",
              "          dataTable['output_type'] = 'display_data';\n",
              "          await google.colab.output.renderOutput(dataTable, element);\n",
              "          const docLink = document.createElement('div');\n",
              "          docLink.innerHTML = docLinkHtml;\n",
              "          element.appendChild(docLink);\n",
              "        }\n",
              "      </script>\n",
              "    </div>\n",
              "  </div>\n",
              "  "
            ]
          },
          "metadata": {},
          "execution_count": 13
        }
      ]
    },
    {
      "cell_type": "code",
      "source": [
        "df_weight_mean = data_dropNA.groupby('체중(5Kg 단위)' , as_index = False).agg( count = ('식전혈당(공복혈당)', 'mean'))\n",
        "df_weight_mean"
      ],
      "metadata": {
        "colab": {
          "base_uri": "https://localhost:8080/",
          "height": 676
        },
        "id": "YCm9_HH8dM3j",
        "outputId": "d52a4926-c3dc-48be-eb81-e00f8c4a5e99"
      },
      "execution_count": 14,
      "outputs": [
        {
          "output_type": "execute_result",
          "data": {
            "text/plain": [
              "    체중(5Kg 단위)       count\n",
              "0           30  102.600000\n",
              "1           35   94.333333\n",
              "2           40   96.458824\n",
              "3           45   97.983193\n",
              "4           50   98.085691\n",
              "5           55  101.294310\n",
              "6           60  102.412867\n",
              "7           65  105.776351\n",
              "8           70  106.817957\n",
              "9           75  108.343017\n",
              "10          80  108.564639\n",
              "11          85  109.108571\n",
              "12          90  112.790123\n",
              "13          95  111.428571\n",
              "14         100  112.378378\n",
              "15         105  111.650000\n",
              "16         110  111.571429\n",
              "17         115  101.142857\n",
              "18         120  107.666667\n",
              "19         130  106.000000"
            ],
            "text/html": [
              "\n",
              "  <div id=\"df-b0bfb419-e45f-48d3-a3eb-bb3b771bbfc0\">\n",
              "    <div class=\"colab-df-container\">\n",
              "      <div>\n",
              "<style scoped>\n",
              "    .dataframe tbody tr th:only-of-type {\n",
              "        vertical-align: middle;\n",
              "    }\n",
              "\n",
              "    .dataframe tbody tr th {\n",
              "        vertical-align: top;\n",
              "    }\n",
              "\n",
              "    .dataframe thead th {\n",
              "        text-align: right;\n",
              "    }\n",
              "</style>\n",
              "<table border=\"1\" class=\"dataframe\">\n",
              "  <thead>\n",
              "    <tr style=\"text-align: right;\">\n",
              "      <th></th>\n",
              "      <th>체중(5Kg 단위)</th>\n",
              "      <th>count</th>\n",
              "    </tr>\n",
              "  </thead>\n",
              "  <tbody>\n",
              "    <tr>\n",
              "      <th>0</th>\n",
              "      <td>30</td>\n",
              "      <td>102.600000</td>\n",
              "    </tr>\n",
              "    <tr>\n",
              "      <th>1</th>\n",
              "      <td>35</td>\n",
              "      <td>94.333333</td>\n",
              "    </tr>\n",
              "    <tr>\n",
              "      <th>2</th>\n",
              "      <td>40</td>\n",
              "      <td>96.458824</td>\n",
              "    </tr>\n",
              "    <tr>\n",
              "      <th>3</th>\n",
              "      <td>45</td>\n",
              "      <td>97.983193</td>\n",
              "    </tr>\n",
              "    <tr>\n",
              "      <th>4</th>\n",
              "      <td>50</td>\n",
              "      <td>98.085691</td>\n",
              "    </tr>\n",
              "    <tr>\n",
              "      <th>5</th>\n",
              "      <td>55</td>\n",
              "      <td>101.294310</td>\n",
              "    </tr>\n",
              "    <tr>\n",
              "      <th>6</th>\n",
              "      <td>60</td>\n",
              "      <td>102.412867</td>\n",
              "    </tr>\n",
              "    <tr>\n",
              "      <th>7</th>\n",
              "      <td>65</td>\n",
              "      <td>105.776351</td>\n",
              "    </tr>\n",
              "    <tr>\n",
              "      <th>8</th>\n",
              "      <td>70</td>\n",
              "      <td>106.817957</td>\n",
              "    </tr>\n",
              "    <tr>\n",
              "      <th>9</th>\n",
              "      <td>75</td>\n",
              "      <td>108.343017</td>\n",
              "    </tr>\n",
              "    <tr>\n",
              "      <th>10</th>\n",
              "      <td>80</td>\n",
              "      <td>108.564639</td>\n",
              "    </tr>\n",
              "    <tr>\n",
              "      <th>11</th>\n",
              "      <td>85</td>\n",
              "      <td>109.108571</td>\n",
              "    </tr>\n",
              "    <tr>\n",
              "      <th>12</th>\n",
              "      <td>90</td>\n",
              "      <td>112.790123</td>\n",
              "    </tr>\n",
              "    <tr>\n",
              "      <th>13</th>\n",
              "      <td>95</td>\n",
              "      <td>111.428571</td>\n",
              "    </tr>\n",
              "    <tr>\n",
              "      <th>14</th>\n",
              "      <td>100</td>\n",
              "      <td>112.378378</td>\n",
              "    </tr>\n",
              "    <tr>\n",
              "      <th>15</th>\n",
              "      <td>105</td>\n",
              "      <td>111.650000</td>\n",
              "    </tr>\n",
              "    <tr>\n",
              "      <th>16</th>\n",
              "      <td>110</td>\n",
              "      <td>111.571429</td>\n",
              "    </tr>\n",
              "    <tr>\n",
              "      <th>17</th>\n",
              "      <td>115</td>\n",
              "      <td>101.142857</td>\n",
              "    </tr>\n",
              "    <tr>\n",
              "      <th>18</th>\n",
              "      <td>120</td>\n",
              "      <td>107.666667</td>\n",
              "    </tr>\n",
              "    <tr>\n",
              "      <th>19</th>\n",
              "      <td>130</td>\n",
              "      <td>106.000000</td>\n",
              "    </tr>\n",
              "  </tbody>\n",
              "</table>\n",
              "</div>\n",
              "      <button class=\"colab-df-convert\" onclick=\"convertToInteractive('df-b0bfb419-e45f-48d3-a3eb-bb3b771bbfc0')\"\n",
              "              title=\"Convert this dataframe to an interactive table.\"\n",
              "              style=\"display:none;\">\n",
              "        \n",
              "  <svg xmlns=\"http://www.w3.org/2000/svg\" height=\"24px\"viewBox=\"0 0 24 24\"\n",
              "       width=\"24px\">\n",
              "    <path d=\"M0 0h24v24H0V0z\" fill=\"none\"/>\n",
              "    <path d=\"M18.56 5.44l.94 2.06.94-2.06 2.06-.94-2.06-.94-.94-2.06-.94 2.06-2.06.94zm-11 1L8.5 8.5l.94-2.06 2.06-.94-2.06-.94L8.5 2.5l-.94 2.06-2.06.94zm10 10l.94 2.06.94-2.06 2.06-.94-2.06-.94-.94-2.06-.94 2.06-2.06.94z\"/><path d=\"M17.41 7.96l-1.37-1.37c-.4-.4-.92-.59-1.43-.59-.52 0-1.04.2-1.43.59L10.3 9.45l-7.72 7.72c-.78.78-.78 2.05 0 2.83L4 21.41c.39.39.9.59 1.41.59.51 0 1.02-.2 1.41-.59l7.78-7.78 2.81-2.81c.8-.78.8-2.07 0-2.86zM5.41 20L4 18.59l7.72-7.72 1.47 1.35L5.41 20z\"/>\n",
              "  </svg>\n",
              "      </button>\n",
              "      \n",
              "  <style>\n",
              "    .colab-df-container {\n",
              "      display:flex;\n",
              "      flex-wrap:wrap;\n",
              "      gap: 12px;\n",
              "    }\n",
              "\n",
              "    .colab-df-convert {\n",
              "      background-color: #E8F0FE;\n",
              "      border: none;\n",
              "      border-radius: 50%;\n",
              "      cursor: pointer;\n",
              "      display: none;\n",
              "      fill: #1967D2;\n",
              "      height: 32px;\n",
              "      padding: 0 0 0 0;\n",
              "      width: 32px;\n",
              "    }\n",
              "\n",
              "    .colab-df-convert:hover {\n",
              "      background-color: #E2EBFA;\n",
              "      box-shadow: 0px 1px 2px rgba(60, 64, 67, 0.3), 0px 1px 3px 1px rgba(60, 64, 67, 0.15);\n",
              "      fill: #174EA6;\n",
              "    }\n",
              "\n",
              "    [theme=dark] .colab-df-convert {\n",
              "      background-color: #3B4455;\n",
              "      fill: #D2E3FC;\n",
              "    }\n",
              "\n",
              "    [theme=dark] .colab-df-convert:hover {\n",
              "      background-color: #434B5C;\n",
              "      box-shadow: 0px 1px 3px 1px rgba(0, 0, 0, 0.15);\n",
              "      filter: drop-shadow(0px 1px 2px rgba(0, 0, 0, 0.3));\n",
              "      fill: #FFFFFF;\n",
              "    }\n",
              "  </style>\n",
              "\n",
              "      <script>\n",
              "        const buttonEl =\n",
              "          document.querySelector('#df-b0bfb419-e45f-48d3-a3eb-bb3b771bbfc0 button.colab-df-convert');\n",
              "        buttonEl.style.display =\n",
              "          google.colab.kernel.accessAllowed ? 'block' : 'none';\n",
              "\n",
              "        async function convertToInteractive(key) {\n",
              "          const element = document.querySelector('#df-b0bfb419-e45f-48d3-a3eb-bb3b771bbfc0');\n",
              "          const dataTable =\n",
              "            await google.colab.kernel.invokeFunction('convertToInteractive',\n",
              "                                                     [key], {});\n",
              "          if (!dataTable) return;\n",
              "\n",
              "          const docLinkHtml = 'Like what you see? Visit the ' +\n",
              "            '<a target=\"_blank\" href=https://colab.research.google.com/notebooks/data_table.ipynb>data table notebook</a>'\n",
              "            + ' to learn more about interactive tables.';\n",
              "          element.innerHTML = '';\n",
              "          dataTable['output_type'] = 'display_data';\n",
              "          await google.colab.output.renderOutput(dataTable, element);\n",
              "          const docLink = document.createElement('div');\n",
              "          docLink.innerHTML = docLinkHtml;\n",
              "          element.appendChild(docLink);\n",
              "        }\n",
              "      </script>\n",
              "    </div>\n",
              "  </div>\n",
              "  "
            ]
          },
          "metadata": {},
          "execution_count": 14
        }
      ]
    },
    {
      "cell_type": "code",
      "source": [
        "sns.lineplot(data = df_weight_mean, x = '체중(5Kg 단위)', y = 'count')"
      ],
      "metadata": {
        "colab": {
          "base_uri": "https://localhost:8080/",
          "height": 298
        },
        "id": "fO7GxMw8dBuf",
        "outputId": "a83b0de4-3263-4742-ee3f-8dbc05d6535f"
      },
      "execution_count": 15,
      "outputs": [
        {
          "output_type": "execute_result",
          "data": {
            "text/plain": [
              "<matplotlib.axes._subplots.AxesSubplot at 0x7fd2cff55dd0>"
            ]
          },
          "metadata": {},
          "execution_count": 15
        },
        {
          "output_type": "display_data",
          "data": {
            "text/plain": [
              "<Figure size 432x288 with 1 Axes>"
            ],
            "image/png": "[encoded data removed]"
          },
          "metadata": {
            "needs_background": "light"
          }
        }
      ]
    },
    {
      "cell_type": "markdown",
      "source": [
        "35kg 이하 범위와 105kg 이상 범위는 해당하는 사례의 수가 많지 않기 때문에 40~100kg 범위만 분석에 활용하기로 한다.  \n",
        "몸무게가 많이 나갈수록 공복혈당이 높을 것이라고 생각했고, 그 결과 각 범위의 평균이 우상향하는 그래프를 그릴 것이라고 예상한 것과 같이, 몸무게가 늘어날수록 공복혈당이 올라가는 것을 확인할 수 있다.   \n",
        "평균이 당뇨의 기준인 125를 넘어가는 범주는 없었지만, **전체적으로 체중이 많이 나갈수록 공복혈당이 높아지는 것을 알 수 있다.**  \n",
        "**따라서 체중과 공복혈당은 서로 비례하는 관계가 있다고 볼 수 있다.**"
      ],
      "metadata": {
        "id": "qUOf1XTuwqSe"
      }
    },
    {
      "cell_type": "markdown",
      "source": [
        "## 흡연 여부에 따른 당뇨 환자 수 비교\n",
        "막대그래프 이용"
      ],
      "metadata": {
        "id": "XdjVr4ItwJ_G"
      }
    },
    {
      "cell_type": "code",
      "source": [
        "df_smoke = data_dropNA.groupby('흡연상태' , as_index = False).agg( count = ('diabetes', 'sum'))\n",
        "df_smoke"
      ],
      "metadata": {
        "colab": {
          "base_uri": "https://localhost:8080/",
          "height": 143
        },
        "id": "pnbA-sTgzFj7",
        "outputId": "5db23531-52f4-4310-b101-b4e2edded512"
      },
      "execution_count": 16,
      "outputs": [
        {
          "output_type": "execute_result",
          "data": {
            "text/plain": [
              "     흡연상태  count\n",
              "0      No    515\n",
              "1  NotNow    238\n",
              "2     Yes    254"
            ],
            "text/html": [
              "\n",
              "  <div id=\"df-1ee00ce7-2ad7-496d-90b0-b5734851b576\">\n",
              "    <div class=\"colab-df-container\">\n",
              "      <div>\n",
              "<style scoped>\n",
              "    .dataframe tbody tr th:only-of-type {\n",
              "        vertical-align: middle;\n",
              "    }\n",
              "\n",
              "    .dataframe tbody tr th {\n",
              "        vertical-align: top;\n",
              "    }\n",
              "\n",
              "    .dataframe thead th {\n",
              "        text-align: right;\n",
              "    }\n",
              "</style>\n",
              "<table border=\"1\" class=\"dataframe\">\n",
              "  <thead>\n",
              "    <tr style=\"text-align: right;\">\n",
              "      <th></th>\n",
              "      <th>흡연상태</th>\n",
              "      <th>count</th>\n",
              "    </tr>\n",
              "  </thead>\n",
              "  <tbody>\n",
              "    <tr>\n",
              "      <th>0</th>\n",
              "      <td>No</td>\n",
              "      <td>515</td>\n",
              "    </tr>\n",
              "    <tr>\n",
              "      <th>1</th>\n",
              "      <td>NotNow</td>\n",
              "      <td>238</td>\n",
              "    </tr>\n",
              "    <tr>\n",
              "      <th>2</th>\n",
              "      <td>Yes</td>\n",
              "      <td>254</td>\n",
              "    </tr>\n",
              "  </tbody>\n",
              "</table>\n",
              "</div>\n",
              "      <button class=\"colab-df-convert\" onclick=\"convertToInteractive('df-1ee00ce7-2ad7-496d-90b0-b5734851b576')\"\n",
              "              title=\"Convert this dataframe to an interactive table.\"\n",
              "              style=\"display:none;\">\n",
              "        \n",
              "  <svg xmlns=\"http://www.w3.org/2000/svg\" height=\"24px\"viewBox=\"0 0 24 24\"\n",
              "       width=\"24px\">\n",
              "    <path d=\"M0 0h24v24H0V0z\" fill=\"none\"/>\n",
              "    <path d=\"M18.56 5.44l.94 2.06.94-2.06 2.06-.94-2.06-.94-.94-2.06-.94 2.06-2.06.94zm-11 1L8.5 8.5l.94-2.06 2.06-.94-2.06-.94L8.5 2.5l-.94 2.06-2.06.94zm10 10l.94 2.06.94-2.06 2.06-.94-2.06-.94-.94-2.06-.94 2.06-2.06.94z\"/><path d=\"M17.41 7.96l-1.37-1.37c-.4-.4-.92-.59-1.43-.59-.52 0-1.04.2-1.43.59L10.3 9.45l-7.72 7.72c-.78.78-.78 2.05 0 2.83L4 21.41c.39.39.9.59 1.41.59.51 0 1.02-.2 1.41-.59l7.78-7.78 2.81-2.81c.8-.78.8-2.07 0-2.86zM5.41 20L4 18.59l7.72-7.72 1.47 1.35L5.41 20z\"/>\n",
              "  </svg>\n",
              "      </button>\n",
              "      \n",
              "  <style>\n",
              "    .colab-df-container {\n",
              "      display:flex;\n",
              "      flex-wrap:wrap;\n",
              "      gap: 12px;\n",
              "    }\n",
              "\n",
              "    .colab-df-convert {\n",
              "      background-color: #E8F0FE;\n",
              "      border: none;\n",
              "      border-radius: 50%;\n",
              "      cursor: pointer;\n",
              "      display: none;\n",
              "      fill: #1967D2;\n",
              "      height: 32px;\n",
              "      padding: 0 0 0 0;\n",
              "      width: 32px;\n",
              "    }\n",
              "\n",
              "    .colab-df-convert:hover {\n",
              "      background-color: #E2EBFA;\n",
              "      box-shadow: 0px 1px 2px rgba(60, 64, 67, 0.3), 0px 1px 3px 1px rgba(60, 64, 67, 0.15);\n",
              "      fill: #174EA6;\n",
              "    }\n",
              "\n",
              "    [theme=dark] .colab-df-convert {\n",
              "      background-color: #3B4455;\n",
              "      fill: #D2E3FC;\n",
              "    }\n",
              "\n",
              "    [theme=dark] .colab-df-convert:hover {\n",
              "      background-color: #434B5C;\n",
              "      box-shadow: 0px 1px 3px 1px rgba(0, 0, 0, 0.15);\n",
              "      filter: drop-shadow(0px 1px 2px rgba(0, 0, 0, 0.3));\n",
              "      fill: #FFFFFF;\n",
              "    }\n",
              "  </style>\n",
              "\n",
              "      <script>\n",
              "        const buttonEl =\n",
              "          document.querySelector('#df-1ee00ce7-2ad7-496d-90b0-b5734851b576 button.colab-df-convert');\n",
              "        buttonEl.style.display =\n",
              "          google.colab.kernel.accessAllowed ? 'block' : 'none';\n",
              "\n",
              "        async function convertToInteractive(key) {\n",
              "          const element = document.querySelector('#df-1ee00ce7-2ad7-496d-90b0-b5734851b576');\n",
              "          const dataTable =\n",
              "            await google.colab.kernel.invokeFunction('convertToInteractive',\n",
              "                                                     [key], {});\n",
              "          if (!dataTable) return;\n",
              "\n",
              "          const docLinkHtml = 'Like what you see? Visit the ' +\n",
              "            '<a target=\"_blank\" href=https://colab.research.google.com/notebooks/data_table.ipynb>data table notebook</a>'\n",
              "            + ' to learn more about interactive tables.';\n",
              "          element.innerHTML = '';\n",
              "          dataTable['output_type'] = 'display_data';\n",
              "          await google.colab.output.renderOutput(dataTable, element);\n",
              "          const docLink = document.createElement('div');\n",
              "          docLink.innerHTML = docLinkHtml;\n",
              "          element.appendChild(docLink);\n",
              "        }\n",
              "      </script>\n",
              "    </div>\n",
              "  </div>\n",
              "  "
            ]
          },
          "metadata": {},
          "execution_count": 16
        }
      ]
    },
    {
      "cell_type": "code",
      "source": [
        "print(515+238+254)"
      ],
      "metadata": {
        "colab": {
          "base_uri": "https://localhost:8080/"
        },
        "id": "3p5OL2Irz9Fo",
        "outputId": "f664ecf2-0251-4edd-b258-5e35e2bbf590"
      },
      "execution_count": 17,
      "outputs": [
        {
          "output_type": "stream",
          "name": "stdout",
          "text": [
            "1007\n"
          ]
        }
      ]
    },
    {
      "cell_type": "markdown",
      "source": [
        "당뇨로 의심되는 경우 값은 1, 의심되지 않는 경우 값은 0이기 때문에 sum을 통해 해당 열의 값들을 모두 더하면 당뇨로 의심되는 사례의 수만 더한 값과 동일해진다\n",
        "(그렇기 때문에 df_smoke의 count값을 모두 더하면 당뇨로 의심되는 사람 수인 1007과 동일하게 된다)"
      ],
      "metadata": {
        "id": "bGH0Rkl80Je4"
      }
    },
    {
      "cell_type": "code",
      "source": [
        "sns.barplot(data = df_smoke, x = '흡연상태', y = 'count')"
      ],
      "metadata": {
        "colab": {
          "base_uri": "https://localhost:8080/",
          "height": 297
        },
        "id": "IeLsJo89xvh8",
        "outputId": "1473b133-99ec-4b8c-b5fe-09fa8541ff51"
      },
      "execution_count": 18,
      "outputs": [
        {
          "output_type": "execute_result",
          "data": {
            "text/plain": [
              "<matplotlib.axes._subplots.AxesSubplot at 0x7fd2cfec31d0>"
            ]
          },
          "metadata": {},
          "execution_count": 18
        },
        {
          "output_type": "display_data",
          "data": {
            "text/plain": [
              "<Figure size 432x288 with 1 Axes>"
            ],
            "image/png": "[encoded data removed]"
          },
          "metadata": {
            "needs_background": "light"
          }
        }
      ]
    },
    {
      "cell_type": "code",
      "source": [
        "df_smoke_count = data_dropNA.groupby('흡연상태' , as_index = False).agg( count = ('흡연상태', 'count'))\n",
        "df_smoke_count"
      ],
      "metadata": {
        "colab": {
          "base_uri": "https://localhost:8080/",
          "height": 143
        },
        "id": "IeLWxu4a0u8F",
        "outputId": "fc38ec86-ae06-4c5c-fc22-6f965718caee"
      },
      "execution_count": 19,
      "outputs": [
        {
          "output_type": "execute_result",
          "data": {
            "text/plain": [
              "     흡연상태  count\n",
              "0      No   6160\n",
              "1  NotNow   1918\n",
              "2     Yes   1832"
            ],
            "text/html": [
              "\n",
              "  <div id=\"df-49a8b865-2b07-42fa-9be2-9491bf38bbff\">\n",
              "    <div class=\"colab-df-container\">\n",
              "      <div>\n",
              "<style scoped>\n",
              "    .dataframe tbody tr th:only-of-type {\n",
              "        vertical-align: middle;\n",
              "    }\n",
              "\n",
              "    .dataframe tbody tr th {\n",
              "        vertical-align: top;\n",
              "    }\n",
              "\n",
              "    .dataframe thead th {\n",
              "        text-align: right;\n",
              "    }\n",
              "</style>\n",
              "<table border=\"1\" class=\"dataframe\">\n",
              "  <thead>\n",
              "    <tr style=\"text-align: right;\">\n",
              "      <th></th>\n",
              "      <th>흡연상태</th>\n",
              "      <th>count</th>\n",
              "    </tr>\n",
              "  </thead>\n",
              "  <tbody>\n",
              "    <tr>\n",
              "      <th>0</th>\n",
              "      <td>No</td>\n",
              "      <td>6160</td>\n",
              "    </tr>\n",
              "    <tr>\n",
              "      <th>1</th>\n",
              "      <td>NotNow</td>\n",
              "      <td>1918</td>\n",
              "    </tr>\n",
              "    <tr>\n",
              "      <th>2</th>\n",
              "      <td>Yes</td>\n",
              "      <td>1832</td>\n",
              "    </tr>\n",
              "  </tbody>\n",
              "</table>\n",
              "</div>\n",
              "      <button class=\"colab-df-convert\" onclick=\"convertToInteractive('df-49a8b865-2b07-42fa-9be2-9491bf38bbff')\"\n",
              "              title=\"Convert this dataframe to an interactive table.\"\n",
              "              style=\"display:none;\">\n",
              "        \n",
              "  <svg xmlns=\"http://www.w3.org/2000/svg\" height=\"24px\"viewBox=\"0 0 24 24\"\n",
              "       width=\"24px\">\n",
              "    <path d=\"M0 0h24v24H0V0z\" fill=\"none\"/>\n",
              "    <path d=\"M18.56 5.44l.94 2.06.94-2.06 2.06-.94-2.06-.94-.94-2.06-.94 2.06-2.06.94zm-11 1L8.5 8.5l.94-2.06 2.06-.94-2.06-.94L8.5 2.5l-.94 2.06-2.06.94zm10 10l.94 2.06.94-2.06 2.06-.94-2.06-.94-.94-2.06-.94 2.06-2.06.94z\"/><path d=\"M17.41 7.96l-1.37-1.37c-.4-.4-.92-.59-1.43-.59-.52 0-1.04.2-1.43.59L10.3 9.45l-7.72 7.72c-.78.78-.78 2.05 0 2.83L4 21.41c.39.39.9.59 1.41.59.51 0 1.02-.2 1.41-.59l7.78-7.78 2.81-2.81c.8-.78.8-2.07 0-2.86zM5.41 20L4 18.59l7.72-7.72 1.47 1.35L5.41 20z\"/>\n",
              "  </svg>\n",
              "      </button>\n",
              "      \n",
              "  <style>\n",
              "    .colab-df-container {\n",
              "      display:flex;\n",
              "      flex-wrap:wrap;\n",
              "      gap: 12px;\n",
              "    }\n",
              "\n",
              "    .colab-df-convert {\n",
              "      background-color: #E8F0FE;\n",
              "      border: none;\n",
              "      border-radius: 50%;\n",
              "      cursor: pointer;\n",
              "      display: none;\n",
              "      fill: #1967D2;\n",
              "      height: 32px;\n",
              "      padding: 0 0 0 0;\n",
              "      width: 32px;\n",
              "    }\n",
              "\n",
              "    .colab-df-convert:hover {\n",
              "      background-color: #E2EBFA;\n",
              "      box-shadow: 0px 1px 2px rgba(60, 64, 67, 0.3), 0px 1px 3px 1px rgba(60, 64, 67, 0.15);\n",
              "      fill: #174EA6;\n",
              "    }\n",
              "\n",
              "    [theme=dark] .colab-df-convert {\n",
              "      background-color: #3B4455;\n",
              "      fill: #D2E3FC;\n",
              "    }\n",
              "\n",
              "    [theme=dark] .colab-df-convert:hover {\n",
              "      background-color: #434B5C;\n",
              "      box-shadow: 0px 1px 3px 1px rgba(0, 0, 0, 0.15);\n",
              "      filter: drop-shadow(0px 1px 2px rgba(0, 0, 0, 0.3));\n",
              "      fill: #FFFFFF;\n",
              "    }\n",
              "  </style>\n",
              "\n",
              "      <script>\n",
              "        const buttonEl =\n",
              "          document.querySelector('#df-49a8b865-2b07-42fa-9be2-9491bf38bbff button.colab-df-convert');\n",
              "        buttonEl.style.display =\n",
              "          google.colab.kernel.accessAllowed ? 'block' : 'none';\n",
              "\n",
              "        async function convertToInteractive(key) {\n",
              "          const element = document.querySelector('#df-49a8b865-2b07-42fa-9be2-9491bf38bbff');\n",
              "          const dataTable =\n",
              "            await google.colab.kernel.invokeFunction('convertToInteractive',\n",
              "                                                     [key], {});\n",
              "          if (!dataTable) return;\n",
              "\n",
              "          const docLinkHtml = 'Like what you see? Visit the ' +\n",
              "            '<a target=\"_blank\" href=https://colab.research.google.com/notebooks/data_table.ipynb>data table notebook</a>'\n",
              "            + ' to learn more about interactive tables.';\n",
              "          element.innerHTML = '';\n",
              "          dataTable['output_type'] = 'display_data';\n",
              "          await google.colab.output.renderOutput(dataTable, element);\n",
              "          const docLink = document.createElement('div');\n",
              "          docLink.innerHTML = docLinkHtml;\n",
              "          element.appendChild(docLink);\n",
              "        }\n",
              "      </script>\n",
              "    </div>\n",
              "  </div>\n",
              "  "
            ]
          },
          "metadata": {},
          "execution_count": 19
        }
      ]
    },
    {
      "cell_type": "code",
      "source": [
        "print(6160+1918+1832)"
      ],
      "metadata": {
        "colab": {
          "base_uri": "https://localhost:8080/"
        },
        "id": "WHm0R0muAW-W",
        "outputId": "142008f8-66fb-4cdf-ed4d-ff5c8f326338"
      },
      "execution_count": 20,
      "outputs": [
        {
          "output_type": "stream",
          "name": "stdout",
          "text": [
            "9910\n"
          ]
        }
      ]
    },
    {
      "cell_type": "markdown",
      "source": [
        "담배를 피지 않는 사람들 중에서 당뇨인 사람 수가 담배를 피는 사람 중에서 당뇨인 사람 수보다 많음 -> **담배를 피지 않는 사람이 많기 때문  **\n",
        "=> NotNow와 Yes를 한 범주로 묶고, 샘플링을 통해 흡연상태 중에서 가장 작은 수(NotNow + Yes)와 크기를 맞춰 샘플링한 후 다시 당뇨로 의심되는 사람 수를 비교해본다(적은 수에 맞춰도 충분히 큰 수라고 판단)"
      ],
      "metadata": {
        "id": "81VvIJLh0nQq"
      }
    },
    {
      "cell_type": "markdown",
      "source": [
        "### 흡연 여부를 새로운 범주형데이터로 변경\n",
        "흡연했다가 끊은 경우도 흡연으로 포함하여 함께 계산한다(끊었다고 하더라도 이미 흡연을 했기 때문)"
      ],
      "metadata": {
        "id": "GOJz6TTC7H-c"
      }
    },
    {
      "cell_type": "code",
      "source": [
        "#흡연상태에 NA값이 존재\n",
        "data_dropNA_smoke = data_dropNA.dropna(subset = ['흡연상태'], axis=0)\n",
        "print(\"결측행 모두 제거: \", data_dropNA_smoke.shape)    # 결측치 행이 모두 없어져 9910이 되었는지 확인"
      ],
      "metadata": {
        "colab": {
          "base_uri": "https://localhost:8080/"
        },
        "id": "jsSHt4_j_oFq",
        "outputId": "425395f8-c9b6-4663-b384-a98049b96edf"
      },
      "execution_count": 21,
      "outputs": [
        {
          "output_type": "stream",
          "name": "stdout",
          "text": [
            "결측행 모두 제거:  (9910, 32)\n"
          ]
        }
      ]
    },
    {
      "cell_type": "code",
      "source": [
        "data_dropNA_smoke['smoke'] = [0 if s ==  'No' else 1 for s in data_dropNA_smoke['흡연상태']] "
      ],
      "metadata": {
        "colab": {
          "base_uri": "https://localhost:8080/"
        },
        "id": "FFqvzZc57HaM",
        "outputId": "40137c88-7d8f-4072-c9dd-23bc074328ff"
      },
      "execution_count": 22,
      "outputs": [
        {
          "output_type": "stream",
          "name": "stderr",
          "text": [
            "/usr/local/lib/python3.7/dist-packages/ipykernel_launcher.py:1: SettingWithCopyWarning: \n",
            "A value is trying to be set on a copy of a slice from a DataFrame.\n",
            "Try using .loc[row_indexer,col_indexer] = value instead\n",
            "\n",
            "See the caveats in the documentation: https://pandas.pydata.org/pandas-docs/stable/user_guide/indexing.html#returning-a-view-versus-a-copy\n",
            "  \"\"\"Entry point for launching an IPython kernel.\n"
          ]
        }
      ]
    },
    {
      "cell_type": "code",
      "source": [
        "display(data_dropNA_smoke.info())\n",
        "print(data_dropNA_smoke['smoke'].value_counts())"
      ],
      "metadata": {
        "colab": {
          "base_uri": "https://localhost:8080/",
          "height": 816
        },
        "id": "646yKi1h_kpD",
        "outputId": "c7df418a-2a67-41eb-85a3-6e4b55596edf"
      },
      "execution_count": 23,
      "outputs": [
        {
          "output_type": "stream",
          "name": "stdout",
          "text": [
            "<class 'pandas.core.frame.DataFrame'>\n",
            "Int64Index: 9910 entries, 0 to 9999\n",
            "Data columns (total 33 columns):\n",
            " #   Column       Non-Null Count  Dtype  \n",
            "---  ------       --------------  -----  \n",
            " 0   기준년도         9910 non-null   int64  \n",
            " 1   가입자일련번호      9910 non-null   int64  \n",
            " 2   시도코드         9910 non-null   int64  \n",
            " 3   성별코드         9910 non-null   object \n",
            " 4   연령대코드(5세단위)  9910 non-null   int64  \n",
            " 5   신장(5Cm단위)    9910 non-null   int64  \n",
            " 6   체중(5Kg 단위)   9910 non-null   int64  \n",
            " 7   허리둘레         9910 non-null   float64\n",
            " 8   시력(좌)        9910 non-null   float64\n",
            " 9   시력(우)        9910 non-null   float64\n",
            " 10  청력(좌)        9910 non-null   int64  \n",
            " 11  청력(우)        9910 non-null   int64  \n",
            " 12  수축기혈압        9910 non-null   float64\n",
            " 13  이완기혈압        9910 non-null   float64\n",
            " 14  식전혈당(공복혈당)   9910 non-null   float64\n",
            " 15  총콜레스테롤       4044 non-null   float64\n",
            " 16  트리글리세라이드     4044 non-null   float64\n",
            " 17  HDL콜레스테롤     4044 non-null   float64\n",
            " 18  LDL콜레스테롤     3977 non-null   float64\n",
            " 19  혈색소          9910 non-null   float64\n",
            " 20  요단백          9859 non-null   float64\n",
            " 21  혈청크레아티닌      9910 non-null   float64\n",
            " 22  (혈청지오티)AST   9910 non-null   float64\n",
            " 23  (혈청지오티)ALT   9910 non-null   float64\n",
            " 24  감마지티피        9910 non-null   float64\n",
            " 25  흡연상태         9910 non-null   object \n",
            " 26  음주여부         9909 non-null   object \n",
            " 27  구강검진수검여부     9910 non-null   int64  \n",
            " 28  치아우식증유무      3251 non-null   float64\n",
            " 29  치석           3251 non-null   float64\n",
            " 30  데이터공개일자      9910 non-null   object \n",
            " 31  diabetes     9910 non-null   int64  \n",
            " 32  smoke        9910 non-null   int64  \n",
            "dtypes: float64(18), int64(11), object(4)\n",
            "memory usage: 2.6+ MB\n"
          ]
        },
        {
          "output_type": "display_data",
          "data": {
            "text/plain": [
              "None"
            ]
          },
          "metadata": {}
        },
        {
          "output_type": "stream",
          "name": "stdout",
          "text": [
            "0    6160\n",
            "1    3750\n",
            "Name: smoke, dtype: int64\n"
          ]
        }
      ]
    },
    {
      "cell_type": "code",
      "source": [
        "display(data_dropNA_smoke['smoke'], data_dropNA_smoke['흡연상태'])\n",
        "#9999번째 행의 값만 NotNow이기 때문에 1로 나와야 하고 나머지는 No이기 때문에 0으로 나와야 하는데 옳은 결과가 출력됨"
      ],
      "metadata": {
        "colab": {
          "base_uri": "https://localhost:8080/",
          "height": 453
        },
        "id": "q3w9dfRM8ePT",
        "outputId": "d0ed8f18-fafd-4380-9526-c2bd0f1dafc4"
      },
      "execution_count": 24,
      "outputs": [
        {
          "output_type": "display_data",
          "data": {
            "text/plain": [
              "0       0\n",
              "1       0\n",
              "2       0\n",
              "3       0\n",
              "4       0\n",
              "       ..\n",
              "9995    0\n",
              "9996    0\n",
              "9997    0\n",
              "9998    0\n",
              "9999    1\n",
              "Name: smoke, Length: 9910, dtype: int64"
            ]
          },
          "metadata": {}
        },
        {
          "output_type": "display_data",
          "data": {
            "text/plain": [
              "0           No\n",
              "1           No\n",
              "2           No\n",
              "3           No\n",
              "4           No\n",
              "         ...  \n",
              "9995        No\n",
              "9996        No\n",
              "9997        No\n",
              "9998        No\n",
              "9999    NotNow\n",
              "Name: 흡연상태, Length: 9910, dtype: object"
            ]
          },
          "metadata": {}
        }
      ]
    },
    {
      "cell_type": "markdown",
      "source": [
        "### 샘플링"
      ],
      "metadata": {
        "id": "LF3b6t6UGyMJ"
      }
    },
    {
      "cell_type": "code",
      "source": [
        "from imblearn.under_sampling import RandomUnderSampler\n",
        "\n",
        "\n",
        "y = data_dropNA_smoke['smoke']\n",
        "X = data_dropNA_smoke#.drop('smoke', axis =1) #axis = 0이면 행, axis = 1이면 열\n",
        "display(X.columns)\n",
        "\n",
        "Under= RandomUnderSampler(random_state=0)\n",
        "X_under, y_under = Under.fit_resample(X, y)\n",
        "print(y_under.value_counts(()))\n"
      ],
      "metadata": {
        "colab": {
          "base_uri": "https://localhost:8080/",
          "height": 180
        },
        "id": "64E_NYsy3NqO",
        "outputId": "cf65aa17-095b-4cea-a592-595c1778f658"
      },
      "execution_count": 25,
      "outputs": [
        {
          "output_type": "display_data",
          "data": {
            "text/plain": [
              "Index(['기준년도', '가입자일련번호', '시도코드', '성별코드', '연령대코드(5세단위)', '신장(5Cm단위)',\n",
              "       '체중(5Kg 단위)', '허리둘레', '시력(좌)', '시력(우)', '청력(좌)', '청력(우)', '수축기혈압',\n",
              "       '이완기혈압', '식전혈당(공복혈당)', '총콜레스테롤', '트리글리세라이드', 'HDL콜레스테롤', 'LDL콜레스테롤',\n",
              "       '혈색소', '요단백', '혈청크레아티닌', '(혈청지오티)AST', '(혈청지오티)ALT', '감마지티피', '흡연상태',\n",
              "       '음주여부', '구강검진수검여부', '치아우식증유무', '치석', '데이터공개일자', 'diabetes', 'smoke'],\n",
              "      dtype='object')"
            ]
          },
          "metadata": {}
        },
        {
          "output_type": "stream",
          "name": "stdout",
          "text": [
            "0    3750\n",
            "1    3750\n",
            "Name: smoke, dtype: int64\n"
          ]
        }
      ]
    },
    {
      "cell_type": "code",
      "source": [
        "print(1918 + 1832)"
      ],
      "metadata": {
        "colab": {
          "base_uri": "https://localhost:8080/"
        },
        "id": "AUgMDDBu8vU_",
        "outputId": "af039714-0a69-4321-ab94-c5b5b1c07f10"
      },
      "execution_count": 26,
      "outputs": [
        {
          "output_type": "stream",
          "name": "stdout",
          "text": [
            "3750\n"
          ]
        }
      ]
    },
    {
      "cell_type": "markdown",
      "source": [
        "NotNow와 Yes의 합인 3750과 샘플링한 결과의 수가 같게 나옴  \n",
        "X_under에는 smoke가 1인 것 3750개와 0인 것 3750개가 존재 -> 동일한 수로 샘플링이 됨"
      ],
      "metadata": {
        "id": "x5G3u0aDCf8H"
      }
    },
    {
      "cell_type": "code",
      "source": [
        "print(y_under)"
      ],
      "metadata": {
        "colab": {
          "base_uri": "https://localhost:8080/"
        },
        "id": "cAVnKDauFvfY",
        "outputId": "4fbde09f-90c0-4839-a1ff-1d2da213450e"
      },
      "execution_count": 27,
      "outputs": [
        {
          "output_type": "stream",
          "name": "stdout",
          "text": [
            "0       0\n",
            "1       0\n",
            "2       0\n",
            "3       0\n",
            "4       0\n",
            "       ..\n",
            "7495    1\n",
            "7496    1\n",
            "7497    1\n",
            "7498    1\n",
            "7499    1\n",
            "Name: smoke, Length: 7500, dtype: int64\n"
          ]
        }
      ]
    },
    {
      "cell_type": "code",
      "source": [
        "print(X_under.groupby('smoke' , as_index = False).agg(count = ('smoke', 'count')))"
      ],
      "metadata": {
        "colab": {
          "base_uri": "https://localhost:8080/"
        },
        "id": "NkIOYrdmGHLc",
        "outputId": "2b86431e-8adc-47d6-be00-f94113252ecf"
      },
      "execution_count": 28,
      "outputs": [
        {
          "output_type": "stream",
          "name": "stdout",
          "text": [
            "   smoke  count\n",
            "0      0   3750\n",
            "1      1   3750\n"
          ]
        }
      ]
    },
    {
      "cell_type": "code",
      "source": [
        "print(X_under.groupby('smoke' , as_index = False).agg( count = ('diabetes', 'sum')))"
      ],
      "metadata": {
        "colab": {
          "base_uri": "https://localhost:8080/"
        },
        "id": "lIXPI3o69CWK",
        "outputId": "428a45e1-a907-4007-fe19-60f433928e69"
      },
      "execution_count": 29,
      "outputs": [
        {
          "output_type": "stream",
          "name": "stdout",
          "text": [
            "   smoke  count\n",
            "0      0    327\n",
            "1      1    492\n"
          ]
        }
      ]
    },
    {
      "cell_type": "code",
      "source": [
        "#막대 그래프 그리기\n",
        "df_smoke = X_under.groupby('smoke' , as_index = False).agg( count = ('diabetes', 'sum'))\n",
        "df_smoke\n",
        "sns.barplot(data = df_smoke, x = 'smoke', y = 'count')"
      ],
      "metadata": {
        "colab": {
          "base_uri": "https://localhost:8080/",
          "height": 297
        },
        "id": "lbp5ZV1jFEj1",
        "outputId": "453847db-7e15-419b-d749-8fc4cc8fba2e"
      },
      "execution_count": 30,
      "outputs": [
        {
          "output_type": "execute_result",
          "data": {
            "text/plain": [
              "<matplotlib.axes._subplots.AxesSubplot at 0x7fd2cfe4e2d0>"
            ]
          },
          "metadata": {},
          "execution_count": 30
        },
        {
          "output_type": "display_data",
          "data": {
            "text/plain": [
              "<Figure size 432x288 with 1 Axes>"
            ],
            "image/png": "[encoded data removed]"
          },
          "metadata": {
            "needs_background": "light"
          }
        }
      ]
    },
    {
      "cell_type": "markdown",
      "source": [
        "흡연 경험이 있는 경우, 그렇지 않은 경우보다 당뇨병 환자로 의심되는 사람 수가 약 1.5배 많다.  \n",
        "즉, **흡연 경험이 있는 경우 당뇨병에 걸릴 가능성이 그렇지 않은 경우보다 약 1.5배 높다고 볼 수 있다**"
      ],
      "metadata": {
        "id": "703NtZYgHHeq"
      }
    },
    {
      "cell_type": "markdown",
      "source": [
        "## 음주 여부에 따른 당뇨 환자 수 비교"
      ],
      "metadata": {
        "id": "cYTjPekSwMgI"
      }
    },
    {
      "cell_type": "code",
      "source": [
        "print(data_dropNA.info())  "
      ],
      "metadata": {
        "colab": {
          "base_uri": "https://localhost:8080/"
        },
        "id": "ghSFX7QRIZSg",
        "outputId": "2e0d6498-c974-42c2-d5e9-5646c707d7d6"
      },
      "execution_count": 31,
      "outputs": [
        {
          "output_type": "stream",
          "name": "stdout",
          "text": [
            "<class 'pandas.core.frame.DataFrame'>\n",
            "Int64Index: 9912 entries, 0 to 9999\n",
            "Data columns (total 32 columns):\n",
            " #   Column       Non-Null Count  Dtype  \n",
            "---  ------       --------------  -----  \n",
            " 0   기준년도         9912 non-null   int64  \n",
            " 1   가입자일련번호      9912 non-null   int64  \n",
            " 2   시도코드         9912 non-null   int64  \n",
            " 3   성별코드         9912 non-null   object \n",
            " 4   연령대코드(5세단위)  9912 non-null   int64  \n",
            " 5   신장(5Cm단위)    9912 non-null   int64  \n",
            " 6   체중(5Kg 단위)   9912 non-null   int64  \n",
            " 7   허리둘레         9912 non-null   float64\n",
            " 8   시력(좌)        9912 non-null   float64\n",
            " 9   시력(우)        9912 non-null   float64\n",
            " 10  청력(좌)        9912 non-null   int64  \n",
            " 11  청력(우)        9912 non-null   int64  \n",
            " 12  수축기혈압        9912 non-null   float64\n",
            " 13  이완기혈압        9912 non-null   float64\n",
            " 14  식전혈당(공복혈당)   9912 non-null   float64\n",
            " 15  총콜레스테롤       4044 non-null   float64\n",
            " 16  트리글리세라이드     4044 non-null   float64\n",
            " 17  HDL콜레스테롤     4044 non-null   float64\n",
            " 18  LDL콜레스테롤     3977 non-null   float64\n",
            " 19  혈색소          9912 non-null   float64\n",
            " 20  요단백          9861 non-null   float64\n",
            " 21  혈청크레아티닌      9912 non-null   float64\n",
            " 22  (혈청지오티)AST   9912 non-null   float64\n",
            " 23  (혈청지오티)ALT   9912 non-null   float64\n",
            " 24  감마지티피        9912 non-null   float64\n",
            " 25  흡연상태         9910 non-null   object \n",
            " 26  음주여부         9911 non-null   object \n",
            " 27  구강검진수검여부     9912 non-null   int64  \n",
            " 28  치아우식증유무      3251 non-null   float64\n",
            " 29  치석           3251 non-null   float64\n",
            " 30  데이터공개일자      9912 non-null   object \n",
            " 31  diabetes     9912 non-null   int64  \n",
            "dtypes: float64(18), int64(10), object(4)\n",
            "memory usage: 2.5+ MB\n",
            "None\n"
          ]
        }
      ]
    },
    {
      "cell_type": "code",
      "source": [
        "#음주여부에 NA값이 존재\n",
        "data_dropNA_drink = data_dropNA.dropna(subset = ['음주여부'], axis=0)\n",
        "print(\"결측행 모두 제거: \", data_dropNA_drink.shape)    # 결측치 행이 모두 없어져 9910이 되었는지 확인"
      ],
      "metadata": {
        "colab": {
          "base_uri": "https://localhost:8080/"
        },
        "id": "vS4wZKANH_po",
        "outputId": "dbb508ee-9bfb-44f9-81cd-f59e40eb3f2c"
      },
      "execution_count": 32,
      "outputs": [
        {
          "output_type": "stream",
          "name": "stdout",
          "text": [
            "결측행 모두 제거:  (9911, 32)\n"
          ]
        }
      ]
    },
    {
      "cell_type": "markdown",
      "source": [
        "음주하는 사람과 안하는 사람의 수를 세야 함"
      ],
      "metadata": {
        "id": "1R6XGBcEJGsB"
      }
    },
    {
      "cell_type": "code",
      "source": [
        "df_drink = data_dropNA_drink.groupby('음주여부' , as_index = False).agg( count = ('diabetes', 'count'))\n",
        "df_drink"
      ],
      "metadata": {
        "colab": {
          "base_uri": "https://localhost:8080/",
          "height": 112
        },
        "id": "kMv6UtjfJGNt",
        "outputId": "bcb8aa2b-5e41-4921-a2a1-6e5843cee389"
      },
      "execution_count": 33,
      "outputs": [
        {
          "output_type": "execute_result",
          "data": {
            "text/plain": [
              "  음주여부  count\n",
              "0   No   4107\n",
              "1  Yes   5804"
            ],
            "text/html": [
              "\n",
              "  <div id=\"df-89b0e10d-7aab-43a8-9607-7b93c7e4de15\">\n",
              "    <div class=\"colab-df-container\">\n",
              "      <div>\n",
              "<style scoped>\n",
              "    .dataframe tbody tr th:only-of-type {\n",
              "        vertical-align: middle;\n",
              "    }\n",
              "\n",
              "    .dataframe tbody tr th {\n",
              "        vertical-align: top;\n",
              "    }\n",
              "\n",
              "    .dataframe thead th {\n",
              "        text-align: right;\n",
              "    }\n",
              "</style>\n",
              "<table border=\"1\" class=\"dataframe\">\n",
              "  <thead>\n",
              "    <tr style=\"text-align: right;\">\n",
              "      <th></th>\n",
              "      <th>음주여부</th>\n",
              "      <th>count</th>\n",
              "    </tr>\n",
              "  </thead>\n",
              "  <tbody>\n",
              "    <tr>\n",
              "      <th>0</th>\n",
              "      <td>No</td>\n",
              "      <td>4107</td>\n",
              "    </tr>\n",
              "    <tr>\n",
              "      <th>1</th>\n",
              "      <td>Yes</td>\n",
              "      <td>5804</td>\n",
              "    </tr>\n",
              "  </tbody>\n",
              "</table>\n",
              "</div>\n",
              "      <button class=\"colab-df-convert\" onclick=\"convertToInteractive('df-89b0e10d-7aab-43a8-9607-7b93c7e4de15')\"\n",
              "              title=\"Convert this dataframe to an interactive table.\"\n",
              "              style=\"display:none;\">\n",
              "        \n",
              "  <svg xmlns=\"http://www.w3.org/2000/svg\" height=\"24px\"viewBox=\"0 0 24 24\"\n",
              "       width=\"24px\">\n",
              "    <path d=\"M0 0h24v24H0V0z\" fill=\"none\"/>\n",
              "    <path d=\"M18.56 5.44l.94 2.06.94-2.06 2.06-.94-2.06-.94-.94-2.06-.94 2.06-2.06.94zm-11 1L8.5 8.5l.94-2.06 2.06-.94-2.06-.94L8.5 2.5l-.94 2.06-2.06.94zm10 10l.94 2.06.94-2.06 2.06-.94-2.06-.94-.94-2.06-.94 2.06-2.06.94z\"/><path d=\"M17.41 7.96l-1.37-1.37c-.4-.4-.92-.59-1.43-.59-.52 0-1.04.2-1.43.59L10.3 9.45l-7.72 7.72c-.78.78-.78 2.05 0 2.83L4 21.41c.39.39.9.59 1.41.59.51 0 1.02-.2 1.41-.59l7.78-7.78 2.81-2.81c.8-.78.8-2.07 0-2.86zM5.41 20L4 18.59l7.72-7.72 1.47 1.35L5.41 20z\"/>\n",
              "  </svg>\n",
              "      </button>\n",
              "      \n",
              "  <style>\n",
              "    .colab-df-container {\n",
              "      display:flex;\n",
              "      flex-wrap:wrap;\n",
              "      gap: 12px;\n",
              "    }\n",
              "\n",
              "    .colab-df-convert {\n",
              "      background-color: #E8F0FE;\n",
              "      border: none;\n",
              "      border-radius: 50%;\n",
              "      cursor: pointer;\n",
              "      display: none;\n",
              "      fill: #1967D2;\n",
              "      height: 32px;\n",
              "      padding: 0 0 0 0;\n",
              "      width: 32px;\n",
              "    }\n",
              "\n",
              "    .colab-df-convert:hover {\n",
              "      background-color: #E2EBFA;\n",
              "      box-shadow: 0px 1px 2px rgba(60, 64, 67, 0.3), 0px 1px 3px 1px rgba(60, 64, 67, 0.15);\n",
              "      fill: #174EA6;\n",
              "    }\n",
              "\n",
              "    [theme=dark] .colab-df-convert {\n",
              "      background-color: #3B4455;\n",
              "      fill: #D2E3FC;\n",
              "    }\n",
              "\n",
              "    [theme=dark] .colab-df-convert:hover {\n",
              "      background-color: #434B5C;\n",
              "      box-shadow: 0px 1px 3px 1px rgba(0, 0, 0, 0.15);\n",
              "      filter: drop-shadow(0px 1px 2px rgba(0, 0, 0, 0.3));\n",
              "      fill: #FFFFFF;\n",
              "    }\n",
              "  </style>\n",
              "\n",
              "      <script>\n",
              "        const buttonEl =\n",
              "          document.querySelector('#df-89b0e10d-7aab-43a8-9607-7b93c7e4de15 button.colab-df-convert');\n",
              "        buttonEl.style.display =\n",
              "          google.colab.kernel.accessAllowed ? 'block' : 'none';\n",
              "\n",
              "        async function convertToInteractive(key) {\n",
              "          const element = document.querySelector('#df-89b0e10d-7aab-43a8-9607-7b93c7e4de15');\n",
              "          const dataTable =\n",
              "            await google.colab.kernel.invokeFunction('convertToInteractive',\n",
              "                                                     [key], {});\n",
              "          if (!dataTable) return;\n",
              "\n",
              "          const docLinkHtml = 'Like what you see? Visit the ' +\n",
              "            '<a target=\"_blank\" href=https://colab.research.google.com/notebooks/data_table.ipynb>data table notebook</a>'\n",
              "            + ' to learn more about interactive tables.';\n",
              "          element.innerHTML = '';\n",
              "          dataTable['output_type'] = 'display_data';\n",
              "          await google.colab.output.renderOutput(dataTable, element);\n",
              "          const docLink = document.createElement('div');\n",
              "          docLink.innerHTML = docLinkHtml;\n",
              "          element.appendChild(docLink);\n",
              "        }\n",
              "      </script>\n",
              "    </div>\n",
              "  </div>\n",
              "  "
            ]
          },
          "metadata": {},
          "execution_count": 33
        }
      ]
    },
    {
      "cell_type": "code",
      "source": [
        "df_drink = data_dropNA_drink.groupby('음주여부' , as_index = False).agg( count = ('diabetes', 'sum'))\n",
        "df_drink"
      ],
      "metadata": {
        "colab": {
          "base_uri": "https://localhost:8080/",
          "height": 112
        },
        "id": "ezSAUVtuJpFt",
        "outputId": "9a91a1ee-bea0-4e3b-bbc2-7a8cea30ac91"
      },
      "execution_count": 34,
      "outputs": [
        {
          "output_type": "execute_result",
          "data": {
            "text/plain": [
              "  음주여부  count\n",
              "0   No    420\n",
              "1  Yes    587"
            ],
            "text/html": [
              "\n",
              "  <div id=\"df-89e28549-c9ff-4240-9a93-6b49d55afe46\">\n",
              "    <div class=\"colab-df-container\">\n",
              "      <div>\n",
              "<style scoped>\n",
              "    .dataframe tbody tr th:only-of-type {\n",
              "        vertical-align: middle;\n",
              "    }\n",
              "\n",
              "    .dataframe tbody tr th {\n",
              "        vertical-align: top;\n",
              "    }\n",
              "\n",
              "    .dataframe thead th {\n",
              "        text-align: right;\n",
              "    }\n",
              "</style>\n",
              "<table border=\"1\" class=\"dataframe\">\n",
              "  <thead>\n",
              "    <tr style=\"text-align: right;\">\n",
              "      <th></th>\n",
              "      <th>음주여부</th>\n",
              "      <th>count</th>\n",
              "    </tr>\n",
              "  </thead>\n",
              "  <tbody>\n",
              "    <tr>\n",
              "      <th>0</th>\n",
              "      <td>No</td>\n",
              "      <td>420</td>\n",
              "    </tr>\n",
              "    <tr>\n",
              "      <th>1</th>\n",
              "      <td>Yes</td>\n",
              "      <td>587</td>\n",
              "    </tr>\n",
              "  </tbody>\n",
              "</table>\n",
              "</div>\n",
              "      <button class=\"colab-df-convert\" onclick=\"convertToInteractive('df-89e28549-c9ff-4240-9a93-6b49d55afe46')\"\n",
              "              title=\"Convert this dataframe to an interactive table.\"\n",
              "              style=\"display:none;\">\n",
              "        \n",
              "  <svg xmlns=\"http://www.w3.org/2000/svg\" height=\"24px\"viewBox=\"0 0 24 24\"\n",
              "       width=\"24px\">\n",
              "    <path d=\"M0 0h24v24H0V0z\" fill=\"none\"/>\n",
              "    <path d=\"M18.56 5.44l.94 2.06.94-2.06 2.06-.94-2.06-.94-.94-2.06-.94 2.06-2.06.94zm-11 1L8.5 8.5l.94-2.06 2.06-.94-2.06-.94L8.5 2.5l-.94 2.06-2.06.94zm10 10l.94 2.06.94-2.06 2.06-.94-2.06-.94-.94-2.06-.94 2.06-2.06.94z\"/><path d=\"M17.41 7.96l-1.37-1.37c-.4-.4-.92-.59-1.43-.59-.52 0-1.04.2-1.43.59L10.3 9.45l-7.72 7.72c-.78.78-.78 2.05 0 2.83L4 21.41c.39.39.9.59 1.41.59.51 0 1.02-.2 1.41-.59l7.78-7.78 2.81-2.81c.8-.78.8-2.07 0-2.86zM5.41 20L4 18.59l7.72-7.72 1.47 1.35L5.41 20z\"/>\n",
              "  </svg>\n",
              "      </button>\n",
              "      \n",
              "  <style>\n",
              "    .colab-df-container {\n",
              "      display:flex;\n",
              "      flex-wrap:wrap;\n",
              "      gap: 12px;\n",
              "    }\n",
              "\n",
              "    .colab-df-convert {\n",
              "      background-color: #E8F0FE;\n",
              "      border: none;\n",
              "      border-radius: 50%;\n",
              "      cursor: pointer;\n",
              "      display: none;\n",
              "      fill: #1967D2;\n",
              "      height: 32px;\n",
              "      padding: 0 0 0 0;\n",
              "      width: 32px;\n",
              "    }\n",
              "\n",
              "    .colab-df-convert:hover {\n",
              "      background-color: #E2EBFA;\n",
              "      box-shadow: 0px 1px 2px rgba(60, 64, 67, 0.3), 0px 1px 3px 1px rgba(60, 64, 67, 0.15);\n",
              "      fill: #174EA6;\n",
              "    }\n",
              "\n",
              "    [theme=dark] .colab-df-convert {\n",
              "      background-color: #3B4455;\n",
              "      fill: #D2E3FC;\n",
              "    }\n",
              "\n",
              "    [theme=dark] .colab-df-convert:hover {\n",
              "      background-color: #434B5C;\n",
              "      box-shadow: 0px 1px 3px 1px rgba(0, 0, 0, 0.15);\n",
              "      filter: drop-shadow(0px 1px 2px rgba(0, 0, 0, 0.3));\n",
              "      fill: #FFFFFF;\n",
              "    }\n",
              "  </style>\n",
              "\n",
              "      <script>\n",
              "        const buttonEl =\n",
              "          document.querySelector('#df-89e28549-c9ff-4240-9a93-6b49d55afe46 button.colab-df-convert');\n",
              "        buttonEl.style.display =\n",
              "          google.colab.kernel.accessAllowed ? 'block' : 'none';\n",
              "\n",
              "        async function convertToInteractive(key) {\n",
              "          const element = document.querySelector('#df-89e28549-c9ff-4240-9a93-6b49d55afe46');\n",
              "          const dataTable =\n",
              "            await google.colab.kernel.invokeFunction('convertToInteractive',\n",
              "                                                     [key], {});\n",
              "          if (!dataTable) return;\n",
              "\n",
              "          const docLinkHtml = 'Like what you see? Visit the ' +\n",
              "            '<a target=\"_blank\" href=https://colab.research.google.com/notebooks/data_table.ipynb>data table notebook</a>'\n",
              "            + ' to learn more about interactive tables.';\n",
              "          element.innerHTML = '';\n",
              "          dataTable['output_type'] = 'display_data';\n",
              "          await google.colab.output.renderOutput(dataTable, element);\n",
              "          const docLink = document.createElement('div');\n",
              "          docLink.innerHTML = docLinkHtml;\n",
              "          element.appendChild(docLink);\n",
              "        }\n",
              "      </script>\n",
              "    </div>\n",
              "  </div>\n",
              "  "
            ]
          },
          "metadata": {},
          "execution_count": 34
        }
      ]
    },
    {
      "cell_type": "code",
      "source": [
        "#막대 그래프 그리기\n",
        "sns.barplot(data = df_drink, x = '음주여부', y = 'count')"
      ],
      "metadata": {
        "colab": {
          "base_uri": "https://localhost:8080/",
          "height": 297
        },
        "id": "g0vGTMh6Iwjz",
        "outputId": "7309778e-d8ce-4a38-925c-0595a0b85c74"
      },
      "execution_count": 35,
      "outputs": [
        {
          "output_type": "execute_result",
          "data": {
            "text/plain": [
              "<matplotlib.axes._subplots.AxesSubplot at 0x7fd2d0522610>"
            ]
          },
          "metadata": {},
          "execution_count": 35
        },
        {
          "output_type": "display_data",
          "data": {
            "text/plain": [
              "<Figure size 432x288 with 1 Axes>"
            ],
            "image/png": "[encoded data removed]"
          },
          "metadata": {
            "needs_background": "light"
          }
        }
      ]
    },
    {
      "cell_type": "markdown",
      "source": [
        "막대 그래프 상에서는 음주를 하는 경우에서 당뇨병 환자로 의심되는 사람 수가 더 많지만, 전체 인원 수와 비교해봤을 때 음주한 경우와 음주하지 않는 경우 모두 각각의 약 10%정도가 당뇨병 환자로 의심된다.  \n",
        "음주를 하는 경우에서 당뇨병 환자로 의심되는 사람 수가 더 많을 것으로 생각했는데, 예상한 것과 다를 것 같기 때문에 더 정확한 확인을 위해 수를 맞춰 샘플링을 해봐야 할 것같다."
      ],
      "metadata": {
        "id": "eKlw5e_zMYSQ"
      }
    },
    {
      "cell_type": "markdown",
      "source": [
        "### 샘플링\n",
        "음주 여부에서 작은 수에 따라 샘플링한 후 막대그래프를 그린다"
      ],
      "metadata": {
        "id": "KvMtb_M-JzF7"
      }
    },
    {
      "cell_type": "code",
      "source": [
        "data_dropNA_drink['drink'] = [0 if s ==  'No' else 1 for s in data_dropNA_drink['음주여부']] "
      ],
      "metadata": {
        "colab": {
          "base_uri": "https://localhost:8080/"
        },
        "id": "TYKO5pKkKN_f",
        "outputId": "93d228c7-daa5-4e40-85d7-fce0a61a26ed"
      },
      "execution_count": 36,
      "outputs": [
        {
          "output_type": "stream",
          "name": "stderr",
          "text": [
            "/usr/local/lib/python3.7/dist-packages/ipykernel_launcher.py:1: SettingWithCopyWarning: \n",
            "A value is trying to be set on a copy of a slice from a DataFrame.\n",
            "Try using .loc[row_indexer,col_indexer] = value instead\n",
            "\n",
            "See the caveats in the documentation: https://pandas.pydata.org/pandas-docs/stable/user_guide/indexing.html#returning-a-view-versus-a-copy\n",
            "  \"\"\"Entry point for launching an IPython kernel.\n"
          ]
        }
      ]
    },
    {
      "cell_type": "code",
      "source": [
        "display(data_dropNA_drink.info())\n",
        "print(data_dropNA_drink['drink'].value_counts())"
      ],
      "metadata": {
        "colab": {
          "base_uri": "https://localhost:8080/",
          "height": 816
        },
        "id": "VaqU3grOKN5U",
        "outputId": "3b791cfd-3059-4995-a49b-0e8a6ef86bf9"
      },
      "execution_count": 37,
      "outputs": [
        {
          "output_type": "stream",
          "name": "stdout",
          "text": [
            "<class 'pandas.core.frame.DataFrame'>\n",
            "Int64Index: 9911 entries, 0 to 9999\n",
            "Data columns (total 33 columns):\n",
            " #   Column       Non-Null Count  Dtype  \n",
            "---  ------       --------------  -----  \n",
            " 0   기준년도         9911 non-null   int64  \n",
            " 1   가입자일련번호      9911 non-null   int64  \n",
            " 2   시도코드         9911 non-null   int64  \n",
            " 3   성별코드         9911 non-null   object \n",
            " 4   연령대코드(5세단위)  9911 non-null   int64  \n",
            " 5   신장(5Cm단위)    9911 non-null   int64  \n",
            " 6   체중(5Kg 단위)   9911 non-null   int64  \n",
            " 7   허리둘레         9911 non-null   float64\n",
            " 8   시력(좌)        9911 non-null   float64\n",
            " 9   시력(우)        9911 non-null   float64\n",
            " 10  청력(좌)        9911 non-null   int64  \n",
            " 11  청력(우)        9911 non-null   int64  \n",
            " 12  수축기혈압        9911 non-null   float64\n",
            " 13  이완기혈압        9911 non-null   float64\n",
            " 14  식전혈당(공복혈당)   9911 non-null   float64\n",
            " 15  총콜레스테롤       4043 non-null   float64\n",
            " 16  트리글리세라이드     4043 non-null   float64\n",
            " 17  HDL콜레스테롤     4043 non-null   float64\n",
            " 18  LDL콜레스테롤     3976 non-null   float64\n",
            " 19  혈색소          9911 non-null   float64\n",
            " 20  요단백          9860 non-null   float64\n",
            " 21  혈청크레아티닌      9911 non-null   float64\n",
            " 22  (혈청지오티)AST   9911 non-null   float64\n",
            " 23  (혈청지오티)ALT   9911 non-null   float64\n",
            " 24  감마지티피        9911 non-null   float64\n",
            " 25  흡연상태         9909 non-null   object \n",
            " 26  음주여부         9911 non-null   object \n",
            " 27  구강검진수검여부     9911 non-null   int64  \n",
            " 28  치아우식증유무      3251 non-null   float64\n",
            " 29  치석           3251 non-null   float64\n",
            " 30  데이터공개일자      9911 non-null   object \n",
            " 31  diabetes     9911 non-null   int64  \n",
            " 32  drink        9911 non-null   int64  \n",
            "dtypes: float64(18), int64(11), object(4)\n",
            "memory usage: 2.6+ MB\n"
          ]
        },
        {
          "output_type": "display_data",
          "data": {
            "text/plain": [
              "None"
            ]
          },
          "metadata": {}
        },
        {
          "output_type": "stream",
          "name": "stdout",
          "text": [
            "1    5804\n",
            "0    4107\n",
            "Name: drink, dtype: int64\n"
          ]
        }
      ]
    },
    {
      "cell_type": "code",
      "source": [
        "display(data_dropNA_drink['drink'], data_dropNA_drink['음주여부'])\n",
        "#9995, 9996, 9999만 Yes이기 때문에 1로 표시되고, 나머지는 0으로 표시되어야 하고, 원하는 것과 같이 출력되었다"
      ],
      "metadata": {
        "colab": {
          "base_uri": "https://localhost:8080/",
          "height": 453
        },
        "id": "hlV58gBMKX_A",
        "outputId": "335992d3-5a3d-4e9b-e833-4ea068c1748e"
      },
      "execution_count": 38,
      "outputs": [
        {
          "output_type": "display_data",
          "data": {
            "text/plain": [
              "0       0\n",
              "1       0\n",
              "2       0\n",
              "3       0\n",
              "4       0\n",
              "       ..\n",
              "9995    1\n",
              "9996    1\n",
              "9997    0\n",
              "9998    0\n",
              "9999    1\n",
              "Name: drink, Length: 9911, dtype: int64"
            ]
          },
          "metadata": {}
        },
        {
          "output_type": "display_data",
          "data": {
            "text/plain": [
              "0        No\n",
              "1        No\n",
              "2        No\n",
              "3        No\n",
              "4        No\n",
              "       ... \n",
              "9995    Yes\n",
              "9996    Yes\n",
              "9997     No\n",
              "9998     No\n",
              "9999    Yes\n",
              "Name: 음주여부, Length: 9911, dtype: object"
            ]
          },
          "metadata": {}
        }
      ]
    },
    {
      "cell_type": "code",
      "source": [
        "y = data_dropNA_drink['음주여부']\n",
        "X = data_dropNA_drink #axis = 0이면 행, axis = 1이면 열\n",
        "display(X.columns)\n",
        "\n",
        "Under= RandomUnderSampler(random_state=0)\n",
        "X_under, y_under = Under.fit_resample(X, y)\n",
        "print(y_under.value_counts(()))\n"
      ],
      "metadata": {
        "colab": {
          "base_uri": "https://localhost:8080/",
          "height": 180
        },
        "id": "LGT9HXLeJ4wk",
        "outputId": "f99dc4b3-b46a-4854-a4a1-9c8b152e5d1d"
      },
      "execution_count": 39,
      "outputs": [
        {
          "output_type": "display_data",
          "data": {
            "text/plain": [
              "Index(['기준년도', '가입자일련번호', '시도코드', '성별코드', '연령대코드(5세단위)', '신장(5Cm단위)',\n",
              "       '체중(5Kg 단위)', '허리둘레', '시력(좌)', '시력(우)', '청력(좌)', '청력(우)', '수축기혈압',\n",
              "       '이완기혈압', '식전혈당(공복혈당)', '총콜레스테롤', '트리글리세라이드', 'HDL콜레스테롤', 'LDL콜레스테롤',\n",
              "       '혈색소', '요단백', '혈청크레아티닌', '(혈청지오티)AST', '(혈청지오티)ALT', '감마지티피', '흡연상태',\n",
              "       '음주여부', '구강검진수검여부', '치아우식증유무', '치석', '데이터공개일자', 'diabetes', 'drink'],\n",
              "      dtype='object')"
            ]
          },
          "metadata": {}
        },
        {
          "output_type": "stream",
          "name": "stdout",
          "text": [
            "No     4107\n",
            "Yes    4107\n",
            "Name: 음주여부, dtype: int64\n"
          ]
        }
      ]
    },
    {
      "cell_type": "code",
      "source": [
        "print(X_under.groupby('drink' , as_index = False).agg(count = ('drink', 'count')))"
      ],
      "metadata": {
        "colab": {
          "base_uri": "https://localhost:8080/"
        },
        "id": "gMBEr3VKLYZM",
        "outputId": "82daf18a-279c-488f-df51-4cd6709c5670"
      },
      "execution_count": 40,
      "outputs": [
        {
          "output_type": "stream",
          "name": "stdout",
          "text": [
            "   drink  count\n",
            "0      0   4107\n",
            "1      1   4107\n"
          ]
        }
      ]
    },
    {
      "cell_type": "code",
      "source": [
        "print(X_under.groupby('drink' , as_index = False).agg( count = ('diabetes', 'sum')))"
      ],
      "metadata": {
        "colab": {
          "base_uri": "https://localhost:8080/"
        },
        "id": "2of7Rx2RLiew",
        "outputId": "f3b9e4f5-4937-49ae-fe6d-dc845f1c09fb"
      },
      "execution_count": 41,
      "outputs": [
        {
          "output_type": "stream",
          "name": "stdout",
          "text": [
            "   drink  count\n",
            "0      0    420\n",
            "1      1    416\n"
          ]
        }
      ]
    },
    {
      "cell_type": "code",
      "source": [
        "#막대 그래프 그리기\n",
        "df_drink = X_under.groupby('drink' , as_index = False).agg( count = ('diabetes', 'sum'))\n",
        "df_drink"
      ],
      "metadata": {
        "colab": {
          "base_uri": "https://localhost:8080/",
          "height": 112
        },
        "id": "8DdUtTO3Lmae",
        "outputId": "5f58ffec-7036-491d-c29f-ee58542c2390"
      },
      "execution_count": 42,
      "outputs": [
        {
          "output_type": "execute_result",
          "data": {
            "text/plain": [
              "   drink  count\n",
              "0      0    420\n",
              "1      1    416"
            ],
            "text/html": [
              "\n",
              "  <div id=\"df-fda74225-e820-4309-ad7b-530b406af2e6\">\n",
              "    <div class=\"colab-df-container\">\n",
              "      <div>\n",
              "<style scoped>\n",
              "    .dataframe tbody tr th:only-of-type {\n",
              "        vertical-align: middle;\n",
              "    }\n",
              "\n",
              "    .dataframe tbody tr th {\n",
              "        vertical-align: top;\n",
              "    }\n",
              "\n",
              "    .dataframe thead th {\n",
              "        text-align: right;\n",
              "    }\n",
              "</style>\n",
              "<table border=\"1\" class=\"dataframe\">\n",
              "  <thead>\n",
              "    <tr style=\"text-align: right;\">\n",
              "      <th></th>\n",
              "      <th>drink</th>\n",
              "      <th>count</th>\n",
              "    </tr>\n",
              "  </thead>\n",
              "  <tbody>\n",
              "    <tr>\n",
              "      <th>0</th>\n",
              "      <td>0</td>\n",
              "      <td>420</td>\n",
              "    </tr>\n",
              "    <tr>\n",
              "      <th>1</th>\n",
              "      <td>1</td>\n",
              "      <td>416</td>\n",
              "    </tr>\n",
              "  </tbody>\n",
              "</table>\n",
              "</div>\n",
              "      <button class=\"colab-df-convert\" onclick=\"convertToInteractive('df-fda74225-e820-4309-ad7b-530b406af2e6')\"\n",
              "              title=\"Convert this dataframe to an interactive table.\"\n",
              "              style=\"display:none;\">\n",
              "        \n",
              "  <svg xmlns=\"http://www.w3.org/2000/svg\" height=\"24px\"viewBox=\"0 0 24 24\"\n",
              "       width=\"24px\">\n",
              "    <path d=\"M0 0h24v24H0V0z\" fill=\"none\"/>\n",
              "    <path d=\"M18.56 5.44l.94 2.06.94-2.06 2.06-.94-2.06-.94-.94-2.06-.94 2.06-2.06.94zm-11 1L8.5 8.5l.94-2.06 2.06-.94-2.06-.94L8.5 2.5l-.94 2.06-2.06.94zm10 10l.94 2.06.94-2.06 2.06-.94-2.06-.94-.94-2.06-.94 2.06-2.06.94z\"/><path d=\"M17.41 7.96l-1.37-1.37c-.4-.4-.92-.59-1.43-.59-.52 0-1.04.2-1.43.59L10.3 9.45l-7.72 7.72c-.78.78-.78 2.05 0 2.83L4 21.41c.39.39.9.59 1.41.59.51 0 1.02-.2 1.41-.59l7.78-7.78 2.81-2.81c.8-.78.8-2.07 0-2.86zM5.41 20L4 18.59l7.72-7.72 1.47 1.35L5.41 20z\"/>\n",
              "  </svg>\n",
              "      </button>\n",
              "      \n",
              "  <style>\n",
              "    .colab-df-container {\n",
              "      display:flex;\n",
              "      flex-wrap:wrap;\n",
              "      gap: 12px;\n",
              "    }\n",
              "\n",
              "    .colab-df-convert {\n",
              "      background-color: #E8F0FE;\n",
              "      border: none;\n",
              "      border-radius: 50%;\n",
              "      cursor: pointer;\n",
              "      display: none;\n",
              "      fill: #1967D2;\n",
              "      height: 32px;\n",
              "      padding: 0 0 0 0;\n",
              "      width: 32px;\n",
              "    }\n",
              "\n",
              "    .colab-df-convert:hover {\n",
              "      background-color: #E2EBFA;\n",
              "      box-shadow: 0px 1px 2px rgba(60, 64, 67, 0.3), 0px 1px 3px 1px rgba(60, 64, 67, 0.15);\n",
              "      fill: #174EA6;\n",
              "    }\n",
              "\n",
              "    [theme=dark] .colab-df-convert {\n",
              "      background-color: #3B4455;\n",
              "      fill: #D2E3FC;\n",
              "    }\n",
              "\n",
              "    [theme=dark] .colab-df-convert:hover {\n",
              "      background-color: #434B5C;\n",
              "      box-shadow: 0px 1px 3px 1px rgba(0, 0, 0, 0.15);\n",
              "      filter: drop-shadow(0px 1px 2px rgba(0, 0, 0, 0.3));\n",
              "      fill: #FFFFFF;\n",
              "    }\n",
              "  </style>\n",
              "\n",
              "      <script>\n",
              "        const buttonEl =\n",
              "          document.querySelector('#df-fda74225-e820-4309-ad7b-530b406af2e6 button.colab-df-convert');\n",
              "        buttonEl.style.display =\n",
              "          google.colab.kernel.accessAllowed ? 'block' : 'none';\n",
              "\n",
              "        async function convertToInteractive(key) {\n",
              "          const element = document.querySelector('#df-fda74225-e820-4309-ad7b-530b406af2e6');\n",
              "          const dataTable =\n",
              "            await google.colab.kernel.invokeFunction('convertToInteractive',\n",
              "                                                     [key], {});\n",
              "          if (!dataTable) return;\n",
              "\n",
              "          const docLinkHtml = 'Like what you see? Visit the ' +\n",
              "            '<a target=\"_blank\" href=https://colab.research.google.com/notebooks/data_table.ipynb>data table notebook</a>'\n",
              "            + ' to learn more about interactive tables.';\n",
              "          element.innerHTML = '';\n",
              "          dataTable['output_type'] = 'display_data';\n",
              "          await google.colab.output.renderOutput(dataTable, element);\n",
              "          const docLink = document.createElement('div');\n",
              "          docLink.innerHTML = docLinkHtml;\n",
              "          element.appendChild(docLink);\n",
              "        }\n",
              "      </script>\n",
              "    </div>\n",
              "  </div>\n",
              "  "
            ]
          },
          "metadata": {},
          "execution_count": 42
        }
      ]
    },
    {
      "cell_type": "code",
      "source": [
        "sns.barplot(data = df_drink, x = 'drink', y = 'count')"
      ],
      "metadata": {
        "colab": {
          "base_uri": "https://localhost:8080/",
          "height": 297
        },
        "id": "9oAPQQusN0yI",
        "outputId": "c47df83a-aec9-4187-a58a-d808902e360a"
      },
      "execution_count": 43,
      "outputs": [
        {
          "output_type": "execute_result",
          "data": {
            "text/plain": [
              "<matplotlib.axes._subplots.AxesSubplot at 0x7fd2cdfe5490>"
            ]
          },
          "metadata": {},
          "execution_count": 43
        },
        {
          "output_type": "display_data",
          "data": {
            "text/plain": [
              "<Figure size 432x288 with 1 Axes>"
            ],
            "image/png": "[encoded data removed]"
          },
          "metadata": {
            "needs_background": "light"
          }
        }
      ]
    },
    {
      "cell_type": "markdown",
      "source": [
        "샘플링 결과 음주하는 경우(1)과 음주하지 않는 경우(0)의 당뇨병 환자로 의심되는 사람의 수가 거의 비슷하다. 오히려 음주하지 않는 경우의 당뇨병 환자로 의심되는 사람 수가 아주 조금 더 많다."
      ],
      "metadata": {
        "id": "ltt0Tf5WN3bq"
      }
    },
    {
      "cell_type": "code",
      "source": [
        "y = data_dropNA_drink['음주여부']\n",
        "X = data_dropNA_drink #axis = 0이면 행, axis = 1이면 열\n",
        "display(X.columns)\n",
        "\n",
        "Under= RandomUnderSampler(random_state=1)\n",
        "X_under, y_under = Under.fit_resample(X, y)\n",
        "print(y_under.value_counts(()))"
      ],
      "metadata": {
        "colab": {
          "base_uri": "https://localhost:8080/",
          "height": 180
        },
        "id": "lYspGKZGOkGz",
        "outputId": "139f0e6b-bb8f-437a-e8ec-edb0506a79c3"
      },
      "execution_count": 44,
      "outputs": [
        {
          "output_type": "display_data",
          "data": {
            "text/plain": [
              "Index(['기준년도', '가입자일련번호', '시도코드', '성별코드', '연령대코드(5세단위)', '신장(5Cm단위)',\n",
              "       '체중(5Kg 단위)', '허리둘레', '시력(좌)', '시력(우)', '청력(좌)', '청력(우)', '수축기혈압',\n",
              "       '이완기혈압', '식전혈당(공복혈당)', '총콜레스테롤', '트리글리세라이드', 'HDL콜레스테롤', 'LDL콜레스테롤',\n",
              "       '혈색소', '요단백', '혈청크레아티닌', '(혈청지오티)AST', '(혈청지오티)ALT', '감마지티피', '흡연상태',\n",
              "       '음주여부', '구강검진수검여부', '치아우식증유무', '치석', '데이터공개일자', 'diabetes', 'drink'],\n",
              "      dtype='object')"
            ]
          },
          "metadata": {}
        },
        {
          "output_type": "stream",
          "name": "stdout",
          "text": [
            "No     4107\n",
            "Yes    4107\n",
            "Name: 음주여부, dtype: int64\n"
          ]
        }
      ]
    },
    {
      "cell_type": "code",
      "source": [
        "df_drink2 = X_under.groupby('drink' , as_index = False).agg( count = ('diabetes', 'sum'))\n",
        "df_drink2"
      ],
      "metadata": {
        "colab": {
          "base_uri": "https://localhost:8080/",
          "height": 112
        },
        "id": "HLN9PvnaOzUI",
        "outputId": "c3b918a5-9c51-4229-a74e-497ccfc7e9c8"
      },
      "execution_count": 45,
      "outputs": [
        {
          "output_type": "execute_result",
          "data": {
            "text/plain": [
              "   drink  count\n",
              "0      0    420\n",
              "1      1    425"
            ],
            "text/html": [
              "\n",
              "  <div id=\"df-0a5fdd02-e9b4-4051-92c3-185441884674\">\n",
              "    <div class=\"colab-df-container\">\n",
              "      <div>\n",
              "<style scoped>\n",
              "    .dataframe tbody tr th:only-of-type {\n",
              "        vertical-align: middle;\n",
              "    }\n",
              "\n",
              "    .dataframe tbody tr th {\n",
              "        vertical-align: top;\n",
              "    }\n",
              "\n",
              "    .dataframe thead th {\n",
              "        text-align: right;\n",
              "    }\n",
              "</style>\n",
              "<table border=\"1\" class=\"dataframe\">\n",
              "  <thead>\n",
              "    <tr style=\"text-align: right;\">\n",
              "      <th></th>\n",
              "      <th>drink</th>\n",
              "      <th>count</th>\n",
              "    </tr>\n",
              "  </thead>\n",
              "  <tbody>\n",
              "    <tr>\n",
              "      <th>0</th>\n",
              "      <td>0</td>\n",
              "      <td>420</td>\n",
              "    </tr>\n",
              "    <tr>\n",
              "      <th>1</th>\n",
              "      <td>1</td>\n",
              "      <td>425</td>\n",
              "    </tr>\n",
              "  </tbody>\n",
              "</table>\n",
              "</div>\n",
              "      <button class=\"colab-df-convert\" onclick=\"convertToInteractive('df-0a5fdd02-e9b4-4051-92c3-185441884674')\"\n",
              "              title=\"Convert this dataframe to an interactive table.\"\n",
              "              style=\"display:none;\">\n",
              "        \n",
              "  <svg xmlns=\"http://www.w3.org/2000/svg\" height=\"24px\"viewBox=\"0 0 24 24\"\n",
              "       width=\"24px\">\n",
              "    <path d=\"M0 0h24v24H0V0z\" fill=\"none\"/>\n",
              "    <path d=\"M18.56 5.44l.94 2.06.94-2.06 2.06-.94-2.06-.94-.94-2.06-.94 2.06-2.06.94zm-11 1L8.5 8.5l.94-2.06 2.06-.94-2.06-.94L8.5 2.5l-.94 2.06-2.06.94zm10 10l.94 2.06.94-2.06 2.06-.94-2.06-.94-.94-2.06-.94 2.06-2.06.94z\"/><path d=\"M17.41 7.96l-1.37-1.37c-.4-.4-.92-.59-1.43-.59-.52 0-1.04.2-1.43.59L10.3 9.45l-7.72 7.72c-.78.78-.78 2.05 0 2.83L4 21.41c.39.39.9.59 1.41.59.51 0 1.02-.2 1.41-.59l7.78-7.78 2.81-2.81c.8-.78.8-2.07 0-2.86zM5.41 20L4 18.59l7.72-7.72 1.47 1.35L5.41 20z\"/>\n",
              "  </svg>\n",
              "      </button>\n",
              "      \n",
              "  <style>\n",
              "    .colab-df-container {\n",
              "      display:flex;\n",
              "      flex-wrap:wrap;\n",
              "      gap: 12px;\n",
              "    }\n",
              "\n",
              "    .colab-df-convert {\n",
              "      background-color: #E8F0FE;\n",
              "      border: none;\n",
              "      border-radius: 50%;\n",
              "      cursor: pointer;\n",
              "      display: none;\n",
              "      fill: #1967D2;\n",
              "      height: 32px;\n",
              "      padding: 0 0 0 0;\n",
              "      width: 32px;\n",
              "    }\n",
              "\n",
              "    .colab-df-convert:hover {\n",
              "      background-color: #E2EBFA;\n",
              "      box-shadow: 0px 1px 2px rgba(60, 64, 67, 0.3), 0px 1px 3px 1px rgba(60, 64, 67, 0.15);\n",
              "      fill: #174EA6;\n",
              "    }\n",
              "\n",
              "    [theme=dark] .colab-df-convert {\n",
              "      background-color: #3B4455;\n",
              "      fill: #D2E3FC;\n",
              "    }\n",
              "\n",
              "    [theme=dark] .colab-df-convert:hover {\n",
              "      background-color: #434B5C;\n",
              "      box-shadow: 0px 1px 3px 1px rgba(0, 0, 0, 0.15);\n",
              "      filter: drop-shadow(0px 1px 2px rgba(0, 0, 0, 0.3));\n",
              "      fill: #FFFFFF;\n",
              "    }\n",
              "  </style>\n",
              "\n",
              "      <script>\n",
              "        const buttonEl =\n",
              "          document.querySelector('#df-0a5fdd02-e9b4-4051-92c3-185441884674 button.colab-df-convert');\n",
              "        buttonEl.style.display =\n",
              "          google.colab.kernel.accessAllowed ? 'block' : 'none';\n",
              "\n",
              "        async function convertToInteractive(key) {\n",
              "          const element = document.querySelector('#df-0a5fdd02-e9b4-4051-92c3-185441884674');\n",
              "          const dataTable =\n",
              "            await google.colab.kernel.invokeFunction('convertToInteractive',\n",
              "                                                     [key], {});\n",
              "          if (!dataTable) return;\n",
              "\n",
              "          const docLinkHtml = 'Like what you see? Visit the ' +\n",
              "            '<a target=\"_blank\" href=https://colab.research.google.com/notebooks/data_table.ipynb>data table notebook</a>'\n",
              "            + ' to learn more about interactive tables.';\n",
              "          element.innerHTML = '';\n",
              "          dataTable['output_type'] = 'display_data';\n",
              "          await google.colab.output.renderOutput(dataTable, element);\n",
              "          const docLink = document.createElement('div');\n",
              "          docLink.innerHTML = docLinkHtml;\n",
              "          element.appendChild(docLink);\n",
              "        }\n",
              "      </script>\n",
              "    </div>\n",
              "  </div>\n",
              "  "
            ]
          },
          "metadata": {},
          "execution_count": 45
        }
      ]
    },
    {
      "cell_type": "code",
      "source": [
        "sns.barplot(data = df_drink2, x = 'drink', y = 'count')"
      ],
      "metadata": {
        "colab": {
          "base_uri": "https://localhost:8080/",
          "height": 297
        },
        "id": "441LTRBeO1hH",
        "outputId": "8da79197-864b-43bd-f05e-4448f9b53a43"
      },
      "execution_count": 46,
      "outputs": [
        {
          "output_type": "execute_result",
          "data": {
            "text/plain": [
              "<matplotlib.axes._subplots.AxesSubplot at 0x7fd2ce09da50>"
            ]
          },
          "metadata": {},
          "execution_count": 46
        },
        {
          "output_type": "display_data",
          "data": {
            "text/plain": [
              "<Figure size 432x288 with 1 Axes>"
            ],
            "image/png": "[encoded data removed]"
          },
          "metadata": {
            "needs_background": "light"
          }
        }
      ]
    },
    {
      "cell_type": "markdown",
      "source": [
        "random_state를 바꿔서 실행한 결과 이전과 같이 음주를 하는 경우와 하지 않는 경우의 당뇨로 의심되는 사람 수는 거의 비슷하고, 이번에는 음주를 하는 경우(1)의 당뇨로 의심되는 사람 수가 아주 조금 더 많은 것을 확인할 수 있다.  \n",
        "**이를 통해 음주 여부는 당뇨병 여부와 크게 상관이 없는 것으로 볼 수 있다.**"
      ],
      "metadata": {
        "id": "O-NZZsleO7yf"
      }
    },
    {
      "cell_type": "markdown",
      "source": [
        "## 결론\n",
        "1. 평균적으로 체중이 많이 나갈수록 공복혈당이 높아진다.  \n",
        "따라서 체중이 많이 나갈수록 당뇨병에 걸리지 않도록 관리가 필요하다.\n",
        "2. 음주 여부가 당뇨병 여부에 크게 관련이 없을 수 있다.  \n",
        "3. 흡연 경험이 있는 경우, 흡연하지 않는 경우보다 당뇨병에 걸릴 가능성이 약 1.5배 높다  \n",
        "따라서 흡연 경험이 있는 경우, 당뇨병에 걸리지 않도록 더 많은 관리가 필요하다."
      ],
      "metadata": {
        "id": "Vw8QeKBpUVR7"
      }
    }
  ]
}